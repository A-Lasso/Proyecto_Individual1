{
 "cells": [
  {
   "attachments": {},
   "cell_type": "markdown",
   "metadata": {},
   "source": [
    "# ETL"
   ]
  },
  {
   "cell_type": "code",
   "execution_count": 1,
   "metadata": {},
   "outputs": [],
   "source": [
    "# Se importan las librerias usadas en el código\n",
    "import pandas as pd\n",
    "import numpy as np"
   ]
  },
  {
   "cell_type": "code",
   "execution_count": 4,
   "metadata": {},
   "outputs": [
    {
     "name": "stderr",
     "output_type": "stream",
     "text": [
      "C:\\Users\\lasso\\AppData\\Local\\Temp\\ipykernel_2012\\857184425.py:1: DtypeWarning: Columns (10) have mixed types. Specify dtype option on import or set low_memory=False.\n",
      "  data=pd.read_csv(r\"D:\\Programacion\\DataScience_Henry\\Proyecto_Individual1\\Dataset\\movies_dataset.csv\")\n"
     ]
    }
   ],
   "source": [
    "data=pd.read_csv(r\"D:\\Programacion\\DataScience_Henry\\Proyecto_Individual1\\Dataset\\movies_dataset.csv\")"
   ]
  },
  {
   "cell_type": "code",
   "execution_count": 5,
   "metadata": {},
   "outputs": [
    {
     "data": {
      "text/plain": [
       "Index(['adult', 'belongs_to_collection', 'budget', 'genres', 'homepage', 'id',\n",
       "       'imdb_id', 'original_language', 'original_title', 'overview',\n",
       "       'popularity', 'poster_path', 'production_companies',\n",
       "       'production_countries', 'release_date', 'revenue', 'runtime',\n",
       "       'spoken_languages', 'status', 'tagline', 'title', 'video',\n",
       "       'vote_average', 'vote_count'],\n",
       "      dtype='object')"
      ]
     },
     "execution_count": 5,
     "metadata": {},
     "output_type": "execute_result"
    }
   ],
   "source": [
    "data.columns"
   ]
  },
  {
   "cell_type": "code",
   "execution_count": 6,
   "metadata": {},
   "outputs": [],
   "source": [
    "data.drop(columns=[\"video\",\"imdb_id\",\"adult\",\"original_title\",\"poster_path\" , \"homepage\"],inplace=True)"
   ]
  },
  {
   "cell_type": "code",
   "execution_count": 7,
   "metadata": {},
   "outputs": [],
   "source": [
    "data.loc[data[\"revenue\"].isna(),\"revenue\"]=0"
   ]
  },
  {
   "cell_type": "code",
   "execution_count": 8,
   "metadata": {},
   "outputs": [],
   "source": [
    "data.loc[data[\"budget\"].isna(),\"budget\"]=0"
   ]
  },
  {
   "cell_type": "code",
   "execution_count": 9,
   "metadata": {},
   "outputs": [],
   "source": [
    "data.dropna(subset=[\"release_date\"],inplace=True)"
   ]
  },
  {
   "cell_type": "code",
   "execution_count": 10,
   "metadata": {},
   "outputs": [
    {
     "data": {
      "text/plain": [
       "belongs_to_collection    40888\n",
       "budget                       0\n",
       "genres                       0\n",
       "id                           0\n",
       "original_language           11\n",
       "overview                   941\n",
       "popularity                   2\n",
       "production_companies         0\n",
       "production_countries         0\n",
       "release_date                 0\n",
       "revenue                      0\n",
       "runtime                    249\n",
       "spoken_languages             3\n",
       "status                      83\n",
       "tagline                  24981\n",
       "title                        3\n",
       "vote_average                 3\n",
       "vote_count                   3\n",
       "dtype: int64"
      ]
     },
     "execution_count": 10,
     "metadata": {},
     "output_type": "execute_result"
    }
   ],
   "source": [
    "# Quedan bastantes datos nulos, pero como en las transformaciones nos dicen de hacer nada más que esos puntos señalados\n",
    "# No se tocan.\n",
    "data.isna().sum()"
   ]
  },
  {
   "cell_type": "code",
   "execution_count": 11,
   "metadata": {},
   "outputs": [
    {
     "data": {
      "text/plain": [
       "\"{'id': 10194, 'name': 'Toy Story Collection', 'poster_path': '/7G9915LfUQ2lVfwMEEhDsn3kT4B.jpg', 'backdrop_path': '/9FBwqcd9IRruEDUrTdcaafOMKUq.jpg'}\""
      ]
     },
     "execution_count": 11,
     "metadata": {},
     "output_type": "execute_result"
    }
   ],
   "source": [
    "data[\"belongs_to_collection\"][0]"
   ]
  },
  {
   "attachments": {},
   "cell_type": "markdown",
   "metadata": {},
   "source": [
    "Creo la columna \"return\""
   ]
  },
  {
   "cell_type": "code",
   "execution_count": 12,
   "metadata": {},
   "outputs": [
    {
     "name": "stdout",
     "output_type": "stream",
     "text": [
      "<class 'numpy.float64'>\n",
      "<class 'str'>\n"
     ]
    }
   ],
   "source": [
    "# Verifico que sean de un tipo de dato divisible\n",
    "\n",
    "print(type(data[\"revenue\"][0]))\n",
    "print(type(data[\"budget\"][0]))\n",
    "# La columna budget no puede simplemente pasarse a float ya que contiene valores que son string"
   ]
  },
  {
   "cell_type": "code",
   "execution_count": 13,
   "metadata": {},
   "outputs": [
    {
     "name": "stdout",
     "output_type": "stream",
     "text": [
      "[30000000. 65000000.        0. ...        0.        0.        0.]\n",
      "[30000000. 65000000.        0. ...  3417000. 25868826.  1254040.]\n"
     ]
    }
   ],
   "source": [
    "data[\"budget\"]=pd.to_numeric(data[\"budget\"],errors=\"coerce\")\n",
    "print(data[\"budget\"].values)\n",
    "print(data[\"budget\"].unique())"
   ]
  },
  {
   "cell_type": "code",
   "execution_count": 14,
   "metadata": {},
   "outputs": [],
   "source": [
    "# Ahora la idea es hacer la división pero con un try and except\n",
    "# donde si la división va a tirar un error, sea porque budget es cero(Estará correcto este caso?) o string,\n",
    "# se le deja el valor cero a la nueva columna.\n",
    "columna=[]\n",
    "for i, j in zip(data[\"revenue\"], data[\"budget\"]):\n",
    "    if j!=0:\n",
    "        try:\n",
    "            columna.append(i/j)\n",
    "        except:\n",
    "            columna.append(0)\n",
    "    else:\n",
    "        columna.append(0)\n",
    "\n",
    "# Agrego la columna \"revenue\"\n",
    "data[\"return\"]=columna"
   ]
  },
  {
   "cell_type": "code",
   "execution_count": 15,
   "metadata": {},
   "outputs": [],
   "source": [
    "data[\"release_date\"] = pd.to_datetime(data[\"release_date\"], format=\"%Y-%m-%d\", errors=\"coerce\")"
   ]
  },
  {
   "cell_type": "code",
   "execution_count": 21,
   "metadata": {},
   "outputs": [
    {
     "name": "stdout",
     "output_type": "stream",
     "text": [
      "<class 'pandas._libs.tslibs.timestamps.Timestamp'>\n",
      "1995-10-30 00:00:00\n"
     ]
    }
   ],
   "source": [
    "print(type(data[\"release_date\"][0]))\n",
    "print(data[\"release_date\"][0])"
   ]
  }
 ],
 "metadata": {
  "kernelspec": {
   "display_name": "Python 3",
   "language": "python",
   "name": "python3"
  },
  "language_info": {
   "codemirror_mode": {
    "name": "ipython",
    "version": 3
   },
   "file_extension": ".py",
   "mimetype": "text/x-python",
   "name": "python",
   "nbconvert_exporter": "python",
   "pygments_lexer": "ipython3",
   "version": "3.10.10"
  },
  "orig_nbformat": 4
 },
 "nbformat": 4,
 "nbformat_minor": 2
}
