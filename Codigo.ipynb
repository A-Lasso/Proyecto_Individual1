{
 "cells": [
  {
   "attachments": {},
   "cell_type": "markdown",
   "metadata": {},
   "source": [
    "# ETL"
   ]
  },
  {
   "cell_type": "code",
   "execution_count": 1,
   "metadata": {},
   "outputs": [],
   "source": [
    "# Se importan las librerias usadas en el código\n",
    "import pandas as pd\n",
    "import numpy as np"
   ]
  },
  {
   "cell_type": "code",
   "execution_count": 2,
   "metadata": {},
   "outputs": [
    {
     "name": "stderr",
     "output_type": "stream",
     "text": [
      "C:\\Users\\lasso\\AppData\\Local\\Temp\\ipykernel_17160\\857184425.py:1: DtypeWarning: Columns (10) have mixed types. Specify dtype option on import or set low_memory=False.\n",
      "  data=pd.read_csv(r\"D:\\Programacion\\DataScience_Henry\\Proyecto_Individual1\\Dataset\\movies_dataset.csv\")\n"
     ]
    }
   ],
   "source": [
    "data=pd.read_csv(r\"D:\\Programacion\\DataScience_Henry\\Proyecto_Individual1\\Dataset\\movies_dataset.csv\")"
   ]
  },
  {
   "cell_type": "code",
   "execution_count": 3,
   "metadata": {},
   "outputs": [
    {
     "data": {
      "text/plain": [
       "Index(['adult', 'belongs_to_collection', 'budget', 'genres', 'homepage', 'id',\n",
       "       'imdb_id', 'original_language', 'original_title', 'overview',\n",
       "       'popularity', 'poster_path', 'production_companies',\n",
       "       'production_countries', 'release_date', 'revenue', 'runtime',\n",
       "       'spoken_languages', 'status', 'tagline', 'title', 'video',\n",
       "       'vote_average', 'vote_count'],\n",
       "      dtype='object')"
      ]
     },
     "execution_count": 3,
     "metadata": {},
     "output_type": "execute_result"
    }
   ],
   "source": [
    "data.columns"
   ]
  },
  {
   "cell_type": "code",
   "execution_count": 4,
   "metadata": {},
   "outputs": [],
   "source": [
    "data.drop(columns=[\"video\",\"imdb_id\",\"adult\",\"original_title\",\"poster_path\" , \"homepage\"],inplace=True)"
   ]
  },
  {
   "cell_type": "code",
   "execution_count": 5,
   "metadata": {},
   "outputs": [
    {
     "data": {
      "text/plain": [
       "0           36573\n",
       "5000000       286\n",
       "10000000      259\n",
       "20000000      243\n",
       "2000000       242\n",
       "            ...  \n",
       "923             1\n",
       "72500000        1\n",
       "2160000         1\n",
       "4439832         1\n",
       "1254040         1\n",
       "Name: budget, Length: 1226, dtype: int64"
      ]
     },
     "execution_count": 5,
     "metadata": {},
     "output_type": "execute_result"
    }
   ],
   "source": [
    "data[\"budget\"].value_counts()"
   ]
  },
  {
   "cell_type": "code",
   "execution_count": 6,
   "metadata": {},
   "outputs": [
    {
     "data": {
      "text/plain": [
       "0.0           38052\n",
       "12000000.0       20\n",
       "11000000.0       19\n",
       "10000000.0       19\n",
       "2000000.0        18\n",
       "              ...  \n",
       "36565280.0        1\n",
       "439564.0          1\n",
       "35610100.0        1\n",
       "10217873.0        1\n",
       "1413000.0         1\n",
       "Name: revenue, Length: 6863, dtype: int64"
      ]
     },
     "execution_count": 6,
     "metadata": {},
     "output_type": "execute_result"
    }
   ],
   "source": [
    "data[\"revenue\"].value_counts()"
   ]
  },
  {
   "attachments": {},
   "cell_type": "markdown",
   "metadata": {},
   "source": [
    "Por los valores observador arriba, podemos deducir que la columna a crear a continuación (return), va a ser mayormente 0."
   ]
  },
  {
   "cell_type": "code",
   "execution_count": 7,
   "metadata": {},
   "outputs": [],
   "source": [
    "data.loc[data[\"revenue\"].isna(),\"revenue\"]=0"
   ]
  },
  {
   "cell_type": "code",
   "execution_count": 8,
   "metadata": {},
   "outputs": [],
   "source": [
    "data.loc[data[\"budget\"].isna(),\"budget\"]=0"
   ]
  },
  {
   "cell_type": "code",
   "execution_count": 9,
   "metadata": {},
   "outputs": [],
   "source": [
    "data.dropna(subset=[\"release_date\"],inplace=True)"
   ]
  },
  {
   "cell_type": "code",
   "execution_count": 10,
   "metadata": {},
   "outputs": [
    {
     "data": {
      "text/plain": [
       "belongs_to_collection    40888\n",
       "budget                       0\n",
       "genres                       0\n",
       "id                           0\n",
       "original_language           11\n",
       "overview                   941\n",
       "popularity                   2\n",
       "production_companies         0\n",
       "production_countries         0\n",
       "release_date                 0\n",
       "revenue                      0\n",
       "runtime                    249\n",
       "spoken_languages             3\n",
       "status                      83\n",
       "tagline                  24981\n",
       "title                        3\n",
       "vote_average                 3\n",
       "vote_count                   3\n",
       "dtype: int64"
      ]
     },
     "execution_count": 10,
     "metadata": {},
     "output_type": "execute_result"
    }
   ],
   "source": [
    "# Quedan bastantes datos nulos, pero como en las transformaciones nos dicen de hacer nada más que esos puntos señalados\n",
    "# No se tocan.\n",
    "data.isna().sum()"
   ]
  },
  {
   "cell_type": "code",
   "execution_count": 11,
   "metadata": {},
   "outputs": [
    {
     "data": {
      "text/plain": [
       "(45379, 18)"
      ]
     },
     "execution_count": 11,
     "metadata": {},
     "output_type": "execute_result"
    }
   ],
   "source": [
    "data.shape"
   ]
  },
  {
   "attachments": {},
   "cell_type": "markdown",
   "metadata": {},
   "source": [
    "## Creo la columna \"return\""
   ]
  },
  {
   "cell_type": "code",
   "execution_count": 12,
   "metadata": {},
   "outputs": [
    {
     "name": "stdout",
     "output_type": "stream",
     "text": [
      "<class 'numpy.float64'>\n",
      "<class 'str'>\n"
     ]
    }
   ],
   "source": [
    "# Verifico que sean de un tipo de dato divisible\n",
    "\n",
    "print(type(data[\"revenue\"][0]))\n",
    "print(type(data[\"budget\"][0]))\n",
    "# La columna budget no puede simplemente pasarse a float ya que contiene valores que son string"
   ]
  },
  {
   "cell_type": "code",
   "execution_count": 13,
   "metadata": {},
   "outputs": [
    {
     "name": "stdout",
     "output_type": "stream",
     "text": [
      "[30000000. 65000000.        0. ...        0.        0.        0.]\n",
      "<class 'numpy.float64'>\n"
     ]
    }
   ],
   "source": [
    "data[\"budget\"]=pd.to_numeric(data[\"budget\"],errors=\"coerce\")\n",
    "print(data[\"budget\"].values)\n",
    "print(type(data[\"budget\"][0]))"
   ]
  },
  {
   "cell_type": "code",
   "execution_count": 14,
   "metadata": {},
   "outputs": [
    {
     "data": {
      "text/plain": [
       "0.0            36490\n",
       "5000000.0        286\n",
       "10000000.0       259\n",
       "20000000.0       243\n",
       "2000000.0        242\n",
       "               ...  \n",
       "270000000.0        1\n",
       "923.0              1\n",
       "72500000.0         1\n",
       "2160000.0          1\n",
       "1254040.0          1\n",
       "Name: budget, Length: 1223, dtype: int64"
      ]
     },
     "execution_count": 14,
     "metadata": {},
     "output_type": "execute_result"
    }
   ],
   "source": [
    "data[\"budget\"].value_counts()"
   ]
  },
  {
   "cell_type": "code",
   "execution_count": 15,
   "metadata": {},
   "outputs": [],
   "source": [
    "# Ahora la idea es hacer la división pero con un try and except\n",
    "# donde si la división va a tirar un error, sea porque budget es cero o string,\n",
    "# se le deja el valor cero a la nueva columna.\n",
    "columna=[]\n",
    "for i, j in zip(data[\"revenue\"], data[\"budget\"]):\n",
    "    if j!=0:\n",
    "        try:\n",
    "            columna.append(float(i)/(float(j)))\n",
    "        except:\n",
    "            columna.append(0)\n",
    "    else:\n",
    "        columna.append(0)\n",
    "\n",
    "# Agrego la columna \"revenue\"\n",
    "data[\"return\"]=columna"
   ]
  },
  {
   "cell_type": "code",
   "execution_count": 16,
   "metadata": {},
   "outputs": [
    {
     "data": {
      "text/plain": [
       "0.000000     39995\n",
       "1.000000        20\n",
       "2.000000        12\n",
       "4.000000        11\n",
       "5.000000         8\n",
       "             ...  \n",
       "17.000000        1\n",
       "0.277950         1\n",
       "5.411653         1\n",
       "4.777778         1\n",
       "0.282600         1\n",
       "Name: return, Length: 5232, dtype: int64"
      ]
     },
     "execution_count": 16,
     "metadata": {},
     "output_type": "execute_result"
    }
   ],
   "source": [
    "data[\"return\"].value_counts()"
   ]
  },
  {
   "attachments": {},
   "cell_type": "markdown",
   "metadata": {},
   "source": [
    "## Creo la columna \"release_year\"\n",
    "Va a tener los años en los que salió la pelicula, esta información la sacamos de la columna \"release_date\", a la cual justamente paso anteriormente a tipo timestamp, asi utilizando los valores de este tipo de datos se vuelve mucho más fácil el conseguir esta información.\n"
   ]
  },
  {
   "cell_type": "code",
   "execution_count": 17,
   "metadata": {},
   "outputs": [],
   "source": [
    "data[\"release_date\"] = pd.to_datetime(data[\"release_date\"], format=\"%Y-%m-%d\", errors=\"coerce\")"
   ]
  },
  {
   "cell_type": "code",
   "execution_count": 18,
   "metadata": {},
   "outputs": [
    {
     "name": "stdout",
     "output_type": "stream",
     "text": [
      "<class 'pandas._libs.tslibs.timestamps.Timestamp'>\n",
      "1995-10-30 00:00:00\n",
      "1995\n"
     ]
    }
   ],
   "source": [
    "print(type(data[\"release_date\"][0]))\n",
    "print(data[\"release_date\"][0])\n",
    "print((data[\"release_date\"][0]).year)"
   ]
  },
  {
   "cell_type": "code",
   "execution_count": 19,
   "metadata": {},
   "outputs": [],
   "source": [
    "# En este caso, utilizamos el atributo dt(datetime) para acceder a las propiedades de fecha y hora de la columna 'fecha'\n",
    "# luego aplicamos el método year para extraer el año. \n",
    "\n",
    "data[\"release_year\"]=data[\"release_date\"].dt.year"
   ]
  },
  {
   "cell_type": "code",
   "execution_count": 20,
   "metadata": {},
   "outputs": [
    {
     "data": {
      "text/html": [
       "<div>\n",
       "<style scoped>\n",
       "    .dataframe tbody tr th:only-of-type {\n",
       "        vertical-align: middle;\n",
       "    }\n",
       "\n",
       "    .dataframe tbody tr th {\n",
       "        vertical-align: top;\n",
       "    }\n",
       "\n",
       "    .dataframe thead th {\n",
       "        text-align: right;\n",
       "    }\n",
       "</style>\n",
       "<table border=\"1\" class=\"dataframe\">\n",
       "  <thead>\n",
       "    <tr style=\"text-align: right;\">\n",
       "      <th></th>\n",
       "      <th>belongs_to_collection</th>\n",
       "      <th>budget</th>\n",
       "      <th>genres</th>\n",
       "      <th>id</th>\n",
       "      <th>original_language</th>\n",
       "      <th>overview</th>\n",
       "      <th>popularity</th>\n",
       "      <th>production_companies</th>\n",
       "      <th>production_countries</th>\n",
       "      <th>release_date</th>\n",
       "      <th>revenue</th>\n",
       "      <th>runtime</th>\n",
       "      <th>spoken_languages</th>\n",
       "      <th>status</th>\n",
       "      <th>tagline</th>\n",
       "      <th>title</th>\n",
       "      <th>vote_average</th>\n",
       "      <th>vote_count</th>\n",
       "      <th>return</th>\n",
       "      <th>release_year</th>\n",
       "    </tr>\n",
       "  </thead>\n",
       "  <tbody>\n",
       "    <tr>\n",
       "      <th>19730</th>\n",
       "      <td>0.065736</td>\n",
       "      <td>NaN</td>\n",
       "      <td>[{'name': 'Carousel Productions', 'id': 11176}...</td>\n",
       "      <td>1997-08-20</td>\n",
       "      <td>104.0</td>\n",
       "      <td>Released</td>\n",
       "      <td>NaN</td>\n",
       "      <td>False</td>\n",
       "      <td>6.0</td>\n",
       "      <td>NaT</td>\n",
       "      <td>0.0</td>\n",
       "      <td>NaN</td>\n",
       "      <td>NaN</td>\n",
       "      <td>NaN</td>\n",
       "      <td>NaN</td>\n",
       "      <td>NaN</td>\n",
       "      <td>NaN</td>\n",
       "      <td>NaN</td>\n",
       "      <td>NaN</td>\n",
       "      <td>NaN</td>\n",
       "    </tr>\n",
       "    <tr>\n",
       "      <th>29503</th>\n",
       "      <td>1.931659</td>\n",
       "      <td>NaN</td>\n",
       "      <td>[{'name': 'Aniplex', 'id': 2883}, {'name': 'Go...</td>\n",
       "      <td>2012-09-29</td>\n",
       "      <td>68.0</td>\n",
       "      <td>Released</td>\n",
       "      <td>NaN</td>\n",
       "      <td>False</td>\n",
       "      <td>7.0</td>\n",
       "      <td>NaT</td>\n",
       "      <td>0.0</td>\n",
       "      <td>NaN</td>\n",
       "      <td>NaN</td>\n",
       "      <td>NaN</td>\n",
       "      <td>NaN</td>\n",
       "      <td>NaN</td>\n",
       "      <td>NaN</td>\n",
       "      <td>NaN</td>\n",
       "      <td>NaN</td>\n",
       "      <td>NaN</td>\n",
       "    </tr>\n",
       "    <tr>\n",
       "      <th>35587</th>\n",
       "      <td>2.185485</td>\n",
       "      <td>NaN</td>\n",
       "      <td>[{'name': 'Odyssey Media', 'id': 17161}, {'nam...</td>\n",
       "      <td>2014-01-01</td>\n",
       "      <td>82.0</td>\n",
       "      <td>Released</td>\n",
       "      <td>Beware Of Frost Bites</td>\n",
       "      <td>False</td>\n",
       "      <td>4.3</td>\n",
       "      <td>NaT</td>\n",
       "      <td>0.0</td>\n",
       "      <td>NaN</td>\n",
       "      <td>NaN</td>\n",
       "      <td>NaN</td>\n",
       "      <td>NaN</td>\n",
       "      <td>NaN</td>\n",
       "      <td>NaN</td>\n",
       "      <td>NaN</td>\n",
       "      <td>NaN</td>\n",
       "      <td>NaN</td>\n",
       "    </tr>\n",
       "  </tbody>\n",
       "</table>\n",
       "</div>"
      ],
      "text/plain": [
       "      belongs_to_collection  budget  \\\n",
       "19730              0.065736     NaN   \n",
       "29503              1.931659     NaN   \n",
       "35587              2.185485     NaN   \n",
       "\n",
       "                                                  genres          id  \\\n",
       "19730  [{'name': 'Carousel Productions', 'id': 11176}...  1997-08-20   \n",
       "29503  [{'name': 'Aniplex', 'id': 2883}, {'name': 'Go...  2012-09-29   \n",
       "35587  [{'name': 'Odyssey Media', 'id': 17161}, {'nam...  2014-01-01   \n",
       "\n",
       "      original_language  overview             popularity production_companies  \\\n",
       "19730             104.0  Released                    NaN                False   \n",
       "29503              68.0  Released                    NaN                False   \n",
       "35587              82.0  Released  Beware Of Frost Bites                False   \n",
       "\n",
       "      production_countries release_date  revenue  runtime spoken_languages  \\\n",
       "19730                  6.0          NaT      0.0      NaN              NaN   \n",
       "29503                  7.0          NaT      0.0      NaN              NaN   \n",
       "35587                  4.3          NaT      0.0      NaN              NaN   \n",
       "\n",
       "      status tagline title  vote_average  vote_count  return  release_year  \n",
       "19730    NaN     NaN   NaN           NaN         NaN     NaN           NaN  \n",
       "29503    NaN     NaN   NaN           NaN         NaN     NaN           NaN  \n",
       "35587    NaN     NaN   NaN           NaN         NaN     NaN           NaN  "
      ]
     },
     "execution_count": 20,
     "metadata": {},
     "output_type": "execute_result"
    }
   ],
   "source": [
    "data[data[\"release_year\"].isna()]"
   ]
  },
  {
   "cell_type": "code",
   "execution_count": 21,
   "metadata": {},
   "outputs": [
    {
     "data": {
      "text/html": [
       "<div>\n",
       "<style scoped>\n",
       "    .dataframe tbody tr th:only-of-type {\n",
       "        vertical-align: middle;\n",
       "    }\n",
       "\n",
       "    .dataframe tbody tr th {\n",
       "        vertical-align: top;\n",
       "    }\n",
       "\n",
       "    .dataframe thead th {\n",
       "        text-align: right;\n",
       "    }\n",
       "</style>\n",
       "<table border=\"1\" class=\"dataframe\">\n",
       "  <thead>\n",
       "    <tr style=\"text-align: right;\">\n",
       "      <th></th>\n",
       "      <th>belongs_to_collection</th>\n",
       "      <th>budget</th>\n",
       "      <th>genres</th>\n",
       "      <th>id</th>\n",
       "      <th>original_language</th>\n",
       "      <th>overview</th>\n",
       "      <th>popularity</th>\n",
       "      <th>production_companies</th>\n",
       "      <th>production_countries</th>\n",
       "      <th>release_date</th>\n",
       "      <th>revenue</th>\n",
       "      <th>runtime</th>\n",
       "      <th>spoken_languages</th>\n",
       "      <th>status</th>\n",
       "      <th>tagline</th>\n",
       "      <th>title</th>\n",
       "      <th>vote_average</th>\n",
       "      <th>vote_count</th>\n",
       "      <th>return</th>\n",
       "      <th>release_year</th>\n",
       "    </tr>\n",
       "  </thead>\n",
       "  <tbody>\n",
       "    <tr>\n",
       "      <th>19730</th>\n",
       "      <td>0.065736</td>\n",
       "      <td>NaN</td>\n",
       "      <td>[{'name': 'Carousel Productions', 'id': 11176}...</td>\n",
       "      <td>1997-08-20</td>\n",
       "      <td>104.0</td>\n",
       "      <td>Released</td>\n",
       "      <td>NaN</td>\n",
       "      <td>False</td>\n",
       "      <td>6.0</td>\n",
       "      <td>NaT</td>\n",
       "      <td>0.0</td>\n",
       "      <td>NaN</td>\n",
       "      <td>NaN</td>\n",
       "      <td>NaN</td>\n",
       "      <td>NaN</td>\n",
       "      <td>NaN</td>\n",
       "      <td>NaN</td>\n",
       "      <td>NaN</td>\n",
       "      <td>NaN</td>\n",
       "      <td>NaN</td>\n",
       "    </tr>\n",
       "    <tr>\n",
       "      <th>29503</th>\n",
       "      <td>1.931659</td>\n",
       "      <td>NaN</td>\n",
       "      <td>[{'name': 'Aniplex', 'id': 2883}, {'name': 'Go...</td>\n",
       "      <td>2012-09-29</td>\n",
       "      <td>68.0</td>\n",
       "      <td>Released</td>\n",
       "      <td>NaN</td>\n",
       "      <td>False</td>\n",
       "      <td>7.0</td>\n",
       "      <td>NaT</td>\n",
       "      <td>0.0</td>\n",
       "      <td>NaN</td>\n",
       "      <td>NaN</td>\n",
       "      <td>NaN</td>\n",
       "      <td>NaN</td>\n",
       "      <td>NaN</td>\n",
       "      <td>NaN</td>\n",
       "      <td>NaN</td>\n",
       "      <td>NaN</td>\n",
       "      <td>NaN</td>\n",
       "    </tr>\n",
       "    <tr>\n",
       "      <th>35587</th>\n",
       "      <td>2.185485</td>\n",
       "      <td>NaN</td>\n",
       "      <td>[{'name': 'Odyssey Media', 'id': 17161}, {'nam...</td>\n",
       "      <td>2014-01-01</td>\n",
       "      <td>82.0</td>\n",
       "      <td>Released</td>\n",
       "      <td>Beware Of Frost Bites</td>\n",
       "      <td>False</td>\n",
       "      <td>4.3</td>\n",
       "      <td>NaT</td>\n",
       "      <td>0.0</td>\n",
       "      <td>NaN</td>\n",
       "      <td>NaN</td>\n",
       "      <td>NaN</td>\n",
       "      <td>NaN</td>\n",
       "      <td>NaN</td>\n",
       "      <td>NaN</td>\n",
       "      <td>NaN</td>\n",
       "      <td>NaN</td>\n",
       "      <td>NaN</td>\n",
       "    </tr>\n",
       "  </tbody>\n",
       "</table>\n",
       "</div>"
      ],
      "text/plain": [
       "      belongs_to_collection  budget  \\\n",
       "19730              0.065736     NaN   \n",
       "29503              1.931659     NaN   \n",
       "35587              2.185485     NaN   \n",
       "\n",
       "                                                  genres          id  \\\n",
       "19730  [{'name': 'Carousel Productions', 'id': 11176}...  1997-08-20   \n",
       "29503  [{'name': 'Aniplex', 'id': 2883}, {'name': 'Go...  2012-09-29   \n",
       "35587  [{'name': 'Odyssey Media', 'id': 17161}, {'nam...  2014-01-01   \n",
       "\n",
       "      original_language  overview             popularity production_companies  \\\n",
       "19730             104.0  Released                    NaN                False   \n",
       "29503              68.0  Released                    NaN                False   \n",
       "35587              82.0  Released  Beware Of Frost Bites                False   \n",
       "\n",
       "      production_countries release_date  revenue  runtime spoken_languages  \\\n",
       "19730                  6.0          NaT      0.0      NaN              NaN   \n",
       "29503                  7.0          NaT      0.0      NaN              NaN   \n",
       "35587                  4.3          NaT      0.0      NaN              NaN   \n",
       "\n",
       "      status tagline title  vote_average  vote_count  return  release_year  \n",
       "19730    NaN     NaN   NaN           NaN         NaN     NaN           NaN  \n",
       "29503    NaN     NaN   NaN           NaN         NaN     NaN           NaN  \n",
       "35587    NaN     NaN   NaN           NaN         NaN     NaN           NaN  "
      ]
     },
     "execution_count": 21,
     "metadata": {},
     "output_type": "execute_result"
    }
   ],
   "source": [
    "data[data[\"release_date\"].isna()]"
   ]
  },
  {
   "cell_type": "code",
   "execution_count": 22,
   "metadata": {},
   "outputs": [
    {
     "data": {
      "text/html": [
       "<div>\n",
       "<style scoped>\n",
       "    .dataframe tbody tr th:only-of-type {\n",
       "        vertical-align: middle;\n",
       "    }\n",
       "\n",
       "    .dataframe tbody tr th {\n",
       "        vertical-align: top;\n",
       "    }\n",
       "\n",
       "    .dataframe thead th {\n",
       "        text-align: right;\n",
       "    }\n",
       "</style>\n",
       "<table border=\"1\" class=\"dataframe\">\n",
       "  <thead>\n",
       "    <tr style=\"text-align: right;\">\n",
       "      <th></th>\n",
       "      <th>belongs_to_collection</th>\n",
       "      <th>budget</th>\n",
       "      <th>genres</th>\n",
       "      <th>id</th>\n",
       "      <th>original_language</th>\n",
       "      <th>overview</th>\n",
       "      <th>popularity</th>\n",
       "      <th>production_companies</th>\n",
       "      <th>production_countries</th>\n",
       "      <th>release_date</th>\n",
       "      <th>revenue</th>\n",
       "      <th>runtime</th>\n",
       "      <th>spoken_languages</th>\n",
       "      <th>status</th>\n",
       "      <th>tagline</th>\n",
       "      <th>title</th>\n",
       "      <th>vote_average</th>\n",
       "      <th>vote_count</th>\n",
       "      <th>return</th>\n",
       "      <th>release_year</th>\n",
       "    </tr>\n",
       "  </thead>\n",
       "  <tbody>\n",
       "    <tr>\n",
       "      <th>19730</th>\n",
       "      <td>0.065736</td>\n",
       "      <td>NaN</td>\n",
       "      <td>[{'name': 'Carousel Productions', 'id': 11176}...</td>\n",
       "      <td>1997-08-20</td>\n",
       "      <td>104.0</td>\n",
       "      <td>Released</td>\n",
       "      <td>NaN</td>\n",
       "      <td>False</td>\n",
       "      <td>6.0</td>\n",
       "      <td>NaT</td>\n",
       "      <td>0.0</td>\n",
       "      <td>NaN</td>\n",
       "      <td>NaN</td>\n",
       "      <td>NaN</td>\n",
       "      <td>NaN</td>\n",
       "      <td>NaN</td>\n",
       "      <td>NaN</td>\n",
       "      <td>NaN</td>\n",
       "      <td>NaN</td>\n",
       "      <td>NaN</td>\n",
       "    </tr>\n",
       "    <tr>\n",
       "      <th>29503</th>\n",
       "      <td>1.931659</td>\n",
       "      <td>NaN</td>\n",
       "      <td>[{'name': 'Aniplex', 'id': 2883}, {'name': 'Go...</td>\n",
       "      <td>2012-09-29</td>\n",
       "      <td>68.0</td>\n",
       "      <td>Released</td>\n",
       "      <td>NaN</td>\n",
       "      <td>False</td>\n",
       "      <td>7.0</td>\n",
       "      <td>NaT</td>\n",
       "      <td>0.0</td>\n",
       "      <td>NaN</td>\n",
       "      <td>NaN</td>\n",
       "      <td>NaN</td>\n",
       "      <td>NaN</td>\n",
       "      <td>NaN</td>\n",
       "      <td>NaN</td>\n",
       "      <td>NaN</td>\n",
       "      <td>NaN</td>\n",
       "      <td>NaN</td>\n",
       "    </tr>\n",
       "    <tr>\n",
       "      <th>35587</th>\n",
       "      <td>2.185485</td>\n",
       "      <td>NaN</td>\n",
       "      <td>[{'name': 'Odyssey Media', 'id': 17161}, {'nam...</td>\n",
       "      <td>2014-01-01</td>\n",
       "      <td>82.0</td>\n",
       "      <td>Released</td>\n",
       "      <td>Beware Of Frost Bites</td>\n",
       "      <td>False</td>\n",
       "      <td>4.3</td>\n",
       "      <td>NaT</td>\n",
       "      <td>0.0</td>\n",
       "      <td>NaN</td>\n",
       "      <td>NaN</td>\n",
       "      <td>NaN</td>\n",
       "      <td>NaN</td>\n",
       "      <td>NaN</td>\n",
       "      <td>NaN</td>\n",
       "      <td>NaN</td>\n",
       "      <td>NaN</td>\n",
       "      <td>NaN</td>\n",
       "    </tr>\n",
       "  </tbody>\n",
       "</table>\n",
       "</div>"
      ],
      "text/plain": [
       "      belongs_to_collection  budget  \\\n",
       "19730              0.065736     NaN   \n",
       "29503              1.931659     NaN   \n",
       "35587              2.185485     NaN   \n",
       "\n",
       "                                                  genres          id  \\\n",
       "19730  [{'name': 'Carousel Productions', 'id': 11176}...  1997-08-20   \n",
       "29503  [{'name': 'Aniplex', 'id': 2883}, {'name': 'Go...  2012-09-29   \n",
       "35587  [{'name': 'Odyssey Media', 'id': 17161}, {'nam...  2014-01-01   \n",
       "\n",
       "      original_language  overview             popularity production_companies  \\\n",
       "19730             104.0  Released                    NaN                False   \n",
       "29503              68.0  Released                    NaN                False   \n",
       "35587              82.0  Released  Beware Of Frost Bites                False   \n",
       "\n",
       "      production_countries release_date  revenue  runtime spoken_languages  \\\n",
       "19730                  6.0          NaT      0.0      NaN              NaN   \n",
       "29503                  7.0          NaT      0.0      NaN              NaN   \n",
       "35587                  4.3          NaT      0.0      NaN              NaN   \n",
       "\n",
       "      status tagline title  vote_average  vote_count  return  release_year  \n",
       "19730    NaN     NaN   NaN           NaN         NaN     NaN           NaN  \n",
       "29503    NaN     NaN   NaN           NaN         NaN     NaN           NaN  \n",
       "35587    NaN     NaN   NaN           NaN         NaN     NaN           NaN  "
      ]
     },
     "execution_count": 22,
     "metadata": {},
     "output_type": "execute_result"
    }
   ],
   "source": [
    "data[data[\"budget\"].isna()]"
   ]
  },
  {
   "cell_type": "code",
   "execution_count": 23,
   "metadata": {},
   "outputs": [],
   "source": [
    "# Noté gran coincidencia con respecto a la aparición de estos tres \n",
    "# en lo que viene a ser valores nulos, y parecen tener bastante errores\n",
    "# al ser los tres inutilizables, tome la decisión de directamente quitarlos del dataframe\n",
    "\n",
    "data.drop(labels=[19730,29503,35587],axis=0,inplace=True)\n",
    "\n",
    "# Ahora me parece más limpio, y solo se quitaron tres lineas las cuales \n",
    "# no se podía distinguir sus datos, además de estar mayormente vacios, estaban intercambiados los valores\n",
    "# (no sé exactamente de que forma se deberían reordenar)"
   ]
  },
  {
   "cell_type": "code",
   "execution_count": 24,
   "metadata": {},
   "outputs": [
    {
     "data": {
      "text/plain": [
       "belongs_to_collection    40888\n",
       "budget                       0\n",
       "genres                       0\n",
       "id                           0\n",
       "original_language           11\n",
       "overview                   941\n",
       "popularity                   0\n",
       "production_companies         0\n",
       "production_countries         0\n",
       "release_date                 0\n",
       "revenue                      0\n",
       "runtime                    246\n",
       "spoken_languages             0\n",
       "status                      80\n",
       "tagline                  24978\n",
       "title                        0\n",
       "vote_average                 0\n",
       "vote_count                   0\n",
       "return                       0\n",
       "release_year                 0\n",
       "dtype: int64"
      ]
     },
     "execution_count": 24,
     "metadata": {},
     "output_type": "execute_result"
    }
   ],
   "source": [
    "data.isna().sum()"
   ]
  },
  {
   "attachments": {},
   "cell_type": "markdown",
   "metadata": {},
   "source": [
    "Acomodo las columas por gusto"
   ]
  },
  {
   "cell_type": "code",
   "execution_count": 25,
   "metadata": {},
   "outputs": [],
   "source": [
    "data[\"id_pelicula\"]=pd.to_numeric(data[\"id\"],downcast=\"integer\")"
   ]
  },
  {
   "cell_type": "code",
   "execution_count": 26,
   "metadata": {},
   "outputs": [],
   "source": [
    "# La forma en la que yo quiero ordenadas las columnas\n",
    "data=data[['id_pelicula', 'title','overview','status','runtime','popularity','belongs_to_collection','tagline','genres','original_language','spoken_languages','vote_average','vote_count','release_date','release_year','production_countries','production_companies','budget','revenue','return']]"
   ]
  },
  {
   "cell_type": "code",
   "execution_count": 126,
   "metadata": {},
   "outputs": [
    {
     "data": {
      "text/html": [
       "<div>\n",
       "<style scoped>\n",
       "    .dataframe tbody tr th:only-of-type {\n",
       "        vertical-align: middle;\n",
       "    }\n",
       "\n",
       "    .dataframe tbody tr th {\n",
       "        vertical-align: top;\n",
       "    }\n",
       "\n",
       "    .dataframe thead th {\n",
       "        text-align: right;\n",
       "    }\n",
       "</style>\n",
       "<table border=\"1\" class=\"dataframe\">\n",
       "  <thead>\n",
       "    <tr style=\"text-align: right;\">\n",
       "      <th></th>\n",
       "      <th>id_pelicula</th>\n",
       "      <th>title</th>\n",
       "      <th>overview</th>\n",
       "      <th>status</th>\n",
       "      <th>runtime</th>\n",
       "      <th>popularity</th>\n",
       "      <th>tagline</th>\n",
       "      <th>original_language</th>\n",
       "      <th>vote_average</th>\n",
       "      <th>vote_count</th>\n",
       "      <th>release_date</th>\n",
       "      <th>release_year</th>\n",
       "      <th>budget</th>\n",
       "      <th>revenue</th>\n",
       "      <th>return</th>\n",
       "    </tr>\n",
       "  </thead>\n",
       "  <tbody>\n",
       "    <tr>\n",
       "      <th>0</th>\n",
       "      <td>862</td>\n",
       "      <td>Toy Story</td>\n",
       "      <td>Led by Woody, Andy's toys live happily in his ...</td>\n",
       "      <td>Released</td>\n",
       "      <td>81.0</td>\n",
       "      <td>21.946943</td>\n",
       "      <td>NaN</td>\n",
       "      <td>en</td>\n",
       "      <td>7.7</td>\n",
       "      <td>5415.0</td>\n",
       "      <td>1995-10-30</td>\n",
       "      <td>1995.0</td>\n",
       "      <td>30000000.0</td>\n",
       "      <td>373554033.0</td>\n",
       "      <td>12.451801</td>\n",
       "    </tr>\n",
       "  </tbody>\n",
       "</table>\n",
       "</div>"
      ],
      "text/plain": [
       "   id_pelicula      title                                           overview  \\\n",
       "0          862  Toy Story  Led by Woody, Andy's toys live happily in his ...   \n",
       "\n",
       "     status  runtime popularity tagline original_language  vote_average  \\\n",
       "0  Released     81.0  21.946943     NaN                en           7.7   \n",
       "\n",
       "   vote_count release_date  release_year      budget      revenue     return  \n",
       "0      5415.0   1995-10-30        1995.0  30000000.0  373554033.0  12.451801  "
      ]
     },
     "execution_count": 126,
     "metadata": {},
     "output_type": "execute_result"
    }
   ],
   "source": [
    "data.head(1)"
   ]
  },
  {
   "attachments": {},
   "cell_type": "markdown",
   "metadata": {},
   "source": [
    "# ETL primer csv\n",
    "Para finalizar el etl de este csv, asi más adelante al desanidar los valores son los mismos al original, voy a hacer un drop_duplicates() para que todas las filas repetidas se eliminen.\n",
    "Luego voy a cambiar el id_pelicula, asi los id repetidos se van. Voy a utilizar como nuevos valores de id los valores de los indices de las filas."
   ]
  },
  {
   "cell_type": "code",
   "execution_count": 127,
   "metadata": {},
   "outputs": [
    {
     "data": {
      "text/plain": [
       "141971    3\n",
       "97995     2\n",
       "10991     2\n",
       "109962    2\n",
       "119916    2\n",
       "         ..\n",
       "40594     1\n",
       "23104     1\n",
       "37605     1\n",
       "91727     1\n",
       "461257    1\n",
       "Name: id_pelicula, Length: 45346, dtype: int64"
      ]
     },
     "execution_count": 127,
     "metadata": {},
     "output_type": "execute_result"
    }
   ],
   "source": [
    "data['id_pelicula'].value_counts()"
   ]
  },
  {
   "cell_type": "code",
   "execution_count": 128,
   "metadata": {},
   "outputs": [],
   "source": [
    "data.drop_duplicates(inplace=True)"
   ]
  },
  {
   "cell_type": "code",
   "execution_count": 129,
   "metadata": {},
   "outputs": [
    {
     "data": {
      "text/plain": [
       "69234     2\n",
       "109962    2\n",
       "4912      2\n",
       "77221     2\n",
       "15028     2\n",
       "         ..\n",
       "39452     1\n",
       "94917     1\n",
       "107643    1\n",
       "64651     1\n",
       "461257    1\n",
       "Name: id_pelicula, Length: 45346, dtype: int64"
      ]
     },
     "execution_count": 129,
     "metadata": {},
     "output_type": "execute_result"
    }
   ],
   "source": [
    "data['id_pelicula'].value_counts()"
   ]
  },
  {
   "cell_type": "code",
   "execution_count": 130,
   "metadata": {},
   "outputs": [],
   "source": [
    "a = data['id_pelicula'].value_counts()"
   ]
  },
  {
   "cell_type": "code",
   "execution_count": 134,
   "metadata": {},
   "outputs": [
    {
     "data": {
      "text/plain": [
       "69234     2\n",
       "109962    2\n",
       "4912      2\n",
       "77221     2\n",
       "15028     2\n",
       "99080     2\n",
       "10991     2\n",
       "12600     2\n",
       "14788     2\n",
       "22649     2\n",
       "132641    2\n",
       "97995     2\n",
       "110428    2\n",
       "84198     2\n",
       "159849    2\n",
       "13209     2\n",
       "265189    2\n",
       "Name: id_pelicula, dtype: int64"
      ]
     },
     "execution_count": 134,
     "metadata": {},
     "output_type": "execute_result"
    }
   ],
   "source": [
    "a[a==2]"
   ]
  },
  {
   "cell_type": "code",
   "execution_count": 135,
   "metadata": {},
   "outputs": [
    {
     "data": {
      "text/html": [
       "<div>\n",
       "<style scoped>\n",
       "    .dataframe tbody tr th:only-of-type {\n",
       "        vertical-align: middle;\n",
       "    }\n",
       "\n",
       "    .dataframe tbody tr th {\n",
       "        vertical-align: top;\n",
       "    }\n",
       "\n",
       "    .dataframe thead th {\n",
       "        text-align: right;\n",
       "    }\n",
       "</style>\n",
       "<table border=\"1\" class=\"dataframe\">\n",
       "  <thead>\n",
       "    <tr style=\"text-align: right;\">\n",
       "      <th></th>\n",
       "      <th>id_pelicula</th>\n",
       "      <th>title</th>\n",
       "      <th>overview</th>\n",
       "      <th>status</th>\n",
       "      <th>runtime</th>\n",
       "      <th>popularity</th>\n",
       "      <th>tagline</th>\n",
       "      <th>original_language</th>\n",
       "      <th>vote_average</th>\n",
       "      <th>vote_count</th>\n",
       "      <th>release_date</th>\n",
       "      <th>release_year</th>\n",
       "      <th>budget</th>\n",
       "      <th>revenue</th>\n",
       "      <th>return</th>\n",
       "    </tr>\n",
       "  </thead>\n",
       "  <tbody>\n",
       "    <tr>\n",
       "      <th>9576</th>\n",
       "      <td>69234</td>\n",
       "      <td>The Phantom of the Opera</td>\n",
       "      <td>Count de Chagnie has discovered Christine's si...</td>\n",
       "      <td>Released</td>\n",
       "      <td>168.0</td>\n",
       "      <td>0.441872</td>\n",
       "      <td>NaN</td>\n",
       "      <td>en</td>\n",
       "      <td>5.0</td>\n",
       "      <td>3.0</td>\n",
       "      <td>1990-03-18</td>\n",
       "      <td>1990.0</td>\n",
       "      <td>10000000.0</td>\n",
       "      <td>0.0</td>\n",
       "      <td>0.0</td>\n",
       "    </tr>\n",
       "    <tr>\n",
       "      <th>26625</th>\n",
       "      <td>69234</td>\n",
       "      <td>The Phantom of the Opera</td>\n",
       "      <td>Count de Chagnie has discovered Christine's si...</td>\n",
       "      <td>Released</td>\n",
       "      <td>168.0</td>\n",
       "      <td>0.43849</td>\n",
       "      <td>NaN</td>\n",
       "      <td>en</td>\n",
       "      <td>5.0</td>\n",
       "      <td>3.0</td>\n",
       "      <td>1990-03-18</td>\n",
       "      <td>1990.0</td>\n",
       "      <td>10000000.0</td>\n",
       "      <td>0.0</td>\n",
       "      <td>0.0</td>\n",
       "    </tr>\n",
       "  </tbody>\n",
       "</table>\n",
       "</div>"
      ],
      "text/plain": [
       "       id_pelicula                     title  \\\n",
       "9576         69234  The Phantom of the Opera   \n",
       "26625        69234  The Phantom of the Opera   \n",
       "\n",
       "                                                overview    status  runtime  \\\n",
       "9576   Count de Chagnie has discovered Christine's si...  Released    168.0   \n",
       "26625  Count de Chagnie has discovered Christine's si...  Released    168.0   \n",
       "\n",
       "      popularity tagline original_language  vote_average  vote_count  \\\n",
       "9576    0.441872     NaN                en           5.0         3.0   \n",
       "26625    0.43849     NaN                en           5.0         3.0   \n",
       "\n",
       "      release_date  release_year      budget  revenue  return  \n",
       "9576    1990-03-18        1990.0  10000000.0      0.0     0.0  \n",
       "26625   1990-03-18        1990.0  10000000.0      0.0     0.0  "
      ]
     },
     "execution_count": 135,
     "metadata": {},
     "output_type": "execute_result"
    }
   ],
   "source": [
    "# son duplicados pero no los detecta como tal\n",
    "data[data['id_pelicula']==69234]"
   ]
  },
  {
   "cell_type": "code",
   "execution_count": null,
   "metadata": {},
   "outputs": [],
   "source": [
    "# Vamos a ver los otros casos duplicados"
   ]
  },
  {
   "cell_type": "code",
   "execution_count": 147,
   "metadata": {},
   "outputs": [
    {
     "data": {
      "text/html": [
       "<div>\n",
       "<style scoped>\n",
       "    .dataframe tbody tr th:only-of-type {\n",
       "        vertical-align: middle;\n",
       "    }\n",
       "\n",
       "    .dataframe tbody tr th {\n",
       "        vertical-align: top;\n",
       "    }\n",
       "\n",
       "    .dataframe thead th {\n",
       "        text-align: right;\n",
       "    }\n",
       "</style>\n",
       "<table border=\"1\" class=\"dataframe\">\n",
       "  <thead>\n",
       "    <tr style=\"text-align: right;\">\n",
       "      <th></th>\n",
       "      <th>id_pelicula</th>\n",
       "      <th>title</th>\n",
       "      <th>overview</th>\n",
       "      <th>status</th>\n",
       "      <th>runtime</th>\n",
       "      <th>popularity</th>\n",
       "      <th>tagline</th>\n",
       "      <th>original_language</th>\n",
       "      <th>vote_average</th>\n",
       "      <th>vote_count</th>\n",
       "      <th>release_date</th>\n",
       "      <th>release_year</th>\n",
       "      <th>budget</th>\n",
       "      <th>revenue</th>\n",
       "      <th>return</th>\n",
       "    </tr>\n",
       "  </thead>\n",
       "  <tbody>\n",
       "    <tr>\n",
       "      <th>5710</th>\n",
       "      <td>109962</td>\n",
       "      <td>Rich and Famous</td>\n",
       "      <td>Two literary women compete for 20 years: one w...</td>\n",
       "      <td>Released</td>\n",
       "      <td>115.0</td>\n",
       "      <td>12.180836</td>\n",
       "      <td>From the very beginning, they knew they'd be f...</td>\n",
       "      <td>en</td>\n",
       "      <td>4.9</td>\n",
       "      <td>7.0</td>\n",
       "      <td>1981-09-23</td>\n",
       "      <td>1981.0</td>\n",
       "      <td>0.0</td>\n",
       "      <td>0.0</td>\n",
       "      <td>0.0</td>\n",
       "    </tr>\n",
       "    <tr>\n",
       "      <th>20899</th>\n",
       "      <td>109962</td>\n",
       "      <td>Rich and Famous</td>\n",
       "      <td>Two literary women compete for 20 years: one w...</td>\n",
       "      <td>Released</td>\n",
       "      <td>115.0</td>\n",
       "      <td>10.396878</td>\n",
       "      <td>From the very beginning, they knew they'd be f...</td>\n",
       "      <td>en</td>\n",
       "      <td>4.9</td>\n",
       "      <td>7.0</td>\n",
       "      <td>1981-09-23</td>\n",
       "      <td>1981.0</td>\n",
       "      <td>0.0</td>\n",
       "      <td>0.0</td>\n",
       "      <td>0.0</td>\n",
       "    </tr>\n",
       "  </tbody>\n",
       "</table>\n",
       "</div>"
      ],
      "text/plain": [
       "       id_pelicula            title  \\\n",
       "5710        109962  Rich and Famous   \n",
       "20899       109962  Rich and Famous   \n",
       "\n",
       "                                                overview    status  runtime  \\\n",
       "5710   Two literary women compete for 20 years: one w...  Released    115.0   \n",
       "20899  Two literary women compete for 20 years: one w...  Released    115.0   \n",
       "\n",
       "      popularity                                            tagline  \\\n",
       "5710   12.180836  From the very beginning, they knew they'd be f...   \n",
       "20899  10.396878  From the very beginning, they knew they'd be f...   \n",
       "\n",
       "      original_language  vote_average  vote_count release_date  release_year  \\\n",
       "5710                 en           4.9         7.0   1981-09-23        1981.0   \n",
       "20899                en           4.9         7.0   1981-09-23        1981.0   \n",
       "\n",
       "       budget  revenue  return  \n",
       "5710      0.0      0.0     0.0  \n",
       "20899     0.0      0.0     0.0  "
      ]
     },
     "execution_count": 147,
     "metadata": {},
     "output_type": "execute_result"
    }
   ],
   "source": [
    "data[data['id_pelicula']==109962 ]"
   ]
  },
  {
   "cell_type": "code",
   "execution_count": null,
   "metadata": {},
   "outputs": [],
   "source": [
    "data[data['id_pelicula']==4912]"
   ]
  },
  {
   "cell_type": "code",
   "execution_count": null,
   "metadata": {},
   "outputs": [],
   "source": [
    "data[data['id_pelicula']==77221]"
   ]
  },
  {
   "cell_type": "code",
   "execution_count": null,
   "metadata": {},
   "outputs": [],
   "source": [
    "data[data['id_pelicula']==99080]"
   ]
  },
  {
   "cell_type": "code",
   "execution_count": null,
   "metadata": {},
   "outputs": [],
   "source": [
    "data[data['id_pelicula']==10991]"
   ]
  },
  {
   "cell_type": "code",
   "execution_count": null,
   "metadata": {},
   "outputs": [],
   "source": [
    "data[data['id_pelicula']==12600]"
   ]
  },
  {
   "cell_type": "code",
   "execution_count": null,
   "metadata": {},
   "outputs": [],
   "source": [
    "data[data['id_pelicula']==14788]"
   ]
  },
  {
   "cell_type": "code",
   "execution_count": null,
   "metadata": {},
   "outputs": [],
   "source": [
    "data[data['id_pelicula']==22649]"
   ]
  },
  {
   "attachments": {},
   "cell_type": "markdown",
   "metadata": {},
   "source": [
    "## Usar el otro archivo csv provisto\n",
    "Voy a ver cómo estan los datos y de ahí intentar ponerlos de manera comoda para poder trabajar con ambos dataframe a la vez"
   ]
  },
  {
   "cell_type": "code",
   "execution_count": 29,
   "metadata": {},
   "outputs": [],
   "source": [
    "df2=pd.read_csv(r\"D:\\Programacion\\DataScience_Henry\\Proyecto_Individual1\\Dataset\\credits.csv\")"
   ]
  },
  {
   "cell_type": "code",
   "execution_count": 30,
   "metadata": {},
   "outputs": [],
   "source": [
    "# Agrego el \"id_pelicula\" \n",
    "# asi me aseguro que el mismo id tenga el mismo nombre en todos los df\n",
    "df2[\"id_pelicula\"]=df2[\"id\"]\n",
    "df2.drop(columns=[\"id\"],inplace=True)"
   ]
  },
  {
   "cell_type": "code",
   "execution_count": 31,
   "metadata": {},
   "outputs": [
    {
     "data": {
      "text/html": [
       "<div>\n",
       "<style scoped>\n",
       "    .dataframe tbody tr th:only-of-type {\n",
       "        vertical-align: middle;\n",
       "    }\n",
       "\n",
       "    .dataframe tbody tr th {\n",
       "        vertical-align: top;\n",
       "    }\n",
       "\n",
       "    .dataframe thead th {\n",
       "        text-align: right;\n",
       "    }\n",
       "</style>\n",
       "<table border=\"1\" class=\"dataframe\">\n",
       "  <thead>\n",
       "    <tr style=\"text-align: right;\">\n",
       "      <th></th>\n",
       "      <th>cast</th>\n",
       "      <th>crew</th>\n",
       "      <th>id_pelicula</th>\n",
       "    </tr>\n",
       "  </thead>\n",
       "  <tbody>\n",
       "    <tr>\n",
       "      <th>0</th>\n",
       "      <td>[{'cast_id': 14, 'character': 'Woody (voice)',...</td>\n",
       "      <td>[{'credit_id': '52fe4284c3a36847f8024f49', 'de...</td>\n",
       "      <td>862</td>\n",
       "    </tr>\n",
       "    <tr>\n",
       "      <th>1</th>\n",
       "      <td>[{'cast_id': 1, 'character': 'Alan Parrish', '...</td>\n",
       "      <td>[{'credit_id': '52fe44bfc3a36847f80a7cd1', 'de...</td>\n",
       "      <td>8844</td>\n",
       "    </tr>\n",
       "    <tr>\n",
       "      <th>2</th>\n",
       "      <td>[{'cast_id': 2, 'character': 'Max Goldman', 'c...</td>\n",
       "      <td>[{'credit_id': '52fe466a9251416c75077a89', 'de...</td>\n",
       "      <td>15602</td>\n",
       "    </tr>\n",
       "    <tr>\n",
       "      <th>3</th>\n",
       "      <td>[{'cast_id': 1, 'character': \"Savannah 'Vannah...</td>\n",
       "      <td>[{'credit_id': '52fe44779251416c91011acb', 'de...</td>\n",
       "      <td>31357</td>\n",
       "    </tr>\n",
       "    <tr>\n",
       "      <th>4</th>\n",
       "      <td>[{'cast_id': 1, 'character': 'George Banks', '...</td>\n",
       "      <td>[{'credit_id': '52fe44959251416c75039ed7', 'de...</td>\n",
       "      <td>11862</td>\n",
       "    </tr>\n",
       "    <tr>\n",
       "      <th>...</th>\n",
       "      <td>...</td>\n",
       "      <td>...</td>\n",
       "      <td>...</td>\n",
       "    </tr>\n",
       "    <tr>\n",
       "      <th>45471</th>\n",
       "      <td>[{'cast_id': 0, 'character': '', 'credit_id': ...</td>\n",
       "      <td>[{'credit_id': '5894a97d925141426c00818c', 'de...</td>\n",
       "      <td>439050</td>\n",
       "    </tr>\n",
       "    <tr>\n",
       "      <th>45472</th>\n",
       "      <td>[{'cast_id': 1002, 'character': 'Sister Angela...</td>\n",
       "      <td>[{'credit_id': '52fe4af1c3a36847f81e9b15', 'de...</td>\n",
       "      <td>111109</td>\n",
       "    </tr>\n",
       "    <tr>\n",
       "      <th>45473</th>\n",
       "      <td>[{'cast_id': 6, 'character': 'Emily Shaw', 'cr...</td>\n",
       "      <td>[{'credit_id': '52fe4776c3a368484e0c8387', 'de...</td>\n",
       "      <td>67758</td>\n",
       "    </tr>\n",
       "    <tr>\n",
       "      <th>45474</th>\n",
       "      <td>[{'cast_id': 2, 'character': '', 'credit_id': ...</td>\n",
       "      <td>[{'credit_id': '533bccebc3a36844cf0011a7', 'de...</td>\n",
       "      <td>227506</td>\n",
       "    </tr>\n",
       "    <tr>\n",
       "      <th>45475</th>\n",
       "      <td>[]</td>\n",
       "      <td>[{'credit_id': '593e676c92514105b702e68e', 'de...</td>\n",
       "      <td>461257</td>\n",
       "    </tr>\n",
       "  </tbody>\n",
       "</table>\n",
       "<p>45476 rows × 3 columns</p>\n",
       "</div>"
      ],
      "text/plain": [
       "                                                    cast  \\\n",
       "0      [{'cast_id': 14, 'character': 'Woody (voice)',...   \n",
       "1      [{'cast_id': 1, 'character': 'Alan Parrish', '...   \n",
       "2      [{'cast_id': 2, 'character': 'Max Goldman', 'c...   \n",
       "3      [{'cast_id': 1, 'character': \"Savannah 'Vannah...   \n",
       "4      [{'cast_id': 1, 'character': 'George Banks', '...   \n",
       "...                                                  ...   \n",
       "45471  [{'cast_id': 0, 'character': '', 'credit_id': ...   \n",
       "45472  [{'cast_id': 1002, 'character': 'Sister Angela...   \n",
       "45473  [{'cast_id': 6, 'character': 'Emily Shaw', 'cr...   \n",
       "45474  [{'cast_id': 2, 'character': '', 'credit_id': ...   \n",
       "45475                                                 []   \n",
       "\n",
       "                                                    crew  id_pelicula  \n",
       "0      [{'credit_id': '52fe4284c3a36847f8024f49', 'de...          862  \n",
       "1      [{'credit_id': '52fe44bfc3a36847f80a7cd1', 'de...         8844  \n",
       "2      [{'credit_id': '52fe466a9251416c75077a89', 'de...        15602  \n",
       "3      [{'credit_id': '52fe44779251416c91011acb', 'de...        31357  \n",
       "4      [{'credit_id': '52fe44959251416c75039ed7', 'de...        11862  \n",
       "...                                                  ...          ...  \n",
       "45471  [{'credit_id': '5894a97d925141426c00818c', 'de...       439050  \n",
       "45472  [{'credit_id': '52fe4af1c3a36847f81e9b15', 'de...       111109  \n",
       "45473  [{'credit_id': '52fe4776c3a368484e0c8387', 'de...        67758  \n",
       "45474  [{'credit_id': '533bccebc3a36844cf0011a7', 'de...       227506  \n",
       "45475  [{'credit_id': '593e676c92514105b702e68e', 'de...       461257  \n",
       "\n",
       "[45476 rows x 3 columns]"
      ]
     },
     "execution_count": 31,
     "metadata": {},
     "output_type": "execute_result"
    }
   ],
   "source": [
    "df2"
   ]
  },
  {
   "attachments": {},
   "cell_type": "markdown",
   "metadata": {},
   "source": [
    "### Desanidar sus datos\n",
    "En esta tabla en sumamente necesario desanidar para obtener la información que queremos."
   ]
  },
  {
   "cell_type": "code",
   "execution_count": 34,
   "metadata": {},
   "outputs": [
    {
     "data": {
      "text/html": [
       "<div>\n",
       "<style scoped>\n",
       "    .dataframe tbody tr th:only-of-type {\n",
       "        vertical-align: middle;\n",
       "    }\n",
       "\n",
       "    .dataframe tbody tr th {\n",
       "        vertical-align: top;\n",
       "    }\n",
       "\n",
       "    .dataframe thead th {\n",
       "        text-align: right;\n",
       "    }\n",
       "</style>\n",
       "<table border=\"1\" class=\"dataframe\">\n",
       "  <thead>\n",
       "    <tr style=\"text-align: right;\">\n",
       "      <th></th>\n",
       "      <th>cast</th>\n",
       "      <th>crew</th>\n",
       "      <th>id_pelicula</th>\n",
       "    </tr>\n",
       "  </thead>\n",
       "  <tbody>\n",
       "    <tr>\n",
       "      <th>0</th>\n",
       "      <td>[{'cast_id': 14, 'character': 'Woody (voice)',...</td>\n",
       "      <td>[{'credit_id': '52fe4284c3a36847f8024f49', 'de...</td>\n",
       "      <td>862</td>\n",
       "    </tr>\n",
       "    <tr>\n",
       "      <th>1</th>\n",
       "      <td>[{'cast_id': 1, 'character': 'Alan Parrish', '...</td>\n",
       "      <td>[{'credit_id': '52fe44bfc3a36847f80a7cd1', 'de...</td>\n",
       "      <td>8844</td>\n",
       "    </tr>\n",
       "    <tr>\n",
       "      <th>2</th>\n",
       "      <td>[{'cast_id': 2, 'character': 'Max Goldman', 'c...</td>\n",
       "      <td>[{'credit_id': '52fe466a9251416c75077a89', 'de...</td>\n",
       "      <td>15602</td>\n",
       "    </tr>\n",
       "    <tr>\n",
       "      <th>3</th>\n",
       "      <td>[{'cast_id': 1, 'character': \"Savannah 'Vannah...</td>\n",
       "      <td>[{'credit_id': '52fe44779251416c91011acb', 'de...</td>\n",
       "      <td>31357</td>\n",
       "    </tr>\n",
       "    <tr>\n",
       "      <th>4</th>\n",
       "      <td>[{'cast_id': 1, 'character': 'George Banks', '...</td>\n",
       "      <td>[{'credit_id': '52fe44959251416c75039ed7', 'de...</td>\n",
       "      <td>11862</td>\n",
       "    </tr>\n",
       "    <tr>\n",
       "      <th>...</th>\n",
       "      <td>...</td>\n",
       "      <td>...</td>\n",
       "      <td>...</td>\n",
       "    </tr>\n",
       "    <tr>\n",
       "      <th>45471</th>\n",
       "      <td>[{'cast_id': 0, 'character': '', 'credit_id': ...</td>\n",
       "      <td>[{'credit_id': '5894a97d925141426c00818c', 'de...</td>\n",
       "      <td>439050</td>\n",
       "    </tr>\n",
       "    <tr>\n",
       "      <th>45472</th>\n",
       "      <td>[{'cast_id': 1002, 'character': 'Sister Angela...</td>\n",
       "      <td>[{'credit_id': '52fe4af1c3a36847f81e9b15', 'de...</td>\n",
       "      <td>111109</td>\n",
       "    </tr>\n",
       "    <tr>\n",
       "      <th>45473</th>\n",
       "      <td>[{'cast_id': 6, 'character': 'Emily Shaw', 'cr...</td>\n",
       "      <td>[{'credit_id': '52fe4776c3a368484e0c8387', 'de...</td>\n",
       "      <td>67758</td>\n",
       "    </tr>\n",
       "    <tr>\n",
       "      <th>45474</th>\n",
       "      <td>[{'cast_id': 2, 'character': '', 'credit_id': ...</td>\n",
       "      <td>[{'credit_id': '533bccebc3a36844cf0011a7', 'de...</td>\n",
       "      <td>227506</td>\n",
       "    </tr>\n",
       "    <tr>\n",
       "      <th>45475</th>\n",
       "      <td>[]</td>\n",
       "      <td>[{'credit_id': '593e676c92514105b702e68e', 'de...</td>\n",
       "      <td>461257</td>\n",
       "    </tr>\n",
       "  </tbody>\n",
       "</table>\n",
       "<p>45476 rows × 3 columns</p>\n",
       "</div>"
      ],
      "text/plain": [
       "                                                    cast  \\\n",
       "0      [{'cast_id': 14, 'character': 'Woody (voice)',...   \n",
       "1      [{'cast_id': 1, 'character': 'Alan Parrish', '...   \n",
       "2      [{'cast_id': 2, 'character': 'Max Goldman', 'c...   \n",
       "3      [{'cast_id': 1, 'character': \"Savannah 'Vannah...   \n",
       "4      [{'cast_id': 1, 'character': 'George Banks', '...   \n",
       "...                                                  ...   \n",
       "45471  [{'cast_id': 0, 'character': '', 'credit_id': ...   \n",
       "45472  [{'cast_id': 1002, 'character': 'Sister Angela...   \n",
       "45473  [{'cast_id': 6, 'character': 'Emily Shaw', 'cr...   \n",
       "45474  [{'cast_id': 2, 'character': '', 'credit_id': ...   \n",
       "45475                                                 []   \n",
       "\n",
       "                                                    crew  id_pelicula  \n",
       "0      [{'credit_id': '52fe4284c3a36847f8024f49', 'de...          862  \n",
       "1      [{'credit_id': '52fe44bfc3a36847f80a7cd1', 'de...         8844  \n",
       "2      [{'credit_id': '52fe466a9251416c75077a89', 'de...        15602  \n",
       "3      [{'credit_id': '52fe44779251416c91011acb', 'de...        31357  \n",
       "4      [{'credit_id': '52fe44959251416c75039ed7', 'de...        11862  \n",
       "...                                                  ...          ...  \n",
       "45471  [{'credit_id': '5894a97d925141426c00818c', 'de...       439050  \n",
       "45472  [{'credit_id': '52fe4af1c3a36847f81e9b15', 'de...       111109  \n",
       "45473  [{'credit_id': '52fe4776c3a368484e0c8387', 'de...        67758  \n",
       "45474  [{'credit_id': '533bccebc3a36844cf0011a7', 'de...       227506  \n",
       "45475  [{'credit_id': '593e676c92514105b702e68e', 'de...       461257  \n",
       "\n",
       "[45476 rows x 3 columns]"
      ]
     },
     "execution_count": 34,
     "metadata": {},
     "output_type": "execute_result"
    }
   ],
   "source": [
    "df2"
   ]
  },
  {
   "cell_type": "code",
   "execution_count": 35,
   "metadata": {},
   "outputs": [],
   "source": [
    "import pandas as pd\n",
    "import ast\n",
    "\n",
    "# Función proveida por chatgpt para ayudar a desanidar\n",
    "# Al ver cómo funcionan tengo que extraer los subdataframe que deja en la serie devuelta.\n",
    "\n",
    "def desanidar_cast(row):\n",
    "    cast_data = ast.literal_eval(row['cast'])\n",
    "    desanidado = pd.json_normalize(cast_data)\n",
    "    desanidado['id_pelicula'] = row['id_pelicula']\n",
    "    return desanidado\n",
    "\n",
    "# Repetir la misma función cambiando la variable -hay que ver si funciona-\n",
    "def desanidar_crew(row):\n",
    "    cast_data = ast.literal_eval(row['crew'])\n",
    "    desanidado = pd.json_normalize(cast_data)\n",
    "    desanidado['id_pelicula'] = row['id_pelicula']\n",
    "    return desanidado"
   ]
  },
  {
   "cell_type": "code",
   "execution_count": 36,
   "metadata": {},
   "outputs": [],
   "source": [
    "cast=df2.apply(desanidar_cast, axis=1).reset_index(drop=True)"
   ]
  },
  {
   "cell_type": "code",
   "execution_count": 37,
   "metadata": {},
   "outputs": [],
   "source": [
    "crew=df2.apply(desanidar_crew, axis=1).reset_index(drop=True)"
   ]
  },
  {
   "cell_type": "code",
   "execution_count": 38,
   "metadata": {},
   "outputs": [
    {
     "name": "stdout",
     "output_type": "stream",
     "text": [
      "0            cast_id                character          ...\n",
      "1            cast_id                       character   ...\n",
      "2           cast_id                     character      ...\n",
      "3           cast_id                  character         ...\n",
      "4            cast_id              character            ...\n",
      "                               ...                        \n",
      "45471       cast_id character                 credit_id...\n",
      "45472        cast_id              character            ...\n",
      "45473        cast_id          character                ...\n",
      "45474       cast_id character                 credit_id...\n",
      "45475     Empty DataFrame\n",
      "Columns: [id_pelicula]\n",
      "Index: []\n",
      "Length: 45476, dtype: object\n",
      "<class 'pandas.core.series.Series'>\n"
     ]
    },
    {
     "data": {
      "text/html": [
       "<div>\n",
       "<style scoped>\n",
       "    .dataframe tbody tr th:only-of-type {\n",
       "        vertical-align: middle;\n",
       "    }\n",
       "\n",
       "    .dataframe tbody tr th {\n",
       "        vertical-align: top;\n",
       "    }\n",
       "\n",
       "    .dataframe thead th {\n",
       "        text-align: right;\n",
       "    }\n",
       "</style>\n",
       "<table border=\"1\" class=\"dataframe\">\n",
       "  <thead>\n",
       "    <tr style=\"text-align: right;\">\n",
       "      <th></th>\n",
       "      <th>0</th>\n",
       "    </tr>\n",
       "  </thead>\n",
       "  <tbody>\n",
       "    <tr>\n",
       "      <th>0</th>\n",
       "      <td>cast_id                character          ...</td>\n",
       "    </tr>\n",
       "    <tr>\n",
       "      <th>1</th>\n",
       "      <td>cast_id                       character   ...</td>\n",
       "    </tr>\n",
       "    <tr>\n",
       "      <th>2</th>\n",
       "      <td>cast_id                     character      ...</td>\n",
       "    </tr>\n",
       "    <tr>\n",
       "      <th>3</th>\n",
       "      <td>cast_id                  character         ...</td>\n",
       "    </tr>\n",
       "    <tr>\n",
       "      <th>4</th>\n",
       "      <td>cast_id              character            ...</td>\n",
       "    </tr>\n",
       "    <tr>\n",
       "      <th>...</th>\n",
       "      <td>...</td>\n",
       "    </tr>\n",
       "    <tr>\n",
       "      <th>45471</th>\n",
       "      <td>cast_id character                 credit_id...</td>\n",
       "    </tr>\n",
       "    <tr>\n",
       "      <th>45472</th>\n",
       "      <td>cast_id              character            ...</td>\n",
       "    </tr>\n",
       "    <tr>\n",
       "      <th>45473</th>\n",
       "      <td>cast_id          character                ...</td>\n",
       "    </tr>\n",
       "    <tr>\n",
       "      <th>45474</th>\n",
       "      <td>cast_id character                 credit_id...</td>\n",
       "    </tr>\n",
       "    <tr>\n",
       "      <th>45475</th>\n",
       "      <td>Empty DataFrame\n",
       "Columns: [id_pelicula]\n",
       "Index: []</td>\n",
       "    </tr>\n",
       "  </tbody>\n",
       "</table>\n",
       "<p>45476 rows × 1 columns</p>\n",
       "</div>"
      ],
      "text/plain": [
       "                                                       0\n",
       "0          cast_id                character          ...\n",
       "1          cast_id                       character   ...\n",
       "2         cast_id                     character      ...\n",
       "3         cast_id                  character         ...\n",
       "4          cast_id              character            ...\n",
       "...                                                  ...\n",
       "45471     cast_id character                 credit_id...\n",
       "45472      cast_id              character            ...\n",
       "45473      cast_id          character                ...\n",
       "45474     cast_id character                 credit_id...\n",
       "45475   Empty DataFrame\n",
       "Columns: [id_pelicula]\n",
       "Index: []\n",
       "\n",
       "[45476 rows x 1 columns]"
      ]
     },
     "execution_count": 38,
     "metadata": {},
     "output_type": "execute_result"
    }
   ],
   "source": [
    "# Me devuelve una serie\n",
    "# Pero si la hago dataframe, es como si quedara una columna en la que cada fila \n",
    "# Es un dataframe de cada uno de los datos que se querian separar de esa manera(desanidados)\n",
    "print(cast)\n",
    "print(type(cast))\n",
    "pd.DataFrame(cast)"
   ]
  },
  {
   "cell_type": "code",
   "execution_count": 39,
   "metadata": {},
   "outputs": [
    {
     "name": "stdout",
     "output_type": "stream",
     "text": [
      "<class 'pandas.core.frame.DataFrame'>\n"
     ]
    },
    {
     "data": {
      "text/html": [
       "<div>\n",
       "<style scoped>\n",
       "    .dataframe tbody tr th:only-of-type {\n",
       "        vertical-align: middle;\n",
       "    }\n",
       "\n",
       "    .dataframe tbody tr th {\n",
       "        vertical-align: top;\n",
       "    }\n",
       "\n",
       "    .dataframe thead th {\n",
       "        text-align: right;\n",
       "    }\n",
       "</style>\n",
       "<table border=\"1\" class=\"dataframe\">\n",
       "  <thead>\n",
       "    <tr style=\"text-align: right;\">\n",
       "      <th></th>\n",
       "      <th>credit_id</th>\n",
       "      <th>department</th>\n",
       "      <th>gender</th>\n",
       "      <th>id</th>\n",
       "      <th>job</th>\n",
       "      <th>name</th>\n",
       "      <th>profile_path</th>\n",
       "      <th>id_pelicula</th>\n",
       "    </tr>\n",
       "  </thead>\n",
       "  <tbody>\n",
       "    <tr>\n",
       "      <th>0</th>\n",
       "      <td>52fe4284c3a36847f8024f49</td>\n",
       "      <td>Directing</td>\n",
       "      <td>2</td>\n",
       "      <td>7879</td>\n",
       "      <td>Director</td>\n",
       "      <td>John Lasseter</td>\n",
       "      <td>/7EdqiNbr4FRjIhKHyPPdFfEEEFG.jpg</td>\n",
       "      <td>862</td>\n",
       "    </tr>\n",
       "    <tr>\n",
       "      <th>1</th>\n",
       "      <td>52fe4284c3a36847f8024f4f</td>\n",
       "      <td>Writing</td>\n",
       "      <td>2</td>\n",
       "      <td>12891</td>\n",
       "      <td>Screenplay</td>\n",
       "      <td>Joss Whedon</td>\n",
       "      <td>/dTiVsuaTVTeGmvkhcyJvKp2A5kr.jpg</td>\n",
       "      <td>862</td>\n",
       "    </tr>\n",
       "    <tr>\n",
       "      <th>2</th>\n",
       "      <td>52fe4284c3a36847f8024f55</td>\n",
       "      <td>Writing</td>\n",
       "      <td>2</td>\n",
       "      <td>7</td>\n",
       "      <td>Screenplay</td>\n",
       "      <td>Andrew Stanton</td>\n",
       "      <td>/pvQWsu0qc8JFQhMVJkTHuexUAa1.jpg</td>\n",
       "      <td>862</td>\n",
       "    </tr>\n",
       "    <tr>\n",
       "      <th>3</th>\n",
       "      <td>52fe4284c3a36847f8024f5b</td>\n",
       "      <td>Writing</td>\n",
       "      <td>2</td>\n",
       "      <td>12892</td>\n",
       "      <td>Screenplay</td>\n",
       "      <td>Joel Cohen</td>\n",
       "      <td>/dAubAiZcvKFbboWlj7oXOkZnTSu.jpg</td>\n",
       "      <td>862</td>\n",
       "    </tr>\n",
       "    <tr>\n",
       "      <th>4</th>\n",
       "      <td>52fe4284c3a36847f8024f61</td>\n",
       "      <td>Writing</td>\n",
       "      <td>0</td>\n",
       "      <td>12893</td>\n",
       "      <td>Screenplay</td>\n",
       "      <td>Alec Sokolow</td>\n",
       "      <td>/v79vlRYi94BZUQnkkyznbGUZLjT.jpg</td>\n",
       "      <td>862</td>\n",
       "    </tr>\n",
       "    <tr>\n",
       "      <th>...</th>\n",
       "      <td>...</td>\n",
       "      <td>...</td>\n",
       "      <td>...</td>\n",
       "      <td>...</td>\n",
       "      <td>...</td>\n",
       "      <td>...</td>\n",
       "      <td>...</td>\n",
       "      <td>...</td>\n",
       "    </tr>\n",
       "    <tr>\n",
       "      <th>101</th>\n",
       "      <td>589216c19251412dc2009cb9</td>\n",
       "      <td>Sound</td>\n",
       "      <td>1</td>\n",
       "      <td>1748724</td>\n",
       "      <td>Assistant Sound Editor</td>\n",
       "      <td>Susan Sanford</td>\n",
       "      <td>None</td>\n",
       "      <td>862</td>\n",
       "    </tr>\n",
       "    <tr>\n",
       "      <th>102</th>\n",
       "      <td>589216ccc3a3680973009274</td>\n",
       "      <td>Sound</td>\n",
       "      <td>0</td>\n",
       "      <td>1748725</td>\n",
       "      <td>Assistant Sound Editor</td>\n",
       "      <td>Susan Popovic</td>\n",
       "      <td>None</td>\n",
       "      <td>862</td>\n",
       "    </tr>\n",
       "    <tr>\n",
       "      <th>103</th>\n",
       "      <td>589216d79251412dc8009aa0</td>\n",
       "      <td>Sound</td>\n",
       "      <td>0</td>\n",
       "      <td>8067</td>\n",
       "      <td>Assistant Sound Editor</td>\n",
       "      <td>Dan Engstrom</td>\n",
       "      <td>None</td>\n",
       "      <td>862</td>\n",
       "    </tr>\n",
       "    <tr>\n",
       "      <th>104</th>\n",
       "      <td>589216e49251412dcd009a4f</td>\n",
       "      <td>Production</td>\n",
       "      <td>1</td>\n",
       "      <td>7902</td>\n",
       "      <td>Casting Consultant</td>\n",
       "      <td>Ruth Lambert</td>\n",
       "      <td>None</td>\n",
       "      <td>862</td>\n",
       "    </tr>\n",
       "    <tr>\n",
       "      <th>105</th>\n",
       "      <td>589216f39251412dc2009cf3</td>\n",
       "      <td>Production</td>\n",
       "      <td>0</td>\n",
       "      <td>84493</td>\n",
       "      <td>ADR Voice Casting</td>\n",
       "      <td>Mickie McGowan</td>\n",
       "      <td>/k7TjJBfINsg8vLQxJwos6XObAD6.jpg</td>\n",
       "      <td>862</td>\n",
       "    </tr>\n",
       "  </tbody>\n",
       "</table>\n",
       "<p>106 rows × 8 columns</p>\n",
       "</div>"
      ],
      "text/plain": [
       "                    credit_id  department  gender       id  \\\n",
       "0    52fe4284c3a36847f8024f49   Directing       2     7879   \n",
       "1    52fe4284c3a36847f8024f4f     Writing       2    12891   \n",
       "2    52fe4284c3a36847f8024f55     Writing       2        7   \n",
       "3    52fe4284c3a36847f8024f5b     Writing       2    12892   \n",
       "4    52fe4284c3a36847f8024f61     Writing       0    12893   \n",
       "..                        ...         ...     ...      ...   \n",
       "101  589216c19251412dc2009cb9       Sound       1  1748724   \n",
       "102  589216ccc3a3680973009274       Sound       0  1748725   \n",
       "103  589216d79251412dc8009aa0       Sound       0     8067   \n",
       "104  589216e49251412dcd009a4f  Production       1     7902   \n",
       "105  589216f39251412dc2009cf3  Production       0    84493   \n",
       "\n",
       "                        job            name                      profile_path  \\\n",
       "0                  Director   John Lasseter  /7EdqiNbr4FRjIhKHyPPdFfEEEFG.jpg   \n",
       "1                Screenplay     Joss Whedon  /dTiVsuaTVTeGmvkhcyJvKp2A5kr.jpg   \n",
       "2                Screenplay  Andrew Stanton  /pvQWsu0qc8JFQhMVJkTHuexUAa1.jpg   \n",
       "3                Screenplay      Joel Cohen  /dAubAiZcvKFbboWlj7oXOkZnTSu.jpg   \n",
       "4                Screenplay    Alec Sokolow  /v79vlRYi94BZUQnkkyznbGUZLjT.jpg   \n",
       "..                      ...             ...                               ...   \n",
       "101  Assistant Sound Editor   Susan Sanford                              None   \n",
       "102  Assistant Sound Editor   Susan Popovic                              None   \n",
       "103  Assistant Sound Editor    Dan Engstrom                              None   \n",
       "104      Casting Consultant    Ruth Lambert                              None   \n",
       "105       ADR Voice Casting  Mickie McGowan  /k7TjJBfINsg8vLQxJwos6XObAD6.jpg   \n",
       "\n",
       "     id_pelicula  \n",
       "0            862  \n",
       "1            862  \n",
       "2            862  \n",
       "3            862  \n",
       "4            862  \n",
       "..           ...  \n",
       "101          862  \n",
       "102          862  \n",
       "103          862  \n",
       "104          862  \n",
       "105          862  \n",
       "\n",
       "[106 rows x 8 columns]"
      ]
     },
     "execution_count": 39,
     "metadata": {},
     "output_type": "execute_result"
    }
   ],
   "source": [
    "print(type(crew[0]))\n",
    "crew[0]"
   ]
  },
  {
   "cell_type": "code",
   "execution_count": 40,
   "metadata": {},
   "outputs": [
    {
     "name": "stdout",
     "output_type": "stream",
     "text": [
      "<class 'pandas.core.frame.DataFrame'>\n"
     ]
    },
    {
     "data": {
      "text/html": [
       "<div>\n",
       "<style scoped>\n",
       "    .dataframe tbody tr th:only-of-type {\n",
       "        vertical-align: middle;\n",
       "    }\n",
       "\n",
       "    .dataframe tbody tr th {\n",
       "        vertical-align: top;\n",
       "    }\n",
       "\n",
       "    .dataframe thead th {\n",
       "        text-align: right;\n",
       "    }\n",
       "</style>\n",
       "<table border=\"1\" class=\"dataframe\">\n",
       "  <thead>\n",
       "    <tr style=\"text-align: right;\">\n",
       "      <th></th>\n",
       "      <th>cast_id</th>\n",
       "      <th>character</th>\n",
       "      <th>credit_id</th>\n",
       "      <th>gender</th>\n",
       "      <th>id</th>\n",
       "      <th>name</th>\n",
       "      <th>order</th>\n",
       "      <th>profile_path</th>\n",
       "      <th>id_pelicula</th>\n",
       "    </tr>\n",
       "  </thead>\n",
       "  <tbody>\n",
       "    <tr>\n",
       "      <th>0</th>\n",
       "      <td>14</td>\n",
       "      <td>Woody (voice)</td>\n",
       "      <td>52fe4284c3a36847f8024f95</td>\n",
       "      <td>2</td>\n",
       "      <td>31</td>\n",
       "      <td>Tom Hanks</td>\n",
       "      <td>0</td>\n",
       "      <td>/pQFoyx7rp09CJTAb932F2g8Nlho.jpg</td>\n",
       "      <td>862</td>\n",
       "    </tr>\n",
       "    <tr>\n",
       "      <th>1</th>\n",
       "      <td>15</td>\n",
       "      <td>Buzz Lightyear (voice)</td>\n",
       "      <td>52fe4284c3a36847f8024f99</td>\n",
       "      <td>2</td>\n",
       "      <td>12898</td>\n",
       "      <td>Tim Allen</td>\n",
       "      <td>1</td>\n",
       "      <td>/uX2xVf6pMmPepxnvFWyBtjexzgY.jpg</td>\n",
       "      <td>862</td>\n",
       "    </tr>\n",
       "    <tr>\n",
       "      <th>2</th>\n",
       "      <td>16</td>\n",
       "      <td>Mr. Potato Head (voice)</td>\n",
       "      <td>52fe4284c3a36847f8024f9d</td>\n",
       "      <td>2</td>\n",
       "      <td>7167</td>\n",
       "      <td>Don Rickles</td>\n",
       "      <td>2</td>\n",
       "      <td>/h5BcaDMPRVLHLDzbQavec4xfSdt.jpg</td>\n",
       "      <td>862</td>\n",
       "    </tr>\n",
       "    <tr>\n",
       "      <th>3</th>\n",
       "      <td>17</td>\n",
       "      <td>Slinky Dog (voice)</td>\n",
       "      <td>52fe4284c3a36847f8024fa1</td>\n",
       "      <td>2</td>\n",
       "      <td>12899</td>\n",
       "      <td>Jim Varney</td>\n",
       "      <td>3</td>\n",
       "      <td>/eIo2jVVXYgjDtaHoF19Ll9vtW7h.jpg</td>\n",
       "      <td>862</td>\n",
       "    </tr>\n",
       "    <tr>\n",
       "      <th>4</th>\n",
       "      <td>18</td>\n",
       "      <td>Rex (voice)</td>\n",
       "      <td>52fe4284c3a36847f8024fa5</td>\n",
       "      <td>2</td>\n",
       "      <td>12900</td>\n",
       "      <td>Wallace Shawn</td>\n",
       "      <td>4</td>\n",
       "      <td>/oGE6JqPP2xH4tNORKNqxbNPYi7u.jpg</td>\n",
       "      <td>862</td>\n",
       "    </tr>\n",
       "    <tr>\n",
       "      <th>5</th>\n",
       "      <td>19</td>\n",
       "      <td>Hamm (voice)</td>\n",
       "      <td>52fe4284c3a36847f8024fa9</td>\n",
       "      <td>2</td>\n",
       "      <td>7907</td>\n",
       "      <td>John Ratzenberger</td>\n",
       "      <td>5</td>\n",
       "      <td>/yGechiKWL6TJDfVE2KPSJYqdMsY.jpg</td>\n",
       "      <td>862</td>\n",
       "    </tr>\n",
       "    <tr>\n",
       "      <th>6</th>\n",
       "      <td>20</td>\n",
       "      <td>Bo Peep (voice)</td>\n",
       "      <td>52fe4284c3a36847f8024fad</td>\n",
       "      <td>1</td>\n",
       "      <td>8873</td>\n",
       "      <td>Annie Potts</td>\n",
       "      <td>6</td>\n",
       "      <td>/eryXT84RL41jHSJcMy4kS3u9y6w.jpg</td>\n",
       "      <td>862</td>\n",
       "    </tr>\n",
       "    <tr>\n",
       "      <th>7</th>\n",
       "      <td>26</td>\n",
       "      <td>Andy (voice)</td>\n",
       "      <td>52fe4284c3a36847f8024fc1</td>\n",
       "      <td>0</td>\n",
       "      <td>1116442</td>\n",
       "      <td>John Morris</td>\n",
       "      <td>7</td>\n",
       "      <td>/vYGyvK4LzeaUCoNSHtsuqJUY15M.jpg</td>\n",
       "      <td>862</td>\n",
       "    </tr>\n",
       "    <tr>\n",
       "      <th>8</th>\n",
       "      <td>22</td>\n",
       "      <td>Sid (voice)</td>\n",
       "      <td>52fe4284c3a36847f8024fb1</td>\n",
       "      <td>2</td>\n",
       "      <td>12901</td>\n",
       "      <td>Erik von Detten</td>\n",
       "      <td>8</td>\n",
       "      <td>/twnF1ZaJ1FUNUuo6xLXwcxjayBE.jpg</td>\n",
       "      <td>862</td>\n",
       "    </tr>\n",
       "    <tr>\n",
       "      <th>9</th>\n",
       "      <td>23</td>\n",
       "      <td>Mrs. Davis (voice)</td>\n",
       "      <td>52fe4284c3a36847f8024fb5</td>\n",
       "      <td>1</td>\n",
       "      <td>12133</td>\n",
       "      <td>Laurie Metcalf</td>\n",
       "      <td>9</td>\n",
       "      <td>/unMMIT60eoBM2sN2nyR7EZ2BvvD.jpg</td>\n",
       "      <td>862</td>\n",
       "    </tr>\n",
       "    <tr>\n",
       "      <th>10</th>\n",
       "      <td>24</td>\n",
       "      <td>Sergeant (voice)</td>\n",
       "      <td>52fe4284c3a36847f8024fb9</td>\n",
       "      <td>2</td>\n",
       "      <td>8655</td>\n",
       "      <td>R. Lee Ermey</td>\n",
       "      <td>10</td>\n",
       "      <td>/r8GBqFBjypLUP9VVqDqfZ7wYbSs.jpg</td>\n",
       "      <td>862</td>\n",
       "    </tr>\n",
       "    <tr>\n",
       "      <th>11</th>\n",
       "      <td>25</td>\n",
       "      <td>Hannah (voice)</td>\n",
       "      <td>52fe4284c3a36847f8024fbd</td>\n",
       "      <td>1</td>\n",
       "      <td>12903</td>\n",
       "      <td>Sarah Freeman</td>\n",
       "      <td>11</td>\n",
       "      <td>None</td>\n",
       "      <td>862</td>\n",
       "    </tr>\n",
       "    <tr>\n",
       "      <th>12</th>\n",
       "      <td>27</td>\n",
       "      <td>TV Announcer (voice)</td>\n",
       "      <td>52fe4284c3a36847f8024fc5</td>\n",
       "      <td>2</td>\n",
       "      <td>37221</td>\n",
       "      <td>Penn Jillette</td>\n",
       "      <td>12</td>\n",
       "      <td>/zmAaXUdx12NRsssgHbk1T31j2x9.jpg</td>\n",
       "      <td>862</td>\n",
       "    </tr>\n",
       "  </tbody>\n",
       "</table>\n",
       "</div>"
      ],
      "text/plain": [
       "    cast_id                character                 credit_id  gender  \\\n",
       "0        14            Woody (voice)  52fe4284c3a36847f8024f95       2   \n",
       "1        15   Buzz Lightyear (voice)  52fe4284c3a36847f8024f99       2   \n",
       "2        16  Mr. Potato Head (voice)  52fe4284c3a36847f8024f9d       2   \n",
       "3        17       Slinky Dog (voice)  52fe4284c3a36847f8024fa1       2   \n",
       "4        18              Rex (voice)  52fe4284c3a36847f8024fa5       2   \n",
       "5        19             Hamm (voice)  52fe4284c3a36847f8024fa9       2   \n",
       "6        20          Bo Peep (voice)  52fe4284c3a36847f8024fad       1   \n",
       "7        26             Andy (voice)  52fe4284c3a36847f8024fc1       0   \n",
       "8        22              Sid (voice)  52fe4284c3a36847f8024fb1       2   \n",
       "9        23       Mrs. Davis (voice)  52fe4284c3a36847f8024fb5       1   \n",
       "10       24         Sergeant (voice)  52fe4284c3a36847f8024fb9       2   \n",
       "11       25           Hannah (voice)  52fe4284c3a36847f8024fbd       1   \n",
       "12       27     TV Announcer (voice)  52fe4284c3a36847f8024fc5       2   \n",
       "\n",
       "         id               name  order                      profile_path  \\\n",
       "0        31          Tom Hanks      0  /pQFoyx7rp09CJTAb932F2g8Nlho.jpg   \n",
       "1     12898          Tim Allen      1  /uX2xVf6pMmPepxnvFWyBtjexzgY.jpg   \n",
       "2      7167        Don Rickles      2  /h5BcaDMPRVLHLDzbQavec4xfSdt.jpg   \n",
       "3     12899         Jim Varney      3  /eIo2jVVXYgjDtaHoF19Ll9vtW7h.jpg   \n",
       "4     12900      Wallace Shawn      4  /oGE6JqPP2xH4tNORKNqxbNPYi7u.jpg   \n",
       "5      7907  John Ratzenberger      5  /yGechiKWL6TJDfVE2KPSJYqdMsY.jpg   \n",
       "6      8873        Annie Potts      6  /eryXT84RL41jHSJcMy4kS3u9y6w.jpg   \n",
       "7   1116442        John Morris      7  /vYGyvK4LzeaUCoNSHtsuqJUY15M.jpg   \n",
       "8     12901    Erik von Detten      8  /twnF1ZaJ1FUNUuo6xLXwcxjayBE.jpg   \n",
       "9     12133     Laurie Metcalf      9  /unMMIT60eoBM2sN2nyR7EZ2BvvD.jpg   \n",
       "10     8655       R. Lee Ermey     10  /r8GBqFBjypLUP9VVqDqfZ7wYbSs.jpg   \n",
       "11    12903      Sarah Freeman     11                              None   \n",
       "12    37221      Penn Jillette     12  /zmAaXUdx12NRsssgHbk1T31j2x9.jpg   \n",
       "\n",
       "    id_pelicula  \n",
       "0           862  \n",
       "1           862  \n",
       "2           862  \n",
       "3           862  \n",
       "4           862  \n",
       "5           862  \n",
       "6           862  \n",
       "7           862  \n",
       "8           862  \n",
       "9           862  \n",
       "10          862  \n",
       "11          862  \n",
       "12          862  "
      ]
     },
     "execution_count": 40,
     "metadata": {},
     "output_type": "execute_result"
    }
   ],
   "source": [
    "# Al verlo por separado, se nota cómo en cada fila quedaron en forma de dataframe\n",
    "# Entonces lo que podría hacer es un ciclo que añada cada uno de los subdataframes\n",
    "# A un solo dataframe mayor \n",
    "print(type(cast[0]))\n",
    "cast[0]"
   ]
  },
  {
   "cell_type": "code",
   "execution_count": 41,
   "metadata": {},
   "outputs": [
    {
     "data": {
      "text/html": [
       "<div>\n",
       "<style scoped>\n",
       "    .dataframe tbody tr th:only-of-type {\n",
       "        vertical-align: middle;\n",
       "    }\n",
       "\n",
       "    .dataframe tbody tr th {\n",
       "        vertical-align: top;\n",
       "    }\n",
       "\n",
       "    .dataframe thead th {\n",
       "        text-align: right;\n",
       "    }\n",
       "</style>\n",
       "<table border=\"1\" class=\"dataframe\">\n",
       "  <thead>\n",
       "    <tr style=\"text-align: right;\">\n",
       "      <th></th>\n",
       "      <th>id_pelicula</th>\n",
       "    </tr>\n",
       "  </thead>\n",
       "  <tbody>\n",
       "  </tbody>\n",
       "</table>\n",
       "</div>"
      ],
      "text/plain": [
       "Empty DataFrame\n",
       "Columns: [id_pelicula]\n",
       "Index: []"
      ]
     },
     "execution_count": 41,
     "metadata": {},
     "output_type": "execute_result"
    }
   ],
   "source": [
    "# El último elemento no es un dataframe con datos, asi que no lo vamos a considerar\n",
    "cast[45475]"
   ]
  },
  {
   "cell_type": "code",
   "execution_count": 42,
   "metadata": {},
   "outputs": [],
   "source": [
    "cast=list(cast)\n",
    "df_cast=pd.concat(cast, ignore_index=True)"
   ]
  },
  {
   "cell_type": "code",
   "execution_count": 43,
   "metadata": {},
   "outputs": [],
   "source": [
    "crew=list(crew)\n",
    "df_crew=pd.concat(crew, ignore_index=True)"
   ]
  },
  {
   "cell_type": "code",
   "execution_count": 44,
   "metadata": {},
   "outputs": [],
   "source": [
    "# Elimino las columnas que considero innecesarias\n",
    "df_crew.drop(columns=[\"credit_id\",\"profile_path\"],inplace=True)"
   ]
  },
  {
   "cell_type": "code",
   "execution_count": 45,
   "metadata": {},
   "outputs": [],
   "source": [
    "# Elimino las columnas que considero innecesarias\n",
    "df_cast.drop(columns=[\"credit_id\",\"profile_path\"],inplace=True)"
   ]
  },
  {
   "cell_type": "code",
   "execution_count": 46,
   "metadata": {},
   "outputs": [
    {
     "data": {
      "text/plain": [
       "'\\nfor i in range(len(cast)-1):\\n    if i ==0:\\n        df_crew=cast[0]\\n    else:\\n        df_crew=pd.concat([df_crew,cast[i]],ignore_index=True)\\n'"
      ]
     },
     "execution_count": 46,
     "metadata": {},
     "output_type": "execute_result"
    }
   ],
   "source": [
    "# Iba a usar esto, resulto en tardar más de 20 min, busque la manera de optimizarlo mientras veia que tardaba\n",
    "# me canse, lo frene, y aplique la manera encontrada(la de arriba)\n",
    "'''\n",
    "for i in range(len(cast)-1):\n",
    "    if i ==0:\n",
    "        df_crew=cast[0]\n",
    "    else:\n",
    "        df_crew=pd.concat([df_crew,cast[i]],ignore_index=True)\n",
    "'''"
   ]
  },
  {
   "cell_type": "code",
   "execution_count": 47,
   "metadata": {},
   "outputs": [
    {
     "data": {
      "text/plain": [
       "4.0       26777\n",
       "5.0       25655\n",
       "3.0       25594\n",
       "6.0       24006\n",
       "2.0       22846\n",
       "          ...  \n",
       "344.0         1\n",
       "1099.0        1\n",
       "1098.0        1\n",
       "1097.0        1\n",
       "438.0         1\n",
       "Name: cast_id, Length: 574, dtype: int64"
      ]
     },
     "execution_count": 47,
     "metadata": {},
     "output_type": "execute_result"
    }
   ],
   "source": [
    "# Queria verificar que cast_id sirviera como columna id, pero justamente no lo hace.\n",
    "# Por lo tanto tal vez tenga otros usos para las personas originales de los datos\n",
    "# Pero para busquedas y comparaciones no se pueden usar.\n",
    "# (otro caso es el id, que si bien se repite, donde esta el original y no se debería repetir es en la tabla de datos, que seria la tabla dimensional)\n",
    "\n",
    "df_cast[\"cast_id\"].value_counts()"
   ]
  },
  {
   "cell_type": "code",
   "execution_count": 48,
   "metadata": {},
   "outputs": [
    {
     "data": {
      "text/html": [
       "<div>\n",
       "<style scoped>\n",
       "    .dataframe tbody tr th:only-of-type {\n",
       "        vertical-align: middle;\n",
       "    }\n",
       "\n",
       "    .dataframe tbody tr th {\n",
       "        vertical-align: top;\n",
       "    }\n",
       "\n",
       "    .dataframe thead th {\n",
       "        text-align: right;\n",
       "    }\n",
       "</style>\n",
       "<table border=\"1\" class=\"dataframe\">\n",
       "  <thead>\n",
       "    <tr style=\"text-align: right;\">\n",
       "      <th></th>\n",
       "      <th>department</th>\n",
       "      <th>gender</th>\n",
       "      <th>id</th>\n",
       "      <th>job</th>\n",
       "      <th>name</th>\n",
       "      <th>id_pelicula</th>\n",
       "    </tr>\n",
       "  </thead>\n",
       "  <tbody>\n",
       "    <tr>\n",
       "      <th>0</th>\n",
       "      <td>Directing</td>\n",
       "      <td>2.0</td>\n",
       "      <td>7879.0</td>\n",
       "      <td>Director</td>\n",
       "      <td>John Lasseter</td>\n",
       "      <td>862</td>\n",
       "    </tr>\n",
       "    <tr>\n",
       "      <th>1</th>\n",
       "      <td>Writing</td>\n",
       "      <td>2.0</td>\n",
       "      <td>12891.0</td>\n",
       "      <td>Screenplay</td>\n",
       "      <td>Joss Whedon</td>\n",
       "      <td>862</td>\n",
       "    </tr>\n",
       "    <tr>\n",
       "      <th>2</th>\n",
       "      <td>Writing</td>\n",
       "      <td>2.0</td>\n",
       "      <td>7.0</td>\n",
       "      <td>Screenplay</td>\n",
       "      <td>Andrew Stanton</td>\n",
       "      <td>862</td>\n",
       "    </tr>\n",
       "    <tr>\n",
       "      <th>3</th>\n",
       "      <td>Writing</td>\n",
       "      <td>2.0</td>\n",
       "      <td>12892.0</td>\n",
       "      <td>Screenplay</td>\n",
       "      <td>Joel Cohen</td>\n",
       "      <td>862</td>\n",
       "    </tr>\n",
       "    <tr>\n",
       "      <th>4</th>\n",
       "      <td>Writing</td>\n",
       "      <td>0.0</td>\n",
       "      <td>12893.0</td>\n",
       "      <td>Screenplay</td>\n",
       "      <td>Alec Sokolow</td>\n",
       "      <td>862</td>\n",
       "    </tr>\n",
       "    <tr>\n",
       "      <th>...</th>\n",
       "      <td>...</td>\n",
       "      <td>...</td>\n",
       "      <td>...</td>\n",
       "      <td>...</td>\n",
       "      <td>...</td>\n",
       "      <td>...</td>\n",
       "    </tr>\n",
       "    <tr>\n",
       "      <th>464309</th>\n",
       "      <td>Sound</td>\n",
       "      <td>0.0</td>\n",
       "      <td>549356.0</td>\n",
       "      <td>Original Music Composer</td>\n",
       "      <td>Richard McHugh</td>\n",
       "      <td>67758</td>\n",
       "    </tr>\n",
       "    <tr>\n",
       "      <th>464310</th>\n",
       "      <td>Camera</td>\n",
       "      <td>2.0</td>\n",
       "      <td>58818.0</td>\n",
       "      <td>Director of Photography</td>\n",
       "      <td>João Fernandes</td>\n",
       "      <td>67758</td>\n",
       "    </tr>\n",
       "    <tr>\n",
       "      <th>464311</th>\n",
       "      <td>Directing</td>\n",
       "      <td>0.0</td>\n",
       "      <td>1085341.0</td>\n",
       "      <td>Director</td>\n",
       "      <td>Yakov Protazanov</td>\n",
       "      <td>227506</td>\n",
       "    </tr>\n",
       "    <tr>\n",
       "      <th>464312</th>\n",
       "      <td>Production</td>\n",
       "      <td>2.0</td>\n",
       "      <td>1195656.0</td>\n",
       "      <td>Producer</td>\n",
       "      <td>Joseph N. Ermolieff</td>\n",
       "      <td>227506</td>\n",
       "    </tr>\n",
       "    <tr>\n",
       "      <th>464313</th>\n",
       "      <td>Directing</td>\n",
       "      <td>0.0</td>\n",
       "      <td>1344495.0</td>\n",
       "      <td>Director</td>\n",
       "      <td>Daisy Asquith</td>\n",
       "      <td>461257</td>\n",
       "    </tr>\n",
       "  </tbody>\n",
       "</table>\n",
       "<p>464314 rows × 6 columns</p>\n",
       "</div>"
      ],
      "text/plain": [
       "        department  gender         id                      job  \\\n",
       "0        Directing     2.0     7879.0                 Director   \n",
       "1          Writing     2.0    12891.0               Screenplay   \n",
       "2          Writing     2.0        7.0               Screenplay   \n",
       "3          Writing     2.0    12892.0               Screenplay   \n",
       "4          Writing     0.0    12893.0               Screenplay   \n",
       "...            ...     ...        ...                      ...   \n",
       "464309       Sound     0.0   549356.0  Original Music Composer   \n",
       "464310      Camera     2.0    58818.0  Director of Photography   \n",
       "464311   Directing     0.0  1085341.0                 Director   \n",
       "464312  Production     2.0  1195656.0                 Producer   \n",
       "464313   Directing     0.0  1344495.0                 Director   \n",
       "\n",
       "                       name  id_pelicula  \n",
       "0             John Lasseter          862  \n",
       "1               Joss Whedon          862  \n",
       "2            Andrew Stanton          862  \n",
       "3                Joel Cohen          862  \n",
       "4              Alec Sokolow          862  \n",
       "...                     ...          ...  \n",
       "464309       Richard McHugh        67758  \n",
       "464310       João Fernandes        67758  \n",
       "464311     Yakov Protazanov       227506  \n",
       "464312  Joseph N. Ermolieff       227506  \n",
       "464313        Daisy Asquith       461257  \n",
       "\n",
       "[464314 rows x 6 columns]"
      ]
     },
     "execution_count": 48,
     "metadata": {},
     "output_type": "execute_result"
    }
   ],
   "source": [
    "df_crew"
   ]
  },
  {
   "attachments": {},
   "cell_type": "markdown",
   "metadata": {},
   "source": [
    "## Creo un df copia luego de las transformaciones necesarias"
   ]
  },
  {
   "cell_type": "code",
   "execution_count": 49,
   "metadata": {},
   "outputs": [],
   "source": [
    "# Como todavía no sé cómo se va a trabajar la parte de machine learning\n",
    "# Pero esta limpieza de datos me parece necesaria\n",
    "# Voy a crear una copia del dataframe tal como esta ahora\n",
    "# (Todavía falta desanidar los datos, cuando lo haga veo si lo vuelvo a copiar)\n",
    "\n",
    "data2= data.copy()\n",
    "# Más adelante decido si sirve o no."
   ]
  },
  {
   "attachments": {},
   "cell_type": "markdown",
   "metadata": {},
   "source": [
    "Como tabla de hechos se nota que tiene id repetidos, no voy a tocar esto hasta desanidar pero por recomendación dijeron de directamente no hacer drop_duplicates."
   ]
  },
  {
   "cell_type": "code",
   "execution_count": 50,
   "metadata": {},
   "outputs": [
    {
     "data": {
      "text/plain": [
       "141971    3\n",
       "97995     2\n",
       "10991     2\n",
       "109962    2\n",
       "119916    2\n",
       "         ..\n",
       "40594     1\n",
       "23104     1\n",
       "37605     1\n",
       "91727     1\n",
       "461257    1\n",
       "Name: id_pelicula, Length: 45346, dtype: int64"
      ]
     },
     "execution_count": 50,
     "metadata": {},
     "output_type": "execute_result"
    }
   ],
   "source": [
    "data[\"id_pelicula\"].value_counts()"
   ]
  },
  {
   "cell_type": "code",
   "execution_count": 51,
   "metadata": {},
   "outputs": [
    {
     "data": {
      "text/html": [
       "<div>\n",
       "<style scoped>\n",
       "    .dataframe tbody tr th:only-of-type {\n",
       "        vertical-align: middle;\n",
       "    }\n",
       "\n",
       "    .dataframe tbody tr th {\n",
       "        vertical-align: top;\n",
       "    }\n",
       "\n",
       "    .dataframe thead th {\n",
       "        text-align: right;\n",
       "    }\n",
       "</style>\n",
       "<table border=\"1\" class=\"dataframe\">\n",
       "  <thead>\n",
       "    <tr style=\"text-align: right;\">\n",
       "      <th></th>\n",
       "      <th>id_pelicula</th>\n",
       "      <th>title</th>\n",
       "      <th>overview</th>\n",
       "      <th>status</th>\n",
       "      <th>runtime</th>\n",
       "      <th>popularity</th>\n",
       "      <th>belongs_to_collection</th>\n",
       "      <th>tagline</th>\n",
       "      <th>genres</th>\n",
       "      <th>original_language</th>\n",
       "      <th>spoken_languages</th>\n",
       "      <th>vote_average</th>\n",
       "      <th>vote_count</th>\n",
       "      <th>release_date</th>\n",
       "      <th>release_year</th>\n",
       "      <th>production_countries</th>\n",
       "      <th>production_companies</th>\n",
       "      <th>budget</th>\n",
       "      <th>revenue</th>\n",
       "      <th>return</th>\n",
       "    </tr>\n",
       "  </thead>\n",
       "  <tbody>\n",
       "    <tr>\n",
       "      <th>13261</th>\n",
       "      <td>141971</td>\n",
       "      <td>Blackout</td>\n",
       "      <td>Recovering from a nail gun shot to the head an...</td>\n",
       "      <td>Released</td>\n",
       "      <td>108.0</td>\n",
       "      <td>0.411949</td>\n",
       "      <td>NaN</td>\n",
       "      <td>Which one is the first to return - memory or t...</td>\n",
       "      <td>[{'id': 53, 'name': 'Thriller'}, {'id': 9648, ...</td>\n",
       "      <td>fi</td>\n",
       "      <td>[{'iso_639_1': 'fi', 'name': 'suomi'}]</td>\n",
       "      <td>6.7</td>\n",
       "      <td>3.0</td>\n",
       "      <td>2008-12-26</td>\n",
       "      <td>2008.0</td>\n",
       "      <td>[{'iso_3166_1': 'FI', 'name': 'Finland'}]</td>\n",
       "      <td>[{'name': 'Filmiteollisuus Fine', 'id': 5166}]</td>\n",
       "      <td>0.0</td>\n",
       "      <td>0.0</td>\n",
       "      <td>0.0</td>\n",
       "    </tr>\n",
       "    <tr>\n",
       "      <th>13375</th>\n",
       "      <td>141971</td>\n",
       "      <td>Blackout</td>\n",
       "      <td>Recovering from a nail gun shot to the head an...</td>\n",
       "      <td>Released</td>\n",
       "      <td>108.0</td>\n",
       "      <td>0.411949</td>\n",
       "      <td>NaN</td>\n",
       "      <td>Which one is the first to return - memory or t...</td>\n",
       "      <td>[{'id': 53, 'name': 'Thriller'}, {'id': 9648, ...</td>\n",
       "      <td>fi</td>\n",
       "      <td>[{'iso_639_1': 'fi', 'name': 'suomi'}]</td>\n",
       "      <td>6.7</td>\n",
       "      <td>3.0</td>\n",
       "      <td>2008-12-26</td>\n",
       "      <td>2008.0</td>\n",
       "      <td>[{'iso_3166_1': 'FI', 'name': 'Finland'}]</td>\n",
       "      <td>[{'name': 'Filmiteollisuus Fine', 'id': 5166}]</td>\n",
       "      <td>0.0</td>\n",
       "      <td>0.0</td>\n",
       "      <td>0.0</td>\n",
       "    </tr>\n",
       "    <tr>\n",
       "      <th>16764</th>\n",
       "      <td>141971</td>\n",
       "      <td>Blackout</td>\n",
       "      <td>Recovering from a nail gun shot to the head an...</td>\n",
       "      <td>Released</td>\n",
       "      <td>108.0</td>\n",
       "      <td>0.411949</td>\n",
       "      <td>NaN</td>\n",
       "      <td>Which one is the first to return - memory or t...</td>\n",
       "      <td>[{'id': 53, 'name': 'Thriller'}, {'id': 9648, ...</td>\n",
       "      <td>fi</td>\n",
       "      <td>[{'iso_639_1': 'fi', 'name': 'suomi'}]</td>\n",
       "      <td>6.7</td>\n",
       "      <td>3.0</td>\n",
       "      <td>2008-12-26</td>\n",
       "      <td>2008.0</td>\n",
       "      <td>[{'iso_3166_1': 'FI', 'name': 'Finland'}]</td>\n",
       "      <td>[{'name': 'Filmiteollisuus Fine', 'id': 5166}]</td>\n",
       "      <td>0.0</td>\n",
       "      <td>0.0</td>\n",
       "      <td>0.0</td>\n",
       "    </tr>\n",
       "  </tbody>\n",
       "</table>\n",
       "</div>"
      ],
      "text/plain": [
       "       id_pelicula     title  \\\n",
       "13261       141971  Blackout   \n",
       "13375       141971  Blackout   \n",
       "16764       141971  Blackout   \n",
       "\n",
       "                                                overview    status  runtime  \\\n",
       "13261  Recovering from a nail gun shot to the head an...  Released    108.0   \n",
       "13375  Recovering from a nail gun shot to the head an...  Released    108.0   \n",
       "16764  Recovering from a nail gun shot to the head an...  Released    108.0   \n",
       "\n",
       "      popularity belongs_to_collection  \\\n",
       "13261   0.411949                   NaN   \n",
       "13375   0.411949                   NaN   \n",
       "16764   0.411949                   NaN   \n",
       "\n",
       "                                                 tagline  \\\n",
       "13261  Which one is the first to return - memory or t...   \n",
       "13375  Which one is the first to return - memory or t...   \n",
       "16764  Which one is the first to return - memory or t...   \n",
       "\n",
       "                                                  genres original_language  \\\n",
       "13261  [{'id': 53, 'name': 'Thriller'}, {'id': 9648, ...                fi   \n",
       "13375  [{'id': 53, 'name': 'Thriller'}, {'id': 9648, ...                fi   \n",
       "16764  [{'id': 53, 'name': 'Thriller'}, {'id': 9648, ...                fi   \n",
       "\n",
       "                             spoken_languages  vote_average  vote_count  \\\n",
       "13261  [{'iso_639_1': 'fi', 'name': 'suomi'}]           6.7         3.0   \n",
       "13375  [{'iso_639_1': 'fi', 'name': 'suomi'}]           6.7         3.0   \n",
       "16764  [{'iso_639_1': 'fi', 'name': 'suomi'}]           6.7         3.0   \n",
       "\n",
       "      release_date  release_year                       production_countries  \\\n",
       "13261   2008-12-26        2008.0  [{'iso_3166_1': 'FI', 'name': 'Finland'}]   \n",
       "13375   2008-12-26        2008.0  [{'iso_3166_1': 'FI', 'name': 'Finland'}]   \n",
       "16764   2008-12-26        2008.0  [{'iso_3166_1': 'FI', 'name': 'Finland'}]   \n",
       "\n",
       "                                 production_companies  budget  revenue  return  \n",
       "13261  [{'name': 'Filmiteollisuus Fine', 'id': 5166}]     0.0      0.0     0.0  \n",
       "13375  [{'name': 'Filmiteollisuus Fine', 'id': 5166}]     0.0      0.0     0.0  \n",
       "16764  [{'name': 'Filmiteollisuus Fine', 'id': 5166}]     0.0      0.0     0.0  "
      ]
     },
     "execution_count": 51,
     "metadata": {},
     "output_type": "execute_result"
    }
   ],
   "source": [
    "data[data[\"id_pelicula\"]==141971]"
   ]
  },
  {
   "attachments": {},
   "cell_type": "markdown",
   "metadata": {},
   "source": [
    "## Es hora de desanidar los datos"
   ]
  },
  {
   "attachments": {},
   "cell_type": "markdown",
   "metadata": {},
   "source": [
    "Observando las columnas nuevamente, ya habiendo desanidado la otra tabla voy a desanidar todas las columnas de esta tabla, pero solo voy a utilizar aquella que contenga el dato para el cual originalmente era esa columna que se encuentra anidada"
   ]
  },
  {
   "cell_type": "code",
   "execution_count": 52,
   "metadata": {},
   "outputs": [
    {
     "data": {
      "text/html": [
       "<div>\n",
       "<style scoped>\n",
       "    .dataframe tbody tr th:only-of-type {\n",
       "        vertical-align: middle;\n",
       "    }\n",
       "\n",
       "    .dataframe tbody tr th {\n",
       "        vertical-align: top;\n",
       "    }\n",
       "\n",
       "    .dataframe thead th {\n",
       "        text-align: right;\n",
       "    }\n",
       "</style>\n",
       "<table border=\"1\" class=\"dataframe\">\n",
       "  <thead>\n",
       "    <tr style=\"text-align: right;\">\n",
       "      <th></th>\n",
       "      <th>id_pelicula</th>\n",
       "      <th>title</th>\n",
       "      <th>overview</th>\n",
       "      <th>status</th>\n",
       "      <th>runtime</th>\n",
       "      <th>popularity</th>\n",
       "      <th>belongs_to_collection</th>\n",
       "      <th>tagline</th>\n",
       "      <th>genres</th>\n",
       "      <th>original_language</th>\n",
       "      <th>spoken_languages</th>\n",
       "      <th>vote_average</th>\n",
       "      <th>vote_count</th>\n",
       "      <th>release_date</th>\n",
       "      <th>release_year</th>\n",
       "      <th>production_countries</th>\n",
       "      <th>production_companies</th>\n",
       "      <th>budget</th>\n",
       "      <th>revenue</th>\n",
       "      <th>return</th>\n",
       "    </tr>\n",
       "  </thead>\n",
       "  <tbody>\n",
       "    <tr>\n",
       "      <th>0</th>\n",
       "      <td>862</td>\n",
       "      <td>Toy Story</td>\n",
       "      <td>Led by Woody, Andy's toys live happily in his ...</td>\n",
       "      <td>Released</td>\n",
       "      <td>81.0</td>\n",
       "      <td>21.946943</td>\n",
       "      <td>{'id': 10194, 'name': 'Toy Story Collection', ...</td>\n",
       "      <td>NaN</td>\n",
       "      <td>[{'id': 16, 'name': 'Animation'}, {'id': 35, '...</td>\n",
       "      <td>en</td>\n",
       "      <td>[{'iso_639_1': 'en', 'name': 'English'}]</td>\n",
       "      <td>7.7</td>\n",
       "      <td>5415.0</td>\n",
       "      <td>1995-10-30</td>\n",
       "      <td>1995.0</td>\n",
       "      <td>[{'iso_3166_1': 'US', 'name': 'United States o...</td>\n",
       "      <td>[{'name': 'Pixar Animation Studios', 'id': 3}]</td>\n",
       "      <td>30000000.0</td>\n",
       "      <td>373554033.0</td>\n",
       "      <td>12.451801</td>\n",
       "    </tr>\n",
       "    <tr>\n",
       "      <th>1</th>\n",
       "      <td>8844</td>\n",
       "      <td>Jumanji</td>\n",
       "      <td>When siblings Judy and Peter discover an encha...</td>\n",
       "      <td>Released</td>\n",
       "      <td>104.0</td>\n",
       "      <td>17.015539</td>\n",
       "      <td>NaN</td>\n",
       "      <td>Roll the dice and unleash the excitement!</td>\n",
       "      <td>[{'id': 12, 'name': 'Adventure'}, {'id': 14, '...</td>\n",
       "      <td>en</td>\n",
       "      <td>[{'iso_639_1': 'en', 'name': 'English'}, {'iso...</td>\n",
       "      <td>6.9</td>\n",
       "      <td>2413.0</td>\n",
       "      <td>1995-12-15</td>\n",
       "      <td>1995.0</td>\n",
       "      <td>[{'iso_3166_1': 'US', 'name': 'United States o...</td>\n",
       "      <td>[{'name': 'TriStar Pictures', 'id': 559}, {'na...</td>\n",
       "      <td>65000000.0</td>\n",
       "      <td>262797249.0</td>\n",
       "      <td>4.043035</td>\n",
       "    </tr>\n",
       "    <tr>\n",
       "      <th>2</th>\n",
       "      <td>15602</td>\n",
       "      <td>Grumpier Old Men</td>\n",
       "      <td>A family wedding reignites the ancient feud be...</td>\n",
       "      <td>Released</td>\n",
       "      <td>101.0</td>\n",
       "      <td>11.7129</td>\n",
       "      <td>{'id': 119050, 'name': 'Grumpy Old Men Collect...</td>\n",
       "      <td>Still Yelling. Still Fighting. Still Ready for...</td>\n",
       "      <td>[{'id': 10749, 'name': 'Romance'}, {'id': 35, ...</td>\n",
       "      <td>en</td>\n",
       "      <td>[{'iso_639_1': 'en', 'name': 'English'}]</td>\n",
       "      <td>6.5</td>\n",
       "      <td>92.0</td>\n",
       "      <td>1995-12-22</td>\n",
       "      <td>1995.0</td>\n",
       "      <td>[{'iso_3166_1': 'US', 'name': 'United States o...</td>\n",
       "      <td>[{'name': 'Warner Bros.', 'id': 6194}, {'name'...</td>\n",
       "      <td>0.0</td>\n",
       "      <td>0.0</td>\n",
       "      <td>0.000000</td>\n",
       "    </tr>\n",
       "    <tr>\n",
       "      <th>3</th>\n",
       "      <td>31357</td>\n",
       "      <td>Waiting to Exhale</td>\n",
       "      <td>Cheated on, mistreated and stepped on, the wom...</td>\n",
       "      <td>Released</td>\n",
       "      <td>127.0</td>\n",
       "      <td>3.859495</td>\n",
       "      <td>NaN</td>\n",
       "      <td>Friends are the people who let you be yourself...</td>\n",
       "      <td>[{'id': 35, 'name': 'Comedy'}, {'id': 18, 'nam...</td>\n",
       "      <td>en</td>\n",
       "      <td>[{'iso_639_1': 'en', 'name': 'English'}]</td>\n",
       "      <td>6.1</td>\n",
       "      <td>34.0</td>\n",
       "      <td>1995-12-22</td>\n",
       "      <td>1995.0</td>\n",
       "      <td>[{'iso_3166_1': 'US', 'name': 'United States o...</td>\n",
       "      <td>[{'name': 'Twentieth Century Fox Film Corporat...</td>\n",
       "      <td>16000000.0</td>\n",
       "      <td>81452156.0</td>\n",
       "      <td>5.090760</td>\n",
       "    </tr>\n",
       "    <tr>\n",
       "      <th>4</th>\n",
       "      <td>11862</td>\n",
       "      <td>Father of the Bride Part II</td>\n",
       "      <td>Just when George Banks has recovered from his ...</td>\n",
       "      <td>Released</td>\n",
       "      <td>106.0</td>\n",
       "      <td>8.387519</td>\n",
       "      <td>{'id': 96871, 'name': 'Father of the Bride Col...</td>\n",
       "      <td>Just When His World Is Back To Normal... He's ...</td>\n",
       "      <td>[{'id': 35, 'name': 'Comedy'}]</td>\n",
       "      <td>en</td>\n",
       "      <td>[{'iso_639_1': 'en', 'name': 'English'}]</td>\n",
       "      <td>5.7</td>\n",
       "      <td>173.0</td>\n",
       "      <td>1995-02-10</td>\n",
       "      <td>1995.0</td>\n",
       "      <td>[{'iso_3166_1': 'US', 'name': 'United States o...</td>\n",
       "      <td>[{'name': 'Sandollar Productions', 'id': 5842}...</td>\n",
       "      <td>0.0</td>\n",
       "      <td>76578911.0</td>\n",
       "      <td>0.000000</td>\n",
       "    </tr>\n",
       "    <tr>\n",
       "      <th>...</th>\n",
       "      <td>...</td>\n",
       "      <td>...</td>\n",
       "      <td>...</td>\n",
       "      <td>...</td>\n",
       "      <td>...</td>\n",
       "      <td>...</td>\n",
       "      <td>...</td>\n",
       "      <td>...</td>\n",
       "      <td>...</td>\n",
       "      <td>...</td>\n",
       "      <td>...</td>\n",
       "      <td>...</td>\n",
       "      <td>...</td>\n",
       "      <td>...</td>\n",
       "      <td>...</td>\n",
       "      <td>...</td>\n",
       "      <td>...</td>\n",
       "      <td>...</td>\n",
       "      <td>...</td>\n",
       "      <td>...</td>\n",
       "    </tr>\n",
       "    <tr>\n",
       "      <th>45460</th>\n",
       "      <td>30840</td>\n",
       "      <td>Robin Hood</td>\n",
       "      <td>Yet another version of the classic epic, with ...</td>\n",
       "      <td>Released</td>\n",
       "      <td>104.0</td>\n",
       "      <td>5.683753</td>\n",
       "      <td>NaN</td>\n",
       "      <td>NaN</td>\n",
       "      <td>[{'id': 18, 'name': 'Drama'}, {'id': 28, 'name...</td>\n",
       "      <td>en</td>\n",
       "      <td>[{'iso_639_1': 'en', 'name': 'English'}]</td>\n",
       "      <td>5.7</td>\n",
       "      <td>26.0</td>\n",
       "      <td>1991-05-13</td>\n",
       "      <td>1991.0</td>\n",
       "      <td>[{'iso_3166_1': 'CA', 'name': 'Canada'}, {'iso...</td>\n",
       "      <td>[{'name': 'Westdeutscher Rundfunk (WDR)', 'id'...</td>\n",
       "      <td>0.0</td>\n",
       "      <td>0.0</td>\n",
       "      <td>0.000000</td>\n",
       "    </tr>\n",
       "    <tr>\n",
       "      <th>45462</th>\n",
       "      <td>111109</td>\n",
       "      <td>Century of Birthing</td>\n",
       "      <td>An artist struggles to finish his work while a...</td>\n",
       "      <td>Released</td>\n",
       "      <td>360.0</td>\n",
       "      <td>0.178241</td>\n",
       "      <td>NaN</td>\n",
       "      <td>NaN</td>\n",
       "      <td>[{'id': 18, 'name': 'Drama'}]</td>\n",
       "      <td>tl</td>\n",
       "      <td>[{'iso_639_1': 'tl', 'name': ''}]</td>\n",
       "      <td>9.0</td>\n",
       "      <td>3.0</td>\n",
       "      <td>2011-11-17</td>\n",
       "      <td>2011.0</td>\n",
       "      <td>[{'iso_3166_1': 'PH', 'name': 'Philippines'}]</td>\n",
       "      <td>[{'name': 'Sine Olivia', 'id': 19653}]</td>\n",
       "      <td>0.0</td>\n",
       "      <td>0.0</td>\n",
       "      <td>0.000000</td>\n",
       "    </tr>\n",
       "    <tr>\n",
       "      <th>45463</th>\n",
       "      <td>67758</td>\n",
       "      <td>Betrayal</td>\n",
       "      <td>When one of her hits goes wrong, a professiona...</td>\n",
       "      <td>Released</td>\n",
       "      <td>90.0</td>\n",
       "      <td>0.903007</td>\n",
       "      <td>NaN</td>\n",
       "      <td>A deadly game of wits.</td>\n",
       "      <td>[{'id': 28, 'name': 'Action'}, {'id': 18, 'nam...</td>\n",
       "      <td>en</td>\n",
       "      <td>[{'iso_639_1': 'en', 'name': 'English'}]</td>\n",
       "      <td>3.8</td>\n",
       "      <td>6.0</td>\n",
       "      <td>2003-08-01</td>\n",
       "      <td>2003.0</td>\n",
       "      <td>[{'iso_3166_1': 'US', 'name': 'United States o...</td>\n",
       "      <td>[{'name': 'American World Pictures', 'id': 6165}]</td>\n",
       "      <td>0.0</td>\n",
       "      <td>0.0</td>\n",
       "      <td>0.000000</td>\n",
       "    </tr>\n",
       "    <tr>\n",
       "      <th>45464</th>\n",
       "      <td>227506</td>\n",
       "      <td>Satan Triumphant</td>\n",
       "      <td>In a small town live two brothers, one a minis...</td>\n",
       "      <td>Released</td>\n",
       "      <td>87.0</td>\n",
       "      <td>0.003503</td>\n",
       "      <td>NaN</td>\n",
       "      <td>NaN</td>\n",
       "      <td>[]</td>\n",
       "      <td>en</td>\n",
       "      <td>[]</td>\n",
       "      <td>0.0</td>\n",
       "      <td>0.0</td>\n",
       "      <td>1917-10-21</td>\n",
       "      <td>1917.0</td>\n",
       "      <td>[{'iso_3166_1': 'RU', 'name': 'Russia'}]</td>\n",
       "      <td>[{'name': 'Yermoliev', 'id': 88753}]</td>\n",
       "      <td>0.0</td>\n",
       "      <td>0.0</td>\n",
       "      <td>0.000000</td>\n",
       "    </tr>\n",
       "    <tr>\n",
       "      <th>45465</th>\n",
       "      <td>461257</td>\n",
       "      <td>Queerama</td>\n",
       "      <td>50 years after decriminalisation of homosexual...</td>\n",
       "      <td>Released</td>\n",
       "      <td>75.0</td>\n",
       "      <td>0.163015</td>\n",
       "      <td>NaN</td>\n",
       "      <td>NaN</td>\n",
       "      <td>[]</td>\n",
       "      <td>en</td>\n",
       "      <td>[{'iso_639_1': 'en', 'name': 'English'}]</td>\n",
       "      <td>0.0</td>\n",
       "      <td>0.0</td>\n",
       "      <td>2017-06-09</td>\n",
       "      <td>2017.0</td>\n",
       "      <td>[{'iso_3166_1': 'GB', 'name': 'United Kingdom'}]</td>\n",
       "      <td>[]</td>\n",
       "      <td>0.0</td>\n",
       "      <td>0.0</td>\n",
       "      <td>0.000000</td>\n",
       "    </tr>\n",
       "  </tbody>\n",
       "</table>\n",
       "<p>45376 rows × 20 columns</p>\n",
       "</div>"
      ],
      "text/plain": [
       "       id_pelicula                        title  \\\n",
       "0              862                    Toy Story   \n",
       "1             8844                      Jumanji   \n",
       "2            15602             Grumpier Old Men   \n",
       "3            31357            Waiting to Exhale   \n",
       "4            11862  Father of the Bride Part II   \n",
       "...            ...                          ...   \n",
       "45460        30840                   Robin Hood   \n",
       "45462       111109          Century of Birthing   \n",
       "45463        67758                     Betrayal   \n",
       "45464       227506             Satan Triumphant   \n",
       "45465       461257                     Queerama   \n",
       "\n",
       "                                                overview    status  runtime  \\\n",
       "0      Led by Woody, Andy's toys live happily in his ...  Released     81.0   \n",
       "1      When siblings Judy and Peter discover an encha...  Released    104.0   \n",
       "2      A family wedding reignites the ancient feud be...  Released    101.0   \n",
       "3      Cheated on, mistreated and stepped on, the wom...  Released    127.0   \n",
       "4      Just when George Banks has recovered from his ...  Released    106.0   \n",
       "...                                                  ...       ...      ...   \n",
       "45460  Yet another version of the classic epic, with ...  Released    104.0   \n",
       "45462  An artist struggles to finish his work while a...  Released    360.0   \n",
       "45463  When one of her hits goes wrong, a professiona...  Released     90.0   \n",
       "45464  In a small town live two brothers, one a minis...  Released     87.0   \n",
       "45465  50 years after decriminalisation of homosexual...  Released     75.0   \n",
       "\n",
       "      popularity                              belongs_to_collection  \\\n",
       "0      21.946943  {'id': 10194, 'name': 'Toy Story Collection', ...   \n",
       "1      17.015539                                                NaN   \n",
       "2        11.7129  {'id': 119050, 'name': 'Grumpy Old Men Collect...   \n",
       "3       3.859495                                                NaN   \n",
       "4       8.387519  {'id': 96871, 'name': 'Father of the Bride Col...   \n",
       "...          ...                                                ...   \n",
       "45460   5.683753                                                NaN   \n",
       "45462   0.178241                                                NaN   \n",
       "45463   0.903007                                                NaN   \n",
       "45464   0.003503                                                NaN   \n",
       "45465   0.163015                                                NaN   \n",
       "\n",
       "                                                 tagline  \\\n",
       "0                                                    NaN   \n",
       "1              Roll the dice and unleash the excitement!   \n",
       "2      Still Yelling. Still Fighting. Still Ready for...   \n",
       "3      Friends are the people who let you be yourself...   \n",
       "4      Just When His World Is Back To Normal... He's ...   \n",
       "...                                                  ...   \n",
       "45460                                                NaN   \n",
       "45462                                                NaN   \n",
       "45463                             A deadly game of wits.   \n",
       "45464                                                NaN   \n",
       "45465                                                NaN   \n",
       "\n",
       "                                                  genres original_language  \\\n",
       "0      [{'id': 16, 'name': 'Animation'}, {'id': 35, '...                en   \n",
       "1      [{'id': 12, 'name': 'Adventure'}, {'id': 14, '...                en   \n",
       "2      [{'id': 10749, 'name': 'Romance'}, {'id': 35, ...                en   \n",
       "3      [{'id': 35, 'name': 'Comedy'}, {'id': 18, 'nam...                en   \n",
       "4                         [{'id': 35, 'name': 'Comedy'}]                en   \n",
       "...                                                  ...               ...   \n",
       "45460  [{'id': 18, 'name': 'Drama'}, {'id': 28, 'name...                en   \n",
       "45462                      [{'id': 18, 'name': 'Drama'}]                tl   \n",
       "45463  [{'id': 28, 'name': 'Action'}, {'id': 18, 'nam...                en   \n",
       "45464                                                 []                en   \n",
       "45465                                                 []                en   \n",
       "\n",
       "                                        spoken_languages  vote_average  \\\n",
       "0               [{'iso_639_1': 'en', 'name': 'English'}]           7.7   \n",
       "1      [{'iso_639_1': 'en', 'name': 'English'}, {'iso...           6.9   \n",
       "2               [{'iso_639_1': 'en', 'name': 'English'}]           6.5   \n",
       "3               [{'iso_639_1': 'en', 'name': 'English'}]           6.1   \n",
       "4               [{'iso_639_1': 'en', 'name': 'English'}]           5.7   \n",
       "...                                                  ...           ...   \n",
       "45460           [{'iso_639_1': 'en', 'name': 'English'}]           5.7   \n",
       "45462                  [{'iso_639_1': 'tl', 'name': ''}]           9.0   \n",
       "45463           [{'iso_639_1': 'en', 'name': 'English'}]           3.8   \n",
       "45464                                                 []           0.0   \n",
       "45465           [{'iso_639_1': 'en', 'name': 'English'}]           0.0   \n",
       "\n",
       "       vote_count release_date  release_year  \\\n",
       "0          5415.0   1995-10-30        1995.0   \n",
       "1          2413.0   1995-12-15        1995.0   \n",
       "2            92.0   1995-12-22        1995.0   \n",
       "3            34.0   1995-12-22        1995.0   \n",
       "4           173.0   1995-02-10        1995.0   \n",
       "...           ...          ...           ...   \n",
       "45460        26.0   1991-05-13        1991.0   \n",
       "45462         3.0   2011-11-17        2011.0   \n",
       "45463         6.0   2003-08-01        2003.0   \n",
       "45464         0.0   1917-10-21        1917.0   \n",
       "45465         0.0   2017-06-09        2017.0   \n",
       "\n",
       "                                    production_countries  \\\n",
       "0      [{'iso_3166_1': 'US', 'name': 'United States o...   \n",
       "1      [{'iso_3166_1': 'US', 'name': 'United States o...   \n",
       "2      [{'iso_3166_1': 'US', 'name': 'United States o...   \n",
       "3      [{'iso_3166_1': 'US', 'name': 'United States o...   \n",
       "4      [{'iso_3166_1': 'US', 'name': 'United States o...   \n",
       "...                                                  ...   \n",
       "45460  [{'iso_3166_1': 'CA', 'name': 'Canada'}, {'iso...   \n",
       "45462      [{'iso_3166_1': 'PH', 'name': 'Philippines'}]   \n",
       "45463  [{'iso_3166_1': 'US', 'name': 'United States o...   \n",
       "45464           [{'iso_3166_1': 'RU', 'name': 'Russia'}]   \n",
       "45465   [{'iso_3166_1': 'GB', 'name': 'United Kingdom'}]   \n",
       "\n",
       "                                    production_companies      budget  \\\n",
       "0         [{'name': 'Pixar Animation Studios', 'id': 3}]  30000000.0   \n",
       "1      [{'name': 'TriStar Pictures', 'id': 559}, {'na...  65000000.0   \n",
       "2      [{'name': 'Warner Bros.', 'id': 6194}, {'name'...         0.0   \n",
       "3      [{'name': 'Twentieth Century Fox Film Corporat...  16000000.0   \n",
       "4      [{'name': 'Sandollar Productions', 'id': 5842}...         0.0   \n",
       "...                                                  ...         ...   \n",
       "45460  [{'name': 'Westdeutscher Rundfunk (WDR)', 'id'...         0.0   \n",
       "45462             [{'name': 'Sine Olivia', 'id': 19653}]         0.0   \n",
       "45463  [{'name': 'American World Pictures', 'id': 6165}]         0.0   \n",
       "45464               [{'name': 'Yermoliev', 'id': 88753}]         0.0   \n",
       "45465                                                 []         0.0   \n",
       "\n",
       "           revenue     return  \n",
       "0      373554033.0  12.451801  \n",
       "1      262797249.0   4.043035  \n",
       "2              0.0   0.000000  \n",
       "3       81452156.0   5.090760  \n",
       "4       76578911.0   0.000000  \n",
       "...            ...        ...  \n",
       "45460          0.0   0.000000  \n",
       "45462          0.0   0.000000  \n",
       "45463          0.0   0.000000  \n",
       "45464          0.0   0.000000  \n",
       "45465          0.0   0.000000  \n",
       "\n",
       "[45376 rows x 20 columns]"
      ]
     },
     "execution_count": 52,
     "metadata": {},
     "output_type": "execute_result"
    }
   ],
   "source": [
    "data"
   ]
  },
  {
   "cell_type": "code",
   "execution_count": 53,
   "metadata": {},
   "outputs": [
    {
     "data": {
      "text/plain": [
       "array([\"{'id': 10194, 'name': 'Toy Story Collection', 'poster_path': '/7G9915LfUQ2lVfwMEEhDsn3kT4B.jpg', 'backdrop_path': '/9FBwqcd9IRruEDUrTdcaafOMKUq.jpg'}\",\n",
       "       nan,\n",
       "       \"{'id': 119050, 'name': 'Grumpy Old Men Collection', 'poster_path': '/nLvUdqgPgm3F85NMCii9gVFUcet.jpg', 'backdrop_path': '/hypTnLot2z8wpFS7qwsQHW1uV8u.jpg'}\",\n",
       "       ...,\n",
       "       \"{'id': 148603, 'name': 'Ducobu Collection', 'poster_path': '/rd7AWZUy2QFPIblNWToVmdfXQcA.jpg', 'backdrop_path': '/7mzKmoIrvGapvsSbAVlX4HtCnFj.jpg'}\",\n",
       "       \"{'id': 152918, 'name': 'Mister Blot Collection', 'poster_path': '/44PYEwwjGts8pAob59RHd6zlkKc.jpg', 'backdrop_path': '/5uoPsNiFpUYNamSGqE8okN27VRK.jpg'}\",\n",
       "       \"{'id': 200641, 'name': 'Red Lotus Collection', 'poster_path': '/yf9Eod9ANXyHTzDpAxz9ezgvlL4.jpg', 'backdrop_path': '/3fhHbLeO3DqdHvgHg5szs399eBb.jpg'}\"],\n",
       "      dtype=object)"
      ]
     },
     "execution_count": 53,
     "metadata": {},
     "output_type": "execute_result"
    }
   ],
   "source": [
    "data[\"belongs_to_collection\"].unique()"
   ]
  },
  {
   "cell_type": "code",
   "execution_count": 54,
   "metadata": {},
   "outputs": [],
   "source": [
    "# traigo la función anteriormente usada\n",
    "# Cambio en cada una la columna a desanidar\n",
    "# En este caso voy a terminar con dos columnas id, asi que voy a renombrar el id de pelicula como \"id_pelicula\" (realmente no se si siquiera lo necesitemos, pero por si acaso)\n",
    "# Note que me salia error y se me ocurrió que podía ser debido a que en este caso las columnas tienen valores vacios.\n",
    "# Asi que ahora le agrego a las funciones que es caso de vacios regrese un dataframe vacio.\n",
    "\n",
    "def desanidar_belongs(row):\n",
    "    cast_data=row['belongs_to_collection']\n",
    "    if np.all(pd.isna(cast_data)) or cast_data == '':\n",
    "        return pd.DataFrame()  # Retorna un DataFrame vacío si la celda está vacía\n",
    "    cast_data = ast.literal_eval(cast_data)\n",
    "    desanidado = pd.json_normalize(cast_data)\n",
    "    desanidado['id_pelicula'] = row['id_pelicula']\n",
    "    desanidado['revenue']=row['revenue']\n",
    "    desanidado['budget']=row['budget']\n",
    "    return desanidado\n",
    "\n",
    "def desanidar_genres(row):\n",
    "    cast_data=row['genres']\n",
    "    if np.all(pd.isna(cast_data)) or cast_data == '':\n",
    "        return pd.DataFrame()  # Retorna un DataFrame vacío si la celda está vacía\n",
    "    cast_data = ast.literal_eval(cast_data)\n",
    "    desanidado = pd.json_normalize(cast_data)\n",
    "    desanidado['id_pelicula'] = row['id_pelicula']\n",
    "    return desanidado\n",
    "\n",
    "def desanidar_spoken_languages(row):\n",
    "    cast_data=row['spoken_languages']\n",
    "    if np.all(pd.isna(cast_data))  or cast_data == '':\n",
    "        return pd.DataFrame()  # Retorna un DataFrame vacío si la celda está vacía\n",
    "    cast_data = ast.literal_eval(cast_data)\n",
    "    desanidado = pd.json_normalize(cast_data)\n",
    "    desanidado['id_pelicula'] = row['id_pelicula']\n",
    "    return desanidado\n",
    "\n",
    "def desanidar_production_countries(row):\n",
    "    cast_data=row['production_countries']\n",
    "    if np.all(pd.isna(cast_data)) or cast_data == '':\n",
    "        return pd.DataFrame()  # Retorna un DataFrame vacío si la celda está vacía\n",
    "    cast_data = ast.literal_eval(cast_data)\n",
    "    desanidado = pd.json_normalize(cast_data)\n",
    "    desanidado['id_pelicula'] = row['id_pelicula']\n",
    "    return desanidado\n",
    "\n",
    "def desanidar_production_companies(row):\n",
    "    cast_data=row['production_companies']\n",
    "    if np.all(pd.isna(cast_data))  or cast_data == '':\n",
    "        return pd.DataFrame()  # Retorna un DataFrame vacío si la celda está vacía\n",
    "    cast_data = ast.literal_eval(row['production_companies'])\n",
    "    desanidado = pd.json_normalize(cast_data)\n",
    "    desanidado['id_pelicula'] = row['id_pelicula']\n",
    "    desanidado['revenue']=row['revenue']\n",
    "    return desanidado"
   ]
  },
  {
   "attachments": {},
   "cell_type": "markdown",
   "metadata": {},
   "source": [
    "Desanido todas las columnas"
   ]
  },
  {
   "cell_type": "code",
   "execution_count": 55,
   "metadata": {},
   "outputs": [],
   "source": [
    "des_belongs=data.apply(desanidar_belongs, axis=1).reset_index(drop=True)"
   ]
  },
  {
   "cell_type": "code",
   "execution_count": 56,
   "metadata": {},
   "outputs": [],
   "source": [
    "des_genres=data.apply(desanidar_genres, axis=1).reset_index(drop=True)"
   ]
  },
  {
   "cell_type": "code",
   "execution_count": 57,
   "metadata": {},
   "outputs": [],
   "source": [
    "des_spoken_languages=data.apply(desanidar_spoken_languages, axis=1).reset_index(drop=True)"
   ]
  },
  {
   "cell_type": "code",
   "execution_count": 58,
   "metadata": {},
   "outputs": [],
   "source": [
    "des_production_countries=data.apply(desanidar_production_countries, axis=1).reset_index(drop=True)"
   ]
  },
  {
   "cell_type": "code",
   "execution_count": 59,
   "metadata": {},
   "outputs": [],
   "source": [
    "des_production_companies=data.apply(desanidar_production_companies, axis=1).reset_index(drop=True)"
   ]
  },
  {
   "attachments": {},
   "cell_type": "markdown",
   "metadata": {},
   "source": [
    "Hago los pasos hechos en el dataframe anterior para unir todos los dataframes generados en cada dato de la serie."
   ]
  },
  {
   "cell_type": "code",
   "execution_count": 60,
   "metadata": {},
   "outputs": [],
   "source": [
    "# Hago lista a la serie para poder concatenar cada uno de los dataframes ahora enlistados\n",
    "\n",
    "des_belongs=list(des_belongs)\n",
    "df_belongs_to_collection=pd.concat(des_belongs, ignore_index=True)\n",
    "\n",
    "# Ahora repetimos lo mismo en el resto de df"
   ]
  },
  {
   "cell_type": "code",
   "execution_count": 61,
   "metadata": {},
   "outputs": [
    {
     "data": {
      "text/html": [
       "<div>\n",
       "<style scoped>\n",
       "    .dataframe tbody tr th:only-of-type {\n",
       "        vertical-align: middle;\n",
       "    }\n",
       "\n",
       "    .dataframe tbody tr th {\n",
       "        vertical-align: top;\n",
       "    }\n",
       "\n",
       "    .dataframe thead th {\n",
       "        text-align: right;\n",
       "    }\n",
       "</style>\n",
       "<table border=\"1\" class=\"dataframe\">\n",
       "  <thead>\n",
       "    <tr style=\"text-align: right;\">\n",
       "      <th></th>\n",
       "      <th>id</th>\n",
       "      <th>name</th>\n",
       "      <th>id_pelicula</th>\n",
       "      <th>revenue</th>\n",
       "      <th>budget</th>\n",
       "    </tr>\n",
       "  </thead>\n",
       "  <tbody>\n",
       "    <tr>\n",
       "      <th>0</th>\n",
       "      <td>10194</td>\n",
       "      <td>Toy Story Collection</td>\n",
       "      <td>862</td>\n",
       "      <td>373554033.0</td>\n",
       "      <td>30000000.0</td>\n",
       "    </tr>\n",
       "    <tr>\n",
       "      <th>1</th>\n",
       "      <td>119050</td>\n",
       "      <td>Grumpy Old Men Collection</td>\n",
       "      <td>15602</td>\n",
       "      <td>0.0</td>\n",
       "      <td>0.0</td>\n",
       "    </tr>\n",
       "    <tr>\n",
       "      <th>2</th>\n",
       "      <td>96871</td>\n",
       "      <td>Father of the Bride Collection</td>\n",
       "      <td>11862</td>\n",
       "      <td>76578911.0</td>\n",
       "      <td>0.0</td>\n",
       "    </tr>\n",
       "    <tr>\n",
       "      <th>3</th>\n",
       "      <td>645</td>\n",
       "      <td>James Bond Collection</td>\n",
       "      <td>710</td>\n",
       "      <td>352194034.0</td>\n",
       "      <td>58000000.0</td>\n",
       "    </tr>\n",
       "    <tr>\n",
       "      <th>4</th>\n",
       "      <td>117693</td>\n",
       "      <td>Balto Collection</td>\n",
       "      <td>21032</td>\n",
       "      <td>11348324.0</td>\n",
       "      <td>0.0</td>\n",
       "    </tr>\n",
       "    <tr>\n",
       "      <th>...</th>\n",
       "      <td>...</td>\n",
       "      <td>...</td>\n",
       "      <td>...</td>\n",
       "      <td>...</td>\n",
       "      <td>...</td>\n",
       "    </tr>\n",
       "    <tr>\n",
       "      <th>4483</th>\n",
       "      <td>37261</td>\n",
       "      <td>The Carry On Collection</td>\n",
       "      <td>24568</td>\n",
       "      <td>0.0</td>\n",
       "      <td>0.0</td>\n",
       "    </tr>\n",
       "    <tr>\n",
       "      <th>4484</th>\n",
       "      <td>37261</td>\n",
       "      <td>The Carry On Collection</td>\n",
       "      <td>19307</td>\n",
       "      <td>0.0</td>\n",
       "      <td>0.0</td>\n",
       "    </tr>\n",
       "    <tr>\n",
       "      <th>4485</th>\n",
       "      <td>37261</td>\n",
       "      <td>The Carry On Collection</td>\n",
       "      <td>21251</td>\n",
       "      <td>0.0</td>\n",
       "      <td>0.0</td>\n",
       "    </tr>\n",
       "    <tr>\n",
       "      <th>4486</th>\n",
       "      <td>477208</td>\n",
       "      <td>DC Super Hero Girls Collection</td>\n",
       "      <td>460135</td>\n",
       "      <td>0.0</td>\n",
       "      <td>0.0</td>\n",
       "    </tr>\n",
       "    <tr>\n",
       "      <th>4487</th>\n",
       "      <td>200641</td>\n",
       "      <td>Red Lotus Collection</td>\n",
       "      <td>182030</td>\n",
       "      <td>0.0</td>\n",
       "      <td>0.0</td>\n",
       "    </tr>\n",
       "  </tbody>\n",
       "</table>\n",
       "<p>4488 rows × 5 columns</p>\n",
       "</div>"
      ],
      "text/plain": [
       "          id                            name  id_pelicula      revenue  \\\n",
       "0      10194            Toy Story Collection          862  373554033.0   \n",
       "1     119050       Grumpy Old Men Collection        15602          0.0   \n",
       "2      96871  Father of the Bride Collection        11862   76578911.0   \n",
       "3        645           James Bond Collection          710  352194034.0   \n",
       "4     117693                Balto Collection        21032   11348324.0   \n",
       "...      ...                             ...          ...          ...   \n",
       "4483   37261         The Carry On Collection        24568          0.0   \n",
       "4484   37261         The Carry On Collection        19307          0.0   \n",
       "4485   37261         The Carry On Collection        21251          0.0   \n",
       "4486  477208  DC Super Hero Girls Collection       460135          0.0   \n",
       "4487  200641            Red Lotus Collection       182030          0.0   \n",
       "\n",
       "          budget  \n",
       "0     30000000.0  \n",
       "1            0.0  \n",
       "2            0.0  \n",
       "3     58000000.0  \n",
       "4            0.0  \n",
       "...          ...  \n",
       "4483         0.0  \n",
       "4484         0.0  \n",
       "4485         0.0  \n",
       "4486         0.0  \n",
       "4487         0.0  \n",
       "\n",
       "[4488 rows x 5 columns]"
      ]
     },
     "execution_count": 61,
     "metadata": {},
     "output_type": "execute_result"
    }
   ],
   "source": [
    "df_belongs_to_collection.drop(columns=[\"poster_path\",\"backdrop_path\"],inplace=True)\n",
    "df_belongs_to_collection"
   ]
  },
  {
   "cell_type": "code",
   "execution_count": 62,
   "metadata": {},
   "outputs": [],
   "source": [
    "# genres\n",
    "des_genres=list(des_genres)\n",
    "df_genres=pd.concat(des_genres, ignore_index=True)"
   ]
  },
  {
   "cell_type": "code",
   "execution_count": 63,
   "metadata": {},
   "outputs": [
    {
     "data": {
      "text/plain": [
       "array(['Animation', 'Comedy', 'Family', 'Adventure', 'Fantasy', 'Romance',\n",
       "       'Drama', 'Action', 'Crime', 'Thriller', 'Horror', 'History',\n",
       "       'Science Fiction', 'Mystery', 'War', 'Foreign', 'Music',\n",
       "       'Documentary', 'Western', 'TV Movie'], dtype=object)"
      ]
     },
     "execution_count": 63,
     "metadata": {},
     "output_type": "execute_result"
    }
   ],
   "source": [
    "df_genres[\"name\"].unique()"
   ]
  },
  {
   "cell_type": "code",
   "execution_count": 64,
   "metadata": {},
   "outputs": [],
   "source": [
    "#spoken_languages\n",
    "des_spoken_languages=list(des_spoken_languages)\n",
    "df_spoken_languages=pd.concat(des_spoken_languages, ignore_index=True)"
   ]
  },
  {
   "cell_type": "code",
   "execution_count": 65,
   "metadata": {},
   "outputs": [
    {
     "data": {
      "text/html": [
       "<div>\n",
       "<style scoped>\n",
       "    .dataframe tbody tr th:only-of-type {\n",
       "        vertical-align: middle;\n",
       "    }\n",
       "\n",
       "    .dataframe tbody tr th {\n",
       "        vertical-align: top;\n",
       "    }\n",
       "\n",
       "    .dataframe thead th {\n",
       "        text-align: right;\n",
       "    }\n",
       "</style>\n",
       "<table border=\"1\" class=\"dataframe\">\n",
       "  <thead>\n",
       "    <tr style=\"text-align: right;\">\n",
       "      <th></th>\n",
       "      <th>iso_639_1</th>\n",
       "      <th>name</th>\n",
       "      <th>id_pelicula</th>\n",
       "    </tr>\n",
       "  </thead>\n",
       "  <tbody>\n",
       "    <tr>\n",
       "      <th>0</th>\n",
       "      <td>en</td>\n",
       "      <td>English</td>\n",
       "      <td>862</td>\n",
       "    </tr>\n",
       "    <tr>\n",
       "      <th>1</th>\n",
       "      <td>en</td>\n",
       "      <td>English</td>\n",
       "      <td>8844</td>\n",
       "    </tr>\n",
       "    <tr>\n",
       "      <th>2</th>\n",
       "      <td>fr</td>\n",
       "      <td>Français</td>\n",
       "      <td>8844</td>\n",
       "    </tr>\n",
       "    <tr>\n",
       "      <th>3</th>\n",
       "      <td>en</td>\n",
       "      <td>English</td>\n",
       "      <td>15602</td>\n",
       "    </tr>\n",
       "    <tr>\n",
       "      <th>4</th>\n",
       "      <td>en</td>\n",
       "      <td>English</td>\n",
       "      <td>31357</td>\n",
       "    </tr>\n",
       "    <tr>\n",
       "      <th>...</th>\n",
       "      <td>...</td>\n",
       "      <td>...</td>\n",
       "      <td>...</td>\n",
       "    </tr>\n",
       "    <tr>\n",
       "      <th>53269</th>\n",
       "      <td>en</td>\n",
       "      <td>English</td>\n",
       "      <td>222848</td>\n",
       "    </tr>\n",
       "    <tr>\n",
       "      <th>53270</th>\n",
       "      <td>en</td>\n",
       "      <td>English</td>\n",
       "      <td>30840</td>\n",
       "    </tr>\n",
       "    <tr>\n",
       "      <th>53271</th>\n",
       "      <td>tl</td>\n",
       "      <td></td>\n",
       "      <td>111109</td>\n",
       "    </tr>\n",
       "    <tr>\n",
       "      <th>53272</th>\n",
       "      <td>en</td>\n",
       "      <td>English</td>\n",
       "      <td>67758</td>\n",
       "    </tr>\n",
       "    <tr>\n",
       "      <th>53273</th>\n",
       "      <td>en</td>\n",
       "      <td>English</td>\n",
       "      <td>461257</td>\n",
       "    </tr>\n",
       "  </tbody>\n",
       "</table>\n",
       "<p>53274 rows × 3 columns</p>\n",
       "</div>"
      ],
      "text/plain": [
       "      iso_639_1      name  id_pelicula\n",
       "0            en   English          862\n",
       "1            en   English         8844\n",
       "2            fr  Français         8844\n",
       "3            en   English        15602\n",
       "4            en   English        31357\n",
       "...         ...       ...          ...\n",
       "53269        en   English       222848\n",
       "53270        en   English        30840\n",
       "53271        tl                 111109\n",
       "53272        en   English        67758\n",
       "53273        en   English       461257\n",
       "\n",
       "[53274 rows x 3 columns]"
      ]
     },
     "execution_count": 65,
     "metadata": {},
     "output_type": "execute_result"
    }
   ],
   "source": [
    "df_spoken_languages"
   ]
  },
  {
   "cell_type": "code",
   "execution_count": 66,
   "metadata": {},
   "outputs": [],
   "source": [
    "#production_countries\n",
    "des_production_countries=list(des_production_countries)\n",
    "df_production_countries=pd.concat(des_production_countries, ignore_index=True)\n"
   ]
  },
  {
   "cell_type": "code",
   "execution_count": 67,
   "metadata": {},
   "outputs": [
    {
     "data": {
      "text/html": [
       "<div>\n",
       "<style scoped>\n",
       "    .dataframe tbody tr th:only-of-type {\n",
       "        vertical-align: middle;\n",
       "    }\n",
       "\n",
       "    .dataframe tbody tr th {\n",
       "        vertical-align: top;\n",
       "    }\n",
       "\n",
       "    .dataframe thead th {\n",
       "        text-align: right;\n",
       "    }\n",
       "</style>\n",
       "<table border=\"1\" class=\"dataframe\">\n",
       "  <thead>\n",
       "    <tr style=\"text-align: right;\">\n",
       "      <th></th>\n",
       "      <th>iso_3166_1</th>\n",
       "      <th>name</th>\n",
       "      <th>id_pelicula</th>\n",
       "    </tr>\n",
       "  </thead>\n",
       "  <tbody>\n",
       "    <tr>\n",
       "      <th>0</th>\n",
       "      <td>US</td>\n",
       "      <td>United States of America</td>\n",
       "      <td>862</td>\n",
       "    </tr>\n",
       "    <tr>\n",
       "      <th>1</th>\n",
       "      <td>US</td>\n",
       "      <td>United States of America</td>\n",
       "      <td>8844</td>\n",
       "    </tr>\n",
       "    <tr>\n",
       "      <th>2</th>\n",
       "      <td>US</td>\n",
       "      <td>United States of America</td>\n",
       "      <td>15602</td>\n",
       "    </tr>\n",
       "    <tr>\n",
       "      <th>3</th>\n",
       "      <td>US</td>\n",
       "      <td>United States of America</td>\n",
       "      <td>31357</td>\n",
       "    </tr>\n",
       "    <tr>\n",
       "      <th>4</th>\n",
       "      <td>US</td>\n",
       "      <td>United States of America</td>\n",
       "      <td>11862</td>\n",
       "    </tr>\n",
       "    <tr>\n",
       "      <th>...</th>\n",
       "      <td>...</td>\n",
       "      <td>...</td>\n",
       "      <td>...</td>\n",
       "    </tr>\n",
       "    <tr>\n",
       "      <th>49403</th>\n",
       "      <td>US</td>\n",
       "      <td>United States of America</td>\n",
       "      <td>30840</td>\n",
       "    </tr>\n",
       "    <tr>\n",
       "      <th>49404</th>\n",
       "      <td>PH</td>\n",
       "      <td>Philippines</td>\n",
       "      <td>111109</td>\n",
       "    </tr>\n",
       "    <tr>\n",
       "      <th>49405</th>\n",
       "      <td>US</td>\n",
       "      <td>United States of America</td>\n",
       "      <td>67758</td>\n",
       "    </tr>\n",
       "    <tr>\n",
       "      <th>49406</th>\n",
       "      <td>RU</td>\n",
       "      <td>Russia</td>\n",
       "      <td>227506</td>\n",
       "    </tr>\n",
       "    <tr>\n",
       "      <th>49407</th>\n",
       "      <td>GB</td>\n",
       "      <td>United Kingdom</td>\n",
       "      <td>461257</td>\n",
       "    </tr>\n",
       "  </tbody>\n",
       "</table>\n",
       "<p>49408 rows × 3 columns</p>\n",
       "</div>"
      ],
      "text/plain": [
       "      iso_3166_1                      name  id_pelicula\n",
       "0             US  United States of America          862\n",
       "1             US  United States of America         8844\n",
       "2             US  United States of America        15602\n",
       "3             US  United States of America        31357\n",
       "4             US  United States of America        11862\n",
       "...          ...                       ...          ...\n",
       "49403         US  United States of America        30840\n",
       "49404         PH               Philippines       111109\n",
       "49405         US  United States of America        67758\n",
       "49406         RU                    Russia       227506\n",
       "49407         GB            United Kingdom       461257\n",
       "\n",
       "[49408 rows x 3 columns]"
      ]
     },
     "execution_count": 67,
     "metadata": {},
     "output_type": "execute_result"
    }
   ],
   "source": [
    "df_production_countries"
   ]
  },
  {
   "cell_type": "code",
   "execution_count": 68,
   "metadata": {},
   "outputs": [],
   "source": [
    "#production_companies\n",
    "des_production_companies=list(des_production_companies)\n",
    "df_production_companies=pd.concat(des_production_companies, ignore_index=True)"
   ]
  },
  {
   "cell_type": "code",
   "execution_count": 69,
   "metadata": {},
   "outputs": [
    {
     "data": {
      "text/html": [
       "<div>\n",
       "<style scoped>\n",
       "    .dataframe tbody tr th:only-of-type {\n",
       "        vertical-align: middle;\n",
       "    }\n",
       "\n",
       "    .dataframe tbody tr th {\n",
       "        vertical-align: top;\n",
       "    }\n",
       "\n",
       "    .dataframe thead th {\n",
       "        text-align: right;\n",
       "    }\n",
       "</style>\n",
       "<table border=\"1\" class=\"dataframe\">\n",
       "  <thead>\n",
       "    <tr style=\"text-align: right;\">\n",
       "      <th></th>\n",
       "      <th>name</th>\n",
       "      <th>id</th>\n",
       "      <th>id_pelicula</th>\n",
       "      <th>revenue</th>\n",
       "    </tr>\n",
       "  </thead>\n",
       "  <tbody>\n",
       "    <tr>\n",
       "      <th>0</th>\n",
       "      <td>Pixar Animation Studios</td>\n",
       "      <td>3.0</td>\n",
       "      <td>862</td>\n",
       "      <td>373554033.0</td>\n",
       "    </tr>\n",
       "    <tr>\n",
       "      <th>1</th>\n",
       "      <td>TriStar Pictures</td>\n",
       "      <td>559.0</td>\n",
       "      <td>8844</td>\n",
       "      <td>262797249.0</td>\n",
       "    </tr>\n",
       "    <tr>\n",
       "      <th>2</th>\n",
       "      <td>Teitler Film</td>\n",
       "      <td>2550.0</td>\n",
       "      <td>8844</td>\n",
       "      <td>262797249.0</td>\n",
       "    </tr>\n",
       "    <tr>\n",
       "      <th>3</th>\n",
       "      <td>Interscope Communications</td>\n",
       "      <td>10201.0</td>\n",
       "      <td>8844</td>\n",
       "      <td>262797249.0</td>\n",
       "    </tr>\n",
       "    <tr>\n",
       "      <th>4</th>\n",
       "      <td>Warner Bros.</td>\n",
       "      <td>6194.0</td>\n",
       "      <td>15602</td>\n",
       "      <td>0.0</td>\n",
       "    </tr>\n",
       "    <tr>\n",
       "      <th>...</th>\n",
       "      <td>...</td>\n",
       "      <td>...</td>\n",
       "      <td>...</td>\n",
       "      <td>...</td>\n",
       "    </tr>\n",
       "    <tr>\n",
       "      <th>70525</th>\n",
       "      <td>20th Century Fox Television</td>\n",
       "      <td>16323.0</td>\n",
       "      <td>30840</td>\n",
       "      <td>0.0</td>\n",
       "    </tr>\n",
       "    <tr>\n",
       "      <th>70526</th>\n",
       "      <td>CanWest Global Communications</td>\n",
       "      <td>38978.0</td>\n",
       "      <td>30840</td>\n",
       "      <td>0.0</td>\n",
       "    </tr>\n",
       "    <tr>\n",
       "      <th>70527</th>\n",
       "      <td>Sine Olivia</td>\n",
       "      <td>19653.0</td>\n",
       "      <td>111109</td>\n",
       "      <td>0.0</td>\n",
       "    </tr>\n",
       "    <tr>\n",
       "      <th>70528</th>\n",
       "      <td>American World Pictures</td>\n",
       "      <td>6165.0</td>\n",
       "      <td>67758</td>\n",
       "      <td>0.0</td>\n",
       "    </tr>\n",
       "    <tr>\n",
       "      <th>70529</th>\n",
       "      <td>Yermoliev</td>\n",
       "      <td>88753.0</td>\n",
       "      <td>227506</td>\n",
       "      <td>0.0</td>\n",
       "    </tr>\n",
       "  </tbody>\n",
       "</table>\n",
       "<p>70530 rows × 4 columns</p>\n",
       "</div>"
      ],
      "text/plain": [
       "                                name       id  id_pelicula      revenue\n",
       "0            Pixar Animation Studios      3.0          862  373554033.0\n",
       "1                   TriStar Pictures    559.0         8844  262797249.0\n",
       "2                       Teitler Film   2550.0         8844  262797249.0\n",
       "3          Interscope Communications  10201.0         8844  262797249.0\n",
       "4                       Warner Bros.   6194.0        15602          0.0\n",
       "...                              ...      ...          ...          ...\n",
       "70525    20th Century Fox Television  16323.0        30840          0.0\n",
       "70526  CanWest Global Communications  38978.0        30840          0.0\n",
       "70527                    Sine Olivia  19653.0       111109          0.0\n",
       "70528        American World Pictures   6165.0        67758          0.0\n",
       "70529                      Yermoliev  88753.0       227506          0.0\n",
       "\n",
       "[70530 rows x 4 columns]"
      ]
     },
     "execution_count": 69,
     "metadata": {},
     "output_type": "execute_result"
    }
   ],
   "source": [
    "df_production_companies"
   ]
  },
  {
   "cell_type": "code",
   "execution_count": 70,
   "metadata": {},
   "outputs": [],
   "source": [
    "# Ahora que tengo todos los df con las columnas desanidadas, \n",
    "# voy a eliminar esas columnas para que no ocupen espacio y esten innecesariamente\n",
    "data.drop(columns=[\"belongs_to_collection\",\"genres\",\"spoken_languages\",\"production_countries\",\"production_companies\"],inplace=True)"
   ]
  },
  {
   "attachments": {},
   "cell_type": "markdown",
   "metadata": {},
   "source": [
    "# Funciones para la API"
   ]
  },
  {
   "attachments": {},
   "cell_type": "markdown",
   "metadata": {},
   "source": [
    "def peliculas_idioma( Idioma: str ): Se ingresa un idioma. Debe devolver la cantidad de películas producidas en ese idioma.<br>\n",
    " Ejemplo de retorno: X cantidad de películas fueron estrenadas en idioma"
   ]
  },
  {
   "cell_type": "code",
   "execution_count": 71,
   "metadata": {},
   "outputs": [
    {
     "data": {
      "text/plain": [
       "array(['en', 'fr', 'zh', 'it', 'fa', 'nl', 'de', 'cn', 'ar', 'es', 'ru',\n",
       "       'sv', 'ja', 'ko', 'sr', 'bn', 'he', 'pt', 'wo', 'ro', 'hu', 'cy',\n",
       "       'vi', 'cs', 'da', 'no', 'nb', 'pl', 'el', 'sh', 'xx', 'mk', 'bo',\n",
       "       'ca', 'fi', 'th', 'sk', 'bs', 'hi', 'tr', 'is', 'ps', 'ab', 'eo',\n",
       "       'ka', 'mn', 'bm', 'zu', 'uk', 'af', 'la', 'et', 'ku', 'fy', 'lv',\n",
       "       'ta', 'sl', 'tl', 'ur', 'rw', 'id', 'bg', 'mr', 'lt', 'kk', 'ms',\n",
       "       'sq', nan, 'qu', 'te', 'am', 'jv', 'tg', 'ml', 'hr', 'lo', 'ay',\n",
       "       'kn', 'eu', 'ne', 'pa', 'ky', 'gl', 'uz', 'sm', 'mt', 'hy', 'iu',\n",
       "       'lb', 'si'], dtype=object)"
      ]
     },
     "execution_count": 71,
     "metadata": {},
     "output_type": "execute_result"
    }
   ],
   "source": [
    "data[\"original_language\"].unique()"
   ]
  },
  {
   "cell_type": "code",
   "execution_count": 72,
   "metadata": {},
   "outputs": [
    {
     "data": {
      "text/plain": [
       "32202"
      ]
     },
     "execution_count": 72,
     "metadata": {},
     "output_type": "execute_result"
    }
   ],
   "source": [
    "data[\"original_language\"][data[\"original_language\"]=='en'].count()"
   ]
  },
  {
   "cell_type": "code",
   "execution_count": 205,
   "metadata": {},
   "outputs": [],
   "source": [
    "def peliculas_idioma(idioma):\n",
    "    '''\n",
    "    - Ingresa el idioma, sale la cantidad de peliculas estrenadas en ese idioma.\n",
    "\n",
    "    - Debe ingresar el abreviado del idioma a buscar, las opciones son las de la siguiente lista:\n",
    "    ['en', 'fr', 'zh', 'it', 'fa', 'nl', 'de', 'cn', 'ar', 'es', 'ru',\n",
    "    'sv', 'ja', 'ko', 'sr', 'bn', 'he', 'pt', 'wo', 'ro', 'hu', 'cy',\n",
    "    'vi', 'cs', 'da', 'no', 'nb', 'pl', 'el', 'sh', 'xx', 'mk', 'bo',\n",
    "    'ca', 'fi', 'th', 'sk', 'bs', 'hi', 'tr', 'is', 'ps', 'ab', 'eo',\n",
    "    'ka', 'mn', 'bm', 'zu', 'uk', 'af', 'la', 'et', 'ku', 'fy', 'lv',\n",
    "    'ta', 'sl', 'tl', 'ur', 'rw', 'id', 'bg', 'mr', 'lt', 'kk', 'ms',\n",
    "    'sq', nan, 'qu', 'te', 'am', 'jv', 'tg', 'ml', 'hr', 'lo', 'ay',\n",
    "    'kn', 'eu', 'ne', 'pa', 'ky', 'gl', 'uz', 'sm', 'mt', 'hy', 'iu',\n",
    "    'lb', 'si']\n",
    "    '''\n",
    "    idioma=idioma.strip()\n",
    "    count1= str(data[\"original_language\"][data[\"original_language\"]==idioma].count())\n",
    "\n",
    "    return count1 + ' cantidad de películas fueron estrenadas en \"{}\" '.format(idioma)"
   ]
  },
  {
   "cell_type": "code",
   "execution_count": 206,
   "metadata": {},
   "outputs": [
    {
     "name": "stdout",
     "output_type": "stream",
     "text": [
      "32195 cantidad de películas fueron estrenadas en \"en\"\n"
     ]
    }
   ],
   "source": [
    "print(peliculas_idioma('en'))"
   ]
  },
  {
   "attachments": {},
   "cell_type": "markdown",
   "metadata": {},
   "source": [
    "def peliculas_duracion( Pelicula: str ): Se ingresa una pelicula. Debe devolver la duracion y el año.<br>\n",
    "Ejemplo de retorno: X . Duración: x. Año: xx"
   ]
  },
  {
   "cell_type": "code",
   "execution_count": 110,
   "metadata": {},
   "outputs": [
    {
     "data": {
      "text/plain": [
       "0                      Toy Story\n",
       "1                        Jumanji\n",
       "2               Grumpier Old Men\n",
       "3              Waiting to Exhale\n",
       "4    Father of the Bride Part II\n",
       "5                           Heat\n",
       "6                        Sabrina\n",
       "7                   Tom and Huck\n",
       "Name: title, dtype: object"
      ]
     },
     "execution_count": 110,
     "metadata": {},
     "output_type": "execute_result"
    }
   ],
   "source": [
    "data[\"title\"].head(8)"
   ]
  },
  {
   "cell_type": "code",
   "execution_count": 196,
   "metadata": {},
   "outputs": [],
   "source": [
    "def peliculas_duracion(Pelicula):\n",
    "    '''\n",
    "    Debe escribir el titulo correctamente, es decir, como esta escrito originalmente (buscar en internet), en inglés y con las mayúsculas correctas.\n",
    "    Si hay una sola pelicula con ese nombre, devuelve la duración y su año de estreno.\n",
    "    De haber más de una con ese nombre, devuelve una lista de duración y otra de los años, en las que coinciden sus ordenes (primer indice de la duración es de la pelicula que salió en el primer indice de los años, asi sucesivamente).\n",
    "    En caso de escribir un nombre que no se encuentre en la base de datos, devuelve: \"No hay pelicula con ese titulo\".\n",
    "    '''\n",
    "    Pelicula=Pelicula.strip()\n",
    "    cant=int(data[\"runtime\"][data[\"title\"]==Pelicula].count())\n",
    "    df=data\n",
    "    # Cambio los datos del año a int asi se ve mejor\n",
    "    df[\"release_year\"]=pd.to_numeric(df[\"release_year\"],downcast=\"integer\")\n",
    "    if cant>1:\n",
    "        dur=list(df[\"runtime\"][df[\"title\"]==Pelicula].values)\n",
    "        Anio=list(df[\"release_year\"][df[\"title\"]==Pelicula].values)\n",
    "\n",
    "    elif cant==1:\n",
    "        dur=str(df[\"runtime\"][df[\"title\"]==Pelicula].values[0])\n",
    "        Anio=str(int(df[\"release_year\"][df[\"title\"]==Pelicula].values[0])) \n",
    "    else:\n",
    "        return \"No hay pelicula con ese titulo\"\n",
    "       \n",
    "    return \"{}. Duración: {} min. Año:{}. \".format(Pelicula,dur,Anio)"
   ]
  },
  {
   "cell_type": "code",
   "execution_count": 201,
   "metadata": {},
   "outputs": [
    {
     "data": {
      "text/plain": [
       "'Sabrina . Duración: [127.0, 113.0] min. Año:[1995, 1954]. '"
      ]
     },
     "execution_count": 201,
     "metadata": {},
     "output_type": "execute_result"
    }
   ],
   "source": [
    "peliculas_duracion('Sabrina')"
   ]
  },
  {
   "cell_type": "code",
   "execution_count": 173,
   "metadata": {},
   "outputs": [],
   "source": [
    "Pelicula='Sabrina'.strip()"
   ]
  },
  {
   "cell_type": "code",
   "execution_count": null,
   "metadata": {},
   "outputs": [],
   "source": [
    "Pelicula='Jumanji'.strip()"
   ]
  },
  {
   "cell_type": "code",
   "execution_count": 175,
   "metadata": {},
   "outputs": [
    {
     "data": {
      "text/plain": [
       "int"
      ]
     },
     "execution_count": 175,
     "metadata": {},
     "output_type": "execute_result"
    }
   ],
   "source": [
    "dur=int(data[\"runtime\"][data[\"title\"]==Pelicula].count())\n",
    "type(dur)"
   ]
  },
  {
   "cell_type": "code",
   "execution_count": 194,
   "metadata": {},
   "outputs": [],
   "source": [
    "df=data\n",
    "df[\"release_year\"]=pd.to_numeric(df[\"release_year\"],downcast=\"integer\")"
   ]
  },
  {
   "cell_type": "code",
   "execution_count": 195,
   "metadata": {},
   "outputs": [
    {
     "data": {
      "text/plain": [
       "[1995, 1954]"
      ]
     },
     "execution_count": 195,
     "metadata": {},
     "output_type": "execute_result"
    }
   ],
   "source": [
    "Anio=list(df[\"release_year\"][df[\"title\"]==Pelicula].values)\n",
    "Anio"
   ]
  },
  {
   "cell_type": "code",
   "execution_count": 181,
   "metadata": {},
   "outputs": [
    {
     "data": {
      "text/plain": [
       "[127.0, 113.0]"
      ]
     },
     "execution_count": 181,
     "metadata": {},
     "output_type": "execute_result"
    }
   ],
   "source": [
    "dur=list(data[\"runtime\"][data[\"title\"]==Pelicula].values)\n",
    "dur"
   ]
  },
  {
   "cell_type": "code",
   "execution_count": 123,
   "metadata": {},
   "outputs": [
    {
     "data": {
      "text/plain": [
       "'Jumanji. Duración:104.0 min. Año:1995'"
      ]
     },
     "execution_count": 123,
     "metadata": {},
     "output_type": "execute_result"
    }
   ],
   "source": [
    "peliculas_duracion('Jumanji')"
   ]
  },
  {
   "cell_type": "code",
   "execution_count": 199,
   "metadata": {},
   "outputs": [],
   "source": [
    "a= peliculas_duracion(\"Toy Story\")"
   ]
  },
  {
   "cell_type": "code",
   "execution_count": 200,
   "metadata": {},
   "outputs": [
    {
     "data": {
      "text/plain": [
       "'Toy Story . Duración: 81.0 min. Año:1995. '"
      ]
     },
     "execution_count": 200,
     "metadata": {},
     "output_type": "execute_result"
    }
   ],
   "source": [
    "a"
   ]
  },
  {
   "attachments": {},
   "cell_type": "markdown",
   "metadata": {},
   "source": [
    "def franquicia( Franquicia: str ): Se ingresa la franquicia, retornando la cantidad de peliculas, ganancia total y promedio.<br>\n",
    "Ejemplo de retorno: La franquicia X posee X peliculas, una ganancia total de x y una ganancia promedio de xx"
   ]
  },
  {
   "cell_type": "code",
   "execution_count": 78,
   "metadata": {},
   "outputs": [
    {
     "data": {
      "text/html": [
       "<div>\n",
       "<style scoped>\n",
       "    .dataframe tbody tr th:only-of-type {\n",
       "        vertical-align: middle;\n",
       "    }\n",
       "\n",
       "    .dataframe tbody tr th {\n",
       "        vertical-align: top;\n",
       "    }\n",
       "\n",
       "    .dataframe thead th {\n",
       "        text-align: right;\n",
       "    }\n",
       "</style>\n",
       "<table border=\"1\" class=\"dataframe\">\n",
       "  <thead>\n",
       "    <tr style=\"text-align: right;\">\n",
       "      <th></th>\n",
       "      <th>id_pelicula</th>\n",
       "      <th>title</th>\n",
       "      <th>overview</th>\n",
       "      <th>status</th>\n",
       "      <th>runtime</th>\n",
       "      <th>popularity</th>\n",
       "      <th>tagline</th>\n",
       "      <th>original_language</th>\n",
       "      <th>vote_average</th>\n",
       "      <th>vote_count</th>\n",
       "      <th>release_date</th>\n",
       "      <th>release_year</th>\n",
       "      <th>budget</th>\n",
       "      <th>revenue</th>\n",
       "      <th>return</th>\n",
       "    </tr>\n",
       "  </thead>\n",
       "  <tbody>\n",
       "    <tr>\n",
       "      <th>0</th>\n",
       "      <td>862</td>\n",
       "      <td>Toy Story</td>\n",
       "      <td>Led by Woody, Andy's toys live happily in his ...</td>\n",
       "      <td>Released</td>\n",
       "      <td>81.0</td>\n",
       "      <td>21.946943</td>\n",
       "      <td>NaN</td>\n",
       "      <td>en</td>\n",
       "      <td>7.7</td>\n",
       "      <td>5415.0</td>\n",
       "      <td>1995-10-30</td>\n",
       "      <td>1995.0</td>\n",
       "      <td>30000000.0</td>\n",
       "      <td>373554033.0</td>\n",
       "      <td>12.451801</td>\n",
       "    </tr>\n",
       "  </tbody>\n",
       "</table>\n",
       "</div>"
      ],
      "text/plain": [
       "   id_pelicula      title                                           overview  \\\n",
       "0          862  Toy Story  Led by Woody, Andy's toys live happily in his ...   \n",
       "\n",
       "     status  runtime popularity tagline original_language  vote_average  \\\n",
       "0  Released     81.0  21.946943     NaN                en           7.7   \n",
       "\n",
       "   vote_count release_date  release_year      budget      revenue     return  \n",
       "0      5415.0   1995-10-30        1995.0  30000000.0  373554033.0  12.451801  "
      ]
     },
     "execution_count": 78,
     "metadata": {},
     "output_type": "execute_result"
    }
   ],
   "source": [
    "data.head(1)"
   ]
  },
  {
   "cell_type": "code",
   "execution_count": 79,
   "metadata": {},
   "outputs": [],
   "source": [
    "def franquicia(Franquicia:str):\n",
    "    '''\n",
    "    - Para esta función se debe escribir bien el nombre de la pelicula, exactamente al publicado oficial.\n",
    "    - Luego del nombre de la pelicula se debe agregar la palabra \"Collection\", exactamente como esta escrita (sin las comillas).\n",
    "    '''\n",
    "    Franquicia=Franquicia.strip()\n",
    "    df=df_belongs_to_collection[df_belongs_to_collection[\"name\"]==Franquicia]\n",
    "    \n",
    "    # Me aseguro que esten en mismo tipo de dato.\n",
    "    cant=float(df[\"name\"].count())\n",
    "    rev=float(df[\"revenue\"].sum())\n",
    "    if df.count().sum()==0:\n",
    "        return \"No se encuentra tal franquicia\"\n",
    "    else:\n",
    "        if cant!=0:\n",
    "            prom=str(rev/cant)\n",
    "        else:\n",
    "            prom=0\n",
    "    return \"La franquicia \"+ Franquicia + \" posee \"+ str(cant) +\" peliculas, una ganancia total de \"+ str(rev) +\" y una ganancia promedio de \"+ prom +\"\""
   ]
  },
  {
   "cell_type": "code",
   "execution_count": 250,
   "metadata": {},
   "outputs": [],
   "source": [
    "df=df_belongs_to_collection[df_belongs_to_collection[\"name\"]=='a']"
   ]
  },
  {
   "cell_type": "code",
   "execution_count": 251,
   "metadata": {},
   "outputs": [
    {
     "data": {
      "text/plain": [
       "0"
      ]
     },
     "execution_count": 251,
     "metadata": {},
     "output_type": "execute_result"
    }
   ],
   "source": [
    "df['name'].count().sum()"
   ]
  },
  {
   "cell_type": "code",
   "execution_count": 242,
   "metadata": {},
   "outputs": [],
   "source": [
    "df=df_belongs_to_collection.sort_values(by='revenue',ascending=False).head(5)"
   ]
  },
  {
   "cell_type": "code",
   "execution_count": 247,
   "metadata": {},
   "outputs": [
    {
     "data": {
      "text/plain": [
       "numpy.int64"
      ]
     },
     "execution_count": 247,
     "metadata": {},
     "output_type": "execute_result"
    }
   ],
   "source": [
    "type(df['name'].count().sum())"
   ]
  },
  {
   "cell_type": "code",
   "execution_count": 80,
   "metadata": {},
   "outputs": [
    {
     "data": {
      "text/plain": [
       "'La franquicia Toy Story Collection posee 3 peliculas, una ganancia total de 1937890605.0 y una ganancia promedio de 645963535.0'"
      ]
     },
     "execution_count": 80,
     "metadata": {},
     "output_type": "execute_result"
    }
   ],
   "source": [
    "franquicia(\"Toy Story Collection\")"
   ]
  },
  {
   "attachments": {},
   "cell_type": "markdown",
   "metadata": {},
   "source": [
    "def peliculas_pais( Pais: str ): Se ingresa un país, retornando la cantidad de peliculas producidas en el mismo.<br>\n",
    "Ejemplo de retorno: Se produjeron X películas en el país X"
   ]
  },
  {
   "cell_type": "code",
   "execution_count": 81,
   "metadata": {},
   "outputs": [
    {
     "data": {
      "text/plain": [
       "21147"
      ]
     },
     "execution_count": 81,
     "metadata": {},
     "output_type": "execute_result"
    }
   ],
   "source": [
    "df_production_countries[\"name\"][df_production_countries[\"name\"]=='United States of America'].count()"
   ]
  },
  {
   "cell_type": "code",
   "execution_count": 82,
   "metadata": {},
   "outputs": [],
   "source": [
    "def peliculas_pais(Pais):\n",
    "    '''\n",
    "    El idioma en el que se debe escribir el nombre es inglés, respetando los espacios y mayúsculas de cada nombre.\n",
    "    Si no le sale, verifique que esta escribiendo bien el país.\n",
    "    '''\n",
    "    Pais=Pais.strip()\n",
    "    cant = df_production_countries[\"name\"][df_production_countries[\"name\"]==Pais].count()\n",
    "    \n",
    "    return \"Se produjeron \" + str(cant) + \" películas en el país\" + Pais"
   ]
  },
  {
   "cell_type": "code",
   "execution_count": 83,
   "metadata": {},
   "outputs": [
    {
     "data": {
      "text/plain": [
       "'Se produjeron 21147 películas en el paísUnited States of America'"
      ]
     },
     "execution_count": 83,
     "metadata": {},
     "output_type": "execute_result"
    }
   ],
   "source": [
    "peliculas_pais(\"United States of America\")"
   ]
  },
  {
   "attachments": {},
   "cell_type": "markdown",
   "metadata": {},
   "source": [
    "def productoras_exitosas( Productora: str ): Se ingresa la productora, entregandote el revenue total y la cantidad de peliculas que realizo.<br>\n",
    "Ejemplo de retorno: La productora X ha tenido un revenue de x"
   ]
  },
  {
   "cell_type": "code",
   "execution_count": 84,
   "metadata": {},
   "outputs": [
    {
     "data": {
      "text/plain": [
       "11188533734.0"
      ]
     },
     "execution_count": 84,
     "metadata": {},
     "output_type": "execute_result"
    }
   ],
   "source": [
    "df_production_companies['revenue'][df_production_companies['name']=='Pixar Animation Studios'].sum()"
   ]
  },
  {
   "cell_type": "code",
   "execution_count": 85,
   "metadata": {},
   "outputs": [
    {
     "data": {
      "text/plain": [
       "52"
      ]
     },
     "execution_count": 85,
     "metadata": {},
     "output_type": "execute_result"
    }
   ],
   "source": [
    "df_production_companies['revenue'][df_production_companies['name']=='Pixar Animation Studios'].count()"
   ]
  },
  {
   "cell_type": "code",
   "execution_count": 86,
   "metadata": {},
   "outputs": [],
   "source": [
    "def productoras_exitosas(Productora):\n",
    "    '''\n",
    "    - Toma un solo nombre que \n",
    "    '''\n",
    "\n",
    "    Productora=Productora.strip()\n",
    "    df=df_production_companies[df_production_companies['name']==Productora]\n",
    "    suma=df['revenue'].sum()\n",
    "    cant= df['name'].count()\n",
    "    return \"La productora \"+ Productora + \" ha tenido un revenue de \" + str(suma) + \" y realizó \" + str(cant) + \" peliculas.\""
   ]
  },
  {
   "cell_type": "code",
   "execution_count": 210,
   "metadata": {},
   "outputs": [
    {
     "data": {
      "text/html": [
       "<div>\n",
       "<style scoped>\n",
       "    .dataframe tbody tr th:only-of-type {\n",
       "        vertical-align: middle;\n",
       "    }\n",
       "\n",
       "    .dataframe tbody tr th {\n",
       "        vertical-align: top;\n",
       "    }\n",
       "\n",
       "    .dataframe thead th {\n",
       "        text-align: right;\n",
       "    }\n",
       "</style>\n",
       "<table border=\"1\" class=\"dataframe\">\n",
       "  <thead>\n",
       "    <tr style=\"text-align: right;\">\n",
       "      <th></th>\n",
       "      <th>name</th>\n",
       "      <th>id</th>\n",
       "      <th>id_pelicula</th>\n",
       "      <th>revenue</th>\n",
       "    </tr>\n",
       "  </thead>\n",
       "  <tbody>\n",
       "    <tr>\n",
       "      <th>27868</th>\n",
       "      <td>Twentieth Century Fox Film Corporation</td>\n",
       "      <td>306.0</td>\n",
       "      <td>19995</td>\n",
       "      <td>2.787965e+09</td>\n",
       "    </tr>\n",
       "    <tr>\n",
       "      <th>27867</th>\n",
       "      <td>Ingenious Film Partners</td>\n",
       "      <td>289.0</td>\n",
       "      <td>19995</td>\n",
       "      <td>2.787965e+09</td>\n",
       "    </tr>\n",
       "    <tr>\n",
       "      <th>27870</th>\n",
       "      <td>Lightstorm Entertainment</td>\n",
       "      <td>574.0</td>\n",
       "      <td>19995</td>\n",
       "      <td>2.787965e+09</td>\n",
       "    </tr>\n",
       "    <tr>\n",
       "      <th>27869</th>\n",
       "      <td>Dune Entertainment</td>\n",
       "      <td>444.0</td>\n",
       "      <td>19995</td>\n",
       "      <td>2.787965e+09</td>\n",
       "    </tr>\n",
       "    <tr>\n",
       "      <th>47008</th>\n",
       "      <td>Lucasfilm</td>\n",
       "      <td>1.0</td>\n",
       "      <td>140607</td>\n",
       "      <td>2.068224e+09</td>\n",
       "    </tr>\n",
       "  </tbody>\n",
       "</table>\n",
       "</div>"
      ],
      "text/plain": [
       "                                         name     id  id_pelicula  \\\n",
       "27868  Twentieth Century Fox Film Corporation  306.0        19995   \n",
       "27867                 Ingenious Film Partners  289.0        19995   \n",
       "27870                Lightstorm Entertainment  574.0        19995   \n",
       "27869                      Dune Entertainment  444.0        19995   \n",
       "47008                               Lucasfilm    1.0       140607   \n",
       "\n",
       "            revenue  \n",
       "27868  2.787965e+09  \n",
       "27867  2.787965e+09  \n",
       "27870  2.787965e+09  \n",
       "27869  2.787965e+09  \n",
       "47008  2.068224e+09  "
      ]
     },
     "execution_count": 210,
     "metadata": {},
     "output_type": "execute_result"
    }
   ],
   "source": [
    "df_production_companies.sort_values(by='revenue',ascending=False).head(5)"
   ]
  },
  {
   "cell_type": "code",
   "execution_count": 87,
   "metadata": {},
   "outputs": [
    {
     "data": {
      "text/plain": [
       "'La productora Pixar Animation Studios ha tenido un revenue de 11188533734.0 y realizó 52 peliculas.'"
      ]
     },
     "execution_count": 87,
     "metadata": {},
     "output_type": "execute_result"
    }
   ],
   "source": [
    "productoras_exitosas('Pixar Animation Studios')"
   ]
  },
  {
   "attachments": {},
   "cell_type": "markdown",
   "metadata": {},
   "source": [
    "def get_director( nombre_director ): Se ingresa el nombre de un director que se encuentre dentro de un dataset debiendo devolver el éxito del mismo medido a través del retorno. Además, deberá devolver el nombre de cada película con la fecha de lanzamiento, retorno individual, costo y ganancia de la misma, en formato lista."
   ]
  },
  {
   "cell_type": "code",
   "execution_count": 148,
   "metadata": {},
   "outputs": [
    {
     "data": {
      "text/html": [
       "<div>\n",
       "<style scoped>\n",
       "    .dataframe tbody tr th:only-of-type {\n",
       "        vertical-align: middle;\n",
       "    }\n",
       "\n",
       "    .dataframe tbody tr th {\n",
       "        vertical-align: top;\n",
       "    }\n",
       "\n",
       "    .dataframe thead th {\n",
       "        text-align: right;\n",
       "    }\n",
       "</style>\n",
       "<table border=\"1\" class=\"dataframe\">\n",
       "  <thead>\n",
       "    <tr style=\"text-align: right;\">\n",
       "      <th></th>\n",
       "      <th>department</th>\n",
       "      <th>gender</th>\n",
       "      <th>id</th>\n",
       "      <th>job</th>\n",
       "      <th>name</th>\n",
       "      <th>id_pelicula</th>\n",
       "    </tr>\n",
       "  </thead>\n",
       "  <tbody>\n",
       "    <tr>\n",
       "      <th>0</th>\n",
       "      <td>Directing</td>\n",
       "      <td>2.0</td>\n",
       "      <td>7879.0</td>\n",
       "      <td>Director</td>\n",
       "      <td>John Lasseter</td>\n",
       "      <td>862</td>\n",
       "    </tr>\n",
       "    <tr>\n",
       "      <th>1</th>\n",
       "      <td>Writing</td>\n",
       "      <td>2.0</td>\n",
       "      <td>12891.0</td>\n",
       "      <td>Screenplay</td>\n",
       "      <td>Joss Whedon</td>\n",
       "      <td>862</td>\n",
       "    </tr>\n",
       "    <tr>\n",
       "      <th>2</th>\n",
       "      <td>Writing</td>\n",
       "      <td>2.0</td>\n",
       "      <td>7.0</td>\n",
       "      <td>Screenplay</td>\n",
       "      <td>Andrew Stanton</td>\n",
       "      <td>862</td>\n",
       "    </tr>\n",
       "    <tr>\n",
       "      <th>3</th>\n",
       "      <td>Writing</td>\n",
       "      <td>2.0</td>\n",
       "      <td>12892.0</td>\n",
       "      <td>Screenplay</td>\n",
       "      <td>Joel Cohen</td>\n",
       "      <td>862</td>\n",
       "    </tr>\n",
       "    <tr>\n",
       "      <th>4</th>\n",
       "      <td>Writing</td>\n",
       "      <td>0.0</td>\n",
       "      <td>12893.0</td>\n",
       "      <td>Screenplay</td>\n",
       "      <td>Alec Sokolow</td>\n",
       "      <td>862</td>\n",
       "    </tr>\n",
       "    <tr>\n",
       "      <th>...</th>\n",
       "      <td>...</td>\n",
       "      <td>...</td>\n",
       "      <td>...</td>\n",
       "      <td>...</td>\n",
       "      <td>...</td>\n",
       "      <td>...</td>\n",
       "    </tr>\n",
       "    <tr>\n",
       "      <th>464309</th>\n",
       "      <td>Sound</td>\n",
       "      <td>0.0</td>\n",
       "      <td>549356.0</td>\n",
       "      <td>Original Music Composer</td>\n",
       "      <td>Richard McHugh</td>\n",
       "      <td>67758</td>\n",
       "    </tr>\n",
       "    <tr>\n",
       "      <th>464310</th>\n",
       "      <td>Camera</td>\n",
       "      <td>2.0</td>\n",
       "      <td>58818.0</td>\n",
       "      <td>Director of Photography</td>\n",
       "      <td>João Fernandes</td>\n",
       "      <td>67758</td>\n",
       "    </tr>\n",
       "    <tr>\n",
       "      <th>464311</th>\n",
       "      <td>Directing</td>\n",
       "      <td>0.0</td>\n",
       "      <td>1085341.0</td>\n",
       "      <td>Director</td>\n",
       "      <td>Yakov Protazanov</td>\n",
       "      <td>227506</td>\n",
       "    </tr>\n",
       "    <tr>\n",
       "      <th>464312</th>\n",
       "      <td>Production</td>\n",
       "      <td>2.0</td>\n",
       "      <td>1195656.0</td>\n",
       "      <td>Producer</td>\n",
       "      <td>Joseph N. Ermolieff</td>\n",
       "      <td>227506</td>\n",
       "    </tr>\n",
       "    <tr>\n",
       "      <th>464313</th>\n",
       "      <td>Directing</td>\n",
       "      <td>0.0</td>\n",
       "      <td>1344495.0</td>\n",
       "      <td>Director</td>\n",
       "      <td>Daisy Asquith</td>\n",
       "      <td>461257</td>\n",
       "    </tr>\n",
       "  </tbody>\n",
       "</table>\n",
       "<p>464314 rows × 6 columns</p>\n",
       "</div>"
      ],
      "text/plain": [
       "        department  gender         id                      job  \\\n",
       "0        Directing     2.0     7879.0                 Director   \n",
       "1          Writing     2.0    12891.0               Screenplay   \n",
       "2          Writing     2.0        7.0               Screenplay   \n",
       "3          Writing     2.0    12892.0               Screenplay   \n",
       "4          Writing     0.0    12893.0               Screenplay   \n",
       "...            ...     ...        ...                      ...   \n",
       "464309       Sound     0.0   549356.0  Original Music Composer   \n",
       "464310      Camera     2.0    58818.0  Director of Photography   \n",
       "464311   Directing     0.0  1085341.0                 Director   \n",
       "464312  Production     2.0  1195656.0                 Producer   \n",
       "464313   Directing     0.0  1344495.0                 Director   \n",
       "\n",
       "                       name  id_pelicula  \n",
       "0             John Lasseter          862  \n",
       "1               Joss Whedon          862  \n",
       "2            Andrew Stanton          862  \n",
       "3                Joel Cohen          862  \n",
       "4              Alec Sokolow          862  \n",
       "...                     ...          ...  \n",
       "464309       Richard McHugh        67758  \n",
       "464310       João Fernandes        67758  \n",
       "464311     Yakov Protazanov       227506  \n",
       "464312  Joseph N. Ermolieff       227506  \n",
       "464313        Daisy Asquith       461257  \n",
       "\n",
       "[464314 rows x 6 columns]"
      ]
     },
     "execution_count": 148,
     "metadata": {},
     "output_type": "execute_result"
    }
   ],
   "source": [
    "df_crew"
   ]
  },
  {
   "cell_type": "code",
   "execution_count": 256,
   "metadata": {},
   "outputs": [],
   "source": [
    "def get_director(nombre_director:str):\n",
    "    '''\n",
    "    - Toma un solo nombre a la vez\n",
    "    Devuelve el director con su exito (suma de return de todas sus peliculas), y luego una lista de listas.\n",
    "    Cada lista dentro es una pelicula del director, los valores dentro de esas listas son : \n",
    "    [NombrePelicula,FechaLanzamiento,retorno,costo,ganacia] siendo estos sacados de las columnas (en mismo orden)= ['title','release_date','return','budget','revenue']\n",
    "    '''\n",
    "\n",
    "    nombre_director=nombre_director.strip()\n",
    "    df=df_crew[df_crew[\"job\"]=='Director'][df_crew['name']==nombre_director]\n",
    "    if df['name'].count().sum()==0:\n",
    "        return \"No se encuentra el director {}\".format(nombre_director)\n",
    "    id_pel=list(df['id_pelicula'].values)\n",
    "    df2=data[data['id_pelicula'].isin(id_pel)]\n",
    "    \n",
    "    df2.drop_duplicates(inplace=True)\n",
    "    df2=df2[['title','release_date','return','budget','revenue']]\n",
    "    \n",
    "    # Transformo la columna para que me de solamente la fecha\n",
    "    # Ya que al querer listarla me deja valores donde da hora y además dice que es un tipo timestamp\n",
    "    df2['release_date']=df2['release_date'].dt.strftime('%Y-%m-%d')\n",
    "    exito=df2[\"return\"].sum()\n",
    "    # Hacer la lista de lo pedido\n",
    "    lista_de_listas=df2.values.tolist()\n",
    "\n",
    "    return \"El director {} tiene un éxito de {}. {} {}.\".format(nombre_director, exito,'\\n',lista_de_listas)"
   ]
  },
  {
   "cell_type": "code",
   "execution_count": 220,
   "metadata": {},
   "outputs": [
    {
     "name": "stderr",
     "output_type": "stream",
     "text": [
      "C:\\Users\\lasso\\AppData\\Local\\Temp\\ipykernel_17160\\2219547917.py:1: UserWarning: Boolean Series key will be reindexed to match DataFrame index.\n",
      "  df=df_crew[df_crew[\"job\"]=='Director'][df_crew['name']=='Yakov Protazanov']\n"
     ]
    }
   ],
   "source": [
    "df=df_crew[df_crew[\"job\"]=='Director'][df_crew['name']=='Yakov Protazanov']\n",
    "id_pel=list(df['id_pelicula'].values)\n",
    "df2=data[data['id_pelicula'].isin(id_pel)]"
   ]
  },
  {
   "cell_type": "code",
   "execution_count": 222,
   "metadata": {},
   "outputs": [
    {
     "data": {
      "text/plain": [
       "[47190, 2973, 262806, 174588, 227506]"
      ]
     },
     "execution_count": 222,
     "metadata": {},
     "output_type": "execute_result"
    }
   ],
   "source": [
    "id_pel"
   ]
  },
  {
   "cell_type": "code",
   "execution_count": 253,
   "metadata": {},
   "outputs": [
    {
     "name": "stdout",
     "output_type": "stream",
     "text": [
      "El director Yakov Protazanov tiene un éxito de 0.0. \n",
      " [['Father Sergius', '1918-05-14', 0.0, 0.0, 0.0], ['Aelita: Queen of Mars', '1924-09-24', 0.0, 0.0, 0.0], ['The Forty-First', '1927-04-01', 0.0, 0.0, 0.0], ['The Queen of Spades', '1916-04-01', 0.0, 0.0, 0.0], ['Satan Triumphant', '1917-10-21', 0.0, 0.0, 0.0]].\n"
     ]
    },
    {
     "name": "stderr",
     "output_type": "stream",
     "text": [
      "C:\\Users\\lasso\\AppData\\Local\\Temp\\ipykernel_17160\\1274740117.py:9: UserWarning: Boolean Series key will be reindexed to match DataFrame index.\n",
      "  df=df_crew[df_crew[\"job\"]=='Director'][df_crew['name']==nombre_director]\n",
      "C:\\Users\\lasso\\AppData\\Local\\Temp\\ipykernel_17160\\1274740117.py:13: SettingWithCopyWarning: \n",
      "A value is trying to be set on a copy of a slice from a DataFrame\n",
      "\n",
      "See the caveats in the documentation: https://pandas.pydata.org/pandas-docs/stable/user_guide/indexing.html#returning-a-view-versus-a-copy\n",
      "  df2.drop_duplicates(inplace=True)\n"
     ]
    }
   ],
   "source": [
    "print(get_director('Yakov Protazanov'))"
   ]
  },
  {
   "cell_type": "code",
   "execution_count": 218,
   "metadata": {},
   "outputs": [
    {
     "data": {
      "text/html": [
       "<div>\n",
       "<style scoped>\n",
       "    .dataframe tbody tr th:only-of-type {\n",
       "        vertical-align: middle;\n",
       "    }\n",
       "\n",
       "    .dataframe tbody tr th {\n",
       "        vertical-align: top;\n",
       "    }\n",
       "\n",
       "    .dataframe thead th {\n",
       "        text-align: right;\n",
       "    }\n",
       "</style>\n",
       "<table border=\"1\" class=\"dataframe\">\n",
       "  <thead>\n",
       "    <tr style=\"text-align: right;\">\n",
       "      <th></th>\n",
       "      <th>department</th>\n",
       "      <th>gender</th>\n",
       "      <th>id</th>\n",
       "      <th>job</th>\n",
       "      <th>name</th>\n",
       "      <th>id_pelicula</th>\n",
       "    </tr>\n",
       "  </thead>\n",
       "  <tbody>\n",
       "    <tr>\n",
       "      <th>0</th>\n",
       "      <td>Directing</td>\n",
       "      <td>2.0</td>\n",
       "      <td>7879.0</td>\n",
       "      <td>Director</td>\n",
       "      <td>John Lasseter</td>\n",
       "      <td>862</td>\n",
       "    </tr>\n",
       "    <tr>\n",
       "      <th>109</th>\n",
       "      <td>Directing</td>\n",
       "      <td>2.0</td>\n",
       "      <td>4945.0</td>\n",
       "      <td>Director</td>\n",
       "      <td>Joe Johnston</td>\n",
       "      <td>8844</td>\n",
       "    </tr>\n",
       "    <tr>\n",
       "      <th>122</th>\n",
       "      <td>Directing</td>\n",
       "      <td>2.0</td>\n",
       "      <td>26502.0</td>\n",
       "      <td>Director</td>\n",
       "      <td>Howard Deutch</td>\n",
       "      <td>15602</td>\n",
       "    </tr>\n",
       "    <tr>\n",
       "      <th>126</th>\n",
       "      <td>Directing</td>\n",
       "      <td>2.0</td>\n",
       "      <td>2178.0</td>\n",
       "      <td>Director</td>\n",
       "      <td>Forest Whitaker</td>\n",
       "      <td>31357</td>\n",
       "    </tr>\n",
       "    <tr>\n",
       "      <th>141</th>\n",
       "      <td>Directing</td>\n",
       "      <td>2.0</td>\n",
       "      <td>56106.0</td>\n",
       "      <td>Director</td>\n",
       "      <td>Charles Shyer</td>\n",
       "      <td>11862</td>\n",
       "    </tr>\n",
       "    <tr>\n",
       "      <th>...</th>\n",
       "      <td>...</td>\n",
       "      <td>...</td>\n",
       "      <td>...</td>\n",
       "      <td>...</td>\n",
       "      <td>...</td>\n",
       "      <td>...</td>\n",
       "    </tr>\n",
       "    <tr>\n",
       "      <th>464291</th>\n",
       "      <td>Directing</td>\n",
       "      <td>0.0</td>\n",
       "      <td>1182809.0</td>\n",
       "      <td>Director</td>\n",
       "      <td>Hamid Nematollah</td>\n",
       "      <td>439050</td>\n",
       "    </tr>\n",
       "    <tr>\n",
       "      <th>464300</th>\n",
       "      <td>Directing</td>\n",
       "      <td>0.0</td>\n",
       "      <td>1051381.0</td>\n",
       "      <td>Director</td>\n",
       "      <td>Lav Diaz</td>\n",
       "      <td>111109</td>\n",
       "    </tr>\n",
       "    <tr>\n",
       "      <th>464306</th>\n",
       "      <td>Directing</td>\n",
       "      <td>2.0</td>\n",
       "      <td>67753.0</td>\n",
       "      <td>Director</td>\n",
       "      <td>Mark L. Lester</td>\n",
       "      <td>67758</td>\n",
       "    </tr>\n",
       "    <tr>\n",
       "      <th>464311</th>\n",
       "      <td>Directing</td>\n",
       "      <td>0.0</td>\n",
       "      <td>1085341.0</td>\n",
       "      <td>Director</td>\n",
       "      <td>Yakov Protazanov</td>\n",
       "      <td>227506</td>\n",
       "    </tr>\n",
       "    <tr>\n",
       "      <th>464313</th>\n",
       "      <td>Directing</td>\n",
       "      <td>0.0</td>\n",
       "      <td>1344495.0</td>\n",
       "      <td>Director</td>\n",
       "      <td>Daisy Asquith</td>\n",
       "      <td>461257</td>\n",
       "    </tr>\n",
       "  </tbody>\n",
       "</table>\n",
       "<p>49048 rows × 6 columns</p>\n",
       "</div>"
      ],
      "text/plain": [
       "       department  gender         id       job              name  id_pelicula\n",
       "0       Directing     2.0     7879.0  Director     John Lasseter          862\n",
       "109     Directing     2.0     4945.0  Director      Joe Johnston         8844\n",
       "122     Directing     2.0    26502.0  Director     Howard Deutch        15602\n",
       "126     Directing     2.0     2178.0  Director   Forest Whitaker        31357\n",
       "141     Directing     2.0    56106.0  Director     Charles Shyer        11862\n",
       "...           ...     ...        ...       ...               ...          ...\n",
       "464291  Directing     0.0  1182809.0  Director  Hamid Nematollah       439050\n",
       "464300  Directing     0.0  1051381.0  Director          Lav Diaz       111109\n",
       "464306  Directing     2.0    67753.0  Director    Mark L. Lester        67758\n",
       "464311  Directing     0.0  1085341.0  Director  Yakov Protazanov       227506\n",
       "464313  Directing     0.0  1344495.0  Director     Daisy Asquith       461257\n",
       "\n",
       "[49048 rows x 6 columns]"
      ]
     },
     "execution_count": 218,
     "metadata": {},
     "output_type": "execute_result"
    }
   ],
   "source": [
    "df_crew[df_crew[\"job\"]==\"Director\"]"
   ]
  },
  {
   "cell_type": "code",
   "execution_count": 214,
   "metadata": {},
   "outputs": [
    {
     "name": "stderr",
     "output_type": "stream",
     "text": [
      "C:\\Users\\lasso\\AppData\\Local\\Temp\\ipykernel_17160\\776470090.py:1: UserWarning: Boolean Series key will be reindexed to match DataFrame index.\n",
      "  df_crew[df_crew[\"job\"]=='Director'][df_crew['name']=='Richard McHugh'].count()\n"
     ]
    },
    {
     "data": {
      "text/plain": [
       "department     0\n",
       "gender         0\n",
       "id             0\n",
       "job            0\n",
       "name           0\n",
       "id_pelicula    0\n",
       "dtype: int64"
      ]
     },
     "execution_count": 214,
     "metadata": {},
     "output_type": "execute_result"
    }
   ],
   "source": [
    "df_crew[df_crew[\"job\"]=='Director'][df_crew['name']=='Richard McHugh'].count()"
   ]
  },
  {
   "cell_type": "code",
   "execution_count": 257,
   "metadata": {},
   "outputs": [
    {
     "name": "stderr",
     "output_type": "stream",
     "text": [
      "C:\\Users\\lasso\\AppData\\Local\\Temp\\ipykernel_17160\\670097669.py:10: UserWarning: Boolean Series key will be reindexed to match DataFrame index.\n",
      "  df=df_crew[df_crew[\"job\"]=='Director'][df_crew['name']==nombre_director]\n"
     ]
    },
    {
     "data": {
      "text/plain": [
       "'No se encuentra el director Richard McHugh'"
      ]
     },
     "execution_count": 257,
     "metadata": {},
     "output_type": "execute_result"
    }
   ],
   "source": [
    "get_director('Richard McHugh')"
   ]
  },
  {
   "cell_type": "code",
   "execution_count": 89,
   "metadata": {},
   "outputs": [
    {
     "name": "stderr",
     "output_type": "stream",
     "text": [
      "C:\\Users\\lasso\\AppData\\Local\\Temp\\ipykernel_17160\\1274740117.py:9: UserWarning: Boolean Series key will be reindexed to match DataFrame index.\n",
      "  df=df_crew[df_crew[\"job\"]=='Director'][df_crew['name']==nombre_director]\n",
      "C:\\Users\\lasso\\AppData\\Local\\Temp\\ipykernel_17160\\1274740117.py:13: SettingWithCopyWarning: \n",
      "A value is trying to be set on a copy of a slice from a DataFrame\n",
      "\n",
      "See the caveats in the documentation: https://pandas.pydata.org/pandas-docs/stable/user_guide/indexing.html#returning-a-view-versus-a-copy\n",
      "  df2.drop_duplicates(inplace=True)\n"
     ]
    }
   ],
   "source": [
    "a=get_director('John Lasseter')"
   ]
  },
  {
   "cell_type": "code",
   "execution_count": 90,
   "metadata": {},
   "outputs": [
    {
     "name": "stdout",
     "output_type": "stream",
     "text": [
      "El director John Lasseter tiene un éxito de 27.65437835777778. \n",
      " [['Toy Story', '1995-10-30', 12.4518011, 30000000.0, 373554033.0], [\"A Bug's Life\", '1998-11-25', 3.0271571583333334, 120000000.0, 363258859.0], ['Toy Story 2', '1999-10-30', 5.526298544444445, 90000000.0, 497366869.0], ['Luxo Jr.', '1986-08-17', 0.0, 0.0, 0.0], ['Cars', '2006-06-08', 3.849859575, 120000000.0, 461983149.0], ['Cars 2', '2011-06-11', 2.79926198, 200000000.0, 559852396.0], ['Tin Toy', '1988-08-01', 0.0, 0.0, 0.0], [\"Red's Dream\", '1987-08-17', 0.0, 0.0, 0.0], ['Knick Knack', '1989-01-01', 0.0, 0.0, 0.0], ['Mater and the Ghostlight', '2006-07-27', 0.0, 0.0, 0.0]].\n"
     ]
    }
   ],
   "source": [
    "print(a)"
   ]
  },
  {
   "cell_type": "code",
   "execution_count": 97,
   "metadata": {},
   "outputs": [
    {
     "name": "stderr",
     "output_type": "stream",
     "text": [
      "C:\\Users\\lasso\\AppData\\Local\\Temp\\ipykernel_17160\\3457473000.py:1: UserWarning: Boolean Series key will be reindexed to match DataFrame index.\n",
      "  f=df_crew[df_crew[\"job\"]=='Director'][df_crew['name']=='John Lasseter']\n"
     ]
    },
    {
     "data": {
      "text/plain": [
       "[862, 9487, 863, 13925, 920, 49013, 13927, 13926, 13928, 13934]"
      ]
     },
     "execution_count": 97,
     "metadata": {},
     "output_type": "execute_result"
    }
   ],
   "source": [
    "f=df_crew[df_crew[\"job\"]=='Director'][df_crew['name']=='John Lasseter']\n",
    "list(f['id_pelicula'].values)"
   ]
  },
  {
   "cell_type": "code",
   "execution_count": 98,
   "metadata": {},
   "outputs": [
    {
     "name": "stderr",
     "output_type": "stream",
     "text": [
      "C:\\Users\\lasso\\AppData\\Local\\Temp\\ipykernel_17160\\725889488.py:1: UserWarning: Boolean Series key will be reindexed to match DataFrame index.\n",
      "  df_crew[df_crew[\"job\"]=='Director'][df_crew['name']=='John Lasseter']\n"
     ]
    },
    {
     "data": {
      "text/html": [
       "<div>\n",
       "<style scoped>\n",
       "    .dataframe tbody tr th:only-of-type {\n",
       "        vertical-align: middle;\n",
       "    }\n",
       "\n",
       "    .dataframe tbody tr th {\n",
       "        vertical-align: top;\n",
       "    }\n",
       "\n",
       "    .dataframe thead th {\n",
       "        text-align: right;\n",
       "    }\n",
       "</style>\n",
       "<table border=\"1\" class=\"dataframe\">\n",
       "  <thead>\n",
       "    <tr style=\"text-align: right;\">\n",
       "      <th></th>\n",
       "      <th>department</th>\n",
       "      <th>gender</th>\n",
       "      <th>id</th>\n",
       "      <th>job</th>\n",
       "      <th>name</th>\n",
       "      <th>id_pelicula</th>\n",
       "    </tr>\n",
       "  </thead>\n",
       "  <tbody>\n",
       "    <tr>\n",
       "      <th>0</th>\n",
       "      <td>Directing</td>\n",
       "      <td>2.0</td>\n",
       "      <td>7879.0</td>\n",
       "      <td>Director</td>\n",
       "      <td>John Lasseter</td>\n",
       "      <td>862</td>\n",
       "    </tr>\n",
       "    <tr>\n",
       "      <th>36691</th>\n",
       "      <td>Directing</td>\n",
       "      <td>2.0</td>\n",
       "      <td>7879.0</td>\n",
       "      <td>Director</td>\n",
       "      <td>John Lasseter</td>\n",
       "      <td>9487</td>\n",
       "    </tr>\n",
       "    <tr>\n",
       "      <th>48422</th>\n",
       "      <td>Directing</td>\n",
       "      <td>2.0</td>\n",
       "      <td>7879.0</td>\n",
       "      <td>Director</td>\n",
       "      <td>John Lasseter</td>\n",
       "      <td>863</td>\n",
       "    </tr>\n",
       "    <tr>\n",
       "      <th>155962</th>\n",
       "      <td>Directing</td>\n",
       "      <td>2.0</td>\n",
       "      <td>7879.0</td>\n",
       "      <td>Director</td>\n",
       "      <td>John Lasseter</td>\n",
       "      <td>13925</td>\n",
       "    </tr>\n",
       "    <tr>\n",
       "      <th>160219</th>\n",
       "      <td>Directing</td>\n",
       "      <td>2.0</td>\n",
       "      <td>7879.0</td>\n",
       "      <td>Director</td>\n",
       "      <td>John Lasseter</td>\n",
       "      <td>920</td>\n",
       "    </tr>\n",
       "    <tr>\n",
       "      <th>232953</th>\n",
       "      <td>Directing</td>\n",
       "      <td>2.0</td>\n",
       "      <td>7879.0</td>\n",
       "      <td>Director</td>\n",
       "      <td>John Lasseter</td>\n",
       "      <td>49013</td>\n",
       "    </tr>\n",
       "    <tr>\n",
       "      <th>251591</th>\n",
       "      <td>Directing</td>\n",
       "      <td>2.0</td>\n",
       "      <td>7879.0</td>\n",
       "      <td>Director</td>\n",
       "      <td>John Lasseter</td>\n",
       "      <td>13927</td>\n",
       "    </tr>\n",
       "    <tr>\n",
       "      <th>252084</th>\n",
       "      <td>Directing</td>\n",
       "      <td>2.0</td>\n",
       "      <td>7879.0</td>\n",
       "      <td>Director</td>\n",
       "      <td>John Lasseter</td>\n",
       "      <td>13926</td>\n",
       "    </tr>\n",
       "    <tr>\n",
       "      <th>252455</th>\n",
       "      <td>Directing</td>\n",
       "      <td>2.0</td>\n",
       "      <td>7879.0</td>\n",
       "      <td>Director</td>\n",
       "      <td>John Lasseter</td>\n",
       "      <td>13928</td>\n",
       "    </tr>\n",
       "    <tr>\n",
       "      <th>286962</th>\n",
       "      <td>Directing</td>\n",
       "      <td>2.0</td>\n",
       "      <td>7879.0</td>\n",
       "      <td>Director</td>\n",
       "      <td>John Lasseter</td>\n",
       "      <td>13934</td>\n",
       "    </tr>\n",
       "  </tbody>\n",
       "</table>\n",
       "</div>"
      ],
      "text/plain": [
       "       department  gender      id       job           name  id_pelicula\n",
       "0       Directing     2.0  7879.0  Director  John Lasseter          862\n",
       "36691   Directing     2.0  7879.0  Director  John Lasseter         9487\n",
       "48422   Directing     2.0  7879.0  Director  John Lasseter          863\n",
       "155962  Directing     2.0  7879.0  Director  John Lasseter        13925\n",
       "160219  Directing     2.0  7879.0  Director  John Lasseter          920\n",
       "232953  Directing     2.0  7879.0  Director  John Lasseter        49013\n",
       "251591  Directing     2.0  7879.0  Director  John Lasseter        13927\n",
       "252084  Directing     2.0  7879.0  Director  John Lasseter        13926\n",
       "252455  Directing     2.0  7879.0  Director  John Lasseter        13928\n",
       "286962  Directing     2.0  7879.0  Director  John Lasseter        13934"
      ]
     },
     "execution_count": 98,
     "metadata": {},
     "output_type": "execute_result"
    }
   ],
   "source": [
    "df_crew[df_crew[\"job\"]=='Director'][df_crew['name']=='John Lasseter']"
   ]
  },
  {
   "cell_type": "code",
   "execution_count": 99,
   "metadata": {},
   "outputs": [
    {
     "name": "stderr",
     "output_type": "stream",
     "text": [
      "C:\\Users\\lasso\\AppData\\Local\\Temp\\ipykernel_17160\\1038338812.py:1: UserWarning: Boolean Series key will be reindexed to match DataFrame index.\n",
      "  array=df_crew[df_crew[\"job\"]=='Director'][df_crew['name']=='John Lasseter'].values\n"
     ]
    }
   ],
   "source": [
    "array=df_crew[df_crew[\"job\"]=='Director'][df_crew['name']=='John Lasseter'].values"
   ]
  },
  {
   "cell_type": "code",
   "execution_count": 100,
   "metadata": {},
   "outputs": [
    {
     "data": {
      "text/plain": [
       "array([['Directing', 2.0, 7879.0, 'Director', 'John Lasseter', 862],\n",
       "       ['Directing', 2.0, 7879.0, 'Director', 'John Lasseter', 9487],\n",
       "       ['Directing', 2.0, 7879.0, 'Director', 'John Lasseter', 863],\n",
       "       ['Directing', 2.0, 7879.0, 'Director', 'John Lasseter', 13925],\n",
       "       ['Directing', 2.0, 7879.0, 'Director', 'John Lasseter', 920],\n",
       "       ['Directing', 2.0, 7879.0, 'Director', 'John Lasseter', 49013],\n",
       "       ['Directing', 2.0, 7879.0, 'Director', 'John Lasseter', 13927],\n",
       "       ['Directing', 2.0, 7879.0, 'Director', 'John Lasseter', 13926],\n",
       "       ['Directing', 2.0, 7879.0, 'Director', 'John Lasseter', 13928],\n",
       "       ['Directing', 2.0, 7879.0, 'Director', 'John Lasseter', 13934]],\n",
       "      dtype=object)"
      ]
     },
     "execution_count": 100,
     "metadata": {},
     "output_type": "execute_result"
    }
   ],
   "source": [
    "array"
   ]
  },
  {
   "cell_type": "code",
   "execution_count": 102,
   "metadata": {},
   "outputs": [
    {
     "data": {
      "text/plain": [
       "['Directing', 2.0, 7879.0, 'Director', 'John Lasseter', 862]"
      ]
     },
     "execution_count": 102,
     "metadata": {},
     "output_type": "execute_result"
    }
   ],
   "source": [
    "list(array[0])"
   ]
  },
  {
   "cell_type": "code",
   "execution_count": 103,
   "metadata": {},
   "outputs": [
    {
     "name": "stderr",
     "output_type": "stream",
     "text": [
      "C:\\Users\\lasso\\AppData\\Local\\Temp\\ipykernel_17160\\2743243197.py:1: UserWarning: Boolean Series key will be reindexed to match DataFrame index.\n",
      "  lista=list(df_crew[df_crew[\"job\"]=='Director'][df_crew['name']=='John Lasseter'].values)\n"
     ]
    },
    {
     "data": {
      "text/plain": [
       "array(['Directing', 2.0, 7879.0, 'Director', 'John Lasseter', 862],\n",
       "      dtype=object)"
      ]
     },
     "execution_count": 103,
     "metadata": {},
     "output_type": "execute_result"
    }
   ],
   "source": [
    "lista=list(df_crew[df_crew[\"job\"]=='Director'][df_crew['name']=='John Lasseter'].values)\n",
    "lista[0]"
   ]
  },
  {
   "cell_type": "code",
   "execution_count": 204,
   "metadata": {},
   "outputs": [],
   "source": [
    "data.to_csv(r\"D:\\Programacion\\DataScience_Henry\\Proyecto_Individual1\\csv_limpios\\data.csv\",index=False)\n",
    "df_belongs_to_collection.to_csv(r\"D:\\Programacion\\DataScience_Henry\\Proyecto_Individual1\\csv_limpios\\collection.csv\",index=False)\n",
    "df_production_countries.to_csv(r\"D:\\Programacion\\DataScience_Henry\\Proyecto_Individual1\\csv_limpios\\countries.csv\",index=False)\n",
    "df_production_companies.to_csv(r\"D:\\Programacion\\DataScience_Henry\\Proyecto_Individual1\\csv_limpios\\companies.csv\",index=False)\n",
    "df_crew.to_csv(r\"D:\\Programacion\\DataScience_Henry\\Proyecto_Individual1\\csv_limpios\\crew.csv\",index=False)"
   ]
  },
  {
   "cell_type": "code",
   "execution_count": 258,
   "metadata": {},
   "outputs": [],
   "source": [
    "data=pd.read_csv(\".\\csv_limpios\\data.csv\")"
   ]
  },
  {
   "cell_type": "code",
   "execution_count": 260,
   "metadata": {},
   "outputs": [
    {
     "data": {
      "text/plain": [
       "str"
      ]
     },
     "execution_count": 260,
     "metadata": {},
     "output_type": "execute_result"
    }
   ],
   "source": [
    "type(data['release_date'][0])"
   ]
  },
  {
   "cell_type": "code",
   "execution_count": 261,
   "metadata": {},
   "outputs": [
    {
     "data": {
      "text/plain": [
       "numpy.float64"
      ]
     },
     "execution_count": 261,
     "metadata": {},
     "output_type": "execute_result"
    }
   ],
   "source": [
    "type(data['return'][0])"
   ]
  },
  {
   "attachments": {},
   "cell_type": "markdown",
   "metadata": {},
   "source": [
    "# Se empieza a preparar la API"
   ]
  },
  {
   "attachments": {},
   "cell_type": "markdown",
   "metadata": {},
   "source": [
    "Toda la parte de la api se encuentra en el archivo \"API.py\""
   ]
  },
  {
   "attachments": {},
   "cell_type": "markdown",
   "metadata": {},
   "source": [
    "# EDA"
   ]
  },
  {
   "cell_type": "code",
   "execution_count": null,
   "metadata": {},
   "outputs": [],
   "source": []
  },
  {
   "cell_type": "code",
   "execution_count": null,
   "metadata": {},
   "outputs": [],
   "source": []
  },
  {
   "cell_type": "code",
   "execution_count": null,
   "metadata": {},
   "outputs": [],
   "source": []
  },
  {
   "attachments": {},
   "cell_type": "markdown",
   "metadata": {},
   "source": [
    "# Sistema de recomendación"
   ]
  },
  {
   "attachments": {},
   "cell_type": "markdown",
   "metadata": {},
   "source": [
    "def recomendacion( titulo ): Se ingresa el nombre de una película y te recomienda las similares en una lista de 5 valores."
   ]
  },
  {
   "cell_type": "code",
   "execution_count": null,
   "metadata": {},
   "outputs": [],
   "source": []
  },
  {
   "cell_type": "code",
   "execution_count": null,
   "metadata": {},
   "outputs": [],
   "source": []
  },
  {
   "cell_type": "code",
   "execution_count": null,
   "metadata": {},
   "outputs": [],
   "source": []
  }
 ],
 "metadata": {
  "kernelspec": {
   "display_name": "Python 3",
   "language": "python",
   "name": "python3"
  },
  "language_info": {
   "codemirror_mode": {
    "name": "ipython",
    "version": 3
   },
   "file_extension": ".py",
   "mimetype": "text/x-python",
   "name": "python",
   "nbconvert_exporter": "python",
   "pygments_lexer": "ipython3",
   "version": "3.10.10"
  },
  "orig_nbformat": 4
 },
 "nbformat": 4,
 "nbformat_minor": 2
}
