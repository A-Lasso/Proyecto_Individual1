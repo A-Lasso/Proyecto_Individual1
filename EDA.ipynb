{
 "cells": [
  {
   "cell_type": "code",
   "execution_count": 3,
   "metadata": {},
   "outputs": [],
   "source": [
    "import pandas as pd\n",
    "import numpy as np\n",
    "import seaborn as sns\n",
    "import matplotlib.pyplot as plt"
   ]
  },
  {
   "cell_type": "code",
   "execution_count": 4,
   "metadata": {},
   "outputs": [],
   "source": [
    "# Directamente cargo los archivos para no tener que correr todo el código anterior.\n",
    "data=pd.read_csv(\"csv/data.csv\")\n",
    "df_belongs_to_collection=pd.read_csv(\"csv/collection.csv\")\n",
    "df_production_countries=pd.read_csv(\"csv/countries.csv\")\n",
    "df_production_companies=pd.read_csv(\"csv/companies.csv\")\n",
    "df_crew=pd.read_csv(\"csv/crew.csv\")\n",
    "df_genres=pd.read_csv(\"csv/genres.csv\")\n",
    "df_cast=pd.read_csv(\"csv/cast.csv\")"
   ]
  },
  {
   "cell_type": "markdown",
   "metadata": {},
   "source": [
    "# Preparar los df\n",
    "Hay que ponerlos de forma que se puedan juntar todos a uno (unirlos por id_pelicula, y que cada columna importante tenga su id -cambiar el nombre a aquellos que ya tengan id, para que no se repita el mismo nombre de -) y de ahi decidir las columnas que considero innecesarias para sacarlas.\n",
    "Más adelante se va a usar los df sin unir para conseguir la información necesaria desde el df que junta "
   ]
  },
  {
   "cell_type": "markdown",
   "metadata": {},
   "source": [
    "### data"
   ]
  },
  {
   "cell_type": "code",
   "execution_count": 5,
   "metadata": {},
   "outputs": [
    {
     "data": {
      "text/html": [
       "<div>\n",
       "<style scoped>\n",
       "    .dataframe tbody tr th:only-of-type {\n",
       "        vertical-align: middle;\n",
       "    }\n",
       "\n",
       "    .dataframe tbody tr th {\n",
       "        vertical-align: top;\n",
       "    }\n",
       "\n",
       "    .dataframe thead th {\n",
       "        text-align: right;\n",
       "    }\n",
       "</style>\n",
       "<table border=\"1\" class=\"dataframe\">\n",
       "  <thead>\n",
       "    <tr style=\"text-align: right;\">\n",
       "      <th></th>\n",
       "      <th>id_pelicula</th>\n",
       "      <th>title</th>\n",
       "      <th>overview</th>\n",
       "      <th>status</th>\n",
       "      <th>runtime</th>\n",
       "      <th>popularity</th>\n",
       "      <th>tagline</th>\n",
       "      <th>original_language</th>\n",
       "      <th>vote_average</th>\n",
       "      <th>vote_count</th>\n",
       "      <th>release_date</th>\n",
       "      <th>release_year</th>\n",
       "      <th>budget</th>\n",
       "      <th>revenue</th>\n",
       "      <th>return</th>\n",
       "    </tr>\n",
       "  </thead>\n",
       "  <tbody>\n",
       "    <tr>\n",
       "      <th>0</th>\n",
       "      <td>862</td>\n",
       "      <td>Toy Story</td>\n",
       "      <td>Led by Woody, Andy's toys live happily in his ...</td>\n",
       "      <td>Released</td>\n",
       "      <td>81.0</td>\n",
       "      <td>21.946943</td>\n",
       "      <td>NaN</td>\n",
       "      <td>en</td>\n",
       "      <td>7.7</td>\n",
       "      <td>5415.0</td>\n",
       "      <td>1995-10-30</td>\n",
       "      <td>1995</td>\n",
       "      <td>30000000.0</td>\n",
       "      <td>373554033.0</td>\n",
       "      <td>12.451801</td>\n",
       "    </tr>\n",
       "  </tbody>\n",
       "</table>\n",
       "</div>"
      ],
      "text/plain": [
       "   id_pelicula      title                                           overview  \\\n",
       "0          862  Toy Story  Led by Woody, Andy's toys live happily in his ...   \n",
       "\n",
       "     status  runtime  popularity tagline original_language  vote_average  \\\n",
       "0  Released     81.0   21.946943     NaN                en           7.7   \n",
       "\n",
       "   vote_count release_date  release_year      budget      revenue     return  \n",
       "0      5415.0   1995-10-30          1995  30000000.0  373554033.0  12.451801  "
      ]
     },
     "execution_count": 5,
     "metadata": {},
     "output_type": "execute_result"
    }
   ],
   "source": [
    "data.head(1)"
   ]
  },
  {
   "cell_type": "markdown",
   "metadata": {},
   "source": [
    "Considero innecesaria la fecha completa de estreno, voy a dejar solo el año."
   ]
  },
  {
   "cell_type": "code",
   "execution_count": 6,
   "metadata": {},
   "outputs": [],
   "source": [
    "data.drop(columns='release_date',inplace=True)"
   ]
  },
  {
   "cell_type": "code",
   "execution_count": 7,
   "metadata": {},
   "outputs": [
    {
     "data": {
      "text/html": [
       "<div>\n",
       "<style scoped>\n",
       "    .dataframe tbody tr th:only-of-type {\n",
       "        vertical-align: middle;\n",
       "    }\n",
       "\n",
       "    .dataframe tbody tr th {\n",
       "        vertical-align: top;\n",
       "    }\n",
       "\n",
       "    .dataframe thead th {\n",
       "        text-align: right;\n",
       "    }\n",
       "</style>\n",
       "<table border=\"1\" class=\"dataframe\">\n",
       "  <thead>\n",
       "    <tr style=\"text-align: right;\">\n",
       "      <th></th>\n",
       "      <th>id_pelicula</th>\n",
       "      <th>title</th>\n",
       "      <th>overview</th>\n",
       "      <th>status</th>\n",
       "      <th>runtime</th>\n",
       "      <th>popularity</th>\n",
       "      <th>tagline</th>\n",
       "      <th>original_language</th>\n",
       "      <th>vote_average</th>\n",
       "      <th>vote_count</th>\n",
       "      <th>release_year</th>\n",
       "      <th>budget</th>\n",
       "      <th>revenue</th>\n",
       "      <th>return</th>\n",
       "    </tr>\n",
       "  </thead>\n",
       "  <tbody>\n",
       "    <tr>\n",
       "      <th>0</th>\n",
       "      <td>862</td>\n",
       "      <td>Toy Story</td>\n",
       "      <td>Led by Woody, Andy's toys live happily in his ...</td>\n",
       "      <td>Released</td>\n",
       "      <td>81.0</td>\n",
       "      <td>21.946943</td>\n",
       "      <td>NaN</td>\n",
       "      <td>en</td>\n",
       "      <td>7.7</td>\n",
       "      <td>5415.0</td>\n",
       "      <td>1995</td>\n",
       "      <td>30000000.0</td>\n",
       "      <td>373554033.0</td>\n",
       "      <td>12.451801</td>\n",
       "    </tr>\n",
       "  </tbody>\n",
       "</table>\n",
       "</div>"
      ],
      "text/plain": [
       "   id_pelicula      title                                           overview  \\\n",
       "0          862  Toy Story  Led by Woody, Andy's toys live happily in his ...   \n",
       "\n",
       "     status  runtime  popularity tagline original_language  vote_average  \\\n",
       "0  Released     81.0   21.946943     NaN                en           7.7   \n",
       "\n",
       "   vote_count  release_year      budget      revenue     return  \n",
       "0      5415.0          1995  30000000.0  373554033.0  12.451801  "
      ]
     },
     "execution_count": 7,
     "metadata": {},
     "output_type": "execute_result"
    }
   ],
   "source": [
    "data.head(1)"
   ]
  },
  {
   "cell_type": "code",
   "execution_count": 8,
   "metadata": {},
   "outputs": [
    {
     "data": {
      "text/plain": [
       "numpy.int64"
      ]
     },
     "execution_count": 8,
     "metadata": {},
     "output_type": "execute_result"
    }
   ],
   "source": [
    "type(data['release_year'][0])"
   ]
  },
  {
   "cell_type": "markdown",
   "metadata": {},
   "source": [
    "Pasar \"status\" a numerico"
   ]
  },
  {
   "cell_type": "code",
   "execution_count": 9,
   "metadata": {},
   "outputs": [],
   "source": [
    "a=pd.factorize(data['status'])[0]\n",
    "data['status_num']=a"
   ]
  },
  {
   "cell_type": "code",
   "execution_count": 10,
   "metadata": {},
   "outputs": [
    {
     "data": {
      "text/plain": [
       "45346"
      ]
     },
     "execution_count": 10,
     "metadata": {},
     "output_type": "execute_result"
    }
   ],
   "source": [
    "len(data['id_pelicula'].unique())"
   ]
  },
  {
   "cell_type": "code",
   "execution_count": 11,
   "metadata": {},
   "outputs": [
    {
     "data": {
      "text/html": [
       "<div>\n",
       "<style scoped>\n",
       "    .dataframe tbody tr th:only-of-type {\n",
       "        vertical-align: middle;\n",
       "    }\n",
       "\n",
       "    .dataframe tbody tr th {\n",
       "        vertical-align: top;\n",
       "    }\n",
       "\n",
       "    .dataframe thead th {\n",
       "        text-align: right;\n",
       "    }\n",
       "</style>\n",
       "<table border=\"1\" class=\"dataframe\">\n",
       "  <thead>\n",
       "    <tr style=\"text-align: right;\">\n",
       "      <th></th>\n",
       "      <th>id_pelicula</th>\n",
       "      <th>title</th>\n",
       "      <th>overview</th>\n",
       "      <th>status</th>\n",
       "      <th>runtime</th>\n",
       "      <th>popularity</th>\n",
       "      <th>tagline</th>\n",
       "      <th>original_language</th>\n",
       "      <th>vote_average</th>\n",
       "      <th>vote_count</th>\n",
       "      <th>release_year</th>\n",
       "      <th>budget</th>\n",
       "      <th>revenue</th>\n",
       "      <th>return</th>\n",
       "      <th>status_num</th>\n",
       "    </tr>\n",
       "  </thead>\n",
       "  <tbody>\n",
       "    <tr>\n",
       "      <th>189</th>\n",
       "      <td>56088</td>\n",
       "      <td>The Show</td>\n",
       "      <td>A documentary about the culture of hip-hop. Th...</td>\n",
       "      <td>NaN</td>\n",
       "      <td>93.0</td>\n",
       "      <td>0.159596</td>\n",
       "      <td>What Happens On Stage Is Only Half The Story!</td>\n",
       "      <td>en</td>\n",
       "      <td>5.3</td>\n",
       "      <td>2.0</td>\n",
       "      <td>1995</td>\n",
       "      <td>0.0</td>\n",
       "      <td>0.0</td>\n",
       "      <td>0.0</td>\n",
       "      <td>-1</td>\n",
       "    </tr>\n",
       "    <tr>\n",
       "      <th>682</th>\n",
       "      <td>48260</td>\n",
       "      <td>Butterfly Kiss</td>\n",
       "      <td>Eunice is walking along the highways of northe...</td>\n",
       "      <td>Rumored</td>\n",
       "      <td>88.0</td>\n",
       "      <td>0.877853</td>\n",
       "      <td>NaN</td>\n",
       "      <td>en</td>\n",
       "      <td>7.4</td>\n",
       "      <td>5.0</td>\n",
       "      <td>1995</td>\n",
       "      <td>0.0</td>\n",
       "      <td>0.0</td>\n",
       "      <td>0.0</td>\n",
       "      <td>1</td>\n",
       "    </tr>\n",
       "    <tr>\n",
       "      <th>765</th>\n",
       "      <td>52059</td>\n",
       "      <td>The Gate of Heavenly Peace</td>\n",
       "      <td>The Gate of Heavenly Peace is a feature-length...</td>\n",
       "      <td>NaN</td>\n",
       "      <td>180.0</td>\n",
       "      <td>0.107050</td>\n",
       "      <td>NaN</td>\n",
       "      <td>en</td>\n",
       "      <td>6.7</td>\n",
       "      <td>3.0</td>\n",
       "      <td>1995</td>\n",
       "      <td>0.0</td>\n",
       "      <td>0.0</td>\n",
       "      <td>0.0</td>\n",
       "      <td>-1</td>\n",
       "    </tr>\n",
       "    <tr>\n",
       "      <th>773</th>\n",
       "      <td>44495</td>\n",
       "      <td>A Very Natural Thing</td>\n",
       "      <td>When David, an ex-monk still in his twenties m...</td>\n",
       "      <td>Rumored</td>\n",
       "      <td>80.0</td>\n",
       "      <td>0.147662</td>\n",
       "      <td>NaN</td>\n",
       "      <td>en</td>\n",
       "      <td>6.3</td>\n",
       "      <td>3.0</td>\n",
       "      <td>1974</td>\n",
       "      <td>0.0</td>\n",
       "      <td>0.0</td>\n",
       "      <td>0.0</td>\n",
       "      <td>1</td>\n",
       "    </tr>\n",
       "    <tr>\n",
       "      <th>1030</th>\n",
       "      <td>38191</td>\n",
       "      <td>The Sunchaser</td>\n",
       "      <td>A young half-Navajo convict (Jon Seda) dying o...</td>\n",
       "      <td>Rumored</td>\n",
       "      <td>122.0</td>\n",
       "      <td>2.358090</td>\n",
       "      <td>It began as a kidnapping. It became a journey ...</td>\n",
       "      <td>en</td>\n",
       "      <td>6.1</td>\n",
       "      <td>8.0</td>\n",
       "      <td>1996</td>\n",
       "      <td>0.0</td>\n",
       "      <td>0.0</td>\n",
       "      <td>0.0</td>\n",
       "      <td>1</td>\n",
       "    </tr>\n",
       "    <tr>\n",
       "      <th>...</th>\n",
       "      <td>...</td>\n",
       "      <td>...</td>\n",
       "      <td>...</td>\n",
       "      <td>...</td>\n",
       "      <td>...</td>\n",
       "      <td>...</td>\n",
       "      <td>...</td>\n",
       "      <td>...</td>\n",
       "      <td>...</td>\n",
       "      <td>...</td>\n",
       "      <td>...</td>\n",
       "      <td>...</td>\n",
       "      <td>...</td>\n",
       "      <td>...</td>\n",
       "      <td>...</td>\n",
       "    </tr>\n",
       "    <tr>\n",
       "      <th>45011</th>\n",
       "      <td>63568</td>\n",
       "      <td>But What If This Is Love?</td>\n",
       "      <td>High school students Ksenya and Boris are in l...</td>\n",
       "      <td>Rumored</td>\n",
       "      <td>102.0</td>\n",
       "      <td>0.104567</td>\n",
       "      <td>NaN</td>\n",
       "      <td>ru</td>\n",
       "      <td>5.0</td>\n",
       "      <td>1.0</td>\n",
       "      <td>1961</td>\n",
       "      <td>0.0</td>\n",
       "      <td>0.0</td>\n",
       "      <td>0.0</td>\n",
       "      <td>1</td>\n",
       "    </tr>\n",
       "    <tr>\n",
       "      <th>45060</th>\n",
       "      <td>41811</td>\n",
       "      <td>Eating</td>\n",
       "      <td>At a spacious house in Los Angeles, Helene is ...</td>\n",
       "      <td>NaN</td>\n",
       "      <td>110.0</td>\n",
       "      <td>0.000002</td>\n",
       "      <td>NaN</td>\n",
       "      <td>en</td>\n",
       "      <td>0.0</td>\n",
       "      <td>0.0</td>\n",
       "      <td>1990</td>\n",
       "      <td>0.0</td>\n",
       "      <td>0.0</td>\n",
       "      <td>0.0</td>\n",
       "      <td>-1</td>\n",
       "    </tr>\n",
       "    <tr>\n",
       "      <th>45107</th>\n",
       "      <td>414453</td>\n",
       "      <td>Columbus</td>\n",
       "      <td>A Korean-born man finds himself stuck in Colum...</td>\n",
       "      <td>Post Production</td>\n",
       "      <td>104.0</td>\n",
       "      <td>1.309265</td>\n",
       "      <td>NaN</td>\n",
       "      <td>en</td>\n",
       "      <td>6.0</td>\n",
       "      <td>4.0</td>\n",
       "      <td>2017</td>\n",
       "      <td>0.0</td>\n",
       "      <td>0.0</td>\n",
       "      <td>0.0</td>\n",
       "      <td>2</td>\n",
       "    </tr>\n",
       "    <tr>\n",
       "      <th>45189</th>\n",
       "      <td>87229</td>\n",
       "      <td>King's Road</td>\n",
       "      <td>After 3 years abroad Junior returns to Iceland...</td>\n",
       "      <td>Rumored</td>\n",
       "      <td>99.0</td>\n",
       "      <td>0.008498</td>\n",
       "      <td>When you are strange</td>\n",
       "      <td>is</td>\n",
       "      <td>0.0</td>\n",
       "      <td>0.0</td>\n",
       "      <td>2010</td>\n",
       "      <td>0.0</td>\n",
       "      <td>0.0</td>\n",
       "      <td>0.0</td>\n",
       "      <td>1</td>\n",
       "    </tr>\n",
       "    <tr>\n",
       "      <th>45340</th>\n",
       "      <td>44330</td>\n",
       "      <td>The Scheming Gambler's Paradise</td>\n",
       "      <td>A combination gambling den and bawdy house is ...</td>\n",
       "      <td>NaN</td>\n",
       "      <td>3.0</td>\n",
       "      <td>0.219260</td>\n",
       "      <td>NaN</td>\n",
       "      <td>en</td>\n",
       "      <td>5.0</td>\n",
       "      <td>3.0</td>\n",
       "      <td>1905</td>\n",
       "      <td>0.0</td>\n",
       "      <td>0.0</td>\n",
       "      <td>0.0</td>\n",
       "      <td>-1</td>\n",
       "    </tr>\n",
       "  </tbody>\n",
       "</table>\n",
       "<p>439 rows × 15 columns</p>\n",
       "</div>"
      ],
      "text/plain": [
       "       id_pelicula                            title  \\\n",
       "189          56088                         The Show   \n",
       "682          48260                   Butterfly Kiss   \n",
       "765          52059       The Gate of Heavenly Peace   \n",
       "773          44495             A Very Natural Thing   \n",
       "1030         38191                    The Sunchaser   \n",
       "...            ...                              ...   \n",
       "45011        63568        But What If This Is Love?   \n",
       "45060        41811                           Eating   \n",
       "45107       414453                         Columbus   \n",
       "45189        87229                      King's Road   \n",
       "45340        44330  The Scheming Gambler's Paradise   \n",
       "\n",
       "                                                overview           status  \\\n",
       "189    A documentary about the culture of hip-hop. Th...              NaN   \n",
       "682    Eunice is walking along the highways of northe...          Rumored   \n",
       "765    The Gate of Heavenly Peace is a feature-length...              NaN   \n",
       "773    When David, an ex-monk still in his twenties m...          Rumored   \n",
       "1030   A young half-Navajo convict (Jon Seda) dying o...          Rumored   \n",
       "...                                                  ...              ...   \n",
       "45011  High school students Ksenya and Boris are in l...          Rumored   \n",
       "45060  At a spacious house in Los Angeles, Helene is ...              NaN   \n",
       "45107  A Korean-born man finds himself stuck in Colum...  Post Production   \n",
       "45189  After 3 years abroad Junior returns to Iceland...          Rumored   \n",
       "45340  A combination gambling den and bawdy house is ...              NaN   \n",
       "\n",
       "       runtime  popularity                                            tagline  \\\n",
       "189       93.0    0.159596      What Happens On Stage Is Only Half The Story!   \n",
       "682       88.0    0.877853                                                NaN   \n",
       "765      180.0    0.107050                                                NaN   \n",
       "773       80.0    0.147662                                                NaN   \n",
       "1030     122.0    2.358090  It began as a kidnapping. It became a journey ...   \n",
       "...        ...         ...                                                ...   \n",
       "45011    102.0    0.104567                                                NaN   \n",
       "45060    110.0    0.000002                                                NaN   \n",
       "45107    104.0    1.309265                                                NaN   \n",
       "45189     99.0    0.008498                               When you are strange   \n",
       "45340      3.0    0.219260                                                NaN   \n",
       "\n",
       "      original_language  vote_average  vote_count  release_year  budget  \\\n",
       "189                  en           5.3         2.0          1995     0.0   \n",
       "682                  en           7.4         5.0          1995     0.0   \n",
       "765                  en           6.7         3.0          1995     0.0   \n",
       "773                  en           6.3         3.0          1974     0.0   \n",
       "1030                 en           6.1         8.0          1996     0.0   \n",
       "...                 ...           ...         ...           ...     ...   \n",
       "45011                ru           5.0         1.0          1961     0.0   \n",
       "45060                en           0.0         0.0          1990     0.0   \n",
       "45107                en           6.0         4.0          2017     0.0   \n",
       "45189                is           0.0         0.0          2010     0.0   \n",
       "45340                en           5.0         3.0          1905     0.0   \n",
       "\n",
       "       revenue  return  status_num  \n",
       "189        0.0     0.0          -1  \n",
       "682        0.0     0.0           1  \n",
       "765        0.0     0.0          -1  \n",
       "773        0.0     0.0           1  \n",
       "1030       0.0     0.0           1  \n",
       "...        ...     ...         ...  \n",
       "45011      0.0     0.0           1  \n",
       "45060      0.0     0.0          -1  \n",
       "45107      0.0     0.0           2  \n",
       "45189      0.0     0.0           1  \n",
       "45340      0.0     0.0          -1  \n",
       "\n",
       "[439 rows x 15 columns]"
      ]
     },
     "execution_count": 11,
     "metadata": {},
     "output_type": "execute_result"
    }
   ],
   "source": [
    "data[data['status_num']!=0]"
   ]
  },
  {
   "cell_type": "code",
   "execution_count": 12,
   "metadata": {},
   "outputs": [
    {
     "data": {
      "text/html": [
       "<div>\n",
       "<style scoped>\n",
       "    .dataframe tbody tr th:only-of-type {\n",
       "        vertical-align: middle;\n",
       "    }\n",
       "\n",
       "    .dataframe tbody tr th {\n",
       "        vertical-align: top;\n",
       "    }\n",
       "\n",
       "    .dataframe thead th {\n",
       "        text-align: right;\n",
       "    }\n",
       "</style>\n",
       "<table border=\"1\" class=\"dataframe\">\n",
       "  <thead>\n",
       "    <tr style=\"text-align: right;\">\n",
       "      <th></th>\n",
       "      <th>id_pelicula</th>\n",
       "      <th>title</th>\n",
       "      <th>overview</th>\n",
       "      <th>status</th>\n",
       "      <th>runtime</th>\n",
       "      <th>popularity</th>\n",
       "      <th>tagline</th>\n",
       "      <th>original_language</th>\n",
       "      <th>vote_average</th>\n",
       "      <th>vote_count</th>\n",
       "      <th>release_year</th>\n",
       "      <th>budget</th>\n",
       "      <th>revenue</th>\n",
       "      <th>return</th>\n",
       "      <th>status_num</th>\n",
       "    </tr>\n",
       "  </thead>\n",
       "  <tbody>\n",
       "    <tr>\n",
       "      <th>0</th>\n",
       "      <td>862</td>\n",
       "      <td>Toy Story</td>\n",
       "      <td>Led by Woody, Andy's toys live happily in his ...</td>\n",
       "      <td>Released</td>\n",
       "      <td>81.0</td>\n",
       "      <td>21.946943</td>\n",
       "      <td>NaN</td>\n",
       "      <td>en</td>\n",
       "      <td>7.7</td>\n",
       "      <td>5415.0</td>\n",
       "      <td>1995</td>\n",
       "      <td>30000000.0</td>\n",
       "      <td>373554033.0</td>\n",
       "      <td>12.451801</td>\n",
       "      <td>0</td>\n",
       "    </tr>\n",
       "    <tr>\n",
       "      <th>1</th>\n",
       "      <td>8844</td>\n",
       "      <td>Jumanji</td>\n",
       "      <td>When siblings Judy and Peter discover an encha...</td>\n",
       "      <td>Released</td>\n",
       "      <td>104.0</td>\n",
       "      <td>17.015539</td>\n",
       "      <td>Roll the dice and unleash the excitement!</td>\n",
       "      <td>en</td>\n",
       "      <td>6.9</td>\n",
       "      <td>2413.0</td>\n",
       "      <td>1995</td>\n",
       "      <td>65000000.0</td>\n",
       "      <td>262797249.0</td>\n",
       "      <td>4.043035</td>\n",
       "      <td>0</td>\n",
       "    </tr>\n",
       "    <tr>\n",
       "      <th>2</th>\n",
       "      <td>15602</td>\n",
       "      <td>Grumpier Old Men</td>\n",
       "      <td>A family wedding reignites the ancient feud be...</td>\n",
       "      <td>Released</td>\n",
       "      <td>101.0</td>\n",
       "      <td>11.712900</td>\n",
       "      <td>Still Yelling. Still Fighting. Still Ready for...</td>\n",
       "      <td>en</td>\n",
       "      <td>6.5</td>\n",
       "      <td>92.0</td>\n",
       "      <td>1995</td>\n",
       "      <td>0.0</td>\n",
       "      <td>0.0</td>\n",
       "      <td>0.000000</td>\n",
       "      <td>0</td>\n",
       "    </tr>\n",
       "  </tbody>\n",
       "</table>\n",
       "</div>"
      ],
      "text/plain": [
       "   id_pelicula             title  \\\n",
       "0          862         Toy Story   \n",
       "1         8844           Jumanji   \n",
       "2        15602  Grumpier Old Men   \n",
       "\n",
       "                                            overview    status  runtime  \\\n",
       "0  Led by Woody, Andy's toys live happily in his ...  Released     81.0   \n",
       "1  When siblings Judy and Peter discover an encha...  Released    104.0   \n",
       "2  A family wedding reignites the ancient feud be...  Released    101.0   \n",
       "\n",
       "   popularity                                            tagline  \\\n",
       "0   21.946943                                                NaN   \n",
       "1   17.015539          Roll the dice and unleash the excitement!   \n",
       "2   11.712900  Still Yelling. Still Fighting. Still Ready for...   \n",
       "\n",
       "  original_language  vote_average  vote_count  release_year      budget  \\\n",
       "0                en           7.7      5415.0          1995  30000000.0   \n",
       "1                en           6.9      2413.0          1995  65000000.0   \n",
       "2                en           6.5        92.0          1995         0.0   \n",
       "\n",
       "       revenue     return  status_num  \n",
       "0  373554033.0  12.451801           0  \n",
       "1  262797249.0   4.043035           0  \n",
       "2          0.0   0.000000           0  "
      ]
     },
     "execution_count": 12,
     "metadata": {},
     "output_type": "execute_result"
    }
   ],
   "source": [
    "data.head(3)"
   ]
  },
  {
   "cell_type": "markdown",
   "metadata": {},
   "source": [
    "Uno los dataframe a uno grande para realizar el analisis de relaciones entre las variables. Hay df que considere innecesarios de unir (el de paises, por ej)"
   ]
  },
  {
   "cell_type": "markdown",
   "metadata": {},
   "source": [
    "Cambio los nombres de los id de cada df para diferenciarlos y que no se superpongan, al cambiarlos voy a poner \"df_id\" o una abreviación del nombre del df"
   ]
  },
  {
   "cell_type": "markdown",
   "metadata": {},
   "source": [
    "### countries"
   ]
  },
  {
   "cell_type": "markdown",
   "metadata": {},
   "source": [
    "Tiene problemas de memoria al ser tan grande, aún asi lo considero innecesario asi que no se va a mergear en el df de todo.<br>\n",
    "Pero se analizó igual."
   ]
  },
  {
   "cell_type": "code",
   "execution_count": 13,
   "metadata": {},
   "outputs": [
    {
     "data": {
      "text/html": [
       "<div>\n",
       "<style scoped>\n",
       "    .dataframe tbody tr th:only-of-type {\n",
       "        vertical-align: middle;\n",
       "    }\n",
       "\n",
       "    .dataframe tbody tr th {\n",
       "        vertical-align: top;\n",
       "    }\n",
       "\n",
       "    .dataframe thead th {\n",
       "        text-align: right;\n",
       "    }\n",
       "</style>\n",
       "<table border=\"1\" class=\"dataframe\">\n",
       "  <thead>\n",
       "    <tr style=\"text-align: right;\">\n",
       "      <th></th>\n",
       "      <th>iso_3166_1</th>\n",
       "      <th>name</th>\n",
       "      <th>id_pelicula</th>\n",
       "    </tr>\n",
       "  </thead>\n",
       "  <tbody>\n",
       "    <tr>\n",
       "      <th>0</th>\n",
       "      <td>US</td>\n",
       "      <td>United States of America</td>\n",
       "      <td>862</td>\n",
       "    </tr>\n",
       "  </tbody>\n",
       "</table>\n",
       "</div>"
      ],
      "text/plain": [
       "  iso_3166_1                      name  id_pelicula\n",
       "0         US  United States of America          862"
      ]
     },
     "execution_count": 13,
     "metadata": {},
     "output_type": "execute_result"
    }
   ],
   "source": [
    "df_production_countries.head(1)"
   ]
  },
  {
   "cell_type": "markdown",
   "metadata": {},
   "source": [
    "Como los paises no tienen id les creo unos con el metodo 'factorize' de pandas"
   ]
  },
  {
   "cell_type": "code",
   "execution_count": 14,
   "metadata": {},
   "outputs": [],
   "source": [
    "a=pd.factorize(df_production_countries['name'])[0]"
   ]
  },
  {
   "cell_type": "code",
   "execution_count": 15,
   "metadata": {},
   "outputs": [],
   "source": [
    "df_production_countries['countrie_id']=a"
   ]
  },
  {
   "cell_type": "code",
   "execution_count": 16,
   "metadata": {},
   "outputs": [
    {
     "data": {
      "text/html": [
       "<div>\n",
       "<style scoped>\n",
       "    .dataframe tbody tr th:only-of-type {\n",
       "        vertical-align: middle;\n",
       "    }\n",
       "\n",
       "    .dataframe tbody tr th {\n",
       "        vertical-align: top;\n",
       "    }\n",
       "\n",
       "    .dataframe thead th {\n",
       "        text-align: right;\n",
       "    }\n",
       "</style>\n",
       "<table border=\"1\" class=\"dataframe\">\n",
       "  <thead>\n",
       "    <tr style=\"text-align: right;\">\n",
       "      <th></th>\n",
       "      <th>iso_3166_1</th>\n",
       "      <th>name</th>\n",
       "      <th>id_pelicula</th>\n",
       "      <th>countrie_id</th>\n",
       "    </tr>\n",
       "  </thead>\n",
       "  <tbody>\n",
       "    <tr>\n",
       "      <th>0</th>\n",
       "      <td>US</td>\n",
       "      <td>United States of America</td>\n",
       "      <td>862</td>\n",
       "      <td>0</td>\n",
       "    </tr>\n",
       "    <tr>\n",
       "      <th>1</th>\n",
       "      <td>US</td>\n",
       "      <td>United States of America</td>\n",
       "      <td>8844</td>\n",
       "      <td>0</td>\n",
       "    </tr>\n",
       "    <tr>\n",
       "      <th>2</th>\n",
       "      <td>US</td>\n",
       "      <td>United States of America</td>\n",
       "      <td>15602</td>\n",
       "      <td>0</td>\n",
       "    </tr>\n",
       "    <tr>\n",
       "      <th>3</th>\n",
       "      <td>US</td>\n",
       "      <td>United States of America</td>\n",
       "      <td>31357</td>\n",
       "      <td>0</td>\n",
       "    </tr>\n",
       "    <tr>\n",
       "      <th>4</th>\n",
       "      <td>US</td>\n",
       "      <td>United States of America</td>\n",
       "      <td>11862</td>\n",
       "      <td>0</td>\n",
       "    </tr>\n",
       "    <tr>\n",
       "      <th>...</th>\n",
       "      <td>...</td>\n",
       "      <td>...</td>\n",
       "      <td>...</td>\n",
       "      <td>...</td>\n",
       "    </tr>\n",
       "    <tr>\n",
       "      <th>49403</th>\n",
       "      <td>US</td>\n",
       "      <td>United States of America</td>\n",
       "      <td>30840</td>\n",
       "      <td>0</td>\n",
       "    </tr>\n",
       "    <tr>\n",
       "      <th>49404</th>\n",
       "      <td>PH</td>\n",
       "      <td>Philippines</td>\n",
       "      <td>111109</td>\n",
       "      <td>47</td>\n",
       "    </tr>\n",
       "    <tr>\n",
       "      <th>49405</th>\n",
       "      <td>US</td>\n",
       "      <td>United States of America</td>\n",
       "      <td>67758</td>\n",
       "      <td>0</td>\n",
       "    </tr>\n",
       "    <tr>\n",
       "      <th>49406</th>\n",
       "      <td>RU</td>\n",
       "      <td>Russia</td>\n",
       "      <td>227506</td>\n",
       "      <td>20</td>\n",
       "    </tr>\n",
       "    <tr>\n",
       "      <th>49407</th>\n",
       "      <td>GB</td>\n",
       "      <td>United Kingdom</td>\n",
       "      <td>461257</td>\n",
       "      <td>2</td>\n",
       "    </tr>\n",
       "  </tbody>\n",
       "</table>\n",
       "<p>49408 rows × 4 columns</p>\n",
       "</div>"
      ],
      "text/plain": [
       "      iso_3166_1                      name  id_pelicula  countrie_id\n",
       "0             US  United States of America          862            0\n",
       "1             US  United States of America         8844            0\n",
       "2             US  United States of America        15602            0\n",
       "3             US  United States of America        31357            0\n",
       "4             US  United States of America        11862            0\n",
       "...          ...                       ...          ...          ...\n",
       "49403         US  United States of America        30840            0\n",
       "49404         PH               Philippines       111109           47\n",
       "49405         US  United States of America        67758            0\n",
       "49406         RU                    Russia       227506           20\n",
       "49407         GB            United Kingdom       461257            2\n",
       "\n",
       "[49408 rows x 4 columns]"
      ]
     },
     "execution_count": 16,
     "metadata": {},
     "output_type": "execute_result"
    }
   ],
   "source": [
    "df_production_countries"
   ]
  },
  {
   "cell_type": "code",
   "execution_count": 17,
   "metadata": {},
   "outputs": [
    {
     "data": {
      "text/html": [
       "<div>\n",
       "<style scoped>\n",
       "    .dataframe tbody tr th:only-of-type {\n",
       "        vertical-align: middle;\n",
       "    }\n",
       "\n",
       "    .dataframe tbody tr th {\n",
       "        vertical-align: top;\n",
       "    }\n",
       "\n",
       "    .dataframe thead th {\n",
       "        text-align: right;\n",
       "    }\n",
       "</style>\n",
       "<table border=\"1\" class=\"dataframe\">\n",
       "  <thead>\n",
       "    <tr style=\"text-align: right;\">\n",
       "      <th></th>\n",
       "      <th>iso_3166_1</th>\n",
       "      <th>name</th>\n",
       "      <th>id_pelicula</th>\n",
       "      <th>countrie_id</th>\n",
       "    </tr>\n",
       "  </thead>\n",
       "  <tbody>\n",
       "    <tr>\n",
       "      <th>11481</th>\n",
       "      <td>MC</td>\n",
       "      <td>Monaco</td>\n",
       "      <td>28055</td>\n",
       "      <td>100</td>\n",
       "    </tr>\n",
       "    <tr>\n",
       "      <th>18296</th>\n",
       "      <td>MC</td>\n",
       "      <td>Monaco</td>\n",
       "      <td>36970</td>\n",
       "      <td>100</td>\n",
       "    </tr>\n",
       "    <tr>\n",
       "      <th>19469</th>\n",
       "      <td>MC</td>\n",
       "      <td>Monaco</td>\n",
       "      <td>41211</td>\n",
       "      <td>100</td>\n",
       "    </tr>\n",
       "  </tbody>\n",
       "</table>\n",
       "</div>"
      ],
      "text/plain": [
       "      iso_3166_1    name  id_pelicula  countrie_id\n",
       "11481         MC  Monaco        28055          100\n",
       "18296         MC  Monaco        36970          100\n",
       "19469         MC  Monaco        41211          100"
      ]
     },
     "execution_count": 17,
     "metadata": {},
     "output_type": "execute_result"
    }
   ],
   "source": [
    "df_production_countries[df_production_countries['countrie_id']==100].head(3)"
   ]
  },
  {
   "cell_type": "code",
   "execution_count": 18,
   "metadata": {},
   "outputs": [],
   "source": [
    "df_production_countries['name_countrie']=df_production_countries['name']\n",
    "df_production_countries['short_name_countrie']=df_production_countries['iso_3166_1']\n",
    "\n",
    "df_production_countries.drop(columns=['iso_3166_1','name'],inplace=True)"
   ]
  },
  {
   "cell_type": "code",
   "execution_count": 19,
   "metadata": {},
   "outputs": [
    {
     "data": {
      "text/plain": [
       "(49408, 4)"
      ]
     },
     "execution_count": 19,
     "metadata": {},
     "output_type": "execute_result"
    }
   ],
   "source": [
    "df_production_countries.shape"
   ]
  },
  {
   "cell_type": "markdown",
   "metadata": {},
   "source": [
    "### companies"
   ]
  },
  {
   "cell_type": "markdown",
   "metadata": {},
   "source": [
    "Es innecesario para nuestro EDA (en mi opinión) , asi que no lo voy a juntar, pero aún asi decidi analizarlo"
   ]
  },
  {
   "cell_type": "code",
   "execution_count": 20,
   "metadata": {},
   "outputs": [
    {
     "data": {
      "text/html": [
       "<div>\n",
       "<style scoped>\n",
       "    .dataframe tbody tr th:only-of-type {\n",
       "        vertical-align: middle;\n",
       "    }\n",
       "\n",
       "    .dataframe tbody tr th {\n",
       "        vertical-align: top;\n",
       "    }\n",
       "\n",
       "    .dataframe thead th {\n",
       "        text-align: right;\n",
       "    }\n",
       "</style>\n",
       "<table border=\"1\" class=\"dataframe\">\n",
       "  <thead>\n",
       "    <tr style=\"text-align: right;\">\n",
       "      <th></th>\n",
       "      <th>name</th>\n",
       "      <th>id</th>\n",
       "      <th>id_pelicula</th>\n",
       "      <th>revenue</th>\n",
       "    </tr>\n",
       "  </thead>\n",
       "  <tbody>\n",
       "    <tr>\n",
       "      <th>0</th>\n",
       "      <td>Pixar Animation Studios</td>\n",
       "      <td>3.0</td>\n",
       "      <td>862</td>\n",
       "      <td>373554033.0</td>\n",
       "    </tr>\n",
       "    <tr>\n",
       "      <th>1</th>\n",
       "      <td>TriStar Pictures</td>\n",
       "      <td>559.0</td>\n",
       "      <td>8844</td>\n",
       "      <td>262797249.0</td>\n",
       "    </tr>\n",
       "    <tr>\n",
       "      <th>2</th>\n",
       "      <td>Teitler Film</td>\n",
       "      <td>2550.0</td>\n",
       "      <td>8844</td>\n",
       "      <td>262797249.0</td>\n",
       "    </tr>\n",
       "    <tr>\n",
       "      <th>3</th>\n",
       "      <td>Interscope Communications</td>\n",
       "      <td>10201.0</td>\n",
       "      <td>8844</td>\n",
       "      <td>262797249.0</td>\n",
       "    </tr>\n",
       "    <tr>\n",
       "      <th>4</th>\n",
       "      <td>Warner Bros.</td>\n",
       "      <td>6194.0</td>\n",
       "      <td>15602</td>\n",
       "      <td>0.0</td>\n",
       "    </tr>\n",
       "  </tbody>\n",
       "</table>\n",
       "</div>"
      ],
      "text/plain": [
       "                        name       id  id_pelicula      revenue\n",
       "0    Pixar Animation Studios      3.0          862  373554033.0\n",
       "1           TriStar Pictures    559.0         8844  262797249.0\n",
       "2               Teitler Film   2550.0         8844  262797249.0\n",
       "3  Interscope Communications  10201.0         8844  262797249.0\n",
       "4               Warner Bros.   6194.0        15602          0.0"
      ]
     },
     "execution_count": 20,
     "metadata": {},
     "output_type": "execute_result"
    }
   ],
   "source": [
    "df_production_companies.head(5)"
   ]
  },
  {
   "cell_type": "code",
   "execution_count": 21,
   "metadata": {},
   "outputs": [
    {
     "data": {
      "text/html": [
       "<div>\n",
       "<style scoped>\n",
       "    .dataframe tbody tr th:only-of-type {\n",
       "        vertical-align: middle;\n",
       "    }\n",
       "\n",
       "    .dataframe tbody tr th {\n",
       "        vertical-align: top;\n",
       "    }\n",
       "\n",
       "    .dataframe thead th {\n",
       "        text-align: right;\n",
       "    }\n",
       "</style>\n",
       "<table border=\"1\" class=\"dataframe\">\n",
       "  <thead>\n",
       "    <tr style=\"text-align: right;\">\n",
       "      <th></th>\n",
       "      <th>name</th>\n",
       "      <th>id</th>\n",
       "      <th>id_pelicula</th>\n",
       "      <th>revenue</th>\n",
       "    </tr>\n",
       "  </thead>\n",
       "  <tbody>\n",
       "    <tr>\n",
       "      <th>0</th>\n",
       "      <td>Pixar Animation Studios</td>\n",
       "      <td>3.0</td>\n",
       "      <td>862</td>\n",
       "      <td>3.735540e+08</td>\n",
       "    </tr>\n",
       "    <tr>\n",
       "      <th>4334</th>\n",
       "      <td>Pixar Animation Studios</td>\n",
       "      <td>3.0</td>\n",
       "      <td>9487</td>\n",
       "      <td>3.632589e+08</td>\n",
       "    </tr>\n",
       "    <tr>\n",
       "      <th>5785</th>\n",
       "      <td>Pixar Animation Studios</td>\n",
       "      <td>3.0</td>\n",
       "      <td>863</td>\n",
       "      <td>4.973669e+08</td>\n",
       "    </tr>\n",
       "    <tr>\n",
       "      <th>9138</th>\n",
       "      <td>Pixar Animation Studios</td>\n",
       "      <td>3.0</td>\n",
       "      <td>585</td>\n",
       "      <td>5.628163e+08</td>\n",
       "    </tr>\n",
       "    <tr>\n",
       "      <th>11950</th>\n",
       "      <td>Pixar Animation Studios</td>\n",
       "      <td>3.0</td>\n",
       "      <td>12</td>\n",
       "      <td>9.403355e+08</td>\n",
       "    </tr>\n",
       "    <tr>\n",
       "      <th>15630</th>\n",
       "      <td>Pixar Animation Studios</td>\n",
       "      <td>3.0</td>\n",
       "      <td>9806</td>\n",
       "      <td>6.314421e+08</td>\n",
       "    </tr>\n",
       "    <tr>\n",
       "      <th>19881</th>\n",
       "      <td>Pixar Animation Studios</td>\n",
       "      <td>3.0</td>\n",
       "      <td>13925</td>\n",
       "      <td>0.000000e+00</td>\n",
       "    </tr>\n",
       "    <tr>\n",
       "      <th>20574</th>\n",
       "      <td>Pixar Animation Studios</td>\n",
       "      <td>3.0</td>\n",
       "      <td>920</td>\n",
       "      <td>4.619831e+08</td>\n",
       "    </tr>\n",
       "    <tr>\n",
       "      <th>21808</th>\n",
       "      <td>Pixar Animation Studios</td>\n",
       "      <td>3.0</td>\n",
       "      <td>2062</td>\n",
       "      <td>6.237228e+08</td>\n",
       "    </tr>\n",
       "    <tr>\n",
       "      <th>24309</th>\n",
       "      <td>Pixar Animation Studios</td>\n",
       "      <td>3.0</td>\n",
       "      <td>10681</td>\n",
       "      <td>5.213119e+08</td>\n",
       "    </tr>\n",
       "    <tr>\n",
       "      <th>26255</th>\n",
       "      <td>Pixar Animation Studios</td>\n",
       "      <td>3.0</td>\n",
       "      <td>14160</td>\n",
       "      <td>7.350991e+08</td>\n",
       "    </tr>\n",
       "    <tr>\n",
       "      <th>27597</th>\n",
       "      <td>Pixar Animation Studios</td>\n",
       "      <td>3.0</td>\n",
       "      <td>24480</td>\n",
       "      <td>0.000000e+00</td>\n",
       "    </tr>\n",
       "    <tr>\n",
       "      <th>29309</th>\n",
       "      <td>Pixar Animation Studios</td>\n",
       "      <td>3.0</td>\n",
       "      <td>10193</td>\n",
       "      <td>1.066970e+09</td>\n",
       "    </tr>\n",
       "    <tr>\n",
       "      <th>31242</th>\n",
       "      <td>Pixar Animation Studios</td>\n",
       "      <td>3.0</td>\n",
       "      <td>40619</td>\n",
       "      <td>0.000000e+00</td>\n",
       "    </tr>\n",
       "    <tr>\n",
       "      <th>31848</th>\n",
       "      <td>Pixar Animation Studios</td>\n",
       "      <td>3.0</td>\n",
       "      <td>13413</td>\n",
       "      <td>0.000000e+00</td>\n",
       "    </tr>\n",
       "    <tr>\n",
       "      <th>32671</th>\n",
       "      <td>Pixar Animation Studios</td>\n",
       "      <td>3.0</td>\n",
       "      <td>49013</td>\n",
       "      <td>5.598524e+08</td>\n",
       "    </tr>\n",
       "    <tr>\n",
       "      <th>32852</th>\n",
       "      <td>Pixar Animation Studios</td>\n",
       "      <td>3.0</td>\n",
       "      <td>13931</td>\n",
       "      <td>0.000000e+00</td>\n",
       "    </tr>\n",
       "    <tr>\n",
       "      <th>33981</th>\n",
       "      <td>Pixar Animation Studios</td>\n",
       "      <td>3.0</td>\n",
       "      <td>13060</td>\n",
       "      <td>0.000000e+00</td>\n",
       "    </tr>\n",
       "    <tr>\n",
       "      <th>35501</th>\n",
       "      <td>Pixar Animation Studios</td>\n",
       "      <td>3.0</td>\n",
       "      <td>62177</td>\n",
       "      <td>5.389832e+08</td>\n",
       "    </tr>\n",
       "    <tr>\n",
       "      <th>35549</th>\n",
       "      <td>Pixar Animation Studios</td>\n",
       "      <td>3.0</td>\n",
       "      <td>13042</td>\n",
       "      <td>0.000000e+00</td>\n",
       "    </tr>\n",
       "    <tr>\n",
       "      <th>35551</th>\n",
       "      <td>Pixar Animation Studios</td>\n",
       "      <td>3.0</td>\n",
       "      <td>13932</td>\n",
       "      <td>0.000000e+00</td>\n",
       "    </tr>\n",
       "    <tr>\n",
       "      <th>35555</th>\n",
       "      <td>Pixar Animation Studios</td>\n",
       "      <td>3.0</td>\n",
       "      <td>13062</td>\n",
       "      <td>0.000000e+00</td>\n",
       "    </tr>\n",
       "    <tr>\n",
       "      <th>35556</th>\n",
       "      <td>Pixar Animation Studios</td>\n",
       "      <td>3.0</td>\n",
       "      <td>13933</td>\n",
       "      <td>0.000000e+00</td>\n",
       "    </tr>\n",
       "    <tr>\n",
       "      <th>35561</th>\n",
       "      <td>Pixar Animation Studios</td>\n",
       "      <td>3.0</td>\n",
       "      <td>13927</td>\n",
       "      <td>0.000000e+00</td>\n",
       "    </tr>\n",
       "    <tr>\n",
       "      <th>35641</th>\n",
       "      <td>Pixar Animation Studios</td>\n",
       "      <td>3.0</td>\n",
       "      <td>13926</td>\n",
       "      <td>0.000000e+00</td>\n",
       "    </tr>\n",
       "    <tr>\n",
       "      <th>35645</th>\n",
       "      <td>Pixar Animation Studios</td>\n",
       "      <td>3.0</td>\n",
       "      <td>13929</td>\n",
       "      <td>0.000000e+00</td>\n",
       "    </tr>\n",
       "    <tr>\n",
       "      <th>35700</th>\n",
       "      <td>Pixar Animation Studios</td>\n",
       "      <td>3.0</td>\n",
       "      <td>13928</td>\n",
       "      <td>0.000000e+00</td>\n",
       "    </tr>\n",
       "    <tr>\n",
       "      <th>35701</th>\n",
       "      <td>Pixar Animation Studios</td>\n",
       "      <td>3.0</td>\n",
       "      <td>13930</td>\n",
       "      <td>0.000000e+00</td>\n",
       "    </tr>\n",
       "    <tr>\n",
       "      <th>38731</th>\n",
       "      <td>Pixar Animation Studios</td>\n",
       "      <td>3.0</td>\n",
       "      <td>62211</td>\n",
       "      <td>7.435596e+08</td>\n",
       "    </tr>\n",
       "    <tr>\n",
       "      <th>40068</th>\n",
       "      <td>Pixar Animation Studios</td>\n",
       "      <td>3.0</td>\n",
       "      <td>200481</td>\n",
       "      <td>0.000000e+00</td>\n",
       "    </tr>\n",
       "    <tr>\n",
       "      <th>40072</th>\n",
       "      <td>Pixar Animation Studios</td>\n",
       "      <td>3.0</td>\n",
       "      <td>213121</td>\n",
       "      <td>0.000000e+00</td>\n",
       "    </tr>\n",
       "    <tr>\n",
       "      <th>41294</th>\n",
       "      <td>Pixar Animation Studios</td>\n",
       "      <td>3.0</td>\n",
       "      <td>83564</td>\n",
       "      <td>0.000000e+00</td>\n",
       "    </tr>\n",
       "    <tr>\n",
       "      <th>41454</th>\n",
       "      <td>Pixar Animation Studios</td>\n",
       "      <td>3.0</td>\n",
       "      <td>13934</td>\n",
       "      <td>0.000000e+00</td>\n",
       "    </tr>\n",
       "    <tr>\n",
       "      <th>41455</th>\n",
       "      <td>Pixar Animation Studios</td>\n",
       "      <td>3.0</td>\n",
       "      <td>13061</td>\n",
       "      <td>0.000000e+00</td>\n",
       "    </tr>\n",
       "    <tr>\n",
       "      <th>41456</th>\n",
       "      <td>Pixar Animation Studios</td>\n",
       "      <td>3.0</td>\n",
       "      <td>24589</td>\n",
       "      <td>0.000000e+00</td>\n",
       "    </tr>\n",
       "    <tr>\n",
       "      <th>41751</th>\n",
       "      <td>Pixar Animation Studios</td>\n",
       "      <td>3.0</td>\n",
       "      <td>72962</td>\n",
       "      <td>0.000000e+00</td>\n",
       "    </tr>\n",
       "    <tr>\n",
       "      <th>44177</th>\n",
       "      <td>Pixar Animation Studios</td>\n",
       "      <td>3.0</td>\n",
       "      <td>77887</td>\n",
       "      <td>0.000000e+00</td>\n",
       "    </tr>\n",
       "    <tr>\n",
       "      <th>44180</th>\n",
       "      <td>Pixar Animation Studios</td>\n",
       "      <td>3.0</td>\n",
       "      <td>82424</td>\n",
       "      <td>0.000000e+00</td>\n",
       "    </tr>\n",
       "    <tr>\n",
       "      <th>46002</th>\n",
       "      <td>Pixar Animation Studios</td>\n",
       "      <td>3.0</td>\n",
       "      <td>130925</td>\n",
       "      <td>0.000000e+00</td>\n",
       "    </tr>\n",
       "    <tr>\n",
       "      <th>46003</th>\n",
       "      <td>Pixar Animation Studios</td>\n",
       "      <td>3.0</td>\n",
       "      <td>141423</td>\n",
       "      <td>0.000000e+00</td>\n",
       "    </tr>\n",
       "    <tr>\n",
       "      <th>46004</th>\n",
       "      <td>Pixar Animation Studios</td>\n",
       "      <td>3.0</td>\n",
       "      <td>256835</td>\n",
       "      <td>0.000000e+00</td>\n",
       "    </tr>\n",
       "    <tr>\n",
       "      <th>48311</th>\n",
       "      <td>Pixar Animation Studios</td>\n",
       "      <td>3.0</td>\n",
       "      <td>13924</td>\n",
       "      <td>0.000000e+00</td>\n",
       "    </tr>\n",
       "    <tr>\n",
       "      <th>51952</th>\n",
       "      <td>Pixar Animation Studios</td>\n",
       "      <td>3.0</td>\n",
       "      <td>150540</td>\n",
       "      <td>8.576112e+08</td>\n",
       "    </tr>\n",
       "    <tr>\n",
       "      <th>52450</th>\n",
       "      <td>Pixar Animation Studios</td>\n",
       "      <td>3.0</td>\n",
       "      <td>105864</td>\n",
       "      <td>3.319261e+08</td>\n",
       "    </tr>\n",
       "    <tr>\n",
       "      <th>54276</th>\n",
       "      <td>Pixar Animation Studios</td>\n",
       "      <td>3.0</td>\n",
       "      <td>286192</td>\n",
       "      <td>0.000000e+00</td>\n",
       "    </tr>\n",
       "    <tr>\n",
       "      <th>57838</th>\n",
       "      <td>Pixar Animation Studios</td>\n",
       "      <td>3.0</td>\n",
       "      <td>345637</td>\n",
       "      <td>0.000000e+00</td>\n",
       "    </tr>\n",
       "    <tr>\n",
       "      <th>61297</th>\n",
       "      <td>Pixar Animation Studios</td>\n",
       "      <td>3.0</td>\n",
       "      <td>127380</td>\n",
       "      <td>1.028571e+09</td>\n",
       "    </tr>\n",
       "    <tr>\n",
       "      <th>62751</th>\n",
       "      <td>Pixar Animation Studios</td>\n",
       "      <td>3.0</td>\n",
       "      <td>399106</td>\n",
       "      <td>0.000000e+00</td>\n",
       "    </tr>\n",
       "    <tr>\n",
       "      <th>64710</th>\n",
       "      <td>Pixar Animation Studios</td>\n",
       "      <td>3.0</td>\n",
       "      <td>145316</td>\n",
       "      <td>0.000000e+00</td>\n",
       "    </tr>\n",
       "    <tr>\n",
       "      <th>65304</th>\n",
       "      <td>Pixar Animation Studios</td>\n",
       "      <td>3.0</td>\n",
       "      <td>355338</td>\n",
       "      <td>0.000000e+00</td>\n",
       "    </tr>\n",
       "    <tr>\n",
       "      <th>68013</th>\n",
       "      <td>Pixar Animation Studios</td>\n",
       "      <td>3.0</td>\n",
       "      <td>260514</td>\n",
       "      <td>3.501701e+08</td>\n",
       "    </tr>\n",
       "    <tr>\n",
       "      <th>70304</th>\n",
       "      <td>Pixar Animation Studios</td>\n",
       "      <td>3.0</td>\n",
       "      <td>433471</td>\n",
       "      <td>0.000000e+00</td>\n",
       "    </tr>\n",
       "  </tbody>\n",
       "</table>\n",
       "</div>"
      ],
      "text/plain": [
       "                          name   id  id_pelicula       revenue\n",
       "0      Pixar Animation Studios  3.0          862  3.735540e+08\n",
       "4334   Pixar Animation Studios  3.0         9487  3.632589e+08\n",
       "5785   Pixar Animation Studios  3.0          863  4.973669e+08\n",
       "9138   Pixar Animation Studios  3.0          585  5.628163e+08\n",
       "11950  Pixar Animation Studios  3.0           12  9.403355e+08\n",
       "15630  Pixar Animation Studios  3.0         9806  6.314421e+08\n",
       "19881  Pixar Animation Studios  3.0        13925  0.000000e+00\n",
       "20574  Pixar Animation Studios  3.0          920  4.619831e+08\n",
       "21808  Pixar Animation Studios  3.0         2062  6.237228e+08\n",
       "24309  Pixar Animation Studios  3.0        10681  5.213119e+08\n",
       "26255  Pixar Animation Studios  3.0        14160  7.350991e+08\n",
       "27597  Pixar Animation Studios  3.0        24480  0.000000e+00\n",
       "29309  Pixar Animation Studios  3.0        10193  1.066970e+09\n",
       "31242  Pixar Animation Studios  3.0        40619  0.000000e+00\n",
       "31848  Pixar Animation Studios  3.0        13413  0.000000e+00\n",
       "32671  Pixar Animation Studios  3.0        49013  5.598524e+08\n",
       "32852  Pixar Animation Studios  3.0        13931  0.000000e+00\n",
       "33981  Pixar Animation Studios  3.0        13060  0.000000e+00\n",
       "35501  Pixar Animation Studios  3.0        62177  5.389832e+08\n",
       "35549  Pixar Animation Studios  3.0        13042  0.000000e+00\n",
       "35551  Pixar Animation Studios  3.0        13932  0.000000e+00\n",
       "35555  Pixar Animation Studios  3.0        13062  0.000000e+00\n",
       "35556  Pixar Animation Studios  3.0        13933  0.000000e+00\n",
       "35561  Pixar Animation Studios  3.0        13927  0.000000e+00\n",
       "35641  Pixar Animation Studios  3.0        13926  0.000000e+00\n",
       "35645  Pixar Animation Studios  3.0        13929  0.000000e+00\n",
       "35700  Pixar Animation Studios  3.0        13928  0.000000e+00\n",
       "35701  Pixar Animation Studios  3.0        13930  0.000000e+00\n",
       "38731  Pixar Animation Studios  3.0        62211  7.435596e+08\n",
       "40068  Pixar Animation Studios  3.0       200481  0.000000e+00\n",
       "40072  Pixar Animation Studios  3.0       213121  0.000000e+00\n",
       "41294  Pixar Animation Studios  3.0        83564  0.000000e+00\n",
       "41454  Pixar Animation Studios  3.0        13934  0.000000e+00\n",
       "41455  Pixar Animation Studios  3.0        13061  0.000000e+00\n",
       "41456  Pixar Animation Studios  3.0        24589  0.000000e+00\n",
       "41751  Pixar Animation Studios  3.0        72962  0.000000e+00\n",
       "44177  Pixar Animation Studios  3.0        77887  0.000000e+00\n",
       "44180  Pixar Animation Studios  3.0        82424  0.000000e+00\n",
       "46002  Pixar Animation Studios  3.0       130925  0.000000e+00\n",
       "46003  Pixar Animation Studios  3.0       141423  0.000000e+00\n",
       "46004  Pixar Animation Studios  3.0       256835  0.000000e+00\n",
       "48311  Pixar Animation Studios  3.0        13924  0.000000e+00\n",
       "51952  Pixar Animation Studios  3.0       150540  8.576112e+08\n",
       "52450  Pixar Animation Studios  3.0       105864  3.319261e+08\n",
       "54276  Pixar Animation Studios  3.0       286192  0.000000e+00\n",
       "57838  Pixar Animation Studios  3.0       345637  0.000000e+00\n",
       "61297  Pixar Animation Studios  3.0       127380  1.028571e+09\n",
       "62751  Pixar Animation Studios  3.0       399106  0.000000e+00\n",
       "64710  Pixar Animation Studios  3.0       145316  0.000000e+00\n",
       "65304  Pixar Animation Studios  3.0       355338  0.000000e+00\n",
       "68013  Pixar Animation Studios  3.0       260514  3.501701e+08\n",
       "70304  Pixar Animation Studios  3.0       433471  0.000000e+00"
      ]
     },
     "execution_count": 21,
     "metadata": {},
     "output_type": "execute_result"
    }
   ],
   "source": [
    "df_production_companies[df_production_companies['id']==3.0]"
   ]
  },
  {
   "cell_type": "code",
   "execution_count": 22,
   "metadata": {},
   "outputs": [],
   "source": [
    "df_production_companies['companie_id']=df_production_companies['id']\n",
    "#df_production_companies['companie_name']=df_production_companies['name']\n",
    "df_production_companies.drop(columns=['id','name','revenue'],inplace=True) #Innecesario tener revenue dos veces, esta columna era copia del df \"data\""
   ]
  },
  {
   "cell_type": "code",
   "execution_count": 23,
   "metadata": {},
   "outputs": [
    {
     "data": {
      "text/html": [
       "<div>\n",
       "<style scoped>\n",
       "    .dataframe tbody tr th:only-of-type {\n",
       "        vertical-align: middle;\n",
       "    }\n",
       "\n",
       "    .dataframe tbody tr th {\n",
       "        vertical-align: top;\n",
       "    }\n",
       "\n",
       "    .dataframe thead th {\n",
       "        text-align: right;\n",
       "    }\n",
       "</style>\n",
       "<table border=\"1\" class=\"dataframe\">\n",
       "  <thead>\n",
       "    <tr style=\"text-align: right;\">\n",
       "      <th></th>\n",
       "      <th>id_pelicula</th>\n",
       "      <th>companie_id</th>\n",
       "    </tr>\n",
       "  </thead>\n",
       "  <tbody>\n",
       "    <tr>\n",
       "      <th>3</th>\n",
       "      <td>8844</td>\n",
       "      <td>10201.0</td>\n",
       "    </tr>\n",
       "    <tr>\n",
       "      <th>159</th>\n",
       "      <td>2054</td>\n",
       "      <td>10201.0</td>\n",
       "    </tr>\n",
       "    <tr>\n",
       "      <th>451</th>\n",
       "      <td>79593</td>\n",
       "      <td>10201.0</td>\n",
       "    </tr>\n",
       "    <tr>\n",
       "      <th>671</th>\n",
       "      <td>161495</td>\n",
       "      <td>10201.0</td>\n",
       "    </tr>\n",
       "    <tr>\n",
       "      <th>884</th>\n",
       "      <td>46094</td>\n",
       "      <td>10201.0</td>\n",
       "    </tr>\n",
       "    <tr>\n",
       "      <th>1167</th>\n",
       "      <td>9057</td>\n",
       "      <td>10201.0</td>\n",
       "    </tr>\n",
       "    <tr>\n",
       "      <th>1288</th>\n",
       "      <td>46029</td>\n",
       "      <td>10201.0</td>\n",
       "    </tr>\n",
       "    <tr>\n",
       "      <th>1407</th>\n",
       "      <td>27281</td>\n",
       "      <td>10201.0</td>\n",
       "    </tr>\n",
       "    <tr>\n",
       "      <th>1434</th>\n",
       "      <td>43634</td>\n",
       "      <td>10201.0</td>\n",
       "    </tr>\n",
       "    <tr>\n",
       "      <th>1650</th>\n",
       "      <td>11511</td>\n",
       "      <td>10201.0</td>\n",
       "    </tr>\n",
       "    <tr>\n",
       "      <th>2117</th>\n",
       "      <td>11112</td>\n",
       "      <td>10201.0</td>\n",
       "    </tr>\n",
       "    <tr>\n",
       "      <th>3410</th>\n",
       "      <td>32144</td>\n",
       "      <td>10201.0</td>\n",
       "    </tr>\n",
       "    <tr>\n",
       "      <th>4153</th>\n",
       "      <td>11082</td>\n",
       "      <td>10201.0</td>\n",
       "    </tr>\n",
       "    <tr>\n",
       "      <th>4388</th>\n",
       "      <td>10029</td>\n",
       "      <td>10201.0</td>\n",
       "    </tr>\n",
       "    <tr>\n",
       "      <th>5074</th>\n",
       "      <td>4806</td>\n",
       "      <td>10201.0</td>\n",
       "    </tr>\n",
       "    <tr>\n",
       "      <th>5123</th>\n",
       "      <td>20242</td>\n",
       "      <td>10201.0</td>\n",
       "    </tr>\n",
       "    <tr>\n",
       "      <th>5216</th>\n",
       "      <td>10342</td>\n",
       "      <td>10201.0</td>\n",
       "    </tr>\n",
       "    <tr>\n",
       "      <th>6021</th>\n",
       "      <td>11087</td>\n",
       "      <td>10201.0</td>\n",
       "    </tr>\n",
       "    <tr>\n",
       "      <th>6059</th>\n",
       "      <td>16562</td>\n",
       "      <td>10201.0</td>\n",
       "    </tr>\n",
       "    <tr>\n",
       "      <th>6101</th>\n",
       "      <td>2787</td>\n",
       "      <td>10201.0</td>\n",
       "    </tr>\n",
       "    <tr>\n",
       "      <th>6816</th>\n",
       "      <td>1727</td>\n",
       "      <td>10201.0</td>\n",
       "    </tr>\n",
       "    <tr>\n",
       "      <th>7835</th>\n",
       "      <td>14052</td>\n",
       "      <td>10201.0</td>\n",
       "    </tr>\n",
       "    <tr>\n",
       "      <th>7840</th>\n",
       "      <td>16889</td>\n",
       "      <td>10201.0</td>\n",
       "    </tr>\n",
       "    <tr>\n",
       "      <th>8523</th>\n",
       "      <td>19124</td>\n",
       "      <td>10201.0</td>\n",
       "    </tr>\n",
       "    <tr>\n",
       "      <th>9962</th>\n",
       "      <td>12154</td>\n",
       "      <td>10201.0</td>\n",
       "    </tr>\n",
       "    <tr>\n",
       "      <th>9964</th>\n",
       "      <td>11630</td>\n",
       "      <td>10201.0</td>\n",
       "    </tr>\n",
       "    <tr>\n",
       "      <th>11270</th>\n",
       "      <td>423</td>\n",
       "      <td>10201.0</td>\n",
       "    </tr>\n",
       "    <tr>\n",
       "      <th>12307</th>\n",
       "      <td>45096</td>\n",
       "      <td>10201.0</td>\n",
       "    </tr>\n",
       "    <tr>\n",
       "      <th>12806</th>\n",
       "      <td>47898</td>\n",
       "      <td>10201.0</td>\n",
       "    </tr>\n",
       "    <tr>\n",
       "      <th>12944</th>\n",
       "      <td>2348</td>\n",
       "      <td>10201.0</td>\n",
       "    </tr>\n",
       "    <tr>\n",
       "      <th>14482</th>\n",
       "      <td>68430</td>\n",
       "      <td>10201.0</td>\n",
       "    </tr>\n",
       "    <tr>\n",
       "      <th>16946</th>\n",
       "      <td>9092</td>\n",
       "      <td>10201.0</td>\n",
       "    </tr>\n",
       "    <tr>\n",
       "      <th>18230</th>\n",
       "      <td>15771</td>\n",
       "      <td>10201.0</td>\n",
       "    </tr>\n",
       "    <tr>\n",
       "      <th>41004</th>\n",
       "      <td>41374</td>\n",
       "      <td>10201.0</td>\n",
       "    </tr>\n",
       "    <tr>\n",
       "      <th>54296</th>\n",
       "      <td>85411</td>\n",
       "      <td>10201.0</td>\n",
       "    </tr>\n",
       "    <tr>\n",
       "      <th>67770</th>\n",
       "      <td>27969</td>\n",
       "      <td>10201.0</td>\n",
       "    </tr>\n",
       "  </tbody>\n",
       "</table>\n",
       "</div>"
      ],
      "text/plain": [
       "       id_pelicula  companie_id\n",
       "3             8844      10201.0\n",
       "159           2054      10201.0\n",
       "451          79593      10201.0\n",
       "671         161495      10201.0\n",
       "884          46094      10201.0\n",
       "1167          9057      10201.0\n",
       "1288         46029      10201.0\n",
       "1407         27281      10201.0\n",
       "1434         43634      10201.0\n",
       "1650         11511      10201.0\n",
       "2117         11112      10201.0\n",
       "3410         32144      10201.0\n",
       "4153         11082      10201.0\n",
       "4388         10029      10201.0\n",
       "5074          4806      10201.0\n",
       "5123         20242      10201.0\n",
       "5216         10342      10201.0\n",
       "6021         11087      10201.0\n",
       "6059         16562      10201.0\n",
       "6101          2787      10201.0\n",
       "6816          1727      10201.0\n",
       "7835         14052      10201.0\n",
       "7840         16889      10201.0\n",
       "8523         19124      10201.0\n",
       "9962         12154      10201.0\n",
       "9964         11630      10201.0\n",
       "11270          423      10201.0\n",
       "12307        45096      10201.0\n",
       "12806        47898      10201.0\n",
       "12944         2348      10201.0\n",
       "14482        68430      10201.0\n",
       "16946         9092      10201.0\n",
       "18230        15771      10201.0\n",
       "41004        41374      10201.0\n",
       "54296        85411      10201.0\n",
       "67770        27969      10201.0"
      ]
     },
     "execution_count": 23,
     "metadata": {},
     "output_type": "execute_result"
    }
   ],
   "source": [
    "df_production_companies[df_production_companies['companie_id']==10201]"
   ]
  },
  {
   "cell_type": "code",
   "execution_count": 24,
   "metadata": {},
   "outputs": [
    {
     "data": {
      "text/html": [
       "<div>\n",
       "<style scoped>\n",
       "    .dataframe tbody tr th:only-of-type {\n",
       "        vertical-align: middle;\n",
       "    }\n",
       "\n",
       "    .dataframe tbody tr th {\n",
       "        vertical-align: top;\n",
       "    }\n",
       "\n",
       "    .dataframe thead th {\n",
       "        text-align: right;\n",
       "    }\n",
       "</style>\n",
       "<table border=\"1\" class=\"dataframe\">\n",
       "  <thead>\n",
       "    <tr style=\"text-align: right;\">\n",
       "      <th></th>\n",
       "      <th>id_pelicula</th>\n",
       "      <th>companie_id</th>\n",
       "    </tr>\n",
       "  </thead>\n",
       "  <tbody>\n",
       "    <tr>\n",
       "      <th>0</th>\n",
       "      <td>862</td>\n",
       "      <td>3.0</td>\n",
       "    </tr>\n",
       "    <tr>\n",
       "      <th>1</th>\n",
       "      <td>8844</td>\n",
       "      <td>559.0</td>\n",
       "    </tr>\n",
       "    <tr>\n",
       "      <th>2</th>\n",
       "      <td>8844</td>\n",
       "      <td>2550.0</td>\n",
       "    </tr>\n",
       "    <tr>\n",
       "      <th>3</th>\n",
       "      <td>8844</td>\n",
       "      <td>10201.0</td>\n",
       "    </tr>\n",
       "    <tr>\n",
       "      <th>4</th>\n",
       "      <td>15602</td>\n",
       "      <td>6194.0</td>\n",
       "    </tr>\n",
       "    <tr>\n",
       "      <th>...</th>\n",
       "      <td>...</td>\n",
       "      <td>...</td>\n",
       "    </tr>\n",
       "    <tr>\n",
       "      <th>70525</th>\n",
       "      <td>30840</td>\n",
       "      <td>16323.0</td>\n",
       "    </tr>\n",
       "    <tr>\n",
       "      <th>70526</th>\n",
       "      <td>30840</td>\n",
       "      <td>38978.0</td>\n",
       "    </tr>\n",
       "    <tr>\n",
       "      <th>70527</th>\n",
       "      <td>111109</td>\n",
       "      <td>19653.0</td>\n",
       "    </tr>\n",
       "    <tr>\n",
       "      <th>70528</th>\n",
       "      <td>67758</td>\n",
       "      <td>6165.0</td>\n",
       "    </tr>\n",
       "    <tr>\n",
       "      <th>70529</th>\n",
       "      <td>227506</td>\n",
       "      <td>88753.0</td>\n",
       "    </tr>\n",
       "  </tbody>\n",
       "</table>\n",
       "<p>70449 rows × 2 columns</p>\n",
       "</div>"
      ],
      "text/plain": [
       "       id_pelicula  companie_id\n",
       "0              862          3.0\n",
       "1             8844        559.0\n",
       "2             8844       2550.0\n",
       "3             8844      10201.0\n",
       "4            15602       6194.0\n",
       "...            ...          ...\n",
       "70525        30840      16323.0\n",
       "70526        30840      38978.0\n",
       "70527       111109      19653.0\n",
       "70528        67758       6165.0\n",
       "70529       227506      88753.0\n",
       "\n",
       "[70449 rows x 2 columns]"
      ]
     },
     "execution_count": 24,
     "metadata": {},
     "output_type": "execute_result"
    }
   ],
   "source": [
    "df_production_companies.drop_duplicates()"
   ]
  },
  {
   "cell_type": "markdown",
   "metadata": {},
   "source": [
    "### genres"
   ]
  },
  {
   "cell_type": "code",
   "execution_count": 25,
   "metadata": {},
   "outputs": [
    {
     "data": {
      "text/html": [
       "<div>\n",
       "<style scoped>\n",
       "    .dataframe tbody tr th:only-of-type {\n",
       "        vertical-align: middle;\n",
       "    }\n",
       "\n",
       "    .dataframe tbody tr th {\n",
       "        vertical-align: top;\n",
       "    }\n",
       "\n",
       "    .dataframe thead th {\n",
       "        text-align: right;\n",
       "    }\n",
       "</style>\n",
       "<table border=\"1\" class=\"dataframe\">\n",
       "  <thead>\n",
       "    <tr style=\"text-align: right;\">\n",
       "      <th></th>\n",
       "      <th>id</th>\n",
       "      <th>name</th>\n",
       "      <th>id_pelicula</th>\n",
       "    </tr>\n",
       "  </thead>\n",
       "  <tbody>\n",
       "    <tr>\n",
       "      <th>0</th>\n",
       "      <td>16.0</td>\n",
       "      <td>Animation</td>\n",
       "      <td>862</td>\n",
       "    </tr>\n",
       "    <tr>\n",
       "      <th>1</th>\n",
       "      <td>35.0</td>\n",
       "      <td>Comedy</td>\n",
       "      <td>862</td>\n",
       "    </tr>\n",
       "    <tr>\n",
       "      <th>2</th>\n",
       "      <td>10751.0</td>\n",
       "      <td>Family</td>\n",
       "      <td>862</td>\n",
       "    </tr>\n",
       "    <tr>\n",
       "      <th>3</th>\n",
       "      <td>12.0</td>\n",
       "      <td>Adventure</td>\n",
       "      <td>8844</td>\n",
       "    </tr>\n",
       "    <tr>\n",
       "      <th>4</th>\n",
       "      <td>14.0</td>\n",
       "      <td>Fantasy</td>\n",
       "      <td>8844</td>\n",
       "    </tr>\n",
       "  </tbody>\n",
       "</table>\n",
       "</div>"
      ],
      "text/plain": [
       "        id       name  id_pelicula\n",
       "0     16.0  Animation          862\n",
       "1     35.0     Comedy          862\n",
       "2  10751.0     Family          862\n",
       "3     12.0  Adventure         8844\n",
       "4     14.0    Fantasy         8844"
      ]
     },
     "execution_count": 25,
     "metadata": {},
     "output_type": "execute_result"
    }
   ],
   "source": [
    "df_genres.head(5)"
   ]
  },
  {
   "cell_type": "code",
   "execution_count": 26,
   "metadata": {},
   "outputs": [],
   "source": [
    "df_genres['genre_id']=df_genres['id']\n",
    "#df_genres['genre_name']=df_genres['name']\n",
    "df_genres.drop(columns=['id','name'],inplace=True)"
   ]
  },
  {
   "cell_type": "code",
   "execution_count": 27,
   "metadata": {},
   "outputs": [
    {
     "data": {
      "text/html": [
       "<div>\n",
       "<style scoped>\n",
       "    .dataframe tbody tr th:only-of-type {\n",
       "        vertical-align: middle;\n",
       "    }\n",
       "\n",
       "    .dataframe tbody tr th {\n",
       "        vertical-align: top;\n",
       "    }\n",
       "\n",
       "    .dataframe thead th {\n",
       "        text-align: right;\n",
       "    }\n",
       "</style>\n",
       "<table border=\"1\" class=\"dataframe\">\n",
       "  <thead>\n",
       "    <tr style=\"text-align: right;\">\n",
       "      <th></th>\n",
       "      <th>id_pelicula</th>\n",
       "      <th>genre_id</th>\n",
       "    </tr>\n",
       "  </thead>\n",
       "  <tbody>\n",
       "    <tr>\n",
       "      <th>0</th>\n",
       "      <td>862</td>\n",
       "      <td>16.0</td>\n",
       "    </tr>\n",
       "  </tbody>\n",
       "</table>\n",
       "</div>"
      ],
      "text/plain": [
       "   id_pelicula  genre_id\n",
       "0          862      16.0"
      ]
     },
     "execution_count": 27,
     "metadata": {},
     "output_type": "execute_result"
    }
   ],
   "source": [
    "df_genres.head(1)"
   ]
  },
  {
   "cell_type": "code",
   "execution_count": 28,
   "metadata": {},
   "outputs": [
    {
     "data": {
      "text/html": [
       "<div>\n",
       "<style scoped>\n",
       "    .dataframe tbody tr th:only-of-type {\n",
       "        vertical-align: middle;\n",
       "    }\n",
       "\n",
       "    .dataframe tbody tr th {\n",
       "        vertical-align: top;\n",
       "    }\n",
       "\n",
       "    .dataframe thead th {\n",
       "        text-align: right;\n",
       "    }\n",
       "</style>\n",
       "<table border=\"1\" class=\"dataframe\">\n",
       "  <thead>\n",
       "    <tr style=\"text-align: right;\">\n",
       "      <th></th>\n",
       "      <th>id_pelicula</th>\n",
       "      <th>genre_id</th>\n",
       "    </tr>\n",
       "  </thead>\n",
       "  <tbody>\n",
       "    <tr>\n",
       "      <th>0</th>\n",
       "      <td>862</td>\n",
       "      <td>16.0</td>\n",
       "    </tr>\n",
       "    <tr>\n",
       "      <th>34</th>\n",
       "      <td>21032</td>\n",
       "      <td>16.0</td>\n",
       "    </tr>\n",
       "    <tr>\n",
       "      <th>124</th>\n",
       "      <td>10530</td>\n",
       "      <td>16.0</td>\n",
       "    </tr>\n",
       "    <tr>\n",
       "      <th>557</th>\n",
       "      <td>15789</td>\n",
       "      <td>16.0</td>\n",
       "    </tr>\n",
       "    <tr>\n",
       "      <th>572</th>\n",
       "      <td>43475</td>\n",
       "      <td>16.0</td>\n",
       "    </tr>\n",
       "    <tr>\n",
       "      <th>...</th>\n",
       "      <td>...</td>\n",
       "      <td>...</td>\n",
       "    </tr>\n",
       "    <tr>\n",
       "      <th>90837</th>\n",
       "      <td>460135</td>\n",
       "      <td>16.0</td>\n",
       "    </tr>\n",
       "    <tr>\n",
       "      <th>90867</th>\n",
       "      <td>175457</td>\n",
       "      <td>16.0</td>\n",
       "    </tr>\n",
       "    <tr>\n",
       "      <th>90868</th>\n",
       "      <td>184402</td>\n",
       "      <td>16.0</td>\n",
       "    </tr>\n",
       "    <tr>\n",
       "      <th>90958</th>\n",
       "      <td>455661</td>\n",
       "      <td>16.0</td>\n",
       "    </tr>\n",
       "    <tr>\n",
       "      <th>90977</th>\n",
       "      <td>14885</td>\n",
       "      <td>16.0</td>\n",
       "    </tr>\n",
       "  </tbody>\n",
       "</table>\n",
       "<p>1930 rows × 2 columns</p>\n",
       "</div>"
      ],
      "text/plain": [
       "       id_pelicula  genre_id\n",
       "0              862      16.0\n",
       "34           21032      16.0\n",
       "124          10530      16.0\n",
       "557          15789      16.0\n",
       "572          43475      16.0\n",
       "...            ...       ...\n",
       "90837       460135      16.0\n",
       "90867       175457      16.0\n",
       "90868       184402      16.0\n",
       "90958       455661      16.0\n",
       "90977        14885      16.0\n",
       "\n",
       "[1930 rows x 2 columns]"
      ]
     },
     "execution_count": 28,
     "metadata": {},
     "output_type": "execute_result"
    }
   ],
   "source": [
    "df_genres[df_genres['genre_id']==16]"
   ]
  },
  {
   "cell_type": "markdown",
   "metadata": {},
   "source": [
    "### crew"
   ]
  },
  {
   "cell_type": "code",
   "execution_count": 29,
   "metadata": {},
   "outputs": [
    {
     "data": {
      "text/html": [
       "<div>\n",
       "<style scoped>\n",
       "    .dataframe tbody tr th:only-of-type {\n",
       "        vertical-align: middle;\n",
       "    }\n",
       "\n",
       "    .dataframe tbody tr th {\n",
       "        vertical-align: top;\n",
       "    }\n",
       "\n",
       "    .dataframe thead th {\n",
       "        text-align: right;\n",
       "    }\n",
       "</style>\n",
       "<table border=\"1\" class=\"dataframe\">\n",
       "  <thead>\n",
       "    <tr style=\"text-align: right;\">\n",
       "      <th></th>\n",
       "      <th>department</th>\n",
       "      <th>gender</th>\n",
       "      <th>id</th>\n",
       "      <th>job</th>\n",
       "      <th>name</th>\n",
       "      <th>id_pelicula</th>\n",
       "    </tr>\n",
       "  </thead>\n",
       "  <tbody>\n",
       "    <tr>\n",
       "      <th>0</th>\n",
       "      <td>Directing</td>\n",
       "      <td>2.0</td>\n",
       "      <td>7879.0</td>\n",
       "      <td>Director</td>\n",
       "      <td>John Lasseter</td>\n",
       "      <td>862</td>\n",
       "    </tr>\n",
       "    <tr>\n",
       "      <th>1</th>\n",
       "      <td>Writing</td>\n",
       "      <td>2.0</td>\n",
       "      <td>12891.0</td>\n",
       "      <td>Screenplay</td>\n",
       "      <td>Joss Whedon</td>\n",
       "      <td>862</td>\n",
       "    </tr>\n",
       "    <tr>\n",
       "      <th>2</th>\n",
       "      <td>Writing</td>\n",
       "      <td>2.0</td>\n",
       "      <td>7.0</td>\n",
       "      <td>Screenplay</td>\n",
       "      <td>Andrew Stanton</td>\n",
       "      <td>862</td>\n",
       "    </tr>\n",
       "    <tr>\n",
       "      <th>3</th>\n",
       "      <td>Writing</td>\n",
       "      <td>2.0</td>\n",
       "      <td>12892.0</td>\n",
       "      <td>Screenplay</td>\n",
       "      <td>Joel Cohen</td>\n",
       "      <td>862</td>\n",
       "    </tr>\n",
       "    <tr>\n",
       "      <th>4</th>\n",
       "      <td>Writing</td>\n",
       "      <td>0.0</td>\n",
       "      <td>12893.0</td>\n",
       "      <td>Screenplay</td>\n",
       "      <td>Alec Sokolow</td>\n",
       "      <td>862</td>\n",
       "    </tr>\n",
       "  </tbody>\n",
       "</table>\n",
       "</div>"
      ],
      "text/plain": [
       "  department  gender       id         job            name  id_pelicula\n",
       "0  Directing     2.0   7879.0    Director   John Lasseter          862\n",
       "1    Writing     2.0  12891.0  Screenplay     Joss Whedon          862\n",
       "2    Writing     2.0      7.0  Screenplay  Andrew Stanton          862\n",
       "3    Writing     2.0  12892.0  Screenplay      Joel Cohen          862\n",
       "4    Writing     0.0  12893.0  Screenplay    Alec Sokolow          862"
      ]
     },
     "execution_count": 29,
     "metadata": {},
     "output_type": "execute_result"
    }
   ],
   "source": [
    "df_crew.head(5)"
   ]
  },
  {
   "cell_type": "code",
   "execution_count": 30,
   "metadata": {},
   "outputs": [],
   "source": [
    "df_crew['crew_id']=df_crew['id']\n",
    "df_crew.drop(columns='id',inplace=True)"
   ]
  },
  {
   "cell_type": "code",
   "execution_count": 31,
   "metadata": {},
   "outputs": [
    {
     "data": {
      "text/html": [
       "<div>\n",
       "<style scoped>\n",
       "    .dataframe tbody tr th:only-of-type {\n",
       "        vertical-align: middle;\n",
       "    }\n",
       "\n",
       "    .dataframe tbody tr th {\n",
       "        vertical-align: top;\n",
       "    }\n",
       "\n",
       "    .dataframe thead th {\n",
       "        text-align: right;\n",
       "    }\n",
       "</style>\n",
       "<table border=\"1\" class=\"dataframe\">\n",
       "  <thead>\n",
       "    <tr style=\"text-align: right;\">\n",
       "      <th></th>\n",
       "      <th>department</th>\n",
       "      <th>gender</th>\n",
       "      <th>job</th>\n",
       "      <th>name</th>\n",
       "      <th>id_pelicula</th>\n",
       "      <th>crew_id</th>\n",
       "    </tr>\n",
       "  </thead>\n",
       "  <tbody>\n",
       "    <tr>\n",
       "      <th>0</th>\n",
       "      <td>Directing</td>\n",
       "      <td>2.0</td>\n",
       "      <td>Director</td>\n",
       "      <td>John Lasseter</td>\n",
       "      <td>862</td>\n",
       "      <td>7879.0</td>\n",
       "    </tr>\n",
       "  </tbody>\n",
       "</table>\n",
       "</div>"
      ],
      "text/plain": [
       "  department  gender       job           name  id_pelicula  crew_id\n",
       "0  Directing     2.0  Director  John Lasseter          862   7879.0"
      ]
     },
     "execution_count": 31,
     "metadata": {},
     "output_type": "execute_result"
    }
   ],
   "source": [
    "df_crew.head(1)"
   ]
  },
  {
   "cell_type": "code",
   "execution_count": 32,
   "metadata": {},
   "outputs": [],
   "source": [
    "#df_crew['crew_gender']=df_crew['gender']\n",
    "#df_crew['crew_name']=df_crew['name']\n",
    "#df_crew['crew_department']=df_crew['department']\n",
    "#df_crew['crew_job']=df_crew['job']\n",
    "df_crew.drop(columns=['gender','name','department','job'],inplace=True)"
   ]
  },
  {
   "cell_type": "code",
   "execution_count": 33,
   "metadata": {},
   "outputs": [
    {
     "data": {
      "text/html": [
       "<div>\n",
       "<style scoped>\n",
       "    .dataframe tbody tr th:only-of-type {\n",
       "        vertical-align: middle;\n",
       "    }\n",
       "\n",
       "    .dataframe tbody tr th {\n",
       "        vertical-align: top;\n",
       "    }\n",
       "\n",
       "    .dataframe thead th {\n",
       "        text-align: right;\n",
       "    }\n",
       "</style>\n",
       "<table border=\"1\" class=\"dataframe\">\n",
       "  <thead>\n",
       "    <tr style=\"text-align: right;\">\n",
       "      <th></th>\n",
       "      <th>id_pelicula</th>\n",
       "      <th>crew_id</th>\n",
       "    </tr>\n",
       "  </thead>\n",
       "  <tbody>\n",
       "    <tr>\n",
       "      <th>4</th>\n",
       "      <td>862</td>\n",
       "      <td>12893.0</td>\n",
       "    </tr>\n",
       "    <tr>\n",
       "      <th>24648</th>\n",
       "      <td>9416</td>\n",
       "      <td>12893.0</td>\n",
       "    </tr>\n",
       "    <tr>\n",
       "      <th>40236</th>\n",
       "      <td>49981</td>\n",
       "      <td>12893.0</td>\n",
       "    </tr>\n",
       "    <tr>\n",
       "      <th>107520</th>\n",
       "      <td>11007</td>\n",
       "      <td>12893.0</td>\n",
       "    </tr>\n",
       "    <tr>\n",
       "      <th>119168</th>\n",
       "      <td>8920</td>\n",
       "      <td>12893.0</td>\n",
       "    </tr>\n",
       "    <tr>\n",
       "      <th>161082</th>\n",
       "      <td>9513</td>\n",
       "      <td>12893.0</td>\n",
       "    </tr>\n",
       "    <tr>\n",
       "      <th>457621</th>\n",
       "      <td>430448</td>\n",
       "      <td>12893.0</td>\n",
       "    </tr>\n",
       "  </tbody>\n",
       "</table>\n",
       "</div>"
      ],
      "text/plain": [
       "        id_pelicula  crew_id\n",
       "4               862  12893.0\n",
       "24648          9416  12893.0\n",
       "40236         49981  12893.0\n",
       "107520        11007  12893.0\n",
       "119168         8920  12893.0\n",
       "161082         9513  12893.0\n",
       "457621       430448  12893.0"
      ]
     },
     "execution_count": 33,
     "metadata": {},
     "output_type": "execute_result"
    }
   ],
   "source": [
    "df_crew[df_crew['crew_id']==12893]"
   ]
  },
  {
   "cell_type": "markdown",
   "metadata": {},
   "source": [
    "### Cast"
   ]
  },
  {
   "cell_type": "markdown",
   "metadata": {},
   "source": [
    "En el caso de cast ya contaba con cast_id pero se encontraban repetidos en gran proporción y no parecen dar información importante en el df_cast, parece más un id que diferencia el cast dentro de cada pelicula solamente, haciendo que los id se repitan ya que para cada pelicula este id se reinicia, por lo tanto no nos sirve."
   ]
  },
  {
   "cell_type": "markdown",
   "metadata": {},
   "source": [
    "En su lugar vamos a utilizar los valores de la columna id que se repiten solamente por la repetición de trabajos de una misma persona, es decir, este id pertenece a una persona en particular(es único)."
   ]
  },
  {
   "cell_type": "code",
   "execution_count": 34,
   "metadata": {},
   "outputs": [
    {
     "data": {
      "text/html": [
       "<div>\n",
       "<style scoped>\n",
       "    .dataframe tbody tr th:only-of-type {\n",
       "        vertical-align: middle;\n",
       "    }\n",
       "\n",
       "    .dataframe tbody tr th {\n",
       "        vertical-align: top;\n",
       "    }\n",
       "\n",
       "    .dataframe thead th {\n",
       "        text-align: right;\n",
       "    }\n",
       "</style>\n",
       "<table border=\"1\" class=\"dataframe\">\n",
       "  <thead>\n",
       "    <tr style=\"text-align: right;\">\n",
       "      <th></th>\n",
       "      <th>cast_id</th>\n",
       "      <th>character</th>\n",
       "      <th>gender</th>\n",
       "      <th>id</th>\n",
       "      <th>name</th>\n",
       "      <th>order</th>\n",
       "      <th>id_pelicula</th>\n",
       "    </tr>\n",
       "  </thead>\n",
       "  <tbody>\n",
       "    <tr>\n",
       "      <th>0</th>\n",
       "      <td>14.0</td>\n",
       "      <td>Woody (voice)</td>\n",
       "      <td>2.0</td>\n",
       "      <td>31.0</td>\n",
       "      <td>Tom Hanks</td>\n",
       "      <td>0.0</td>\n",
       "      <td>862</td>\n",
       "    </tr>\n",
       "    <tr>\n",
       "      <th>1</th>\n",
       "      <td>15.0</td>\n",
       "      <td>Buzz Lightyear (voice)</td>\n",
       "      <td>2.0</td>\n",
       "      <td>12898.0</td>\n",
       "      <td>Tim Allen</td>\n",
       "      <td>1.0</td>\n",
       "      <td>862</td>\n",
       "    </tr>\n",
       "    <tr>\n",
       "      <th>2</th>\n",
       "      <td>16.0</td>\n",
       "      <td>Mr. Potato Head (voice)</td>\n",
       "      <td>2.0</td>\n",
       "      <td>7167.0</td>\n",
       "      <td>Don Rickles</td>\n",
       "      <td>2.0</td>\n",
       "      <td>862</td>\n",
       "    </tr>\n",
       "    <tr>\n",
       "      <th>3</th>\n",
       "      <td>17.0</td>\n",
       "      <td>Slinky Dog (voice)</td>\n",
       "      <td>2.0</td>\n",
       "      <td>12899.0</td>\n",
       "      <td>Jim Varney</td>\n",
       "      <td>3.0</td>\n",
       "      <td>862</td>\n",
       "    </tr>\n",
       "  </tbody>\n",
       "</table>\n",
       "</div>"
      ],
      "text/plain": [
       "   cast_id                character  gender       id         name  order  \\\n",
       "0     14.0            Woody (voice)     2.0     31.0    Tom Hanks    0.0   \n",
       "1     15.0   Buzz Lightyear (voice)     2.0  12898.0    Tim Allen    1.0   \n",
       "2     16.0  Mr. Potato Head (voice)     2.0   7167.0  Don Rickles    2.0   \n",
       "3     17.0       Slinky Dog (voice)     2.0  12899.0   Jim Varney    3.0   \n",
       "\n",
       "   id_pelicula  \n",
       "0          862  \n",
       "1          862  \n",
       "2          862  \n",
       "3          862  "
      ]
     },
     "execution_count": 34,
     "metadata": {},
     "output_type": "execute_result"
    }
   ],
   "source": [
    "df_cast.head(4)"
   ]
  },
  {
   "cell_type": "code",
   "execution_count": 35,
   "metadata": {},
   "outputs": [
    {
     "data": {
      "text/plain": [
       "4.0       26777\n",
       "5.0       25655\n",
       "3.0       25594\n",
       "6.0       24006\n",
       "2.0       22846\n",
       "          ...  \n",
       "344.0         1\n",
       "1099.0        1\n",
       "1098.0        1\n",
       "1097.0        1\n",
       "438.0         1\n",
       "Name: cast_id, Length: 574, dtype: int64"
      ]
     },
     "execution_count": 35,
     "metadata": {},
     "output_type": "execute_result"
    }
   ],
   "source": [
    "df_cast['cast_id'].value_counts()"
   ]
  },
  {
   "cell_type": "code",
   "execution_count": 36,
   "metadata": {},
   "outputs": [
    {
     "data": {
      "text/plain": [
       "121323.0     241\n",
       "113.0        148\n",
       "4165.0       125\n",
       "2231.0       123\n",
       "16927.0      110\n",
       "            ... \n",
       "1748750.0      1\n",
       "1088588.0      1\n",
       "1722007.0      1\n",
       "28519.0        1\n",
       "1261758.0      1\n",
       "Name: id, Length: 206158, dtype: int64"
      ]
     },
     "execution_count": 36,
     "metadata": {},
     "output_type": "execute_result"
    }
   ],
   "source": [
    "df_cast['id'].value_counts()"
   ]
  },
  {
   "cell_type": "code",
   "execution_count": 37,
   "metadata": {},
   "outputs": [
    {
     "data": {
      "text/html": [
       "<div>\n",
       "<style scoped>\n",
       "    .dataframe tbody tr th:only-of-type {\n",
       "        vertical-align: middle;\n",
       "    }\n",
       "\n",
       "    .dataframe tbody tr th {\n",
       "        vertical-align: top;\n",
       "    }\n",
       "\n",
       "    .dataframe thead th {\n",
       "        text-align: right;\n",
       "    }\n",
       "</style>\n",
       "<table border=\"1\" class=\"dataframe\">\n",
       "  <thead>\n",
       "    <tr style=\"text-align: right;\">\n",
       "      <th></th>\n",
       "      <th>cast_id</th>\n",
       "      <th>character</th>\n",
       "      <th>gender</th>\n",
       "      <th>id</th>\n",
       "      <th>name</th>\n",
       "      <th>order</th>\n",
       "      <th>id_pelicula</th>\n",
       "    </tr>\n",
       "  </thead>\n",
       "  <tbody>\n",
       "    <tr>\n",
       "      <th>41</th>\n",
       "      <td>4.0</td>\n",
       "      <td>Ariel Gustafson</td>\n",
       "      <td>1.0</td>\n",
       "      <td>13567.0</td>\n",
       "      <td>Ann-Margret</td>\n",
       "      <td>2.0</td>\n",
       "      <td>15602</td>\n",
       "    </tr>\n",
       "    <tr>\n",
       "      <th>49</th>\n",
       "      <td>4.0</td>\n",
       "      <td>Robin Stokes</td>\n",
       "      <td>1.0</td>\n",
       "      <td>51359.0</td>\n",
       "      <td>Lela Rochon</td>\n",
       "      <td>3.0</td>\n",
       "      <td>31357</td>\n",
       "    </tr>\n",
       "    <tr>\n",
       "      <th>59</th>\n",
       "      <td>4.0</td>\n",
       "      <td>Annie Banks-MacKenzie</td>\n",
       "      <td>1.0</td>\n",
       "      <td>70696.0</td>\n",
       "      <td>Kimberly Williams-Paisley</td>\n",
       "      <td>3.0</td>\n",
       "      <td>11862</td>\n",
       "    </tr>\n",
       "  </tbody>\n",
       "</table>\n",
       "</div>"
      ],
      "text/plain": [
       "    cast_id              character  gender       id  \\\n",
       "41      4.0        Ariel Gustafson     1.0  13567.0   \n",
       "49      4.0           Robin Stokes     1.0  51359.0   \n",
       "59      4.0  Annie Banks-MacKenzie     1.0  70696.0   \n",
       "\n",
       "                         name  order  id_pelicula  \n",
       "41                Ann-Margret    2.0        15602  \n",
       "49                Lela Rochon    3.0        31357  \n",
       "59  Kimberly Williams-Paisley    3.0        11862  "
      ]
     },
     "execution_count": 37,
     "metadata": {},
     "output_type": "execute_result"
    }
   ],
   "source": [
    "df_cast[df_cast['cast_id']==4.0].head(3)"
   ]
  },
  {
   "cell_type": "code",
   "execution_count": 38,
   "metadata": {},
   "outputs": [
    {
     "data": {
      "text/html": [
       "<div>\n",
       "<style scoped>\n",
       "    .dataframe tbody tr th:only-of-type {\n",
       "        vertical-align: middle;\n",
       "    }\n",
       "\n",
       "    .dataframe tbody tr th {\n",
       "        vertical-align: top;\n",
       "    }\n",
       "\n",
       "    .dataframe thead th {\n",
       "        text-align: right;\n",
       "    }\n",
       "</style>\n",
       "<table border=\"1\" class=\"dataframe\">\n",
       "  <thead>\n",
       "    <tr style=\"text-align: right;\">\n",
       "      <th></th>\n",
       "      <th>cast_id</th>\n",
       "      <th>character</th>\n",
       "      <th>gender</th>\n",
       "      <th>id</th>\n",
       "      <th>name</th>\n",
       "      <th>order</th>\n",
       "      <th>id_pelicula</th>\n",
       "    </tr>\n",
       "  </thead>\n",
       "  <tbody>\n",
       "    <tr>\n",
       "      <th>1</th>\n",
       "      <td>15.0</td>\n",
       "      <td>Buzz Lightyear (voice)</td>\n",
       "      <td>2.0</td>\n",
       "      <td>12898.0</td>\n",
       "      <td>Tim Allen</td>\n",
       "      <td>1.0</td>\n",
       "      <td>862</td>\n",
       "    </tr>\n",
       "    <tr>\n",
       "      <th>14</th>\n",
       "      <td>8.0</td>\n",
       "      <td>Samuel Alan Parrish / Van Pelt</td>\n",
       "      <td>2.0</td>\n",
       "      <td>8537.0</td>\n",
       "      <td>Jonathan Hyde</td>\n",
       "      <td>1.0</td>\n",
       "      <td>8844</td>\n",
       "    </tr>\n",
       "    <tr>\n",
       "      <th>40</th>\n",
       "      <td>3.0</td>\n",
       "      <td>John Gustafson</td>\n",
       "      <td>2.0</td>\n",
       "      <td>3151.0</td>\n",
       "      <td>Jack Lemmon</td>\n",
       "      <td>1.0</td>\n",
       "      <td>15602</td>\n",
       "    </tr>\n",
       "    <tr>\n",
       "      <th>47</th>\n",
       "      <td>2.0</td>\n",
       "      <td>Bernadine 'Bernie' Harris</td>\n",
       "      <td>1.0</td>\n",
       "      <td>9780.0</td>\n",
       "      <td>Angela Bassett</td>\n",
       "      <td>1.0</td>\n",
       "      <td>31357</td>\n",
       "    </tr>\n",
       "    <tr>\n",
       "      <th>57</th>\n",
       "      <td>2.0</td>\n",
       "      <td>Nina Banks</td>\n",
       "      <td>1.0</td>\n",
       "      <td>3092.0</td>\n",
       "      <td>Diane Keaton</td>\n",
       "      <td>1.0</td>\n",
       "      <td>11862</td>\n",
       "    </tr>\n",
       "    <tr>\n",
       "      <th>...</th>\n",
       "      <td>...</td>\n",
       "      <td>...</td>\n",
       "      <td>...</td>\n",
       "      <td>...</td>\n",
       "      <td>...</td>\n",
       "      <td>...</td>\n",
       "      <td>...</td>\n",
       "    </tr>\n",
       "    <tr>\n",
       "      <th>562436</th>\n",
       "      <td>2.0</td>\n",
       "      <td>Maid Marian</td>\n",
       "      <td>1.0</td>\n",
       "      <td>139.0</td>\n",
       "      <td>Uma Thurman</td>\n",
       "      <td>1.0</td>\n",
       "      <td>30840</td>\n",
       "    </tr>\n",
       "    <tr>\n",
       "      <th>562440</th>\n",
       "      <td>0.0</td>\n",
       "      <td>NaN</td>\n",
       "      <td>1.0</td>\n",
       "      <td>240240.0</td>\n",
       "      <td>Leila Hatami</td>\n",
       "      <td>1.0</td>\n",
       "      <td>439050</td>\n",
       "    </tr>\n",
       "    <tr>\n",
       "      <th>562444</th>\n",
       "      <td>1008.0</td>\n",
       "      <td>Homer</td>\n",
       "      <td>0.0</td>\n",
       "      <td>111636.0</td>\n",
       "      <td>Perry Dizon</td>\n",
       "      <td>1.0</td>\n",
       "      <td>111109</td>\n",
       "    </tr>\n",
       "    <tr>\n",
       "      <th>562455</th>\n",
       "      <td>7.0</td>\n",
       "      <td>Det. Mark Winston</td>\n",
       "      <td>2.0</td>\n",
       "      <td>2059.0</td>\n",
       "      <td>Adam Baldwin</td>\n",
       "      <td>1.0</td>\n",
       "      <td>67758</td>\n",
       "    </tr>\n",
       "    <tr>\n",
       "      <th>562470</th>\n",
       "      <td>3.0</td>\n",
       "      <td>NaN</td>\n",
       "      <td>1.0</td>\n",
       "      <td>1090923.0</td>\n",
       "      <td>Nathalie Lissenko</td>\n",
       "      <td>1.0</td>\n",
       "      <td>227506</td>\n",
       "    </tr>\n",
       "  </tbody>\n",
       "</table>\n",
       "<p>41589 rows × 7 columns</p>\n",
       "</div>"
      ],
      "text/plain": [
       "        cast_id                       character  gender         id  \\\n",
       "1          15.0          Buzz Lightyear (voice)     2.0    12898.0   \n",
       "14          8.0  Samuel Alan Parrish / Van Pelt     2.0     8537.0   \n",
       "40          3.0                  John Gustafson     2.0     3151.0   \n",
       "47          2.0       Bernadine 'Bernie' Harris     1.0     9780.0   \n",
       "57          2.0                      Nina Banks     1.0     3092.0   \n",
       "...         ...                             ...     ...        ...   \n",
       "562436      2.0                     Maid Marian     1.0      139.0   \n",
       "562440      0.0                             NaN     1.0   240240.0   \n",
       "562444   1008.0                           Homer     0.0   111636.0   \n",
       "562455      7.0               Det. Mark Winston     2.0     2059.0   \n",
       "562470      3.0                             NaN     1.0  1090923.0   \n",
       "\n",
       "                     name  order  id_pelicula  \n",
       "1               Tim Allen    1.0          862  \n",
       "14          Jonathan Hyde    1.0         8844  \n",
       "40            Jack Lemmon    1.0        15602  \n",
       "47         Angela Bassett    1.0        31357  \n",
       "57           Diane Keaton    1.0        11862  \n",
       "...                   ...    ...          ...  \n",
       "562436        Uma Thurman    1.0        30840  \n",
       "562440       Leila Hatami    1.0       439050  \n",
       "562444        Perry Dizon    1.0       111109  \n",
       "562455       Adam Baldwin    1.0        67758  \n",
       "562470  Nathalie Lissenko    1.0       227506  \n",
       "\n",
       "[41589 rows x 7 columns]"
      ]
     },
     "execution_count": 38,
     "metadata": {},
     "output_type": "execute_result"
    }
   ],
   "source": [
    "df_cast[df_cast['order']==1]"
   ]
  },
  {
   "cell_type": "code",
   "execution_count": 39,
   "metadata": {},
   "outputs": [
    {
     "data": {
      "text/html": [
       "<div>\n",
       "<style scoped>\n",
       "    .dataframe tbody tr th:only-of-type {\n",
       "        vertical-align: middle;\n",
       "    }\n",
       "\n",
       "    .dataframe tbody tr th {\n",
       "        vertical-align: top;\n",
       "    }\n",
       "\n",
       "    .dataframe thead th {\n",
       "        text-align: right;\n",
       "    }\n",
       "</style>\n",
       "<table border=\"1\" class=\"dataframe\">\n",
       "  <thead>\n",
       "    <tr style=\"text-align: right;\">\n",
       "      <th></th>\n",
       "      <th>cast_id</th>\n",
       "      <th>character</th>\n",
       "      <th>gender</th>\n",
       "      <th>id</th>\n",
       "      <th>name</th>\n",
       "      <th>order</th>\n",
       "      <th>id_pelicula</th>\n",
       "    </tr>\n",
       "  </thead>\n",
       "  <tbody>\n",
       "    <tr>\n",
       "      <th>13755</th>\n",
       "      <td>36.0</td>\n",
       "      <td>Audience Member (uncredited)</td>\n",
       "      <td>1.0</td>\n",
       "      <td>121323.0</td>\n",
       "      <td>Bess Flowers</td>\n",
       "      <td>9.0</td>\n",
       "      <td>872</td>\n",
       "    </tr>\n",
       "    <tr>\n",
       "      <th>13784</th>\n",
       "      <td>10.0</td>\n",
       "      <td>Fashion Show Spectator</td>\n",
       "      <td>1.0</td>\n",
       "      <td>121323.0</td>\n",
       "      <td>Bess Flowers</td>\n",
       "      <td>5.0</td>\n",
       "      <td>13320</td>\n",
       "    </tr>\n",
       "    <tr>\n",
       "      <th>13817</th>\n",
       "      <td>24.0</td>\n",
       "      <td>Diner at Ernie's</td>\n",
       "      <td>1.0</td>\n",
       "      <td>121323.0</td>\n",
       "      <td>Bess Flowers</td>\n",
       "      <td>9.0</td>\n",
       "      <td>426</td>\n",
       "    </tr>\n",
       "  </tbody>\n",
       "</table>\n",
       "</div>"
      ],
      "text/plain": [
       "       cast_id                     character  gender        id          name  \\\n",
       "13755     36.0  Audience Member (uncredited)     1.0  121323.0  Bess Flowers   \n",
       "13784     10.0        Fashion Show Spectator     1.0  121323.0  Bess Flowers   \n",
       "13817     24.0              Diner at Ernie's     1.0  121323.0  Bess Flowers   \n",
       "\n",
       "       order  id_pelicula  \n",
       "13755    9.0          872  \n",
       "13784    5.0        13320  \n",
       "13817    9.0          426  "
      ]
     },
     "execution_count": 39,
     "metadata": {},
     "output_type": "execute_result"
    }
   ],
   "source": [
    "df_cast[df_cast['id']==121323.0].head(3)"
   ]
  },
  {
   "cell_type": "code",
   "execution_count": 40,
   "metadata": {},
   "outputs": [],
   "source": [
    "# order es innecesario, es un valor dentro de cada pelicula\n",
    "# por lo que fuera de cada una en un df que trata de gran variedad de peliculas\n",
    "# no sirve, es una info personal de cada una.(para el director podría decirse)\n",
    "df_cast['cast_id']=df_cast['id']\n",
    "#df_cast['cast_character']=df_cast['character']\n",
    "#df_cast['cast_name']=df_cast['name']\n",
    "#df_cast['cast_gender']=df_cast['gender']\n",
    "df_cast.drop(columns=['id','name','gender','order','character'],inplace=True)"
   ]
  },
  {
   "cell_type": "code",
   "execution_count": 41,
   "metadata": {},
   "outputs": [
    {
     "data": {
      "text/html": [
       "<div>\n",
       "<style scoped>\n",
       "    .dataframe tbody tr th:only-of-type {\n",
       "        vertical-align: middle;\n",
       "    }\n",
       "\n",
       "    .dataframe tbody tr th {\n",
       "        vertical-align: top;\n",
       "    }\n",
       "\n",
       "    .dataframe thead th {\n",
       "        text-align: right;\n",
       "    }\n",
       "</style>\n",
       "<table border=\"1\" class=\"dataframe\">\n",
       "  <thead>\n",
       "    <tr style=\"text-align: right;\">\n",
       "      <th></th>\n",
       "      <th>cast_id</th>\n",
       "      <th>id_pelicula</th>\n",
       "    </tr>\n",
       "  </thead>\n",
       "  <tbody>\n",
       "    <tr>\n",
       "      <th>0</th>\n",
       "      <td>31.0</td>\n",
       "      <td>862</td>\n",
       "    </tr>\n",
       "    <tr>\n",
       "      <th>1</th>\n",
       "      <td>12898.0</td>\n",
       "      <td>862</td>\n",
       "    </tr>\n",
       "    <tr>\n",
       "      <th>2</th>\n",
       "      <td>7167.0</td>\n",
       "      <td>862</td>\n",
       "    </tr>\n",
       "    <tr>\n",
       "      <th>3</th>\n",
       "      <td>12899.0</td>\n",
       "      <td>862</td>\n",
       "    </tr>\n",
       "    <tr>\n",
       "      <th>4</th>\n",
       "      <td>12900.0</td>\n",
       "      <td>862</td>\n",
       "    </tr>\n",
       "  </tbody>\n",
       "</table>\n",
       "</div>"
      ],
      "text/plain": [
       "   cast_id  id_pelicula\n",
       "0     31.0          862\n",
       "1  12898.0          862\n",
       "2   7167.0          862\n",
       "3  12899.0          862\n",
       "4  12900.0          862"
      ]
     },
     "execution_count": 41,
     "metadata": {},
     "output_type": "execute_result"
    }
   ],
   "source": [
    "df_cast.head(5)"
   ]
  },
  {
   "cell_type": "markdown",
   "metadata": {},
   "source": [
    "### collection"
   ]
  },
  {
   "cell_type": "code",
   "execution_count": 42,
   "metadata": {},
   "outputs": [
    {
     "data": {
      "text/html": [
       "<div>\n",
       "<style scoped>\n",
       "    .dataframe tbody tr th:only-of-type {\n",
       "        vertical-align: middle;\n",
       "    }\n",
       "\n",
       "    .dataframe tbody tr th {\n",
       "        vertical-align: top;\n",
       "    }\n",
       "\n",
       "    .dataframe thead th {\n",
       "        text-align: right;\n",
       "    }\n",
       "</style>\n",
       "<table border=\"1\" class=\"dataframe\">\n",
       "  <thead>\n",
       "    <tr style=\"text-align: right;\">\n",
       "      <th></th>\n",
       "      <th>id</th>\n",
       "      <th>name</th>\n",
       "      <th>id_pelicula</th>\n",
       "      <th>revenue</th>\n",
       "      <th>budget</th>\n",
       "    </tr>\n",
       "  </thead>\n",
       "  <tbody>\n",
       "    <tr>\n",
       "      <th>0</th>\n",
       "      <td>10194</td>\n",
       "      <td>Toy Story Collection</td>\n",
       "      <td>862</td>\n",
       "      <td>373554033.0</td>\n",
       "      <td>30000000.0</td>\n",
       "    </tr>\n",
       "    <tr>\n",
       "      <th>1</th>\n",
       "      <td>119050</td>\n",
       "      <td>Grumpy Old Men Collection</td>\n",
       "      <td>15602</td>\n",
       "      <td>0.0</td>\n",
       "      <td>0.0</td>\n",
       "    </tr>\n",
       "    <tr>\n",
       "      <th>2</th>\n",
       "      <td>96871</td>\n",
       "      <td>Father of the Bride Collection</td>\n",
       "      <td>11862</td>\n",
       "      <td>76578911.0</td>\n",
       "      <td>0.0</td>\n",
       "    </tr>\n",
       "    <tr>\n",
       "      <th>3</th>\n",
       "      <td>645</td>\n",
       "      <td>James Bond Collection</td>\n",
       "      <td>710</td>\n",
       "      <td>352194034.0</td>\n",
       "      <td>58000000.0</td>\n",
       "    </tr>\n",
       "    <tr>\n",
       "      <th>4</th>\n",
       "      <td>117693</td>\n",
       "      <td>Balto Collection</td>\n",
       "      <td>21032</td>\n",
       "      <td>11348324.0</td>\n",
       "      <td>0.0</td>\n",
       "    </tr>\n",
       "  </tbody>\n",
       "</table>\n",
       "</div>"
      ],
      "text/plain": [
       "       id                            name  id_pelicula      revenue  \\\n",
       "0   10194            Toy Story Collection          862  373554033.0   \n",
       "1  119050       Grumpy Old Men Collection        15602          0.0   \n",
       "2   96871  Father of the Bride Collection        11862   76578911.0   \n",
       "3     645           James Bond Collection          710  352194034.0   \n",
       "4  117693                Balto Collection        21032   11348324.0   \n",
       "\n",
       "       budget  \n",
       "0  30000000.0  \n",
       "1         0.0  \n",
       "2         0.0  \n",
       "3  58000000.0  \n",
       "4         0.0  "
      ]
     },
     "execution_count": 42,
     "metadata": {},
     "output_type": "execute_result"
    }
   ],
   "source": [
    "df_belongs_to_collection.head(5)"
   ]
  },
  {
   "cell_type": "code",
   "execution_count": 43,
   "metadata": {},
   "outputs": [
    {
     "data": {
      "text/html": [
       "<div>\n",
       "<style scoped>\n",
       "    .dataframe tbody tr th:only-of-type {\n",
       "        vertical-align: middle;\n",
       "    }\n",
       "\n",
       "    .dataframe tbody tr th {\n",
       "        vertical-align: top;\n",
       "    }\n",
       "\n",
       "    .dataframe thead th {\n",
       "        text-align: right;\n",
       "    }\n",
       "</style>\n",
       "<table border=\"1\" class=\"dataframe\">\n",
       "  <thead>\n",
       "    <tr style=\"text-align: right;\">\n",
       "      <th></th>\n",
       "      <th>id</th>\n",
       "      <th>name</th>\n",
       "      <th>id_pelicula</th>\n",
       "      <th>revenue</th>\n",
       "      <th>budget</th>\n",
       "    </tr>\n",
       "  </thead>\n",
       "  <tbody>\n",
       "    <tr>\n",
       "      <th>3</th>\n",
       "      <td>645</td>\n",
       "      <td>James Bond Collection</td>\n",
       "      <td>710</td>\n",
       "      <td>352194034.0</td>\n",
       "      <td>58000000.0</td>\n",
       "    </tr>\n",
       "    <tr>\n",
       "      <th>236</th>\n",
       "      <td>645</td>\n",
       "      <td>James Bond Collection</td>\n",
       "      <td>714</td>\n",
       "      <td>333011068.0</td>\n",
       "      <td>110000000.0</td>\n",
       "    </tr>\n",
       "    <tr>\n",
       "      <th>361</th>\n",
       "      <td>645</td>\n",
       "      <td>James Bond Collection</td>\n",
       "      <td>707</td>\n",
       "      <td>152427960.0</td>\n",
       "      <td>30000000.0</td>\n",
       "    </tr>\n",
       "    <tr>\n",
       "      <th>482</th>\n",
       "      <td>645</td>\n",
       "      <td>James Bond Collection</td>\n",
       "      <td>658</td>\n",
       "      <td>124881062.0</td>\n",
       "      <td>2500000.0</td>\n",
       "    </tr>\n",
       "    <tr>\n",
       "      <th>483</th>\n",
       "      <td>645</td>\n",
       "      <td>James Bond Collection</td>\n",
       "      <td>657</td>\n",
       "      <td>78898765.0</td>\n",
       "      <td>2000000.0</td>\n",
       "    </tr>\n",
       "  </tbody>\n",
       "</table>\n",
       "</div>"
      ],
      "text/plain": [
       "      id                   name  id_pelicula      revenue       budget\n",
       "3    645  James Bond Collection          710  352194034.0   58000000.0\n",
       "236  645  James Bond Collection          714  333011068.0  110000000.0\n",
       "361  645  James Bond Collection          707  152427960.0   30000000.0\n",
       "482  645  James Bond Collection          658  124881062.0    2500000.0\n",
       "483  645  James Bond Collection          657   78898765.0    2000000.0"
      ]
     },
     "execution_count": 43,
     "metadata": {},
     "output_type": "execute_result"
    }
   ],
   "source": [
    "df_belongs_to_collection[df_belongs_to_collection['id']==645].head(5)"
   ]
  },
  {
   "cell_type": "code",
   "execution_count": 44,
   "metadata": {},
   "outputs": [],
   "source": [
    "# Renombro la columna 'name' para distinguirla de otras\n",
    "df_belongs_to_collection['collection_id']=df_belongs_to_collection['id']\n",
    "\n",
    "# Elimino las columnas que duplique en su momento al crear este df, por si acaso.\n",
    "df_belongs_to_collection.drop(columns=['name','id','revenue','budget'],inplace=True)"
   ]
  },
  {
   "cell_type": "code",
   "execution_count": 45,
   "metadata": {},
   "outputs": [
    {
     "data": {
      "text/plain": [
       "(4488, 2)"
      ]
     },
     "execution_count": 45,
     "metadata": {},
     "output_type": "execute_result"
    }
   ],
   "source": [
    "df_belongs_to_collection.shape"
   ]
  },
  {
   "cell_type": "code",
   "execution_count": 46,
   "metadata": {},
   "outputs": [
    {
     "data": {
      "text/html": [
       "<div>\n",
       "<style scoped>\n",
       "    .dataframe tbody tr th:only-of-type {\n",
       "        vertical-align: middle;\n",
       "    }\n",
       "\n",
       "    .dataframe tbody tr th {\n",
       "        vertical-align: top;\n",
       "    }\n",
       "\n",
       "    .dataframe thead th {\n",
       "        text-align: right;\n",
       "    }\n",
       "</style>\n",
       "<table border=\"1\" class=\"dataframe\">\n",
       "  <thead>\n",
       "    <tr style=\"text-align: right;\">\n",
       "      <th></th>\n",
       "      <th>id_pelicula</th>\n",
       "      <th>collection_id</th>\n",
       "    </tr>\n",
       "  </thead>\n",
       "  <tbody>\n",
       "    <tr>\n",
       "      <th>0</th>\n",
       "      <td>862</td>\n",
       "      <td>10194</td>\n",
       "    </tr>\n",
       "    <tr>\n",
       "      <th>1</th>\n",
       "      <td>15602</td>\n",
       "      <td>119050</td>\n",
       "    </tr>\n",
       "    <tr>\n",
       "      <th>2</th>\n",
       "      <td>11862</td>\n",
       "      <td>96871</td>\n",
       "    </tr>\n",
       "    <tr>\n",
       "      <th>3</th>\n",
       "      <td>710</td>\n",
       "      <td>645</td>\n",
       "    </tr>\n",
       "    <tr>\n",
       "      <th>4</th>\n",
       "      <td>21032</td>\n",
       "      <td>117693</td>\n",
       "    </tr>\n",
       "  </tbody>\n",
       "</table>\n",
       "</div>"
      ],
      "text/plain": [
       "   id_pelicula  collection_id\n",
       "0          862          10194\n",
       "1        15602         119050\n",
       "2        11862          96871\n",
       "3          710            645\n",
       "4        21032         117693"
      ]
     },
     "execution_count": 46,
     "metadata": {},
     "output_type": "execute_result"
    }
   ],
   "source": [
    "df_belongs_to_collection.head(5)"
   ]
  },
  {
   "cell_type": "code",
   "execution_count": 47,
   "metadata": {},
   "outputs": [
    {
     "data": {
      "text/html": [
       "<div>\n",
       "<style scoped>\n",
       "    .dataframe tbody tr th:only-of-type {\n",
       "        vertical-align: middle;\n",
       "    }\n",
       "\n",
       "    .dataframe tbody tr th {\n",
       "        vertical-align: top;\n",
       "    }\n",
       "\n",
       "    .dataframe thead th {\n",
       "        text-align: right;\n",
       "    }\n",
       "</style>\n",
       "<table border=\"1\" class=\"dataframe\">\n",
       "  <thead>\n",
       "    <tr style=\"text-align: right;\">\n",
       "      <th></th>\n",
       "      <th>id_pelicula</th>\n",
       "      <th>collection_id</th>\n",
       "    </tr>\n",
       "  </thead>\n",
       "  <tbody>\n",
       "    <tr>\n",
       "      <th>3</th>\n",
       "      <td>710</td>\n",
       "      <td>645</td>\n",
       "    </tr>\n",
       "    <tr>\n",
       "      <th>236</th>\n",
       "      <td>714</td>\n",
       "      <td>645</td>\n",
       "    </tr>\n",
       "    <tr>\n",
       "      <th>361</th>\n",
       "      <td>707</td>\n",
       "      <td>645</td>\n",
       "    </tr>\n",
       "    <tr>\n",
       "      <th>482</th>\n",
       "      <td>658</td>\n",
       "      <td>645</td>\n",
       "    </tr>\n",
       "    <tr>\n",
       "      <th>483</th>\n",
       "      <td>657</td>\n",
       "      <td>645</td>\n",
       "    </tr>\n",
       "  </tbody>\n",
       "</table>\n",
       "</div>"
      ],
      "text/plain": [
       "     id_pelicula  collection_id\n",
       "3            710            645\n",
       "236          714            645\n",
       "361          707            645\n",
       "482          658            645\n",
       "483          657            645"
      ]
     },
     "execution_count": 47,
     "metadata": {},
     "output_type": "execute_result"
    }
   ],
   "source": [
    "df_belongs_to_collection[df_belongs_to_collection['collection_id']==645].head(5)"
   ]
  },
  {
   "cell_type": "markdown",
   "metadata": {},
   "source": [
    "## Merge"
   ]
  },
  {
   "cell_type": "markdown",
   "metadata": {},
   "source": [
    "Este merge es principalmente para ver la tabla de correlaciones de las variables.<br>\n",
    "A la hora de utilizar parametros la idea es solamente usar los id para predecir (evita errores el usar numeros que identifiquen cada categoria, y también resultan ser dos columnas que dan la misma información la que tienen el nombre con las que tienen el id del nombre).<br>\n",
    "Luego como mencioné más arriba voy a usar esos id una vez predichos para compararlos con el df que contiene todos sus datos y sacar el dato de nombre de ahi."
   ]
  },
  {
   "cell_type": "code",
   "execution_count": 48,
   "metadata": {},
   "outputs": [],
   "source": [
    "df_todo=pd.merge(data,df_genres,on='id_pelicula',how='left')\n",
    "df_todo=pd.merge(df_todo,df_crew,on='id_pelicula',how='left')\n",
    "df_todo=pd.merge(df_todo,df_cast,on='id_pelicula',how='left')\n",
    "df_todo=pd.merge(df_todo,df_belongs_to_collection,on='id_pelicula',how='left')"
   ]
  },
  {
   "cell_type": "code",
   "execution_count": 49,
   "metadata": {},
   "outputs": [
    {
     "data": {
      "text/plain": [
       "(4134, 19)"
      ]
     },
     "execution_count": 49,
     "metadata": {},
     "output_type": "execute_result"
    }
   ],
   "source": [
    "df_todo[df_todo['title']=='Toy Story'].shape"
   ]
  },
  {
   "cell_type": "code",
   "execution_count": 50,
   "metadata": {},
   "outputs": [
    {
     "data": {
      "text/plain": [
       "Index(['id_pelicula', 'title', 'overview', 'status', 'runtime', 'popularity',\n",
       "       'tagline', 'original_language', 'vote_average', 'vote_count',\n",
       "       'release_year', 'budget', 'revenue', 'return', 'status_num', 'genre_id',\n",
       "       'crew_id', 'cast_id', 'collection_id'],\n",
       "      dtype='object')"
      ]
     },
     "execution_count": 50,
     "metadata": {},
     "output_type": "execute_result"
    }
   ],
   "source": [
    "df_todo.columns"
   ]
  },
  {
   "cell_type": "markdown",
   "metadata": {},
   "source": [
    "Antes de continuar con el EDA, yo ya considero como columnas innecesarias:<br>\n",
    "\n",
    "- title (se va a usar el \"id_pelicula\" para identificarlas.)\n",
    "- overview\n",
    "- runtime\n",
    "- status\n",
    "- tagline\n",
    "- original_language\n",
    "- genre_name (usamos el genre_id)\n",
    "- crew_name (usamos el crew_id para identificar)\n",
    "- crew_department\n",
    "- crew_job\n",
    "- cast_character\n",
    "- cast_name (usamos cast_id)\n",
    "- collection_name\n",
    "\n",
    "Principalmente todo lo que sea texto, y fue introducido por id, se quita su nombre en texto y se deja solamente el id que lo representa.<br>\n",
    "El resto que no esta representado por id, es innecesario.<br>\n",
    "Antes de seguir el analisis, borro las columnas asi optimizamos la rápidez y el uso de recursos."
   ]
  },
  {
   "cell_type": "code",
   "execution_count": 51,
   "metadata": {},
   "outputs": [],
   "source": [
    "# No considero necesario status en ninguna forma, asi que también elimino la columna en números que le cree\n",
    "#df_todo.drop(inplace=True,columns=['title' ,'overview','status','status_num','tagline','original_language','genre_name','crew_name','crew_department','crew_job','cast_character','cast_name' ,'collection_name'])"
   ]
  },
  {
   "cell_type": "code",
   "execution_count": 52,
   "metadata": {},
   "outputs": [],
   "source": [
    "df_todo.drop(inplace=True,columns=['title' ,'overview', 'runtime','status','status_num','tagline','original_language'])"
   ]
  },
  {
   "cell_type": "code",
   "execution_count": 53,
   "metadata": {},
   "outputs": [
    {
     "data": {
      "text/plain": [
       "Index(['id_pelicula', 'popularity', 'vote_average', 'vote_count',\n",
       "       'release_year', 'budget', 'revenue', 'return', 'genre_id', 'crew_id',\n",
       "       'cast_id', 'collection_id'],\n",
       "      dtype='object')"
      ]
     },
     "execution_count": 53,
     "metadata": {},
     "output_type": "execute_result"
    }
   ],
   "source": [
    "df_todo.columns"
   ]
  },
  {
   "cell_type": "code",
   "execution_count": 54,
   "metadata": {},
   "outputs": [
    {
     "data": {
      "text/html": [
       "<div>\n",
       "<style scoped>\n",
       "    .dataframe tbody tr th:only-of-type {\n",
       "        vertical-align: middle;\n",
       "    }\n",
       "\n",
       "    .dataframe tbody tr th {\n",
       "        vertical-align: top;\n",
       "    }\n",
       "\n",
       "    .dataframe thead th {\n",
       "        text-align: right;\n",
       "    }\n",
       "</style>\n",
       "<table border=\"1\" class=\"dataframe\">\n",
       "  <thead>\n",
       "    <tr style=\"text-align: right;\">\n",
       "      <th></th>\n",
       "      <th>id_pelicula</th>\n",
       "      <th>collection_id</th>\n",
       "    </tr>\n",
       "  </thead>\n",
       "  <tbody>\n",
       "    <tr>\n",
       "      <th>1431</th>\n",
       "      <td>272</td>\n",
       "      <td>263</td>\n",
       "    </tr>\n",
       "    <tr>\n",
       "      <th>1698</th>\n",
       "      <td>155</td>\n",
       "      <td>263</td>\n",
       "    </tr>\n",
       "    <tr>\n",
       "      <th>2228</th>\n",
       "      <td>49026</td>\n",
       "      <td>263</td>\n",
       "    </tr>\n",
       "  </tbody>\n",
       "</table>\n",
       "</div>"
      ],
      "text/plain": [
       "      id_pelicula  collection_id\n",
       "1431          272            263\n",
       "1698          155            263\n",
       "2228        49026            263"
      ]
     },
     "execution_count": 54,
     "metadata": {},
     "output_type": "execute_result"
    }
   ],
   "source": [
    "df_belongs_to_collection[df_belongs_to_collection['collection_id']==263]"
   ]
  },
  {
   "cell_type": "code",
   "execution_count": 55,
   "metadata": {},
   "outputs": [
    {
     "data": {
      "text/html": [
       "<div>\n",
       "<style scoped>\n",
       "    .dataframe tbody tr th:only-of-type {\n",
       "        vertical-align: middle;\n",
       "    }\n",
       "\n",
       "    .dataframe tbody tr th {\n",
       "        vertical-align: top;\n",
       "    }\n",
       "\n",
       "    .dataframe thead th {\n",
       "        text-align: right;\n",
       "    }\n",
       "</style>\n",
       "<table border=\"1\" class=\"dataframe\">\n",
       "  <thead>\n",
       "    <tr style=\"text-align: right;\">\n",
       "      <th></th>\n",
       "      <th>id_pelicula</th>\n",
       "      <th>popularity</th>\n",
       "      <th>vote_average</th>\n",
       "      <th>vote_count</th>\n",
       "      <th>release_year</th>\n",
       "      <th>budget</th>\n",
       "      <th>revenue</th>\n",
       "      <th>return</th>\n",
       "      <th>genre_id</th>\n",
       "      <th>crew_id</th>\n",
       "      <th>cast_id</th>\n",
       "      <th>collection_id</th>\n",
       "    </tr>\n",
       "  </thead>\n",
       "  <tbody>\n",
       "  </tbody>\n",
       "</table>\n",
       "</div>"
      ],
      "text/plain": [
       "Empty DataFrame\n",
       "Columns: [id_pelicula, popularity, vote_average, vote_count, release_year, budget, revenue, return, genre_id, crew_id, cast_id, collection_id]\n",
       "Index: []"
      ]
     },
     "execution_count": 55,
     "metadata": {},
     "output_type": "execute_result"
    }
   ],
   "source": [
    "df_todo[df_todo['collection_id']==0]"
   ]
  },
  {
   "cell_type": "markdown",
   "metadata": {},
   "source": [
    "Para aquellos valores vacios de id de colecciones, voy a dejarles 0, entonces considero que cuando collection_id es igual a 0, no pertenecen a ningún conjunto de peliculas."
   ]
  },
  {
   "cell_type": "code",
   "execution_count": 56,
   "metadata": {},
   "outputs": [],
   "source": [
    "df_todo.loc[df_todo[\"collection_id\"].isna(),\"collection_id\"]=0"
   ]
  },
  {
   "cell_type": "code",
   "execution_count": 57,
   "metadata": {},
   "outputs": [],
   "source": [
    "# Me aseguro que la eliminación de columnas no haya dejado duplicados\n",
    "df_todo.drop_duplicates(inplace=True)"
   ]
  },
  {
   "cell_type": "code",
   "execution_count": 58,
   "metadata": {},
   "outputs": [
    {
     "data": {
      "text/plain": [
       "id_pelicula        int64\n",
       "popularity       float64\n",
       "vote_average     float64\n",
       "vote_count       float64\n",
       "release_year       int64\n",
       "budget           float64\n",
       "revenue          float64\n",
       "return           float64\n",
       "genre_id         float64\n",
       "crew_id          float64\n",
       "cast_id          float64\n",
       "collection_id    float64\n",
       "dtype: object"
      ]
     },
     "execution_count": 58,
     "metadata": {},
     "output_type": "execute_result"
    }
   ],
   "source": [
    "df_todo.dtypes"
   ]
  },
  {
   "cell_type": "code",
   "execution_count": 59,
   "metadata": {},
   "outputs": [
    {
     "data": {
      "text/html": [
       "<div>\n",
       "<style scoped>\n",
       "    .dataframe tbody tr th:only-of-type {\n",
       "        vertical-align: middle;\n",
       "    }\n",
       "\n",
       "    .dataframe tbody tr th {\n",
       "        vertical-align: top;\n",
       "    }\n",
       "\n",
       "    .dataframe thead th {\n",
       "        text-align: right;\n",
       "    }\n",
       "</style>\n",
       "<table border=\"1\" class=\"dataframe\">\n",
       "  <thead>\n",
       "    <tr style=\"text-align: right;\">\n",
       "      <th></th>\n",
       "      <th>id_pelicula</th>\n",
       "      <th>popularity</th>\n",
       "      <th>vote_average</th>\n",
       "      <th>vote_count</th>\n",
       "      <th>release_year</th>\n",
       "      <th>budget</th>\n",
       "      <th>revenue</th>\n",
       "      <th>return</th>\n",
       "      <th>genre_id</th>\n",
       "      <th>crew_id</th>\n",
       "      <th>cast_id</th>\n",
       "      <th>collection_id</th>\n",
       "    </tr>\n",
       "  </thead>\n",
       "  <tbody>\n",
       "    <tr>\n",
       "      <th>count</th>\n",
       "      <td>2.259694e+07</td>\n",
       "      <td>2.259694e+07</td>\n",
       "      <td>2.259694e+07</td>\n",
       "      <td>2.259694e+07</td>\n",
       "      <td>2.259694e+07</td>\n",
       "      <td>2.259694e+07</td>\n",
       "      <td>2.259694e+07</td>\n",
       "      <td>2.259694e+07</td>\n",
       "      <td>2.255550e+07</td>\n",
       "      <td>2.259354e+07</td>\n",
       "      <td>2.259109e+07</td>\n",
       "      <td>2.259694e+07</td>\n",
       "    </tr>\n",
       "    <tr>\n",
       "      <th>mean</th>\n",
       "      <td>8.885436e+04</td>\n",
       "      <td>1.440020e+01</td>\n",
       "      <td>6.266474e+00</td>\n",
       "      <td>1.352723e+03</td>\n",
       "      <td>1.998510e+03</td>\n",
       "      <td>4.465885e+07</td>\n",
       "      <td>1.602833e+08</td>\n",
       "      <td>5.032375e+02</td>\n",
       "      <td>1.707574e+03</td>\n",
       "      <td>7.566594e+05</td>\n",
       "      <td>5.371312e+05</td>\n",
       "      <td>3.165333e+04</td>\n",
       "    </tr>\n",
       "    <tr>\n",
       "      <th>std</th>\n",
       "      <td>1.163968e+05</td>\n",
       "      <td>2.859339e+01</td>\n",
       "      <td>1.177906e+00</td>\n",
       "      <td>2.190391e+03</td>\n",
       "      <td>2.062067e+01</td>\n",
       "      <td>6.177826e+07</td>\n",
       "      <td>3.023738e+08</td>\n",
       "      <td>6.374874e+04</td>\n",
       "      <td>3.780313e+03</td>\n",
       "      <td>7.122648e+05</td>\n",
       "      <td>6.684146e+05</td>\n",
       "      <td>8.946703e+04</td>\n",
       "    </tr>\n",
       "    <tr>\n",
       "      <th>min</th>\n",
       "      <td>2.000000e+00</td>\n",
       "      <td>0.000000e+00</td>\n",
       "      <td>0.000000e+00</td>\n",
       "      <td>0.000000e+00</td>\n",
       "      <td>1.874000e+03</td>\n",
       "      <td>0.000000e+00</td>\n",
       "      <td>0.000000e+00</td>\n",
       "      <td>0.000000e+00</td>\n",
       "      <td>1.200000e+01</td>\n",
       "      <td>1.000000e+00</td>\n",
       "      <td>1.000000e+00</td>\n",
       "      <td>0.000000e+00</td>\n",
       "    </tr>\n",
       "    <tr>\n",
       "      <th>25%</th>\n",
       "      <td>9.397000e+03</td>\n",
       "      <td>3.647596e+00</td>\n",
       "      <td>5.700000e+00</td>\n",
       "      <td>3.600000e+01</td>\n",
       "      <td>1.994000e+03</td>\n",
       "      <td>0.000000e+00</td>\n",
       "      <td>0.000000e+00</td>\n",
       "      <td>0.000000e+00</td>\n",
       "      <td>1.800000e+01</td>\n",
       "      <td>2.897400e+04</td>\n",
       "      <td>2.179800e+04</td>\n",
       "      <td>0.000000e+00</td>\n",
       "    </tr>\n",
       "    <tr>\n",
       "      <th>50%</th>\n",
       "      <td>2.988200e+04</td>\n",
       "      <td>9.117934e+00</td>\n",
       "      <td>6.400000e+00</td>\n",
       "      <td>3.270000e+02</td>\n",
       "      <td>2.005000e+03</td>\n",
       "      <td>1.523880e+07</td>\n",
       "      <td>2.480413e+07</td>\n",
       "      <td>9.382076e-01</td>\n",
       "      <td>3.500000e+01</td>\n",
       "      <td>9.333330e+05</td>\n",
       "      <td>1.004460e+05</td>\n",
       "      <td>0.000000e+00</td>\n",
       "    </tr>\n",
       "    <tr>\n",
       "      <th>75%</th>\n",
       "      <td>1.275850e+05</td>\n",
       "      <td>1.443075e+01</td>\n",
       "      <td>7.100000e+00</td>\n",
       "      <td>1.644000e+03</td>\n",
       "      <td>2.013000e+03</td>\n",
       "      <td>6.900000e+07</td>\n",
       "      <td>1.791797e+08</td>\n",
       "      <td>3.453009e+00</td>\n",
       "      <td>8.000000e+01</td>\n",
       "      <td>1.424935e+06</td>\n",
       "      <td>1.221064e+06</td>\n",
       "      <td>0.000000e+00</td>\n",
       "    </tr>\n",
       "    <tr>\n",
       "      <th>max</th>\n",
       "      <td>4.691720e+05</td>\n",
       "      <td>5.474883e+02</td>\n",
       "      <td>1.000000e+01</td>\n",
       "      <td>1.407500e+04</td>\n",
       "      <td>2.020000e+03</td>\n",
       "      <td>3.800000e+08</td>\n",
       "      <td>2.787965e+09</td>\n",
       "      <td>1.239638e+07</td>\n",
       "      <td>1.077000e+04</td>\n",
       "      <td>1.908001e+06</td>\n",
       "      <td>1.908262e+06</td>\n",
       "      <td>4.801600e+05</td>\n",
       "    </tr>\n",
       "  </tbody>\n",
       "</table>\n",
       "</div>"
      ],
      "text/plain": [
       "        id_pelicula    popularity  vote_average    vote_count  release_year  \\\n",
       "count  2.259694e+07  2.259694e+07  2.259694e+07  2.259694e+07  2.259694e+07   \n",
       "mean   8.885436e+04  1.440020e+01  6.266474e+00  1.352723e+03  1.998510e+03   \n",
       "std    1.163968e+05  2.859339e+01  1.177906e+00  2.190391e+03  2.062067e+01   \n",
       "min    2.000000e+00  0.000000e+00  0.000000e+00  0.000000e+00  1.874000e+03   \n",
       "25%    9.397000e+03  3.647596e+00  5.700000e+00  3.600000e+01  1.994000e+03   \n",
       "50%    2.988200e+04  9.117934e+00  6.400000e+00  3.270000e+02  2.005000e+03   \n",
       "75%    1.275850e+05  1.443075e+01  7.100000e+00  1.644000e+03  2.013000e+03   \n",
       "max    4.691720e+05  5.474883e+02  1.000000e+01  1.407500e+04  2.020000e+03   \n",
       "\n",
       "             budget       revenue        return      genre_id       crew_id  \\\n",
       "count  2.259694e+07  2.259694e+07  2.259694e+07  2.255550e+07  2.259354e+07   \n",
       "mean   4.465885e+07  1.602833e+08  5.032375e+02  1.707574e+03  7.566594e+05   \n",
       "std    6.177826e+07  3.023738e+08  6.374874e+04  3.780313e+03  7.122648e+05   \n",
       "min    0.000000e+00  0.000000e+00  0.000000e+00  1.200000e+01  1.000000e+00   \n",
       "25%    0.000000e+00  0.000000e+00  0.000000e+00  1.800000e+01  2.897400e+04   \n",
       "50%    1.523880e+07  2.480413e+07  9.382076e-01  3.500000e+01  9.333330e+05   \n",
       "75%    6.900000e+07  1.791797e+08  3.453009e+00  8.000000e+01  1.424935e+06   \n",
       "max    3.800000e+08  2.787965e+09  1.239638e+07  1.077000e+04  1.908001e+06   \n",
       "\n",
       "            cast_id  collection_id  \n",
       "count  2.259109e+07   2.259694e+07  \n",
       "mean   5.371312e+05   3.165333e+04  \n",
       "std    6.684146e+05   8.946703e+04  \n",
       "min    1.000000e+00   0.000000e+00  \n",
       "25%    2.179800e+04   0.000000e+00  \n",
       "50%    1.004460e+05   0.000000e+00  \n",
       "75%    1.221064e+06   0.000000e+00  \n",
       "max    1.908262e+06   4.801600e+05  "
      ]
     },
     "execution_count": 59,
     "metadata": {},
     "output_type": "execute_result"
    }
   ],
   "source": [
    "df_todo.describe(include='all')"
   ]
  },
  {
   "cell_type": "code",
   "execution_count": 60,
   "metadata": {},
   "outputs": [
    {
     "data": {
      "image/png": "[encoded data removed]",
      "text/plain": [
       "<Figure size 2000x2000 with 2 Axes>"
      ]
     },
     "metadata": {},
     "output_type": "display_data"
    }
   ],
   "source": [
    "corr2 = df_todo.corr()\n",
    "plt.figure(figsize=(20,20))\n",
    "sns.heatmap(corr2, cbar = True,  square = True, annot=True, fmt= '.2f',annot_kws={'size': 15},\n",
    "           xticklabels= df_todo.columns, \n",
    "           yticklabels= df_todo.columns,\n",
    "           cmap= 'coolwarm')\n",
    "\n",
    "plt.show()"
   ]
  },
  {
   "cell_type": "markdown",
   "metadata": {},
   "source": [
    "El return como se ve no tiene ninguna relación, se quita (lo agregamos nosotros al df asi que sabemos lo que significa, pero es una relación entre budget y revenue, para predecir es innecesario.)<br>\n"
   ]
  },
  {
   "cell_type": "code",
   "execution_count": 61,
   "metadata": {},
   "outputs": [
    {
     "data": {
      "text/html": [
       "<div>\n",
       "<style scoped>\n",
       "    .dataframe tbody tr th:only-of-type {\n",
       "        vertical-align: middle;\n",
       "    }\n",
       "\n",
       "    .dataframe tbody tr th {\n",
       "        vertical-align: top;\n",
       "    }\n",
       "\n",
       "    .dataframe thead th {\n",
       "        text-align: right;\n",
       "    }\n",
       "</style>\n",
       "<table border=\"1\" class=\"dataframe\">\n",
       "  <thead>\n",
       "    <tr style=\"text-align: right;\">\n",
       "      <th></th>\n",
       "      <th>id_pelicula</th>\n",
       "      <th>popularity</th>\n",
       "      <th>vote_average</th>\n",
       "      <th>vote_count</th>\n",
       "      <th>release_year</th>\n",
       "      <th>budget</th>\n",
       "      <th>revenue</th>\n",
       "      <th>return</th>\n",
       "      <th>genre_id</th>\n",
       "      <th>crew_id</th>\n",
       "      <th>cast_id</th>\n",
       "      <th>collection_id</th>\n",
       "    </tr>\n",
       "  </thead>\n",
       "  <tbody>\n",
       "    <tr>\n",
       "      <th>0</th>\n",
       "      <td>862</td>\n",
       "      <td>21.946943</td>\n",
       "      <td>7.7</td>\n",
       "      <td>5415.0</td>\n",
       "      <td>1995</td>\n",
       "      <td>30000000.0</td>\n",
       "      <td>373554033.0</td>\n",
       "      <td>12.451801</td>\n",
       "      <td>16.0</td>\n",
       "      <td>7879.0</td>\n",
       "      <td>31.0</td>\n",
       "      <td>10194.0</td>\n",
       "    </tr>\n",
       "    <tr>\n",
       "      <th>1</th>\n",
       "      <td>862</td>\n",
       "      <td>21.946943</td>\n",
       "      <td>7.7</td>\n",
       "      <td>5415.0</td>\n",
       "      <td>1995</td>\n",
       "      <td>30000000.0</td>\n",
       "      <td>373554033.0</td>\n",
       "      <td>12.451801</td>\n",
       "      <td>16.0</td>\n",
       "      <td>7879.0</td>\n",
       "      <td>12898.0</td>\n",
       "      <td>10194.0</td>\n",
       "    </tr>\n",
       "    <tr>\n",
       "      <th>2</th>\n",
       "      <td>862</td>\n",
       "      <td>21.946943</td>\n",
       "      <td>7.7</td>\n",
       "      <td>5415.0</td>\n",
       "      <td>1995</td>\n",
       "      <td>30000000.0</td>\n",
       "      <td>373554033.0</td>\n",
       "      <td>12.451801</td>\n",
       "      <td>16.0</td>\n",
       "      <td>7879.0</td>\n",
       "      <td>7167.0</td>\n",
       "      <td>10194.0</td>\n",
       "    </tr>\n",
       "  </tbody>\n",
       "</table>\n",
       "</div>"
      ],
      "text/plain": [
       "   id_pelicula  popularity  vote_average  vote_count  release_year  \\\n",
       "0          862   21.946943           7.7      5415.0          1995   \n",
       "1          862   21.946943           7.7      5415.0          1995   \n",
       "2          862   21.946943           7.7      5415.0          1995   \n",
       "\n",
       "       budget      revenue     return  genre_id  crew_id  cast_id  \\\n",
       "0  30000000.0  373554033.0  12.451801      16.0   7879.0     31.0   \n",
       "1  30000000.0  373554033.0  12.451801      16.0   7879.0  12898.0   \n",
       "2  30000000.0  373554033.0  12.451801      16.0   7879.0   7167.0   \n",
       "\n",
       "   collection_id  \n",
       "0        10194.0  \n",
       "1        10194.0  \n",
       "2        10194.0  "
      ]
     },
     "execution_count": 61,
     "metadata": {},
     "output_type": "execute_result"
    }
   ],
   "source": [
    "df_todo.head(3)"
   ]
  },
  {
   "cell_type": "code",
   "execution_count": 62,
   "metadata": {},
   "outputs": [
    {
     "name": "stdout",
     "output_type": "stream",
     "text": [
      "(45363, 15)\n",
      "(4488, 2)\n",
      "(464314, 2)\n",
      "(91004, 2)\n",
      "(562474, 2)\n"
     ]
    }
   ],
   "source": [
    "# Directamente cargo los archivos para no tener que correr todo el código anterior.\n",
    "print(data.shape)\n",
    "print(df_belongs_to_collection.shape)\n",
    "print(df_crew.shape)\n",
    "print(df_genres.shape)\n",
    "print(df_cast.shape)"
   ]
  },
  {
   "cell_type": "markdown",
   "metadata": {},
   "source": [
    "Si considero genero,popularity, vote average y vote count las mejores variables para conseguir una mejor recomendación, viendo las relaciones de las variables creo que hay que quitar las columnas:<br>\n",
    "- return\n",
    "- cast_gender\n",
    "- crew_gender"
   ]
  },
  {
   "cell_type": "code",
   "execution_count": 63,
   "metadata": {},
   "outputs": [],
   "source": [
    "df_todo.drop(columns=['return'],inplace=True)"
   ]
  },
  {
   "cell_type": "code",
   "execution_count": 64,
   "metadata": {},
   "outputs": [],
   "source": [
    "# Volvi a cuando edite cada df y deje solo las columnas a usar más adelante.\n",
    "# df_todo.drop(columns=['return','cast_gender','crew_gender'],inplace=True)"
   ]
  },
  {
   "cell_type": "code",
   "execution_count": 65,
   "metadata": {},
   "outputs": [
    {
     "data": {
      "text/plain": [
       "Index(['id_pelicula', 'popularity', 'vote_average', 'vote_count',\n",
       "       'release_year', 'budget', 'revenue', 'genre_id', 'crew_id', 'cast_id',\n",
       "       'collection_id'],\n",
       "      dtype='object')"
      ]
     },
     "execution_count": 65,
     "metadata": {},
     "output_type": "execute_result"
    }
   ],
   "source": [
    "df_todo.columns"
   ]
  },
  {
   "cell_type": "code",
   "execution_count": 66,
   "metadata": {},
   "outputs": [],
   "source": [
    "df_todo.drop_duplicates(inplace=True) #Me aseguro de limpiar después de tirar tantas columnas\n",
    "# Es probable que hayan filas repetidas"
   ]
  },
  {
   "cell_type": "code",
   "execution_count": 67,
   "metadata": {},
   "outputs": [
    {
     "data": {
      "image/png": "[encoded data removed]",
      "text/plain": [
       "<Figure size 2000x2000 with 2 Axes>"
      ]
     },
     "metadata": {},
     "output_type": "display_data"
    }
   ],
   "source": [
    "corr2 = df_todo.corr()\n",
    "plt.figure(figsize=(20,20))\n",
    "sns.heatmap(corr2, cbar = True,  square = True, annot=True, fmt= '.2f',annot_kws={'size': 15},\n",
    "           xticklabels= df_todo.columns, \n",
    "           yticklabels= df_todo.columns,\n",
    "           cmap= 'coolwarm')\n",
    "\n",
    "plt.show()"
   ]
  },
  {
   "cell_type": "markdown",
   "metadata": {},
   "source": [
    "Me deshago de la columna \"runtime\" que al tener nulos no voy a poder usar el modelo de K-NN, si fuera otra columna más importante buscaria otra manera, pero al ser solamente la de duración de las peliculas puedo quitarla sin sentir tanta lastima."
   ]
  },
  {
   "cell_type": "code",
   "execution_count": 68,
   "metadata": {},
   "outputs": [
    {
     "data": {
      "text/plain": [
       "id_pelicula          0\n",
       "popularity           0\n",
       "vote_average         0\n",
       "vote_count           0\n",
       "release_year         0\n",
       "budget               0\n",
       "revenue              0\n",
       "genre_id         41440\n",
       "crew_id           3400\n",
       "cast_id           5853\n",
       "collection_id        0\n",
       "dtype: int64"
      ]
     },
     "execution_count": 68,
     "metadata": {},
     "output_type": "execute_result"
    }
   ],
   "source": [
    "df_todo.isna().sum()"
   ]
  },
  {
   "cell_type": "markdown",
   "metadata": {},
   "source": [
    "Voy a deshacerme de filas para que no sea tan grande el df y los datos a considerar."
   ]
  },
  {
   "cell_type": "markdown",
   "metadata": {},
   "source": [
    "Voy a tomar como necesario algún valor en vote_count y vote_average.<br>\n",
    "Ya que las peliculas van a setar devueltas por popularidad, esto también.<br>\n",
    "Si dejo peliculas que tienen muy poca popularidad, ni siquiera van deberian ser recomendadas (ya que mi idea es que lo predicho se ordene por popularidad antes de devolver las peliculas recomendadas, estas nunca van a llegar al top 5), asi que también voy a filtrar por popularidad."
   ]
  },
  {
   "cell_type": "code",
   "execution_count": 69,
   "metadata": {},
   "outputs": [
    {
     "data": {
      "text/html": [
       "<div>\n",
       "<style scoped>\n",
       "    .dataframe tbody tr th:only-of-type {\n",
       "        vertical-align: middle;\n",
       "    }\n",
       "\n",
       "    .dataframe tbody tr th {\n",
       "        vertical-align: top;\n",
       "    }\n",
       "\n",
       "    .dataframe thead th {\n",
       "        text-align: right;\n",
       "    }\n",
       "</style>\n",
       "<table border=\"1\" class=\"dataframe\">\n",
       "  <thead>\n",
       "    <tr style=\"text-align: right;\">\n",
       "      <th></th>\n",
       "      <th>id_pelicula</th>\n",
       "      <th>popularity</th>\n",
       "      <th>vote_average</th>\n",
       "      <th>vote_count</th>\n",
       "      <th>release_year</th>\n",
       "      <th>budget</th>\n",
       "      <th>revenue</th>\n",
       "      <th>genre_id</th>\n",
       "      <th>crew_id</th>\n",
       "      <th>cast_id</th>\n",
       "      <th>collection_id</th>\n",
       "    </tr>\n",
       "  </thead>\n",
       "  <tbody>\n",
       "    <tr>\n",
       "      <th>19165763</th>\n",
       "      <td>187447</td>\n",
       "      <td>0.0</td>\n",
       "      <td>0.0</td>\n",
       "      <td>0.0</td>\n",
       "      <td>1973</td>\n",
       "      <td>0.0</td>\n",
       "      <td>0.0</td>\n",
       "      <td>35.0</td>\n",
       "      <td>1467657.0</td>\n",
       "      <td>44980.0</td>\n",
       "      <td>0.0</td>\n",
       "    </tr>\n",
       "    <tr>\n",
       "      <th>15391563</th>\n",
       "      <td>87090</td>\n",
       "      <td>0.0</td>\n",
       "      <td>0.0</td>\n",
       "      <td>0.0</td>\n",
       "      <td>1987</td>\n",
       "      <td>0.0</td>\n",
       "      <td>0.0</td>\n",
       "      <td>18.0</td>\n",
       "      <td>1444873.0</td>\n",
       "      <td>150816.0</td>\n",
       "      <td>0.0</td>\n",
       "    </tr>\n",
       "    <tr>\n",
       "      <th>15391564</th>\n",
       "      <td>87090</td>\n",
       "      <td>0.0</td>\n",
       "      <td>0.0</td>\n",
       "      <td>0.0</td>\n",
       "      <td>1987</td>\n",
       "      <td>0.0</td>\n",
       "      <td>0.0</td>\n",
       "      <td>18.0</td>\n",
       "      <td>1444873.0</td>\n",
       "      <td>1444859.0</td>\n",
       "      <td>0.0</td>\n",
       "    </tr>\n",
       "    <tr>\n",
       "      <th>15391565</th>\n",
       "      <td>87090</td>\n",
       "      <td>0.0</td>\n",
       "      <td>0.0</td>\n",
       "      <td>0.0</td>\n",
       "      <td>1987</td>\n",
       "      <td>0.0</td>\n",
       "      <td>0.0</td>\n",
       "      <td>18.0</td>\n",
       "      <td>1444873.0</td>\n",
       "      <td>14954.0</td>\n",
       "      <td>0.0</td>\n",
       "    </tr>\n",
       "    <tr>\n",
       "      <th>15391566</th>\n",
       "      <td>87090</td>\n",
       "      <td>0.0</td>\n",
       "      <td>0.0</td>\n",
       "      <td>0.0</td>\n",
       "      <td>1987</td>\n",
       "      <td>0.0</td>\n",
       "      <td>0.0</td>\n",
       "      <td>18.0</td>\n",
       "      <td>1444873.0</td>\n",
       "      <td>137024.0</td>\n",
       "      <td>0.0</td>\n",
       "    </tr>\n",
       "  </tbody>\n",
       "</table>\n",
       "</div>"
      ],
      "text/plain": [
       "          id_pelicula  popularity  vote_average  vote_count  release_year  \\\n",
       "19165763       187447         0.0           0.0         0.0          1973   \n",
       "15391563        87090         0.0           0.0         0.0          1987   \n",
       "15391564        87090         0.0           0.0         0.0          1987   \n",
       "15391565        87090         0.0           0.0         0.0          1987   \n",
       "15391566        87090         0.0           0.0         0.0          1987   \n",
       "\n",
       "          budget  revenue  genre_id    crew_id    cast_id  collection_id  \n",
       "19165763     0.0      0.0      35.0  1467657.0    44980.0            0.0  \n",
       "15391563     0.0      0.0      18.0  1444873.0   150816.0            0.0  \n",
       "15391564     0.0      0.0      18.0  1444873.0  1444859.0            0.0  \n",
       "15391565     0.0      0.0      18.0  1444873.0    14954.0            0.0  \n",
       "15391566     0.0      0.0      18.0  1444873.0   137024.0            0.0  "
      ]
     },
     "execution_count": 69,
     "metadata": {},
     "output_type": "execute_result"
    }
   ],
   "source": [
    "df_todo.sort_values(by='popularity',ascending=True).head()"
   ]
  },
  {
   "cell_type": "code",
   "execution_count": 70,
   "metadata": {},
   "outputs": [
    {
     "data": {
      "text/html": [
       "<div>\n",
       "<style scoped>\n",
       "    .dataframe tbody tr th:only-of-type {\n",
       "        vertical-align: middle;\n",
       "    }\n",
       "\n",
       "    .dataframe tbody tr th {\n",
       "        vertical-align: top;\n",
       "    }\n",
       "\n",
       "    .dataframe thead th {\n",
       "        text-align: right;\n",
       "    }\n",
       "</style>\n",
       "<table border=\"1\" class=\"dataframe\">\n",
       "  <thead>\n",
       "    <tr style=\"text-align: right;\">\n",
       "      <th></th>\n",
       "      <th>id_pelicula</th>\n",
       "      <th>popularity</th>\n",
       "      <th>vote_average</th>\n",
       "      <th>vote_count</th>\n",
       "      <th>release_year</th>\n",
       "      <th>budget</th>\n",
       "      <th>revenue</th>\n",
       "      <th>genre_id</th>\n",
       "      <th>crew_id</th>\n",
       "      <th>cast_id</th>\n",
       "      <th>collection_id</th>\n",
       "    </tr>\n",
       "  </thead>\n",
       "  <tbody>\n",
       "    <tr>\n",
       "      <th>19619128</th>\n",
       "      <td>211672</td>\n",
       "      <td>547.488298</td>\n",
       "      <td>6.4</td>\n",
       "      <td>4729.0</td>\n",
       "      <td>2015</td>\n",
       "      <td>74000000.0</td>\n",
       "      <td>1.156731e+09</td>\n",
       "      <td>35.0</td>\n",
       "      <td>59706.0</td>\n",
       "      <td>19.0</td>\n",
       "      <td>86066.0</td>\n",
       "    </tr>\n",
       "    <tr>\n",
       "      <th>19618993</th>\n",
       "      <td>211672</td>\n",
       "      <td>547.488298</td>\n",
       "      <td>6.4</td>\n",
       "      <td>4729.0</td>\n",
       "      <td>2015</td>\n",
       "      <td>74000000.0</td>\n",
       "      <td>1.156731e+09</td>\n",
       "      <td>12.0</td>\n",
       "      <td>1024175.0</td>\n",
       "      <td>4581.0</td>\n",
       "      <td>86066.0</td>\n",
       "    </tr>\n",
       "    <tr>\n",
       "      <th>19618982</th>\n",
       "      <td>211672</td>\n",
       "      <td>547.488298</td>\n",
       "      <td>6.4</td>\n",
       "      <td>4729.0</td>\n",
       "      <td>2015</td>\n",
       "      <td>74000000.0</td>\n",
       "      <td>1.156731e+09</td>\n",
       "      <td>12.0</td>\n",
       "      <td>124748.0</td>\n",
       "      <td>73476.0</td>\n",
       "      <td>86066.0</td>\n",
       "    </tr>\n",
       "    <tr>\n",
       "      <th>19618983</th>\n",
       "      <td>211672</td>\n",
       "      <td>547.488298</td>\n",
       "      <td>6.4</td>\n",
       "      <td>4729.0</td>\n",
       "      <td>2015</td>\n",
       "      <td>74000000.0</td>\n",
       "      <td>1.156731e+09</td>\n",
       "      <td>12.0</td>\n",
       "      <td>124748.0</td>\n",
       "      <td>9195.0</td>\n",
       "      <td>86066.0</td>\n",
       "    </tr>\n",
       "    <tr>\n",
       "      <th>19618984</th>\n",
       "      <td>211672</td>\n",
       "      <td>547.488298</td>\n",
       "      <td>6.4</td>\n",
       "      <td>4729.0</td>\n",
       "      <td>2015</td>\n",
       "      <td>74000000.0</td>\n",
       "      <td>1.156731e+09</td>\n",
       "      <td>12.0</td>\n",
       "      <td>124748.0</td>\n",
       "      <td>1265060.0</td>\n",
       "      <td>86066.0</td>\n",
       "    </tr>\n",
       "  </tbody>\n",
       "</table>\n",
       "</div>"
      ],
      "text/plain": [
       "          id_pelicula  popularity  vote_average  vote_count  release_year  \\\n",
       "19619128       211672  547.488298           6.4      4729.0          2015   \n",
       "19618993       211672  547.488298           6.4      4729.0          2015   \n",
       "19618982       211672  547.488298           6.4      4729.0          2015   \n",
       "19618983       211672  547.488298           6.4      4729.0          2015   \n",
       "19618984       211672  547.488298           6.4      4729.0          2015   \n",
       "\n",
       "              budget       revenue  genre_id    crew_id    cast_id  \\\n",
       "19619128  74000000.0  1.156731e+09      35.0    59706.0       19.0   \n",
       "19618993  74000000.0  1.156731e+09      12.0  1024175.0     4581.0   \n",
       "19618982  74000000.0  1.156731e+09      12.0   124748.0    73476.0   \n",
       "19618983  74000000.0  1.156731e+09      12.0   124748.0     9195.0   \n",
       "19618984  74000000.0  1.156731e+09      12.0   124748.0  1265060.0   \n",
       "\n",
       "          collection_id  \n",
       "19619128        86066.0  \n",
       "19618993        86066.0  \n",
       "19618982        86066.0  \n",
       "19618983        86066.0  \n",
       "19618984        86066.0  "
      ]
     },
     "execution_count": 70,
     "metadata": {},
     "output_type": "execute_result"
    }
   ],
   "source": [
    "df_todo.sort_values(by='popularity',ascending=False).head()"
   ]
  },
  {
   "cell_type": "code",
   "execution_count": 71,
   "metadata": {},
   "outputs": [
    {
     "data": {
      "text/plain": [
       "45346"
      ]
     },
     "execution_count": 71,
     "metadata": {},
     "output_type": "execute_result"
    }
   ],
   "source": [
    "# Tengo 4365 peliculas\n",
    "len(df_todo['id_pelicula'].unique())"
   ]
  },
  {
   "cell_type": "code",
   "execution_count": 72,
   "metadata": {},
   "outputs": [
    {
     "data": {
      "text/plain": [
       "(22596944, 11)"
      ]
     },
     "execution_count": 72,
     "metadata": {},
     "output_type": "execute_result"
    }
   ],
   "source": [
    "df_todo.shape"
   ]
  },
  {
   "cell_type": "markdown",
   "metadata": {},
   "source": [
    "## Filtrar Por Vote_count"
   ]
  },
  {
   "cell_type": "code",
   "execution_count": 73,
   "metadata": {},
   "outputs": [
    {
     "data": {
      "image/png": "[encoded data removed]",
      "text/plain": [
       "<Figure size 800x400 with 1 Axes>"
      ]
     },
     "metadata": {},
     "output_type": "display_data"
    }
   ],
   "source": [
    "plt.figure(figsize = (8,4))\n",
    "\n",
    "df_todo['vote_count'].hist(log = True, bins = 20)\n",
    "plt.title('Distribución de la cantidad de votos')\n",
    "\n",
    "plt.show()"
   ]
  },
  {
   "cell_type": "code",
   "execution_count": 74,
   "metadata": {},
   "outputs": [
    {
     "data": {
      "image/png": "[encoded data removed]",
      "text/plain": [
       "<Figure size 640x480 with 1 Axes>"
      ]
     },
     "metadata": {},
     "output_type": "display_data"
    }
   ],
   "source": [
    "plt.hist(df_todo.vote_count, log= True)\n",
    "plt.show()"
   ]
  },
  {
   "cell_type": "code",
   "execution_count": 75,
   "metadata": {},
   "outputs": [
    {
     "data": {
      "image/png": "[encoded data removed]",
      "text/plain": [
       "<Figure size 800x400 with 1 Axes>"
      ]
     },
     "metadata": {},
     "output_type": "display_data"
    }
   ],
   "source": [
    "plt.figure(figsize = (8,4))\n",
    "\n",
    "df_todo.vote_count[df_todo['vote_count']<500].hist(log = True, bins = 20)\n",
    "plt.title('Distribución de la cantidad de votos')\n",
    "\n",
    "plt.show()"
   ]
  },
  {
   "cell_type": "code",
   "execution_count": 76,
   "metadata": {},
   "outputs": [],
   "source": [
    "# Viendo el grafico me doy cuenta que hay bastante peliculas \n",
    "# Con muy poca cantidad de vote_count, y estas no nos servirian para encontrar las mejores a recomendar.\n",
    "\n",
    "df_poco_vote=df_todo[df_todo['vote_count']<=500]"
   ]
  },
  {
   "cell_type": "code",
   "execution_count": 77,
   "metadata": {},
   "outputs": [
    {
     "name": "stdout",
     "output_type": "stream",
     "text": [
      "(12649019, 11)\n"
     ]
    }
   ],
   "source": [
    "# Me estaria deshaciendo de 2 millones de peliculas las cuales no cuentan\n",
    "# Con el suficiente feedback para confiar en su vote_average.\n",
    "print(df_poco_vote.shape)"
   ]
  },
  {
   "cell_type": "code",
   "execution_count": 78,
   "metadata": {},
   "outputs": [
    {
     "data": {
      "text/plain": [
       "43297"
      ]
     },
     "execution_count": 78,
     "metadata": {},
     "output_type": "execute_result"
    }
   ],
   "source": [
    "len(df_poco_vote['id_pelicula'].unique())"
   ]
  },
  {
   "cell_type": "markdown",
   "metadata": {},
   "source": [
    "Por prueba, termino perdiendo DEMASIADAS peliculas aun poniendo como minimo 100 votos, asi que me quedo con que tiene que ser mayor a 20 votos, que ya me quita 30 mil peliculas del df"
   ]
  },
  {
   "cell_type": "code",
   "execution_count": 80,
   "metadata": {},
   "outputs": [
    {
     "data": {
      "text/plain": [
       "39331"
      ]
     },
     "execution_count": 80,
     "metadata": {},
     "output_type": "execute_result"
    }
   ],
   "source": [
    "len(df_poco_vote['id_pelicula'][df_poco_vote['vote_count']<=100].unique())"
   ]
  },
  {
   "cell_type": "code",
   "execution_count": 79,
   "metadata": {},
   "outputs": [
    {
     "data": {
      "text/plain": [
       "36307"
      ]
     },
     "execution_count": 79,
     "metadata": {},
     "output_type": "execute_result"
    }
   ],
   "source": [
    "len(df_poco_vote['id_pelicula'][df_poco_vote['vote_count']<=50].unique())"
   ]
  },
  {
   "cell_type": "code",
   "execution_count": 81,
   "metadata": {},
   "outputs": [
    {
     "data": {
      "text/plain": [
       "2846"
      ]
     },
     "execution_count": 81,
     "metadata": {},
     "output_type": "execute_result"
    }
   ],
   "source": [
    "len(df_poco_vote['id_pelicula'][df_poco_vote['vote_count']<=0].unique())"
   ]
  },
  {
   "cell_type": "code",
   "execution_count": 82,
   "metadata": {},
   "outputs": [
    {
     "data": {
      "text/plain": [
       "30065"
      ]
     },
     "execution_count": 82,
     "metadata": {},
     "output_type": "execute_result"
    }
   ],
   "source": [
    "len(df_poco_vote['id_pelicula'][df_poco_vote['vote_count']<=20].unique())"
   ]
  },
  {
   "cell_type": "code",
   "execution_count": 83,
   "metadata": {},
   "outputs": [
    {
     "data": {
      "text/plain": [
       "29603"
      ]
     },
     "execution_count": 83,
     "metadata": {},
     "output_type": "execute_result"
    }
   ],
   "source": [
    "len(df_poco_vote['id_pelicula'][df_poco_vote['vote_count']<20].unique())"
   ]
  },
  {
   "cell_type": "code",
   "execution_count": 84,
   "metadata": {},
   "outputs": [],
   "source": [
    "df_todo=df_todo[df_todo['vote_count']>=20].copy()"
   ]
  },
  {
   "cell_type": "code",
   "execution_count": 85,
   "metadata": {},
   "outputs": [
    {
     "name": "stdout",
     "output_type": "stream",
     "text": [
      "(18443153, 11)\n"
     ]
    },
    {
     "data": {
      "text/plain": [
       "0           5415.0\n",
       "1           5415.0\n",
       "2           5415.0\n",
       "3           5415.0\n",
       "4           5415.0\n",
       "             ...  \n",
       "24321535      26.0\n",
       "24321536      26.0\n",
       "24321537      26.0\n",
       "24321538      26.0\n",
       "24321539      26.0\n",
       "Name: vote_count, Length: 18443153, dtype: float64"
      ]
     },
     "execution_count": 85,
     "metadata": {},
     "output_type": "execute_result"
    }
   ],
   "source": [
    "print(df_todo.shape)\n",
    "df_todo['vote_count']"
   ]
  },
  {
   "cell_type": "code",
   "execution_count": 86,
   "metadata": {},
   "outputs": [
    {
     "data": {
      "text/plain": [
       "15743"
      ]
     },
     "execution_count": 86,
     "metadata": {},
     "output_type": "execute_result"
    }
   ],
   "source": [
    "len(df_todo['id_pelicula'].unique())"
   ]
  },
  {
   "cell_type": "markdown",
   "metadata": {},
   "source": [
    "## Filtrar por popularidad"
   ]
  },
  {
   "cell_type": "code",
   "execution_count": 87,
   "metadata": {},
   "outputs": [
    {
     "data": {
      "image/png": "[encoded data removed]",
      "text/plain": [
       "<Figure size 800x400 with 1 Axes>"
      ]
     },
     "metadata": {},
     "output_type": "display_data"
    }
   ],
   "source": [
    "plt.figure(figsize = (8,4))\n",
    "\n",
    "df_todo['popularity'].hist(log = True, bins = 20)\n",
    "plt.title('Distribución de popularidad')\n",
    "\n",
    "plt.show()"
   ]
  },
  {
   "cell_type": "code",
   "execution_count": 140,
   "metadata": {},
   "outputs": [],
   "source": [
    "df_poca_popularidad=df_todo[df_todo['popularity']<=100].copy()"
   ]
  },
  {
   "cell_type": "code",
   "execution_count": 141,
   "metadata": {},
   "outputs": [
    {
     "name": "stdout",
     "output_type": "stream",
     "text": [
      "(17063789, 11)\n"
     ]
    },
    {
     "data": {
      "text/plain": [
       "14383"
      ]
     },
     "execution_count": 141,
     "metadata": {},
     "output_type": "execute_result"
    }
   ],
   "source": [
    "print(df_poca_popularidad.shape)\n",
    "len(df_poca_popularidad['id_pelicula'].unique())"
   ]
  },
  {
   "cell_type": "markdown",
   "metadata": {},
   "source": [
    "Veo que valor me quitaria algunas peliculas sin que sea una exageración."
   ]
  },
  {
   "cell_type": "code",
   "execution_count": 142,
   "metadata": {},
   "outputs": [
    {
     "data": {
      "text/plain": [
       "14383"
      ]
     },
     "execution_count": 142,
     "metadata": {},
     "output_type": "execute_result"
    }
   ],
   "source": [
    "len(df_poca_popularidad['id_pelicula'][df_poca_popularidad['popularity']<=100].unique())"
   ]
  },
  {
   "cell_type": "code",
   "execution_count": 143,
   "metadata": {},
   "outputs": [
    {
     "data": {
      "text/plain": [
       "14363"
      ]
     },
     "execution_count": 143,
     "metadata": {},
     "output_type": "execute_result"
    }
   ],
   "source": [
    "len(df_poca_popularidad['id_pelicula'][df_poca_popularidad['popularity']<=50].unique())"
   ]
  },
  {
   "cell_type": "code",
   "execution_count": 144,
   "metadata": {},
   "outputs": [
    {
     "data": {
      "text/plain": [
       "14246"
      ]
     },
     "execution_count": 144,
     "metadata": {},
     "output_type": "execute_result"
    }
   ],
   "source": [
    "len(df_poca_popularidad['id_pelicula'][df_poca_popularidad['popularity']<=25].unique())"
   ]
  },
  {
   "cell_type": "code",
   "execution_count": 145,
   "metadata": {},
   "outputs": [
    {
     "data": {
      "text/plain": [
       "11566"
      ]
     },
     "execution_count": 145,
     "metadata": {},
     "output_type": "execute_result"
    }
   ],
   "source": [
    "len(df_poca_popularidad['id_pelicula'][df_poca_popularidad['popularity']<=10].unique())"
   ]
  },
  {
   "cell_type": "code",
   "execution_count": 146,
   "metadata": {},
   "outputs": [
    {
     "data": {
      "text/plain": [
       "6435"
      ]
     },
     "execution_count": 146,
     "metadata": {},
     "output_type": "execute_result"
    }
   ],
   "source": [
    "len(df_poca_popularidad['id_pelicula'][df_poca_popularidad['popularity']<=5].unique())"
   ]
  },
  {
   "cell_type": "code",
   "execution_count": 147,
   "metadata": {},
   "outputs": [
    {
     "data": {
      "text/plain": [
       "6435"
      ]
     },
     "execution_count": 147,
     "metadata": {},
     "output_type": "execute_result"
    }
   ],
   "source": [
    "len(df_poca_popularidad['id_pelicula'][df_poca_popularidad['popularity']<5].unique())"
   ]
  },
  {
   "cell_type": "code",
   "execution_count": 148,
   "metadata": {},
   "outputs": [
    {
     "data": {
      "text/plain": [
       "5192"
      ]
     },
     "execution_count": 148,
     "metadata": {},
     "output_type": "execute_result"
    }
   ],
   "source": [
    "len(df_poca_popularidad['id_pelicula'][df_poca_popularidad['popularity']<4].unique())"
   ]
  },
  {
   "cell_type": "code",
   "execution_count": 149,
   "metadata": {},
   "outputs": [
    {
     "data": {
      "text/plain": [
       "3720"
      ]
     },
     "execution_count": 149,
     "metadata": {},
     "output_type": "execute_result"
    }
   ],
   "source": [
    "len(df_poca_popularidad['id_pelicula'][df_poca_popularidad['popularity']<3].unique())"
   ]
  },
  {
   "cell_type": "markdown",
   "metadata": {},
   "source": [
    "Si quito las peliculas con una popularidad menor a 3, no estoy quitando tantas peliculas.<br>\n",
    "Pero con el analisis siguiente se puede ver cómo popularity no habla bien de la pelicula, ya que hay varias dentro de esta baja popularidad que tienen muy buen valor de vote_average y cantidad"
   ]
  },
  {
   "cell_type": "code",
   "execution_count": 150,
   "metadata": {},
   "outputs": [
    {
     "data": {
      "text/plain": [
       "30324       5.4\n",
       "30325       5.4\n",
       "30326       5.4\n",
       "30327       5.4\n",
       "30328       5.4\n",
       "           ... \n",
       "24319242    7.6\n",
       "24319245    7.6\n",
       "24319389    6.5\n",
       "24319390    6.5\n",
       "24319391    6.5\n",
       "Name: vote_average, Length: 1158147, dtype: float64"
      ]
     },
     "execution_count": 150,
     "metadata": {},
     "output_type": "execute_result"
    }
   ],
   "source": [
    "df_poca_popularidad['vote_average'][df_poca_popularidad['popularity']<3]"
   ]
  },
  {
   "cell_type": "code",
   "execution_count": 152,
   "metadata": {},
   "outputs": [
    {
     "data": {
      "text/plain": [
       "5282.0"
      ]
     },
     "execution_count": 152,
     "metadata": {},
     "output_type": "execute_result"
    }
   ],
   "source": [
    "df_poca_popularidad['vote_count'][df_poca_popularidad['popularity']<3].max()"
   ]
  },
  {
   "cell_type": "code",
   "execution_count": 153,
   "metadata": {},
   "outputs": [
    {
     "data": {
      "text/plain": [
       "vote_count      5282.0\n",
       "vote_average       8.8\n",
       "dtype: float64"
      ]
     },
     "execution_count": 153,
     "metadata": {},
     "output_type": "execute_result"
    }
   ],
   "source": [
    "df_poca_popularidad[['vote_count','vote_average']][df_poca_popularidad['popularity']<3].max()"
   ]
  },
  {
   "cell_type": "code",
   "execution_count": 154,
   "metadata": {},
   "outputs": [
    {
     "data": {
      "text/html": [
       "<div>\n",
       "<style scoped>\n",
       "    .dataframe tbody tr th:only-of-type {\n",
       "        vertical-align: middle;\n",
       "    }\n",
       "\n",
       "    .dataframe tbody tr th {\n",
       "        vertical-align: top;\n",
       "    }\n",
       "\n",
       "    .dataframe thead th {\n",
       "        text-align: right;\n",
       "    }\n",
       "</style>\n",
       "<table border=\"1\" class=\"dataframe\">\n",
       "  <thead>\n",
       "    <tr style=\"text-align: right;\">\n",
       "      <th></th>\n",
       "      <th>vote_count</th>\n",
       "      <th>vote_average</th>\n",
       "    </tr>\n",
       "  </thead>\n",
       "  <tbody>\n",
       "    <tr>\n",
       "      <th>30324</th>\n",
       "      <td>45.0</td>\n",
       "      <td>5.4</td>\n",
       "    </tr>\n",
       "    <tr>\n",
       "      <th>30325</th>\n",
       "      <td>45.0</td>\n",
       "      <td>5.4</td>\n",
       "    </tr>\n",
       "    <tr>\n",
       "      <th>30326</th>\n",
       "      <td>45.0</td>\n",
       "      <td>5.4</td>\n",
       "    </tr>\n",
       "    <tr>\n",
       "      <th>30327</th>\n",
       "      <td>45.0</td>\n",
       "      <td>5.4</td>\n",
       "    </tr>\n",
       "    <tr>\n",
       "      <th>30328</th>\n",
       "      <td>45.0</td>\n",
       "      <td>5.4</td>\n",
       "    </tr>\n",
       "    <tr>\n",
       "      <th>...</th>\n",
       "      <td>...</td>\n",
       "      <td>...</td>\n",
       "    </tr>\n",
       "    <tr>\n",
       "      <th>24319242</th>\n",
       "      <td>29.0</td>\n",
       "      <td>7.6</td>\n",
       "    </tr>\n",
       "    <tr>\n",
       "      <th>24319245</th>\n",
       "      <td>29.0</td>\n",
       "      <td>7.6</td>\n",
       "    </tr>\n",
       "    <tr>\n",
       "      <th>24319389</th>\n",
       "      <td>22.0</td>\n",
       "      <td>6.5</td>\n",
       "    </tr>\n",
       "    <tr>\n",
       "      <th>24319390</th>\n",
       "      <td>22.0</td>\n",
       "      <td>6.5</td>\n",
       "    </tr>\n",
       "    <tr>\n",
       "      <th>24319391</th>\n",
       "      <td>22.0</td>\n",
       "      <td>6.5</td>\n",
       "    </tr>\n",
       "  </tbody>\n",
       "</table>\n",
       "<p>1158147 rows × 2 columns</p>\n",
       "</div>"
      ],
      "text/plain": [
       "          vote_count  vote_average\n",
       "30324           45.0           5.4\n",
       "30325           45.0           5.4\n",
       "30326           45.0           5.4\n",
       "30327           45.0           5.4\n",
       "30328           45.0           5.4\n",
       "...              ...           ...\n",
       "24319242        29.0           7.6\n",
       "24319245        29.0           7.6\n",
       "24319389        22.0           6.5\n",
       "24319390        22.0           6.5\n",
       "24319391        22.0           6.5\n",
       "\n",
       "[1158147 rows x 2 columns]"
      ]
     },
     "execution_count": 154,
     "metadata": {},
     "output_type": "execute_result"
    }
   ],
   "source": [
    "df_poca_popularidad[['vote_count','vote_average']][df_poca_popularidad['popularity']<3]"
   ]
  },
  {
   "cell_type": "code",
   "execution_count": 99,
   "metadata": {},
   "outputs": [
    {
     "data": {
      "text/plain": [
       "8.8"
      ]
     },
     "execution_count": 99,
     "metadata": {},
     "output_type": "execute_result"
    }
   ],
   "source": [
    "df_poca_popularidad['vote_average'][df_poca_popularidad['popularity']<3].max()"
   ]
  },
  {
   "cell_type": "markdown",
   "metadata": {},
   "source": [
    "## Filtrar por vote_average"
   ]
  },
  {
   "cell_type": "code",
   "execution_count": 100,
   "metadata": {},
   "outputs": [
    {
     "data": {
      "image/png": "[encoded data removed]",
      "text/plain": [
       "<Figure size 800x400 with 1 Axes>"
      ]
     },
     "metadata": {},
     "output_type": "display_data"
    }
   ],
   "source": [
    "plt.figure(figsize = (8,4))\n",
    "\n",
    "df_todo['vote_average'].hist(log = True, bins = 20)\n",
    "plt.title('Distribución de la cantidad de votos')\n",
    "\n",
    "plt.show()\n"
   ]
  },
  {
   "cell_type": "code",
   "execution_count": 101,
   "metadata": {},
   "outputs": [
    {
     "data": {
      "image/png": "[encoded data removed]",
      "text/plain": [
       "<Figure size 640x480 with 1 Axes>"
      ]
     },
     "metadata": {},
     "output_type": "display_data"
    }
   ],
   "source": [
    "plt.hist(df_todo.vote_average, log= True)\n",
    "plt.show()"
   ]
  },
  {
   "cell_type": "code",
   "execution_count": 102,
   "metadata": {},
   "outputs": [],
   "source": [
    "df_poco_vote_average=df_todo[df_todo['vote_average']<=6].copy()"
   ]
  },
  {
   "cell_type": "code",
   "execution_count": 103,
   "metadata": {},
   "outputs": [
    {
     "data": {
      "text/plain": [
       "15743"
      ]
     },
     "execution_count": 103,
     "metadata": {},
     "output_type": "execute_result"
    }
   ],
   "source": [
    "len(df_todo['id_pelicula'].unique())"
   ]
  },
  {
   "cell_type": "code",
   "execution_count": 104,
   "metadata": {},
   "outputs": [
    {
     "data": {
      "text/plain": [
       "6085"
      ]
     },
     "execution_count": 104,
     "metadata": {},
     "output_type": "execute_result"
    }
   ],
   "source": [
    "# No es un mal valor a quitar, pero por ahora sigamos analizando.\n",
    "\n",
    "len(df_poco_vote_average['id_pelicula'].unique())"
   ]
  },
  {
   "cell_type": "code",
   "execution_count": 105,
   "metadata": {},
   "outputs": [
    {
     "data": {
      "text/plain": [
       "1607"
      ]
     },
     "execution_count": 105,
     "metadata": {},
     "output_type": "execute_result"
    }
   ],
   "source": [
    "len(df_poco_vote_average['id_pelicula'][df_poco_vote_average['vote_average']<=5].unique())"
   ]
  },
  {
   "cell_type": "code",
   "execution_count": 106,
   "metadata": {},
   "outputs": [
    {
     "data": {
      "text/plain": [
       "1344"
      ]
     },
     "execution_count": 106,
     "metadata": {},
     "output_type": "execute_result"
    }
   ],
   "source": [
    "len(df_poco_vote_average['id_pelicula'][df_poco_vote_average['vote_average']<5].unique())"
   ]
  },
  {
   "cell_type": "code",
   "execution_count": 107,
   "metadata": {},
   "outputs": [
    {
     "data": {
      "text/plain": [
       "295"
      ]
     },
     "execution_count": 107,
     "metadata": {},
     "output_type": "execute_result"
    }
   ],
   "source": [
    "len(df_poco_vote_average['id_pelicula'][df_poco_vote_average['vote_average']<=4].unique())"
   ]
  },
  {
   "cell_type": "code",
   "execution_count": 108,
   "metadata": {},
   "outputs": [
    {
     "data": {
      "text/plain": [
       "43"
      ]
     },
     "execution_count": 108,
     "metadata": {},
     "output_type": "execute_result"
    }
   ],
   "source": [
    "len(df_poco_vote_average['id_pelicula'][df_poco_vote_average['vote_average']<=3].unique())"
   ]
  },
  {
   "cell_type": "code",
   "execution_count": 109,
   "metadata": {},
   "outputs": [
    {
     "data": {
      "text/plain": [
       "5"
      ]
     },
     "execution_count": 109,
     "metadata": {},
     "output_type": "execute_result"
    }
   ],
   "source": [
    "len(df_poco_vote_average['id_pelicula'][df_poco_vote_average['vote_average']<=2].unique())"
   ]
  },
  {
   "cell_type": "code",
   "execution_count": 110,
   "metadata": {},
   "outputs": [
    {
     "data": {
      "text/plain": [
       "2"
      ]
     },
     "execution_count": 110,
     "metadata": {},
     "output_type": "execute_result"
    }
   ],
   "source": [
    "len(df_poco_vote_average['id_pelicula'][df_poco_vote_average['vote_average']<=1].unique())"
   ]
  },
  {
   "cell_type": "markdown",
   "metadata": {},
   "source": [
    "Con lo visto anteriormente, nos conviene quitar los valores de la columna \"vote_average\" menores a 5"
   ]
  },
  {
   "cell_type": "code",
   "execution_count": 111,
   "metadata": {},
   "outputs": [
    {
     "data": {
      "text/plain": [
       "1.961208     29580\n",
       "6.631356     26691\n",
       "16.993841    20502\n",
       "13.340272    18560\n",
       "10.752519    14742\n",
       "             ...  \n",
       "3.662560         5\n",
       "2.352048         4\n",
       "1.920240         2\n",
       "2.836788         2\n",
       "1.177852         1\n",
       "Name: popularity, Length: 1345, dtype: int64"
      ]
     },
     "execution_count": 111,
     "metadata": {},
     "output_type": "execute_result"
    }
   ],
   "source": [
    "df_poco_vote_average['popularity'][df_poco_vote_average['vote_average']<5].value_counts()"
   ]
  },
  {
   "cell_type": "code",
   "execution_count": 112,
   "metadata": {},
   "outputs": [
    {
     "data": {
      "text/plain": [
       "34.145916"
      ]
     },
     "execution_count": 112,
     "metadata": {},
     "output_type": "execute_result"
    }
   ],
   "source": [
    "df_poco_vote_average['popularity'][df_poco_vote_average['vote_average']<5].max()"
   ]
  },
  {
   "cell_type": "markdown",
   "metadata": {},
   "source": [
    "El mayor valor de popularidad que tienen estas peliculas es de 34, por lo tanto a comparación de otras no son tan importantes. Además al tener tan pocos valores de vote_average nos da pista de que no seria una buena recomendación.\n"
   ]
  },
  {
   "cell_type": "code",
   "execution_count": 113,
   "metadata": {},
   "outputs": [],
   "source": [
    "df_todo=df_todo[df_todo['vote_average']>=5].copy()"
   ]
  },
  {
   "cell_type": "code",
   "execution_count": 114,
   "metadata": {},
   "outputs": [
    {
     "data": {
      "text/plain": [
       "id_pelicula         0\n",
       "popularity          0\n",
       "vote_average        0\n",
       "vote_count          0\n",
       "release_year        0\n",
       "budget              0\n",
       "revenue             0\n",
       "genre_id         1233\n",
       "crew_id           192\n",
       "cast_id           638\n",
       "collection_id       0\n",
       "dtype: int64"
      ]
     },
     "execution_count": 114,
     "metadata": {},
     "output_type": "execute_result"
    }
   ],
   "source": [
    "# Antes hago los cambios para ver si filtrando filas se quitan todas las que contienen vacios.\n",
    "#df_todo.drop(columns='runtime',inplace=True)\n",
    "# Me vuelvo a asegurar que eliminar la columna no deje filas duplicadas.\n",
    "df_todo.drop_duplicates(inplace=True)\n",
    "df_todo.isna().sum()"
   ]
  },
  {
   "cell_type": "code",
   "execution_count": 115,
   "metadata": {},
   "outputs": [
    {
     "data": {
      "text/plain": [
       "14399"
      ]
     },
     "execution_count": 115,
     "metadata": {},
     "output_type": "execute_result"
    }
   ],
   "source": [
    "len(df_todo['id_pelicula'].unique())"
   ]
  },
  {
   "cell_type": "code",
   "execution_count": 116,
   "metadata": {},
   "outputs": [
    {
     "data": {
      "text/plain": [
       "7.618217"
      ]
     },
     "execution_count": 116,
     "metadata": {},
     "output_type": "execute_result"
    }
   ],
   "source": [
    "df_todo['popularity'][df_todo['genre_id'].isna()].max()"
   ]
  },
  {
   "cell_type": "markdown",
   "metadata": {},
   "source": [
    "Me deshago de las filas con vacios en la columna genre_id, como se ve no tienen una popularidad importante."
   ]
  },
  {
   "cell_type": "code",
   "execution_count": 117,
   "metadata": {},
   "outputs": [],
   "source": [
    "df_todo_quito=df_todo[df_todo['genre_id'].isna()].copy()\n"
   ]
  },
  {
   "cell_type": "code",
   "execution_count": 118,
   "metadata": {},
   "outputs": [
    {
     "data": {
      "text/plain": [
       "33"
      ]
     },
     "execution_count": 118,
     "metadata": {},
     "output_type": "execute_result"
    }
   ],
   "source": [
    "len(df_todo_quito['id_pelicula'].unique())"
   ]
  },
  {
   "cell_type": "code",
   "execution_count": 119,
   "metadata": {},
   "outputs": [
    {
     "data": {
      "text/plain": [
       "id_pelicula         0\n",
       "popularity          0\n",
       "vote_average        0\n",
       "vote_count          0\n",
       "release_year        0\n",
       "budget              0\n",
       "revenue             0\n",
       "genre_id         1233\n",
       "crew_id             8\n",
       "cast_id             3\n",
       "collection_id       0\n",
       "dtype: int64"
      ]
     },
     "execution_count": 119,
     "metadata": {},
     "output_type": "execute_result"
    }
   ],
   "source": [
    "df_todo_quito.drop_duplicates(inplace=True)\n",
    "df_todo_quito.isna().sum()"
   ]
  },
  {
   "cell_type": "code",
   "execution_count": 120,
   "metadata": {},
   "outputs": [],
   "source": [
    "lista=list(df_todo_quito['id_pelicula'].unique())"
   ]
  },
  {
   "cell_type": "code",
   "execution_count": 121,
   "metadata": {},
   "outputs": [
    {
     "data": {
      "text/plain": [
       "7889                             Fahrenheit 9/11\n",
       "13994                             Lost in Austen\n",
       "14081                Questo piccolo grande amore\n",
       "20427                                  Mothlight\n",
       "20854                              The Scapegoat\n",
       "24287                                   Skhizein\n",
       "25308                            Ricky e Barabba\n",
       "25871    Maledetto il giorno che t'ho incontrato\n",
       "25873                            Viaggi di nozze\n",
       "25874                                 Iris Blond\n",
       "27961                                       Paz!\n",
       "28509                              Cose da pazzi\n",
       "30106                          7 Kilos in 7 Days\n",
       "30474            Mom's Got a Date With a Vampire\n",
       "31470                          Il rosso e il blu\n",
       "31532                         Che ne sarà di noi\n",
       "31546                              Just a Father\n",
       "31819                          Giovanna's Father\n",
       "32027                          Scuola di ladri 2\n",
       "32029                          School of Thieves\n",
       "32034                   Fracchia The Human Beast\n",
       "34176        Jack Frusciante è uscito dal gruppo\n",
       "34177                             Song 'e napule\n",
       "34620                                   Hachi-ko\n",
       "34718              Doctor Who: A Christmas Carol\n",
       "35628                                Baby and Me\n",
       "38901     Jonas Brothers: The Concert Experience\n",
       "40476                                      Fiore\n",
       "41903               Christmas Time In South Park\n",
       "43893                 T2 3-D: Battle Across Time\n",
       "43957                Mythbusters Holiday Special\n",
       "44551                         The Vanishing Lady\n",
       "44790             Notte prima degli esami - Oggi\n",
       "Name: title, dtype: object"
      ]
     },
     "execution_count": 121,
     "metadata": {},
     "output_type": "execute_result"
    }
   ],
   "source": [
    "data['title'][data['id_pelicula'].isin(lista)]"
   ]
  },
  {
   "cell_type": "code",
   "execution_count": 122,
   "metadata": {},
   "outputs": [],
   "source": [
    "#df_todo.dropna(axis=0,subset=['genre_id'])"
   ]
  },
  {
   "cell_type": "code",
   "execution_count": 123,
   "metadata": {},
   "outputs": [
    {
     "data": {
      "text/plain": [
       "(17472037, 11)"
      ]
     },
     "execution_count": 123,
     "metadata": {},
     "output_type": "execute_result"
    }
   ],
   "source": [
    "df_todo.shape"
   ]
  },
  {
   "cell_type": "code",
   "execution_count": null,
   "metadata": {},
   "outputs": [],
   "source": []
  },
  {
   "cell_type": "markdown",
   "metadata": {},
   "source": [
    "# ML"
   ]
  },
  {
   "cell_type": "code",
   "execution_count": 124,
   "metadata": {},
   "outputs": [],
   "source": [
    "from sklearn.neighbors import KNeighborsClassifier\n",
    "from sklearn.preprocessing import StandardScaler\n",
    "from sklearn.model_selection import train_test_split\n",
    "from sklearn.model_selection import RandomizedSearchCV\n",
    "import scipy as sp\n",
    "\n",
    "scl = StandardScaler()"
   ]
  },
  {
   "cell_type": "code",
   "execution_count": 125,
   "metadata": {},
   "outputs": [],
   "source": [
    "X=df_todo.drop(columns='id_pelicula')"
   ]
  },
  {
   "cell_type": "code",
   "execution_count": 126,
   "metadata": {},
   "outputs": [],
   "source": [
    "y=df_todo['id_pelicula']"
   ]
  },
  {
   "cell_type": "code",
   "execution_count": 127,
   "metadata": {},
   "outputs": [],
   "source": [
    "X = scl.fit_transform(X)"
   ]
  },
  {
   "cell_type": "code",
   "execution_count": 128,
   "metadata": {},
   "outputs": [
    {
     "data": {
      "text/plain": [
       "0             862\n",
       "1             862\n",
       "2             862\n",
       "3             862\n",
       "4             862\n",
       "            ...  \n",
       "24321535    30840\n",
       "24321536    30840\n",
       "24321537    30840\n",
       "24321538    30840\n",
       "24321539    30840\n",
       "Name: id_pelicula, Length: 17472037, dtype: int64"
      ]
     },
     "execution_count": 128,
     "metadata": {},
     "output_type": "execute_result"
    }
   ],
   "source": [
    "y"
   ]
  },
  {
   "cell_type": "code",
   "execution_count": 129,
   "metadata": {},
   "outputs": [
    {
     "data": {
      "text/plain": [
       "(17472037, 10)"
      ]
     },
     "execution_count": 129,
     "metadata": {},
     "output_type": "execute_result"
    }
   ],
   "source": [
    "X.shape"
   ]
  },
  {
   "cell_type": "code",
   "execution_count": 130,
   "metadata": {},
   "outputs": [],
   "source": [
    "X_train, X_test, y_train, y_test = train_test_split(X, y, test_size=0.10, random_state=60)"
   ]
  },
  {
   "cell_type": "code",
   "execution_count": 131,
   "metadata": {},
   "outputs": [
    {
     "name": "stdout",
     "output_type": "stream",
     "text": [
      "Proporción de etiquetas en set de entrenamiento: 86272.83062974342\n",
      "Proporción de etiquetas en set de testeo: 86313.65984567344\n"
     ]
    }
   ],
   "source": [
    "print('Proporción de etiquetas en set de entrenamiento:', y_train.sum()/y_train.count())\n",
    "print('Proporción de etiquetas en set de testeo:', y_test.sum()/y_test.count())"
   ]
  },
  {
   "cell_type": "code",
   "execution_count": 132,
   "metadata": {},
   "outputs": [],
   "source": [
    "param_grid = {'n_neighbors':np.arange(1,100),\n",
    "              'weights': ['uniform', 'distance'], \n",
    "              'leaf_size':sp.stats.randint(1, 35),\n",
    "              'algorithm':['auto', 'kd_tree','ball_tree']}"
   ]
  },
  {
   "cell_type": "code",
   "execution_count": 133,
   "metadata": {},
   "outputs": [],
   "source": [
    "knn = KNeighborsClassifier()"
   ]
  },
  {
   "cell_type": "code",
   "execution_count": 134,
   "metadata": {},
   "outputs": [],
   "source": [
    "model = RandomizedSearchCV(knn, param_grid, n_iter=100, random_state=0, cv=5)"
   ]
  },
  {
   "cell_type": "code",
   "execution_count": 135,
   "metadata": {},
   "outputs": [],
   "source": [
    "#model.fit(X_train, y_train)"
   ]
  },
  {
   "cell_type": "code",
   "execution_count": 136,
   "metadata": {},
   "outputs": [
    {
     "data": {
      "text/plain": [
       "'\\nprint(\"Mejores hiperparámetros: \"+str(model.best_params_))\\nprint(\"Mejor Score: \"+str(model.best_score_)+\\'\\n\\')\\n\\nscores = pd.DataFrame(model.cv_results_)\\nscores'"
      ]
     },
     "execution_count": 136,
     "metadata": {},
     "output_type": "execute_result"
    }
   ],
   "source": [
    "'''\n",
    "print(\"Mejores hiperparámetros: \"+str(model.best_params_))\n",
    "print(\"Mejor Score: \"+str(model.best_score_)+'\\n')\n",
    "\n",
    "scores = pd.DataFrame(model.cv_results_)\n",
    "scores'''"
   ]
  }
 ],
 "metadata": {
  "kernelspec": {
   "display_name": "Python 3",
   "language": "python",
   "name": "python3"
  },
  "language_info": {
   "codemirror_mode": {
    "name": "ipython",
    "version": 3
   },
   "file_extension": ".py",
   "mimetype": "text/x-python",
   "name": "python",
   "nbconvert_exporter": "python",
   "pygments_lexer": "ipython3",
   "version": "3.10.10"
  },
  "orig_nbformat": 4
 },
 "nbformat": 4,
 "nbformat_minor": 2
}
